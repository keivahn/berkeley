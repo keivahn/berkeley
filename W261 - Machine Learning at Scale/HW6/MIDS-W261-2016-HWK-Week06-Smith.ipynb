{
 "cells": [
  {
   "cell_type": "markdown",
   "metadata": {},
   "source": [
    "# Homework 6\n",
    "**Alex Smith**<br>\n",
    "June 16, 2016<br>\n",
    "MIDS261 - Machine Learning at Scale<br>\n",
    "Professor Shanahan<br>\n",
    "Due: June 24, 2016"
   ]
  },
  {
   "cell_type": "markdown",
   "metadata": {},
   "source": [
    "***\n",
    "### Useful resources\n",
    "The following resources were particularly useful.\n",
    "- 6.7 Async\n",
    "- [Wikipedia article, Hessian matrix](https://en.wikipedia.org/wiki/Hessian_matrix)\n",
    "- [UWash Chapter on Optimality](https://www.math.washington.edu/~burke/crs/516/notes/ch1.pdf)\n",
    "- [Hessian Matrix](https://en.wikipedia.org/wiki/Hessian_matrix)\n",
    "\n",
    "### Libraries\n",
    "The following libraries must be installed before running the below code. They can all be installed through [Pip](https://github.com/pypa/pip).\n",
    "- [Scikit Learn](http://scikit-learn.org/stable/)\n",
    "- [Numpy](http://www.numpy.org/)\n",
    "- [Regular Expression](https://docs.python.org/2/library/re.html)\n",
    "- [Pretty Table](https://pypi.python.org/pypi/PrettyTable)\n",
    "- [Random](https://docs.python.org/2/library/random.html)\n",
    "- [Datetime](https://docs.python.org/2/library/datetime.html)\n",
    "- [Matplotlib](http://matplotlib.org/)"
   ]
  },
  {
   "cell_type": "code",
   "execution_count": 5,
   "metadata": {
    "collapsed": false
   },
   "outputs": [
    {
     "data": {
      "application/javascript": [
       "// get rid of right lines in MatJax formulas\n",
       "$(\".MathJax\").find(\"nobr > span > span\").css({\"border-left-color\": \"#eee\"})"
      ],
      "text/plain": [
       "<IPython.core.display.Javascript object>"
      ]
     },
     "metadata": {},
     "output_type": "display_data"
    }
   ],
   "source": [
    "%%javascript\n",
    "// get rid of right lines in MatJax formulas\n",
    "$(\".MathJax\").find(\"nobr > span > span\").css({\"border-left-color\": \"#eee\"})"
   ]
  },
  {
   "cell_type": "markdown",
   "metadata": {},
   "source": [
    "***\n",
    "## HW6.0. \n",
    "*In mathematics, computer science, economics, or management science what is mathematical optimization? Give an example of a optimization problem that you have worked with directly or that your organization has worked on. Please describe the objective function and the decision variables. Was the project successful (deployed in the real world)? Describe.*"
   ]
  },
  {
   "cell_type": "markdown",
   "metadata": {},
   "source": [
    "Mathematical optimization is \"is the selection of a best element (with regard to some criteria) from some set of available alternatives\" (Async 6.7). In optimization, we want to choose the maximum (or minimum) of some variable given some variables that we can manipulate. We can test the different levers and measure the outcome. I have a slightly *unorthodox* example from my work because inputs are not necessarily quantitative and the reaching the optimum is measured somewhat subjectively. However, I believe the principles are the same. I am trying to improve the responsivness of my department, as measured by the percentage of workloads that we complete same-day. We know that  100% is not ideal because there are some workloads that we should wait on so that we can do more research. Some of the levers we have at our disposal: training backfills for when people are out, retraining current employees, reporting on daily numbers, having management review work that we wait on, and simplifying decision-making processes. We are currently in the process of deploying this to the real world. For example, we have begun simplifying decision-making processes. In the past, employees used a plethora of outdated decision-trees and emails from previous management to guide decisions. We replaced all of this with a simple set of guiding principles and empowered employees to make good decisions. This reduced the time that employees spent on each workload. We also began manually reviewing all the word we were choosing to wait on. We would send back work to the employee if it was inappropriate to wait. We callibrate regular with key decision makers. Now, we see that our responsivness is likely too high because our customer outcomes on some transactions are less than ideal. To solve this, we are reviewing work that we should wait on and helping folks identify this work. In some ways this work is subjective, but it is in every sense about achieving the optimal level of same-day completion for work, balancing between getting back to customers quickly and doing all the work that is necessary to set a transaction on the correct path."
   ]
  },
  {
   "cell_type": "markdown",
   "metadata": {},
   "source": [
    "***\n",
    "## HW6.1 Optimization theory: \n",
    "*In python, plot the univartiate function: <br> \n",
    "X^3 -12x^2-6<br>\n",
    "defined over the real domain -6 to +6.<br>\n",
    "<br>\n",
    "Also plot its corresponding first and second derivative functions. Eyeballing these graphs, identify candidate optimal points and then classify them as local minimums or maximums. Highlight and label these points in your graphs. Justify your responses using the FOC and SOC.<br>\n",
    "<br>\n",
    "For unconstrained multi-variate optimization what are the first order Necessary Conditions for Optimality (FOC). What are the second order optimality conditions (SOC)? Give a mathematical defintion. What is the Hessian matrix in this context?*<br>"
   ]
  },
  {
   "cell_type": "code",
   "execution_count": 2,
   "metadata": {
    "collapsed": true
   },
   "outputs": [],
   "source": [
    "# create the function that we can use to\n",
    "# generate the points for plotting\n",
    "def sample_function(xlist):\n",
    "    \"\"\"function that takes a list of numbers\n",
    "    and returns a list of y-values f\"\"\"\n",
    "    \n",
    "    \n",
    "    # write the function\n",
    "    def actual_function(x):\n",
    "        y = (x**3) - (12 * (x**2)) - 6\n",
    "        return y\n",
    "    \n",
    "    # create an array to store\n",
    "    # the y-values\n",
    "    ylist = []\n",
    "    \n",
    "    # loop through each x, generate\n",
    "    # the corresponding y value and \n",
    "    # append it to the array\n",
    "    for x in xlist:\n",
    "        y = actual_function(x)\n",
    "        ylist.append(y)\n",
    "        \n",
    "    # return the y list\n",
    "    return ylist"
   ]
  },
  {
   "cell_type": "code",
   "execution_count": 3,
   "metadata": {
    "collapsed": false
   },
   "outputs": [
    {
     "data": {
      "image/png": "[encoded data removed]",
      "text/plain": [
       "<matplotlib.figure.Figure at 0x109f87d10>"
      ]
     },
     "metadata": {},
     "output_type": "display_data"
    }
   ],
   "source": [
    "%matplotlib inline\n",
    "# import numpy to help us generate our values\n",
    "# import matplotlib to help us plot\n",
    "import numpy as np\n",
    "import matplotlib.pylab as plt\n",
    "\n",
    "# generate our x-values\n",
    "xlist = list(np.arange(-6,6.1,0.1))\n",
    "\n",
    "# generate our y-value\n",
    "ylist = sample_function(xlist)\n",
    "\n",
    "# plot the graph\n",
    "plt.plot(xlist,ylist)\n",
    "plt.title(\"Original function\")\n",
    "plt.show()"
   ]
  },
  {
   "cell_type": "code",
   "execution_count": 4,
   "metadata": {
    "collapsed": false
   },
   "outputs": [],
   "source": [
    "# create the first derivative of the function that \n",
    "# we can use to generate the points for plotting\n",
    "def sample_1stderivative(xlist):\n",
    "    \"\"\"function that takes a list of numbers\n",
    "    and returns a list of y-values f\"\"\"\n",
    "    \n",
    "    \n",
    "    # write the function\n",
    "    def actual_function(x):\n",
    "        y = (3 * (x**2)) - (24 * x)\n",
    "        return y\n",
    "    \n",
    "    # create an array to store\n",
    "    # the y-values\n",
    "    ylist = []\n",
    "    \n",
    "    # loop through each x, generate\n",
    "    # the corresponding y value and \n",
    "    # append it to the array\n",
    "    for x in xlist:\n",
    "        y = actual_function(x)\n",
    "        ylist.append(y)\n",
    "        \n",
    "    # return the y list\n",
    "    return ylist"
   ]
  },
  {
   "cell_type": "code",
   "execution_count": 5,
   "metadata": {
    "collapsed": false
   },
   "outputs": [
    {
     "data": {
      "image/png": "[encoded data removed]",
      "text/plain": [
       "<matplotlib.figure.Figure at 0x10a04b710>"
      ]
     },
     "metadata": {},
     "output_type": "display_data"
    }
   ],
   "source": [
    "# plot the first order derivative\n",
    "\n",
    "%matplotlib inline\n",
    "# import numpy to help us generate our values\n",
    "# import matplotlib to help us plot\n",
    "import numpy as np\n",
    "import matplotlib.pylab as plt\n",
    "\n",
    "# generate our x-values\n",
    "xlist = list(np.arange(-6,6.1,0.1))\n",
    "\n",
    "# generate our y-value\n",
    "ylist = sample_1stderivative(xlist)\n",
    "\n",
    "# plot the graph\n",
    "plt.plot(xlist,ylist)\n",
    "plt.title(\"First Order Derivative\")\n",
    "plt.show()"
   ]
  },
  {
   "cell_type": "code",
   "execution_count": 6,
   "metadata": {
    "collapsed": true
   },
   "outputs": [],
   "source": [
    "# create the second derivative of the function that \n",
    "# we can use to generate the points for plotting\n",
    "def sample_2ndderivative(xlist):\n",
    "    \"\"\"function that takes a list of numbers\n",
    "    and returns a list of y-values f\"\"\"\n",
    "    \n",
    "    \n",
    "    # write the function\n",
    "    def actual_function(x):\n",
    "        y = (6 * x) - 24\n",
    "        return y\n",
    "    \n",
    "    # create an array to store\n",
    "    # the y-values\n",
    "    ylist = []\n",
    "    \n",
    "    # loop through each x, generate\n",
    "    # the corresponding y value and \n",
    "    # append it to the array\n",
    "    for x in xlist:\n",
    "        y = actual_function(x)\n",
    "        ylist.append(y)\n",
    "        \n",
    "    # return the y list\n",
    "    return ylist"
   ]
  },
  {
   "cell_type": "code",
   "execution_count": 7,
   "metadata": {
    "collapsed": false
   },
   "outputs": [
    {
     "data": {
      "image/png": "[encoded data removed]",
      "text/plain": [
       "<matplotlib.figure.Figure at 0x10a067250>"
      ]
     },
     "metadata": {},
     "output_type": "display_data"
    }
   ],
   "source": [
    "# plot the second order derivative\n",
    "\n",
    "%matplotlib inline\n",
    "# import numpy to help us generate our values\n",
    "# import matplotlib to help us plot\n",
    "import numpy as np\n",
    "import matplotlib.pylab as plt\n",
    "\n",
    "# generate our x-values\n",
    "xlist = list(np.arange(-6,6.1,0.1))\n",
    "\n",
    "# generate our y-value\n",
    "ylist = sample_2ndderivative(xlist)\n",
    "\n",
    "# plot the graph\n",
    "plt.plot(xlist,ylist)\n",
    "plt.title(\"Second Order Derivative\")\n",
    "plt.show()"
   ]
  },
  {
   "cell_type": "markdown",
   "metadata": {},
   "source": [
    "#### Plot the graph and its derivatives on the same plot"
   ]
  },
  {
   "cell_type": "code",
   "execution_count": 11,
   "metadata": {
    "collapsed": false
   },
   "outputs": [
    {
     "data": {
      "image/png": "[encoded data removed]",
      "text/plain": [
       "<matplotlib.figure.Figure at 0x10ca33bd0>"
      ]
     },
     "metadata": {},
     "output_type": "display_data"
    }
   ],
   "source": [
    "%matplotlib inline\n",
    "# import numpy to help us generate our values\n",
    "# import matplotlib to help us plot\n",
    "import numpy as np\n",
    "import matplotlib.pylab as plt\n",
    "\n",
    "# generate the x values\n",
    "xlist = list(np.arange(-6,6.1,0.1))\n",
    "\n",
    "# generate the y-values for the original,\n",
    "# the first order, and 2nd order derivatives\n",
    "ylist = sample_function(xlist)\n",
    "ylist_1 = sample_1stderivative(xlist)\n",
    "ylist_2 = sample_2ndderivative(xlist)\n",
    "\n",
    "# plot each graph\n",
    "plt.plot(xlist,ylist,xlist,ylist_1,xlist,ylist_2)\n",
    "\n",
    "# plot the eyeballed extrema on the range -6,6\n",
    "plt.plot(0,0,'ro')\n",
    "plt.plot(6,-225,'ro')\n",
    "plt.plot(-6,-625,'ro')\n",
    "\n",
    "# show the plot\n",
    "plt.title(\"Function with its first and second derivatives\")\n",
    "plt.show()"
   ]
  },
  {
   "cell_type": "markdown",
   "metadata": {},
   "source": [
    "In the graph above, we have labelled the local extrema with <span style=\"color:red\">red</span> dots. The maximum is at (0,0). We can determine this using first-order and second-order derivatives. The first order derivative of the function crosses zero when x=0. This identifies that there is a local extrema at the point where x=0 on the original function. The second order derivative is negative at x=0. This identifies that the local extrema identified by the first order derivative is actually a local maximum value. By looking at the graph of the original function, we can tell that this is true.<br>\n",
    "In addition to using the first- and second-order derivatives to identify extrema, we should also test the bounds of our function. If this function would continue unbounded then these values would not be local extrema. However, since our function is bounded, we want to test if these are locally for the function defined in this interval. We find that they are because the neighboring points are all higher than these bounds, implying that these points are local minimums. "
   ]
  },
  {
   "cell_type": "markdown",
   "metadata": {
    "collapsed": true
   },
   "source": [
    "For unconstrained multi-variate optimization, the **first order necessary conditions for optimality (FOC)** are that when the first order derivative is zero the objective function has reached a local extrema. Mathematically, we can define this as: (1) given the problem, *P*, that is to maximize or minimize f(x), then (2) if ${\\overline{x}}$ is is the solution to *P*, the first order derivative of ${\\overline{x}}$ equals 0.<br> \n",
    "<br>\n",
    "For unconstrained multi-variate optimization, the **second order necessary conditions for optimality (SOC)** are that when first order derivative is zero AND (1) the second order derivative being positive means that we've found local a minimum or (2) the second order derivative being negative means that we've found a local maximum. Mathematically, we can define this as: (1) given the problem, *P*, that is to maximize or minimize f(x), then if ${\\overline{x}}$ is the **minimum** solution to *P*, then the first order derivative of ${\\overline{x}}$ equals 0 AND the second order derivative of ${\\overline{x}}$ is positive AND (2) given the problem, *P*, that is to maximize or minimize f(x), then if ${\\overline{x}}$ is the **maximum** solution to *P*, then the first order derivative of ${\\overline{x}}$ equals 0 AND the second order derivative of ${\\overline{x}}$ is negative.<br>\n",
    "<br>\n",
    "In this context, the **Hessian matrix** is simply the matrix of the second order partial derivatives. When optimizing linear regression, we can think of the first order derivative matrix as telling us where to go and the Hessian matrix as telling us how far to go. \n",
    "\n"
   ]
  },
  {
   "cell_type": "markdown",
   "metadata": {
    "collapsed": true
   },
   "source": [
    "***\n",
    "## HW6.2\n",
    "*Taking x=1 as the first approximation(xt1) of a root of $x^3 + 2x -4 = 0$, use the Newton-Raphson method to calculate the second approximation (denoted as xt2) of this root. (Hint the solution is xt2=1.2)*"
   ]
  },
  {
   "cell_type": "markdown",
   "metadata": {
    "collapsed": true
   },
   "source": [
    "Let us define the function, f, of which we are finding the roots\n",
    "$$f(x) = x^{3} + 2x - 4$$\n",
    "<br>Then the derivative of f with respect to x is:\n",
    "$$\\frac{df}{dx} = 3x^{2} + 2$$\n",
    "<br>Let us start with x=1 as the first approximation of the root of f, $xt1$.\n",
    "$$xt1 = 1$$\n",
    "$$f(xt1) = (1)^{3} + 2(1) - 4 = 1^{3} + 2 - 4 = 1 + 2 - 4 = 3 - 4 = -1$$\n",
    "$$f'(xt1) = 3(1)^{2} + 2 = 3(1) + 2 = 3 + 2 = 5$$\n",
    "<br>Let us find the tangent line to $xt1$.<br>\n",
    "Remember that the formula for the tangent line is y = mx + b where m is the slope and b is the y-intercept.\n",
    "$$y = mx + b$$\n",
    "$$m = f'(xt1) = 5$$\n",
    "<br> We know that the tangent line must pass through (xt1,f(xt1)).\n",
    "$$-1 = 5(1) + b$$\n",
    "$$-1 = 5 + b$$\n",
    "$$-6 = b$$\n",
    "<br> Therefore, the equation of the tangent line to $xt1$ is:\n",
    "$$y = 5x - 6$$\n",
    "<br> We can solve for the next closest root by finding where this tangent line intersects the x-axis.\n",
    "$$y = 0 = 5x - 6$$\n",
    "$$0 = 5x - 6$$\n",
    "$$6 = 5x$$\n",
    "$$\\frac{6}{5} = x$$\n",
    "$$x = 1.2$$\n",
    "$$xt2 = 1.2$$\n",
    "<br>**The second approximation of the root using the Newton-Rasphson method is 1.2.**"
   ]
  },
  {
   "cell_type": "markdown",
   "metadata": {},
   "source": [
    "***\n",
    "## HW6.3 Convex optimization \n",
    "*What makes an optimization problem convex? What are the first order  Necessary Conditions for Optimality in convex optimization.  What are the second order optimality conditions for convex optimization? Are both necessary to determine the maximum or minimum of candidate optimal solutions?<br>\n",
    "Fill in the BLANKS here:<br>\n",
    "Convex minimization, a subfield of optimization, studies the problem of minimizing BLANK functions over BLANK sets. The BLANK property can make optimization in some sense \"easier\" than the general case - for example, any local minimum must be a global minimum.*"
   ]
  },
  {
   "cell_type": "markdown",
   "metadata": {},
   "source": [
    "Convex minimization, a subfield of optimization, studies the problem of minimizing **convex** functions over **convex** sets. The **convexity** property can make optimization in some sense \"easier\" than the general case - for example, any local minimum must be a global minimum."
   ]
  },
  {
   "cell_type": "markdown",
   "metadata": {},
   "source": [
    "***\n",
    "## HW 6.4\n",
    "*The learning objective function for weighted ordinary least squares (WOLS) (aka weight linear regression) is defined as follows:<br>\n",
    "0.5 • sumOverTrainingExample i (weight_i • (W • X_i - y_i)^2)<br>\n",
    "Where training set consists of input variables X ( in vector form) and a target variable y, and W is the vector of coefficients for the linear regression model.<br>\n",
    "<br>\n",
    "Derive the gradient for this weighted OLS by hand; showing each step and also explaining each step.*"
   ]
  },
  {
   "cell_type": "markdown",
   "metadata": {},
   "source": [
    "##### Objective function:\n",
    "$$f = 0.5 * \\sum_{i} weight_{i} * ( W * X_{i} - y_{i})^{2}$$\n",
    "\n",
    "##### Exapand the objective function\n",
    "$$f = 0.5 * \\sum_{i} weight_{i} * ( W * X_{i} - y_{i}) * ( W * X_{i} - y_{i})$$\n",
    "$$f = 0.5 * \\sum_{i} weight_{i} * ( W^{2}X_{i}^{2} - WX_{i}y_{i} - WX_{i}y_{i} + y_{i}^{2})$$\n",
    "$$f = 0.5 * \\sum_{i} weight_{i} * ( W^{2}X_{i}^{2} - 2 WX_{i}y_{i} + y_{i}^{2})$$\n",
    "$$f = 0.5 * \\sum_{i} W^{2}X_{i}^{2}*weight_{i} - 2 WX_{i}y_{i}*weight_{i} + y_{i}^{2}*weight_{i}$$\n",
    "\n",
    "##### Calculate the partial derivatives with respect to W, the coefficients\n",
    "We are attempting to choose the coefficients that will minimize this function.\n",
    "$$\\frac{\\partial f}{\\partial W} = 0.5 * \\sum_{i} 2 WX_{i}^{2}*weight_{i} - 2 X_{i}y_{i}*weight_{i} + 0$$\n",
    "$$\\frac{\\partial f}{\\partial W} = 0.5 * \\sum_{i} 2 WX_{i}^{2}*weight_{i} - 2 X_{i}y_{i}*weight_{i}$$\n",
    "$$\\frac{\\partial f}{\\partial W} = 0.5 * \\sum_{i} 2X_{i}*weight_{i}*(WX_{i}-y_{i})$$\n",
    "$$\\frac{\\partial f}{\\partial W} = \\sum_{i} 0.5 * 2X_{i}*weight_{i}*(WX_{i}-y_{i})$$\n",
    "$$\\frac{\\partial f}{\\partial W} = \\sum_{i} X_{i}*weight_{i}*(WX_{i}-y_{i})$$\n",
    "\n",
    "##### JUST FOR FUN: Calculate the partial derivatives with respect to x and y\n",
    "I need some more practice taking partial derivatives so I also take the partial derivatives with respect to x and y.\n",
    "\n",
    "With respect to x:\n",
    "$$\\frac{\\partial f}{\\partial x} = 0.5 * \\sum_{i} 2 W^{2}X_{i}*weight_{i} - 2 Wy_{i}*weight_{i} + 0$$\n",
    "$$\\frac{\\partial f}{\\partial x} = 0.5 * \\sum_{i} 2 W^{2}X_{i}*weight_{i} - 2 Wy_{i}*weight_{i}$$\n",
    "$$\\frac{\\partial f}{\\partial x} = \\sum_{i} 0.5*2 W^{2}X_{i}*weight_{i} - 0.5*2 Wy_{i}*weight_{i}$$\n",
    "$$\\frac{\\partial f}{\\partial x} = \\sum_{i} W^{2}X_{i}*weight_{i} - Wy_{i}*weight_{i}$$\n",
    "\n",
    "With respect to y:\n",
    "$$\\frac{\\partial f}{\\partial y} = 0.5 * \\sum_{i} 0 - 2WX_{i}*weight_{i} + 2y_{i}*weight_{i}$$\n",
    "$$\\frac{\\partial f}{\\partial y} = 0.5 * \\sum_{i} -2WX_{i}*weight_{i} + 2y_{i}*weight_{i}$$\n",
    "$$\\frac{\\partial f}{\\partial y} = \\sum_{i} 0.5 * -2WX_{i}*weight_{i} + 0.5 * 2y_{i}*weight_{i}$$\n",
    "$$\\frac{\\partial f}{\\partial y} = \\sum_{i} -WX_{i}*weight_{i} + y_{i}*weight_{i}$$"
   ]
  },
  {
   "cell_type": "markdown",
   "metadata": {},
   "source": [
    "***\n",
    "## HW 6.5\n",
    "*Write a MapReduce job in MRJob to do the training at scale of a weighted OLS model using gradient descent. Generate one million datapoints just like in this [notebook](http://nbviewer.ipython.org/urls/dl.dropbox.com/s/kritdm3mo1daolj/MrJobLinearRegressionGD.ipynb)<br>\n",
    "Weight each example as follows: <br>\n",
    "weight(x)= abs(1/x)<br>\n",
    "<br>\n",
    "Sample 1% of the data in MapReduce and use the sampled dataset to train a (weighted if available in SciKit-Learn) linear regression model locally using [SciKit-Learn](http://scikit-learn.org/stable/modules/generated/sklearn.linear_model.LinearRegression.html)<br>\n",
    "<br>\n",
    "Plot the resulting weighted linear regression model versus the original model that you used to generate the data. Comment on your findings.*"
   ]
  },
  {
   "cell_type": "markdown",
   "metadata": {},
   "source": [
    "### Generate 1,000,000 datapoints\n",
    "Size: 1,000,000 points<br>\n",
    "True model: y = 1.0 • x - 4.0<br>\n",
    "Noise: Normal Distributed mean = 0, var = 0.5<br>\n",
    "Domain: -4,4"
   ]
  },
  {
   "cell_type": "code",
   "execution_count": 8,
   "metadata": {
    "collapsed": false
   },
   "outputs": [
    {
     "data": {
      "image/png": "[encoded data removed]",
      "text/plain": [
       "<matplotlib.figure.Figure at 0x10ca0b6d0>"
      ]
     },
     "metadata": {},
     "output_type": "display_data"
    }
   ],
   "source": [
    "%matplotlib inline\n",
    "import matplotlib.pyplot as plt\n",
    "import numpy as np\n",
    "\n",
    "# set our size and domain\n",
    "SIZE = 1000000\n",
    "LOWER = -4.0\n",
    "UPPER = 4.0\n",
    "\n",
    "# set the normal distribution\n",
    "MEAN = 0\n",
    "VAR = 0.5\n",
    "\n",
    "# generate the x- and y-values\n",
    "x = np.random.uniform(LOWER,UPPER,SIZE)\n",
    "y = x * 1.0 - 4.0 + np.random.normal(MEAN,VAR,SIZE)\n",
    "\n",
    "# generate the weigths for the x and y coordinates\n",
    "w = abs(1.0/x)\n",
    "\n",
    "# plot the points\n",
    "plt.plot(x,y,\"*\")\n",
    "plt.show()"
   ]
  },
  {
   "cell_type": "markdown",
   "metadata": {},
   "source": [
    "### Generate the random sample of 1% from the data"
   ]
  },
  {
   "cell_type": "code",
   "execution_count": 9,
   "metadata": {
    "collapsed": false
   },
   "outputs": [
    {
     "name": "stderr",
     "output_type": "stream",
     "text": [
      "/Users/Alex/miniconda2/envs/main/lib/python2.7/site-packages/ipykernel/__main__.py:14: VisibleDeprecationWarning: using a non-integer number instead of an integer will result in an error in the future\n"
     ]
    }
   ],
   "source": [
    "import numpy as np\n",
    "\n",
    "# zip the x and y values together\n",
    "# so that we might randomly sample them\n",
    "yxw = np.array(zip(y,x,w))\n",
    "\n",
    "# save the file as data\n",
    "np.savetxt('data.txt',yxw,delimiter = \",\")\n",
    "\n",
    "# set the sample of 1%\n",
    "SAMPLE_SIZE = 0.01 * SIZE\n",
    "\n",
    "# grab the random sample\n",
    "yxw_sample = yxw[np.random.randint(0,len(yxw),size=SAMPLE_SIZE),:]\n",
    "y_sample = yxw_sample[:,0]\n",
    "x_sample = yxw_sample[:,1]\n",
    "w_sample = yxw_sample[:,2]\n",
    "\n",
    "# save the sameple as well\n",
    "np.savetxt('data_sample.txt',yxw_sample,delimiter = \",\")"
   ]
  },
  {
   "cell_type": "code",
   "execution_count": 12,
   "metadata": {
    "collapsed": false
   },
   "outputs": [
    {
     "name": "stdout",
     "output_type": "stream",
     "text": [
      "Coefficient: 0.999179308085\n",
      "Intercept: -3.97843423919\n"
     ]
    },
    {
     "data": {
      "image/png": "[encoded data removed]",
      "text/plain": [
       "<matplotlib.figure.Figure at 0x1088f1510>"
      ]
     },
     "metadata": {},
     "output_type": "display_data"
    }
   ],
   "source": [
    "from sklearn.linear_model import LinearRegression\n",
    "\n",
    "# use sklearn to generate a weighted\n",
    "# linear regression from the sample\n",
    "# data\n",
    "sk_linear = LinearRegression().fit(x_sample.reshape(-1,1),\\\n",
    "                                   y_sample,\\\n",
    "                                   w_sample)\n",
    "\n",
    "# print out the attributes predicted\n",
    "# by the model, coefficient and intercept\n",
    "print \"Coefficient:\",sk_linear.coef_[0]\n",
    "print \"Intercept:\",sk_linear.intercept_\n",
    "\n",
    "# plot the model compared to the sample\n",
    "plt.plot(x_sample,y_sample,\"*\")\n",
    "plt.plot(x_sample,sk_linear.predict(x_sample.reshape(-1,1)),color='red',\n",
    "         linewidth=3)\n",
    "plt.title(\"SKLearn Prediction with Sample Data\")\n",
    "plt.show()"
   ]
  },
  {
   "cell_type": "markdown",
   "metadata": {},
   "source": [
    "### MRJob Class to calculate weighted OLS\n",
    "This MRJob class calculates the gradient of the entire training set.\n",
    "- Mapper: emits the partial gradient for each example\n",
    "- Reducer: accumulates the gradient and emits the total gradient\n",
    "\n",
    "Inspired by class [notebook](http://nbviewer.jupyter.org/urls/dl.dropbox.com/s/kritdm3mo1daolj/MrJobLinearRegressionGD.ipynb)."
   ]
  },
  {
   "cell_type": "code",
   "execution_count": 20,
   "metadata": {
    "collapsed": false
   },
   "outputs": [
    {
     "name": "stdout",
     "output_type": "stream",
     "text": [
      "Overwriting MRGDUpdate_LinearRegression.py\n"
     ]
    }
   ],
   "source": [
    "%%writefile MRGDUpdate_LinearRegression.py\n",
    "\n",
    "# import the MRJob class\n",
    "from mrjob.job import MRJob\n",
    "  \n",
    "class MRGDUpdate_LinearRegression(MRJob):\n",
    "    \n",
    "    # before processing input, we read in\n",
    "    # the existing coefficients file\n",
    "    def read_coef_file(self):\n",
    "        \n",
    "        # open the coefficients file\n",
    "        with open('coefs.txt', 'r') as myfile:\n",
    "            \n",
    "            # set the coefficients for this instances\n",
    "            # by reading in each line from the \n",
    "            # file\n",
    "            self.coefs = \\\n",
    "            [float(v) for v in myfile.readline().split(',')]\n",
    "        \n",
    "        # initialze gradient for this iteration\n",
    "        self.partial_Gradient = [0]*len(self.coefs)\n",
    "        self.partial_count = 0\n",
    "    \n",
    "    # calculate partial gradient for each example \n",
    "    def partial_gradient(self, _, line):\n",
    "        \n",
    "        # set the points as D\n",
    "        D = (map(float,line.split(',')))\n",
    "        \n",
    "        # grab the weight\n",
    "        wgt_xi = D[2]\n",
    "        \n",
    "        # y_hat is the predicted value given \n",
    "        # current coefficients\n",
    "        y_hat = self.coefs[0] + self.coefs[1]*D[1]\n",
    "        \n",
    "        # store the difference between each \n",
    "        # predicted value and the actual value\n",
    "        self.partial_Gradient =  [self.partial_Gradient[0] + \\\n",
    "                                  D[0]-y_hat, self.partial_Gradient[1] + \\\n",
    "                                  (D[0]-y_hat) * D[1] * wgt_xi]\n",
    "        \n",
    "        # increment the counter for the\n",
    "        # partial gradients we've calculated\n",
    "        # so far\n",
    "        self.partial_count = self.partial_count + 1\n",
    "        \n",
    "        # we don't yield anything because we leave\n",
    "        # that to our mapper final\n",
    "        # yield None, (D[0]-y_hat,(D[0]-y_hat)*D[1],1)\n",
    "    \n",
    "    # finally emit in-memory partial gradient \n",
    "    # and partial count\n",
    "    def partial_gradient_emit(self):\n",
    "        yield None, (self.partial_Gradient,\\\n",
    "                     self.partial_count)\n",
    "        \n",
    "    # accumulate partial gradient from mapper and \n",
    "    # emit total gradient \n",
    "    # output: key = None, Value = gradient vector\n",
    "    def gradient_accumulater(self, _, partial_Gradient_Record): \n",
    "        \n",
    "        # initalize an array to hold the gradient we accumulate\n",
    "        total_gradient = [0]*2\n",
    "        \n",
    "        # initalize a count\n",
    "        total_count = 0\n",
    "        \n",
    "        # loop through each input in this reducer,\n",
    "        # cumulatively sum the gradient and \n",
    "        # increment the count variable\n",
    "        for partial_Gradient,partial_count in partial_Gradient_Record:\n",
    "            total_count = total_count + partial_count\n",
    "            total_gradient[0] = total_gradient[0] + partial_Gradient[0]\n",
    "            total_gradient[1] = total_gradient[1] + partial_Gradient[1]\n",
    "        \n",
    "        # yield the average of the gradients of the gradients\n",
    "        yield None, [v/total_count for v in total_gradient]\n",
    "    \n",
    "    def steps(self):\n",
    "        return [self.mr(mapper_init=self.read_coef_file,\n",
    "                       mapper=self.partial_gradient,\n",
    "                       mapper_final=self.partial_gradient_emit,\n",
    "                       reducer=self.gradient_accumulater)] \n",
    "    \n",
    "if __name__ == '__main__':\n",
    "    MRGDUpdate_LinearRegression.run()"
   ]
  },
  {
   "cell_type": "markdown",
   "metadata": {},
   "source": [
    "### Get the cloud ready for our analysis"
   ]
  },
  {
   "cell_type": "markdown",
   "metadata": {},
   "source": [
    "##### Spin up a cluster"
   ]
  },
  {
   "cell_type": "code",
   "execution_count": 1,
   "metadata": {
    "collapsed": false
   },
   "outputs": [
    {
     "name": "stdout",
     "output_type": "stream",
     "text": [
      "Unexpected option hadoop from /Users/Alex/.mrjob.conf\n",
      "Using s3://mrjob-f8c316b67324528f/tmp/ as our temp dir on S3\n",
      "Creating persistent cluster to run several jobs in...\n",
      "Creating temp directory /var/folders/k8/fy2j66nj4xsczx6cbcxhjlvm0000gn/T/no_script.Alex.20160624.170118.208751\n",
      "Copying local files to s3://mrjob-f8c316b67324528f/tmp/no_script.Alex.20160624.170118.208751/files/...\n",
      "j-TTYM4ZTIQGX6\n"
     ]
    }
   ],
   "source": [
    "# create the cluster\n",
    "!mrjob create-cluster \\\n",
    "--max-hours-idle 1 \\\n",
    "--aws-region=us-west-1 -c ~/.mrjob.conf"
   ]
  },
  {
   "cell_type": "markdown",
   "metadata": {},
   "source": [
    "##### Move the data files up to the cloud"
   ]
  },
  {
   "cell_type": "code",
   "execution_count": 24,
   "metadata": {
    "collapsed": false
   },
   "outputs": [
    {
     "name": "stdout",
     "output_type": "stream",
     "text": [
      "upload: ./data.txt to s3://aks-w261-hw6/data.txt   \n",
      "upload: ./data_sample.txt to s3://aks-w261-hw6/data_sample.txt\n"
     ]
    }
   ],
   "source": [
    "!aws s3 cp data.txt s3://aks-w261-hw6/data.txt\n",
    "!aws s3 cp data_sample.txt s3://aks-w261-hw6/data_sample.txt"
   ]
  },
  {
   "cell_type": "markdown",
   "metadata": {},
   "source": [
    "### MRJob Runner to calculate the coefficients"
   ]
  },
  {
   "cell_type": "code",
   "execution_count": 4,
   "metadata": {
    "collapsed": false,
    "scrolled": false
   },
   "outputs": [
    {
     "name": "stdout",
     "output_type": "stream",
     "text": [
      "iteration = 0  coefficients = [ 0.63602093  0.21051394]\n",
      "iteration = 1  coefficients = [ 0.40427824  0.28973606]\n",
      "iteration = 2  coefficients = [ 0.18412415  0.36102035]\n",
      "iteration = 3  coefficients = [-0.02502093  0.42516166]\n",
      "iteration = 4  coefficients = [-0.22370757  0.48287528]\n",
      "iteration = 5  coefficients = [-0.41245881  0.53480489]\n",
      "iteration = 6  coefficients = [-0.59177153  0.58152974]\n",
      "iteration = 7  coefficients = [-0.76211775  0.6235711 ]\n",
      "iteration = 8  coefficients = [-0.92394588  0.66139802]\n",
      "iteration = 9  coefficients = [-1.07768191  0.69543263]\n",
      "iteration = 10  coefficients = [-1.22373051  0.72605478]\n",
      "iteration = 11  coefficients = [-1.36247612  0.7536063 ]\n",
      "iteration = 12  coefficients = [-1.49428393  0.77839477]\n",
      "iteration = 13  coefficients = [-1.6195009  0.800697 ]\n",
      "iteration = 14  coefficients = [-1.73845661  0.82076208]\n",
      "iteration = 15  coefficients = [-1.85146416  0.83881415]\n",
      "iteration = 16  coefficients = [-1.958821    0.85505492]\n",
      "iteration = 17  coefficients = [-2.0608097   0.86966588]\n",
      "iteration = 18  coefficients = [-2.1576987   0.88281036]\n",
      "iteration = 19  coefficients = [-2.249743    0.89463533]\n",
      "iteration = 20  coefficients = [-2.33718487  0.90527305]\n",
      "iteration = 21  coefficients = [-2.42025445  0.91484252]\n",
      "iteration = 22  coefficients = [-2.49917037  0.92345083]\n",
      "iteration = 23  coefficients = [-2.57414034  0.93119435]\n",
      "iteration = 24  coefficients = [-2.64536167  0.93815978]\n",
      "iteration = 25  coefficients = [-2.7130218   0.94442514]\n",
      "iteration = 26  coefficients = [-2.77729881  0.95006065]\n",
      "iteration = 27  coefficients = [-2.83836187  0.95512949]\n",
      "iteration = 28  coefficients = [-2.89637168  0.95968849]\n",
      "iteration = 29  coefficients = [-2.95148091  0.9637888 ]\n",
      "iteration = 30  coefficients = [-3.00383461  0.96747645]\n",
      "iteration = 31  coefficients = [-3.05357055  0.97079286]\n",
      "iteration = 32  coefficients = [-3.10081964  0.97377528]\n",
      "iteration = 33  coefficients = [-3.14570622  0.97645725]\n",
      "iteration = 34  coefficients = [-3.18834842  0.97886893]\n",
      "iteration = 35  coefficients = [-3.22885846  0.98103746]\n",
      "iteration = 36  coefficients = [-3.26734296  0.98298727]\n",
      "iteration = 37  coefficients = [-3.3039032   0.98474033]\n",
      "iteration = 38  coefficients = [-3.3386354   0.98631642]\n",
      "iteration = 39  coefficients = [-3.37163096  0.98773331]\n",
      "iteration = 40  coefficients = [-3.40297671  0.98900701]\n",
      "iteration = 41  coefficients = [-3.43275515  0.99015193]\n",
      "iteration = 42  coefficients = [-3.46104465  0.99118102]\n",
      "iteration = 43  coefficients = [-3.48791965  0.99210593]\n",
      "iteration = 44  coefficients = [-3.51345089  0.99293714]\n",
      "iteration = 45  coefficients = [-3.53770555  0.99368409]\n",
      "iteration = 46  coefficients = [-3.56074747  0.99435527]\n",
      "iteration = 47  coefficients = [-3.58263727  0.99495831]\n",
      "iteration = 48  coefficients = [-3.60343258  0.99550008]\n",
      "iteration = 49  coefficients = [-3.62318811  0.99598675]\n",
      "iteration = 50  coefficients = [-3.64195585  0.99642389]\n",
      "iteration = 51  coefficients = [-3.6597852   0.99681649]\n",
      "iteration = 52  coefficients = [-3.67672307  0.99716905]\n",
      "iteration = 53  coefficients = [-3.69281404  0.99748561]\n",
      "iteration = 54  coefficients = [-3.70810046  0.99776981]\n",
      "iteration = 55  coefficients = [-3.72262256  0.99802493]\n",
      "iteration = 56  coefficients = [-3.73641854  0.9982539 ]\n",
      "iteration = 57  coefficients = [-3.74952472  0.99845938]\n",
      "iteration = 58  coefficients = [-3.76197559  0.99864374]\n",
      "iteration = 59  coefficients = [-3.77380391  0.99880912]\n",
      "iteration = 60  coefficients = [-3.78504081  0.99895746]\n",
      "iteration = 61  coefficients = [-3.79571586  0.99909047]\n",
      "iteration = 62  coefficients = [-3.80585716  0.99920973]\n",
      "iteration = 63  coefficients = [-3.81549139  0.99931662]\n",
      "iteration = 64  coefficients = [-3.82464391  0.99941241]\n",
      "iteration = 65  coefficients = [-3.8333388   0.99949823]\n",
      "iteration = 66  coefficients = [-3.84159894  0.99957509]\n",
      "iteration = 67  coefficients = [-3.84944608  0.99964391]\n",
      "iteration = 68  coefficients = [-3.85690086  0.99970551]\n",
      "iteration = 69  coefficients = [-3.86398289  0.99976064]\n",
      "iteration = 70  coefficients = [-3.87071083  0.99980994]\n",
      "iteration = 71  coefficients = [-3.87710236  0.99985403]\n",
      "iteration = 72  coefficients = [-3.88317432  0.99989344]\n",
      "iteration = 73  coefficients = [-3.88894268  0.99992865]\n",
      "iteration = 74  coefficients = [-3.89442263  0.99996009]\n",
      "iteration = 75  coefficients = [-3.89962857  0.99998816]\n",
      "iteration = 76  coefficients = [-3.90457422  1.00001319]\n",
      "iteration = 77  coefficients = [-3.90927258  1.00003551]\n",
      "iteration = 78  coefficients = [-3.91373603  1.0000554 ]\n",
      "iteration = 79  coefficients = [-3.9179763   1.00007311]\n",
      "iteration = 80  coefficients = [-3.92200456  1.00008887]\n",
      "iteration = 81  coefficients = [-3.9258314   1.00010288]\n",
      "iteration = 82  coefficients = [-3.9294669   1.00011533]\n",
      "iteration = 83  coefficients = [-3.93292063  1.00012638]\n",
      "iteration = 84  coefficients = [-3.93620167  1.00013618]\n",
      "Final coefficients\n",
      "\n",
      "[-3.93931866  1.00014486]\n"
     ]
    }
   ],
   "source": [
    "%reload_ext autoreload\n",
    "%autoreload 2\n",
    "\n",
    "from numpy import random,array\n",
    "from MRGDUpdate_LinearRegression import MRGDUpdate_LinearRegression\n",
    "\n",
    "# set the learning rate and the stop criterion\n",
    "# how quickly we'll move and when to stop getting\n",
    "# better and better approximations\n",
    "learning_rate = 0.05\n",
    "stop_criteria = 0.00001\n",
    "\n",
    "# generate random values as inital coefficients\n",
    "coefficients = array([random.uniform(-3,3),random.uniform(-3,3)])\n",
    "\n",
    "# write the coefficients to the files\n",
    "with open('coefs.txt', 'w+') as f:\n",
    "    f.writelines(','.join(str(j) for j in coefficients))\n",
    "\n",
    "# move the coefficients file to the cloud\n",
    "!aws s3 cp coefs.txt s3://aks-w261-hw6/coefs.txt --quiet \n",
    "    \n",
    "# create a mrjob instance for the gradient \n",
    "# descent update over the test data, that runs\n",
    "# locally\n",
    "\n",
    "# run the job on our entire generated data \n",
    "# in the coud\n",
    "mr_job = \\\n",
    "MRGDUpdate_LinearRegression(args=['-r', 'emr',\\\n",
    "                                  's3://aks-w261-hw6/data.txt',\\\n",
    "                                  '--file=s3://aks-w261-hw6/coefs.txt',\\\n",
    "                                  '--cluster-id=j-TTYM4ZTIQGX6',\\\n",
    "                                  '--aws-region=us-west-1',\\\n",
    "                                  '--output-dir=s3://aks-w261-hw6/out_6_5',\\\n",
    "                                  '--no-output'])\n",
    "\n",
    "# test the job on our sample generated data \n",
    "# in the coud\n",
    "# mr_job = \\\n",
    "# MRGDUpdate_LinearRegression(args=['-r', 'emr',\\\n",
    "#                                   's3://aks-w261-hw6/data_sample.txt',\\\n",
    "#                                   '--file=s3://aks-w261-hw6/coefs.txt',\\\n",
    "#                                   '--cluster-id=j-3RGX32QSDBOPN',\\\n",
    "#                                   '--aws-region=us-west-1',\\\n",
    "#                                   '--output-dir=s3://aks-w261-hw6/out_6_5',\\\n",
    "#                                   '--no-output'])\n",
    "\n",
    "# test on the same file from the example notebook\n",
    "# mr_job = \\\n",
    "# MRGDUpdate_LinearRegression(args=['LinearRegression.csv',\\\n",
    "#                                  '--file=coefs.txt'])\n",
    "\n",
    "# update centroids iteratively\n",
    "# keep track of the iteration where on by initalizing\n",
    "# a counter,i \n",
    "i = 0\n",
    "\n",
    "# initalize the condition to keep iterating until\n",
    "# we've met our stop criterion\n",
    "not_stopping = True\n",
    "\n",
    "# while we have yet to decide to stop\n",
    "while(not_stopping):\n",
    "    \n",
    "    # prin the iteration number with the current \n",
    "    # coefficients\n",
    "    print \"iteration = \"+str(i)+\"  coefficients =\",coefficients\n",
    "    \n",
    "    # save the coefficients from previous iteration\n",
    "    coefficients_old = coefficients\n",
    "    \n",
    "    # remove any output from a previous run\n",
    "    !aws s3 rm --recursive s3://aks-w261-hw6/out_6_5 --quiet\n",
    "    \n",
    "    # run the MRJob that we created to iteratively\n",
    "    # update\n",
    "    with mr_job.make_runner() as runner: \n",
    "        runner.run()\n",
    "        \n",
    "        # loop through each line of output \n",
    "        for line in runner.stream_output():\n",
    "            \n",
    "            # grab the key,value from the output\n",
    "            # and store it\n",
    "            key,value =  mr_job.parse_output_line(line)\n",
    "            \n",
    "            # update the coefficients\n",
    "            coefficients = coefficients + learning_rate*array(value)\n",
    "            \n",
    "    # remove any output from a previous run\n",
    "    !aws s3 rm --recursive s3://aks-w261-hw6/out_6_5 --quiet\n",
    "    \n",
    "    # update our counter\n",
    "    i = i + 1\n",
    "    \n",
    "    # write the updated coefficients to file \n",
    "    with open('coefs.txt', 'w+') as f:\n",
    "        f.writelines(','.join(str(j) for j in coefficients))\n",
    "    \n",
    "    # move the coefficients file to the cloud\n",
    "    !aws s3 cp coefs.txt s3://aks-w261-hw6/coefs.txt --quiet\n",
    "    \n",
    "    # stop if coefficients coverge\n",
    "    if(sum((coefficients_old-coefficients)**2)<stop_criteria):\n",
    "        \n",
    "        # set the stopping variable to false\n",
    "        # and break out\n",
    "        not_stopping = False\n",
    "        break\n",
    "\n",
    "# print the final coefficients\n",
    "print \"Final coefficients\\n\"\n",
    "print coefficients"
   ]
  },
  {
   "cell_type": "markdown",
   "metadata": {},
   "source": [
    "### Plot the data with the line we calculated\n",
    "We choose to plot only a sample because we don't want to overwhelm pyplot."
   ]
  },
  {
   "cell_type": "code",
   "execution_count": 11,
   "metadata": {
    "collapsed": false
   },
   "outputs": [
    {
     "data": {
      "image/png": "[encoded data removed]",
      "text/plain": [
       "<matplotlib.figure.Figure at 0x10c9eae10>"
      ]
     },
     "metadata": {},
     "output_type": "display_data"
    }
   ],
   "source": [
    "# import libraries to help us plot\n",
    "from matplotlib import pyplot as plt\n",
    "\n",
    "# generate our linear data\n",
    "y_inter = coefficients[0]\n",
    "slope = coefficients[1]\n",
    "y_pred = x_sample * slope + y_inter\n",
    "\n",
    "\n",
    "# plot the model compared to the sample\n",
    "plt.plot(x_sample,y_sample,\"*\")\n",
    "plt.plot(x_sample,y_pred,color='red',\n",
    "         linewidth=3)\n",
    "plt.title(\"Our Linear Model with Sample Data\")\n",
    "plt.show()"
   ]
  },
  {
   "cell_type": "markdown",
   "metadata": {},
   "source": [
    "### Comments\n",
    "For this full data set, I used a 20 node cluster on Amazon web services. I had 1 master node, m1.medium, and 19 slave instances, m3.xlarge. Both methods are very accurate. The SKLearn method is especially useful when the data set is smaller and can be handled in memory. The upload, download time from AWS is too lengthy is dealing with small data set. For large data sets, it makes a lot of sense to parallelize."
   ]
  },
  {
   "cell_type": "markdown",
   "metadata": {},
   "source": [
    "***\n",
    "## HW6.6 Clean up notebook for GMM via EM <span style='color:orange'>*(Optional)*</span>\n",
    "*Using this [notebook](http://nbviewer.jupyter.org/urls/dl.dropbox.com/s/0t7985e40fovlkw/EM-GMM-MapReduce%20Design%201.ipynb) as a starting point.<br>\n",
    "<br>\n",
    "Improve this notebook as follows:*<br>\n",
    "- *Add in equations into the notebook (not images of equations)*\n",
    "- *Number the equations*\n",
    "- *Make sure the equation notation matches the code and the code and comments refer to the equations numbers*\n",
    "- *Comment the code*\n",
    "- *Rename/Reorganize the code to make it more readable*\n",
    "- *Rerun the examples similar graphics (or possibly better graphics)*"
   ]
  },
  {
   "cell_type": "markdown",
   "metadata": {},
   "source": [
    "### Introduction"
   ]
  },
  {
   "cell_type": "markdown",
   "metadata": {},
   "source": [
    "This is a map-reduce version of expectation maximization algo for a mixture of Gaussians model. There are two mrJob MR packages, mr_GMixEmIterate and mr_GMixEmInitialize. The driver calls the mrJob packages and manages the iteration."
   ]
  },
  {
   "cell_type": "markdown",
   "metadata": {},
   "source": [
    "#### E-STEP: Probability of class step\n",
    "Given priors, mean vector and covariance matrix, calculate the probability of that each data point belongs to a class.<br>\n",
    "$$p(\\omega_{k}|x^{(i)},\\theta) = \\frac{\\pi_{k}\\mathcal{N}(x^{(i)} | \\mu_{k},\\Sigma_{k})}{\\sum_{j=1}^{K}\\pi_{j}N(x^{(i)}|\\mu_{j},\\Sigma_{j})} _{\\text{  Equation 6.6.1}}$$"
   ]
  },
  {
   "cell_type": "markdown",
   "metadata": {},
   "source": [
    "#### M-Step: Update priors, means, and covariance\n",
    "Given probabilities, update priors, mean and covariance.<br>\n",
    "$$\\hat{\\mu}_{k} = \\frac{1}{n_{k}} \\sum_{i=1}^{n}p(\\omega_{k}|x^{(i)},\\theta)x^{(i)} _{\\text{  Equation 6.6.2}}$$<br>\n",
    "$$\\hat{\\Sigma}_{k} = \\frac{1}{n_{k}} \\sum_{i=1}^{n}p(\\omega_{k}|x^{(i)},\\theta)(x^{(i)}-\\hat{\\mu}_{k})(x^{(i)}-\\hat{\\mu}_{k})^{T} _{\\text{  Equation 6.6.3}}$$<br>\n",
    "$$\\hat{\\pi}_{k} = \\frac{n_{k}}{n}\\text{  where  } n_{k}=\\sum_{i=1}^{n}p(\\omega_{k}|x^{(i)},\\theta) _{\\text{  Equation 6.6.4}}$$"
   ]
  },
  {
   "cell_type": "markdown",
   "metadata": {},
   "source": [
    "### Data Generation\n",
    "We generate that we want to group. "
   ]
  },
  {
   "cell_type": "code",
   "execution_count": 73,
   "metadata": {
    "collapsed": false
   },
   "outputs": [
    {
     "name": "stdout",
     "output_type": "stream",
     "text": [
      "data6_6.txt file generated\n"
     ]
    }
   ],
   "source": [
    "# open any plots in the notebook rather than\n",
    "# generating a new notebook\n",
    "%matplotlib inline\n",
    "\n",
    "# import libraries to help us manipulate \n",
    "# and generate the data\n",
    "import numpy as np\n",
    "import pylab \n",
    "import json\n",
    "\n",
    "# set the amount of data we want to generate\n",
    "size1 = size2 = size3 = 1000\n",
    "\n",
    "# create each of the 3 samples and as we create\n",
    "# each sample append it to our list of data\n",
    "samples1 = np.random.multivariate_normal([4, 0], [[1, 0],[0, 1]], size1)\n",
    "data = samples1\n",
    "samples2 = np.random.multivariate_normal([6, 6], [[1, 0],[0, 1]], size2)\n",
    "data = np.append(data,samples2, axis=0)\n",
    "samples3 = np.random.multivariate_normal([0, 4], [[1, 0],[0, 1]], size3)\n",
    "data = np.append(data,samples3, axis=0)\n",
    "\n",
    "# randomize the data within the list\n",
    "data = data[np.random.permutation(size1+size2+size3),]\n",
    "\n",
    "# write the data we generated to a file\n",
    "# store locally, called data.txt\n",
    "with open(\"data6_6.txt\", \"w\") as f:\n",
    "    for row in data.tolist():\n",
    "        json.dump(row, f)\n",
    "        f.write(\"\\n\")\n",
    "\n",
    "# when completed let the user know\n",
    "print \"data6_6.txt file generated\""
   ]
  },
  {
   "cell_type": "markdown",
   "metadata": {},
   "source": [
    "### Data Visualization"
   ]
  },
  {
   "cell_type": "code",
   "execution_count": 74,
   "metadata": {
    "collapsed": false
   },
   "outputs": [
    {
     "data": {
      "image/png": "[encoded data removed]",
      "text/plain": [
       "<matplotlib.figure.Figure at 0x109a5f350>"
      ]
     },
     "metadata": {},
     "output_type": "display_data"
    }
   ],
   "source": [
    "# import the matplotlib library\n",
    "# to help us generate pretty visualization\n",
    "import matplotlib.pylab\n",
    "\n",
    "# plot each of the samples in a different color\n",
    "pylab.plot(samples1[:, 0], \\\n",
    "           samples1[:, 1],'*', \\\n",
    "           color = 'red')\n",
    "pylab.plot(samples2[:, 0], \\\n",
    "           samples2[:, 1],'o', \\\n",
    "           color = 'blue')\n",
    "pylab.plot(samples3[:, 0], \\\n",
    "           samples3[:, 1],'+', \\\n",
    "           color = 'green')\n",
    "pylab.show()"
   ]
  },
  {
   "cell_type": "markdown",
   "metadata": {},
   "source": [
    "### Initalization\n",
    "We initalize our mixture model with k, 3, randomly based center points.\n",
    "- **Mapper:** sends the first 2,000 points to the reducer\n",
    "- **Reducer:** grabs k clusters and initalizes the probabilities, means, and covariances"
   ]
  },
  {
   "cell_type": "code",
   "execution_count": 79,
   "metadata": {
    "collapsed": false
   },
   "outputs": [
    {
     "name": "stdout",
     "output_type": "stream",
     "text": [
      "Overwriting mr_GMixEmInitialize.py\n"
     ]
    }
   ],
   "source": [
    "%%writefile mr_GMixEmInitialize.py\n",
    "\n",
    "# import the MRJob class\n",
    "from mrjob.job import MRJob\n",
    "\n",
    "# import the libraries to help us manipulate\n",
    "# the data\n",
    "from numpy import mat, zeros, shape, random, array, zeros_like, dot, linalg\n",
    "from random import sample\n",
    "import json\n",
    "from math import pi, sqrt, exp, pow\n",
    "\n",
    "\n",
    "class MrGMixEmInit(MRJob):\n",
    "    DEFAULT_PROTOCOL = 'json'\n",
    "    \n",
    "    # initalize the class and set the number\n",
    "    # of mappers\n",
    "    def __init__(self, *args, **kwargs):\n",
    "        \n",
    "        super(MrGMixEmInit, self).__init__(*args, **kwargs)\n",
    "        \n",
    "        self.numMappers = 1\n",
    "        self.count = 0\n",
    "        \n",
    "                                                 \n",
    "    # configure the options like the number of\n",
    "    # of clusters we're attempting to calculate\n",
    "    def configure_options(self):\n",
    "        \n",
    "        super(MrGMixEmInit, self).configure_options()\n",
    "        \n",
    "        # grab the number of the clusters passed in\n",
    "        # as an argument\n",
    "        self.add_passthrough_option(\n",
    "            '--k', dest='k', default=3, type='int',\n",
    "            help='k: number of densities in mixture')\n",
    "        \n",
    "        # grab the path where we'll be storing \n",
    "        # intermediate results\n",
    "        self.add_passthrough_option(\n",
    "            '--pathName', dest='pathName', default=\"\", type='str',\n",
    "            help='pathName: pathname where intermediateResults.txt is stored')\n",
    "        \n",
    "    \n",
    "    # simple mapper that grabs the first\n",
    "    # 2,000 points\n",
    "    def mapper(self, key, xjIn):\n",
    "\n",
    "        # if we have to reach 2,000 points\n",
    "        # for each cluster\n",
    "        if self.count <= 2*self.options.k:\n",
    "            \n",
    "            # increment the count by 1 \n",
    "            # and yield 1 for the key\n",
    "            # and the point \n",
    "            self.count += 1\n",
    "            yield (1,xjIn)        \n",
    "      \n",
    "    \n",
    "    # we yielded 1 for the key for every\n",
    "    # line outputted by the mapper, this \n",
    "    # leads to a single reducer; our \n",
    "    # reducer \n",
    "    def reducer(self, key, xjIn):        \n",
    "        \n",
    "        # initalize an empty list of potential\n",
    "        # centroids\n",
    "        cent = []\n",
    "        \n",
    "        # for each point that we outputted\n",
    "        # from the mapper\n",
    "        for xj in xjIn:\n",
    "            \n",
    "            # load the point in because\n",
    "            # it was transferred using\n",
    "            # json protoccol\n",
    "            x = json.loads(xj)\n",
    "            \n",
    "            # add the point to the list\n",
    "            # of potential centroids\n",
    "            cent.append(x)\n",
    "            \n",
    "            # yield the key of 1, and \n",
    "            # the point\n",
    "            yield 1, xj\n",
    "            \n",
    "        # grab k-sample indexes\n",
    "        index = sample(range(len(cent)), self.options.k)\n",
    "        \n",
    "        # initalize a second array to hold \n",
    "        # the actual center points\n",
    "        cent2 = []\n",
    "        \n",
    "        # add the points we got from the sample\n",
    "        # index to our second list\n",
    "        for i in index:\n",
    "            cent2.append(cent[i])\n",
    "        \n",
    "        \n",
    "            \n",
    "        # use the covariance of the selected centers as \n",
    "        # the starting guess for covariances\n",
    "        # first, calculate mean of centers\n",
    "        \n",
    "        # grab the mean of the first centroid\n",
    "        mean = array(cent2[0])\n",
    "        \n",
    "        # loop through k centroids, skipping\n",
    "        # the first centroid\n",
    "        for i in range(1,self.options.k):\n",
    "            \n",
    "            # add the mean of this next\n",
    "            # centroid to the mean\n",
    "            mean = mean + array(cent2[i])\n",
    "        \n",
    "        # calculate the mean of the centroids\n",
    "        # by dividing the new total mean by\n",
    "        # the number of clusters\n",
    "        mean = mean/float(self.options.k)\n",
    "        \n",
    "       \n",
    "        \n",
    "        # gather the covariances\n",
    "        \n",
    "        # create a covariance array, initalize it\n",
    "        # to zeroes, create it as a 2d array\n",
    "        cov = zeros((len(mean),len(mean)),dtype=float)\n",
    "        \n",
    "        # loop through each of the centroids\n",
    "        for x in cent2:\n",
    "            \n",
    "            # calculate the difference between\n",
    "            # part of the point and the mean\n",
    "            xmm = array(x) - mean\n",
    "            \n",
    "            # loop through each value in the \n",
    "            # mean\n",
    "            for i in range(len(mean)):\n",
    "                \n",
    "                # set the covariance as the existing\n",
    "                # covariance plus the the new \n",
    "                # difference to the mean squared\n",
    "                cov[i,i] = cov[i,i] + xmm[i]*xmm[i]\n",
    "                \n",
    "        # set the covariance as the covariance sum of \n",
    "        # differences to the mean divided by the number\n",
    "        # of clustsers\n",
    "        cov = cov/(float(self.options.k))\n",
    "        \n",
    "        # inverse the covariance matrix\n",
    "        covInv = linalg.inv(cov)\n",
    "        \n",
    "        # send the inverse covariance matrix to a \n",
    "        # list and multiply it by the number\n",
    "        # of clusters\n",
    "        cov_1 = [covInv.tolist()]*self.options.k\n",
    "        \n",
    "        # write all of this to a debug text file\n",
    "        # so that the user go back in and see \n",
    "        # what's up\n",
    "        jDebug = json.dumps([cent2,mean.tolist(),cov.tolist(),covInv.tolist(),cov_1])    \n",
    "        debugPath = self.options.pathName + 'debug.txt'\n",
    "        fileOut = open(debugPath,'w')\n",
    "        fileOut.write(jDebug)\n",
    "        fileOut.close()\n",
    "        \n",
    "        # we also need a starting guess at \n",
    "        # the phi's - prior probabilities. we \n",
    "        # initialize them all with the same number \n",
    "        # - 1/k - equally probably for each cluster\n",
    "        \n",
    "        # create an array of zeroes for the k clusters\n",
    "        phi = zeros(self.options.k,dtype=float)\n",
    "        \n",
    "        # loop through each cluster\n",
    "        for i in range(self.options.k):\n",
    "            \n",
    "            # set the phi value equal to 1 divided\n",
    "            # by the number of clusters\n",
    "            phi[i] = 1.0/float(self.options.k)\n",
    "        \n",
    "        # form output object by converting the\n",
    "        # probabilities to a list\n",
    "        outputList = [phi.tolist(), cent2, cov_1]\n",
    "        \n",
    "        # dump the output list\n",
    "        jsonOut  = json.dumps(outputList)\n",
    "        \n",
    "        # write the parameters we've initalized\n",
    "        # to a file\n",
    "        fullPath = self.options.pathName + 'intermediateResults.txt'\n",
    "        fileOut = open(fullPath,'w')\n",
    "        fileOut.write(jsonOut)\n",
    "        fileOut.close()\n",
    "\n",
    "if __name__ == '__main__':\n",
    "    MrGMixEmInit.run()"
   ]
  },
  {
   "cell_type": "markdown",
   "metadata": {},
   "source": [
    "### Iteration\n",
    "- **Mapper:** each mapper needs k vector means and covariance matrices to make probability calculations.  Can also accumulate partial sum (sum restricted to the mapper's input) of quantities required for update.  Then it emits partial sum as single output from combiner.\n",
    "    - Emit (dummy_key, partial_sum_for_all_k's)\n",
    "- **Reducer:** the iterator pulls in the partial sum for all k's from all the mappers and combines in a single reducer.  In this case the reducer emits a single (json'd python object) with the new means and covariances."
   ]
  },
  {
   "cell_type": "code",
   "execution_count": 80,
   "metadata": {
    "collapsed": false
   },
   "outputs": [
    {
     "name": "stdout",
     "output_type": "stream",
     "text": [
      "Overwriting mr_GMixEmIterate.py\n"
     ]
    }
   ],
   "source": [
    "%%writefile mr_GMixEmIterate.py\n",
    "\n",
    "# import the MRJob class\n",
    "from mrjob.job import MRJob\n",
    "\n",
    "# import libraries to help us\n",
    "# manipulate and deal with the data\n",
    "from math import sqrt, exp, pow, pi\n",
    "from numpy import zeros, shape, random, array, zeros_like, dot, linalg\n",
    "import json\n",
    "\n",
    "# define our Gaussian distribution\n",
    "def gauss(x, mu, P_1):\n",
    "    xtemp = x - mu\n",
    "    n = len(x)\n",
    "    p = exp(- 0.5*dot(xtemp,dot(P_1,xtemp)))\n",
    "    detP = 1/linalg.det(P_1)\n",
    "    p = p/(pow(2.0*pi,n/2.0)*sqrt(detP))\n",
    "    return p\n",
    "\n",
    "# define our MRJob class\n",
    "class MrGMixEm(MRJob):\n",
    "    DEFAULT_PROTOCOL = 'json'\n",
    "    \n",
    "    # initalize the class and set the options\n",
    "    # like the number of mappers\n",
    "    def __init__(self, *args, **kwargs):\n",
    "        super(MrGMixEm, self).__init__(*args, **kwargs)\n",
    "        \n",
    "        # set the path where we'll read our\n",
    "        # intermediate results and open the file\n",
    "        fullPath = self.options.pathName + 'intermediateResults.txt'\n",
    "        fileIn = open(fullPath)\n",
    "        \n",
    "        # import the file as a json file,\n",
    "        # and then go ahead and close it\n",
    "        inputJson = fileIn.read()\n",
    "        fileIn.close()\n",
    "        \n",
    "        # convert the information we just \n",
    "        # read in into a json format\n",
    "        inputList = json.loads(inputJson)\n",
    "        \n",
    "        # set the class probabilities\n",
    "        temp = inputList[0] \n",
    "        self.phi = array(temp)\n",
    "        \n",
    "        # set the means \n",
    "        temp = inputList[1]\n",
    "        self.means = array(temp)\n",
    "        \n",
    "        # set the covariance matrices\n",
    "        temp = inputList[2]\n",
    "        self.cov_1 = array(temp)\n",
    "        \n",
    "        # initiliaze numpy arrays to hold\n",
    "        # the probabilities, means, and covariances\n",
    "        self.new_phi = zeros_like(self.phi)\n",
    "        self.new_means = zeros_like(self.means)\n",
    "        self.new_cov = zeros_like(self.cov_1)\n",
    "        \n",
    "        # set number of mappers\n",
    "        self.numMappers = 1\n",
    "        \n",
    "        # count variable availabe to each\n",
    "        # mapper and reducers\n",
    "        self.count = 0\n",
    "        \n",
    "    \n",
    "    # configure the options for the job by reading in\n",
    "    # the arguments passed into the program\n",
    "    def configure_options(self):\n",
    "        super(MrGMixEm, self).configure_options()\n",
    "\n",
    "        # set the number of centroids\n",
    "        self.add_passthrough_option(\n",
    "            '--k', dest='k', default=3, type='int',\n",
    "            help='k: number of densities in mixture')\n",
    "        \n",
    "        # set the path to store intermediate results\n",
    "        self.add_passthrough_option(\n",
    "            '--pathName', dest='pathName', default=\"\", type='str',\n",
    "            help='pathName: pathname where intermediateResults.txt is stored')\n",
    "    \n",
    "    \n",
    "    # accumulates the partial sums and stores them\n",
    "    # for the mapper final to output\n",
    "    def mapper(self, key, val):\n",
    "        \n",
    "        # remember that in the initalization step\n",
    "        # we yielded 1 as the key from the reducer\n",
    "        # this means that all our values are read\n",
    "        # into our mapper here\n",
    "        \n",
    "        # load in all the values and convert it\n",
    "        # from a json to alist\n",
    "        xList = json.loads(val)\n",
    "        x = array(xList)\n",
    "        \n",
    "        # initalize a zeroes arrays for holding\n",
    "        # the probabilities\n",
    "        wtVect = zeros_like(self.phi)\n",
    "        \n",
    "        # loop through eah of the centroids \n",
    "        # possibilities\n",
    "        for i in range(self.options.k):\n",
    "            \n",
    "            # set the probability as the existing \n",
    "            # probabilities multiplied by the \n",
    "            # gaussian distribution with the means\n",
    "            # covariance from when this job was\n",
    "            # initalized\n",
    "            wtVect[i] = self.phi[i] * \\\n",
    "            gauss(x, self.means[i], self.cov_1[i])\n",
    "            \n",
    "        # calculate sum of the probabilities and\n",
    "        # normalize the probabilities\n",
    "        wtSum = sum(wtVect)\n",
    "        wtVect = wtVect/wtSum\n",
    "        \n",
    "        # accumulate to update the estimate of \n",
    "        # probability densities\n",
    "        \n",
    "        # increment count\n",
    "        self.count += 1\n",
    "        \n",
    "        # set the new probabilities as the existing\n",
    "        # new probabilities summed with the new \n",
    "        # weighted vector probabilities we just\n",
    "        # calculated\n",
    "        self.new_phi = self.new_phi + wtVect\n",
    "        \n",
    "        # loop through each of the centroids\n",
    "        for i in range(self.options.k):\n",
    "            \n",
    "            # accumulate weighted x's for \n",
    "            # calculating the mean \n",
    "            self.new_means[i] = \\\n",
    "            self.new_means[i] + wtVect[i]*x\n",
    "            \n",
    "            #accumulate weighted squares for \n",
    "            # estimating the covariance\n",
    "            xmm = x - self.means[i]\n",
    "            covInc = zeros_like(self.new_cov[i])\n",
    "            \n",
    "            # loop through each of the differences\n",
    "            # from the mean\n",
    "            for l in range(len(xmm)):\n",
    "                \n",
    "                # loop through each of the differences\n",
    "                # from the mean \n",
    "                for m in range(len(xmm)):\n",
    "                    \n",
    "                    # set the covariance matrix as the \n",
    "                    # matrix multiplication\n",
    "                    covInc[l][m] = xmm[l]*xmm[m]\n",
    "            \n",
    "            # set the new covariance values \n",
    "            self.new_cov[i] = self.new_cov[i] + \\\n",
    "            wtVect[i]*covInc     \n",
    "        \n",
    "        # this mapper doesn't actually yield anything\n",
    "        # we wait for the mapper final to \n",
    "        # actually yield information\n",
    "\n",
    "        \n",
    "    # our mapper final method outputs the count\n",
    "    # and probabilities, means, and covariances\n",
    "    def mapper_final(self):\n",
    "        \n",
    "        # describe the output and convert it to\n",
    "        # a json format\n",
    "        out = [self.count, (self.new_phi).tolist(), \\\n",
    "               (self.new_means).tolist(), \\\n",
    "               (self.new_cov).tolist()]\n",
    "        jOut = json.dumps(out)        \n",
    "        \n",
    "        # yield the key,1, and the output\n",
    "        # we just converted to a json\n",
    "        yield 1,jOut\n",
    "    \n",
    "    \n",
    "    # our reducer accumulates the partial sums\n",
    "    # and outputs the new centroids\n",
    "    def reducer(self, key, xs):\n",
    "        \n",
    "        # remember that our mapper final outputted\n",
    "        # one thing, 1,jOut. we call in the entire\n",
    "        # dataset into our reducer\n",
    "        \n",
    "        # set a dummy variable, first, to true\n",
    "        first = True        \n",
    "        \n",
    "        # accumulate partial sums\n",
    "        # xs us a list of paritial stats, including count, \n",
    "        # phi, mean, and covariance; each stats is \n",
    "        # k-length array, storing info for k components\n",
    "        \n",
    "        # for each of the partial stats outputted\n",
    "        # by the mapper final\n",
    "        for val in xs:\n",
    "            \n",
    "            # as long as first is true\n",
    "            if first:\n",
    "                \n",
    "                # load in the values as a json\n",
    "                temp = json.loads(val)\n",
    "                \n",
    "                # initalize a set of arrays that\n",
    "                # hold the values from this\n",
    "                # first json\n",
    "                totCount = temp[0]\n",
    "                totPhi = array(temp[1])\n",
    "                totMeans = array(temp[2])\n",
    "                totCov = array(temp[3])                \n",
    "                \n",
    "                # set the first to positive once\n",
    "                # we've worked through our first\n",
    "                # record\n",
    "                first = False\n",
    "            \n",
    "            else:\n",
    "                \n",
    "                # load in the values a sjon\n",
    "                temp = json.loads(val)\n",
    "                \n",
    "                # sum through each of statistics\n",
    "                # performing a cumulative sum\n",
    "                totCount = totCount + temp[0]\n",
    "                totPhi = totPhi + array(temp[1])\n",
    "                totMeans = totMeans + array(temp[2])\n",
    "                totCov = totCov + array(temp[3])\n",
    "        \n",
    "        # finish calculation of new probability parameters\n",
    "        # by dividing the probabilities by the total counts\n",
    "        newPhi = totPhi/totCount\n",
    "        \n",
    "        # initalize arrays to hold the new means and \n",
    "        # covariances; here we just initalize to get\n",
    "        # the right sizes\n",
    "        newMeans = totMeans\n",
    "        newCov_1 = totCov\n",
    "        \n",
    "        # loop through each centroid\n",
    "        for i in range(self.options.k):\n",
    "            \n",
    "            # set the new mean and covariance as \n",
    "            # the total mean and covariance\n",
    "            # divided by the total probability\n",
    "            newMeans[i,:] = totMeans[i,:]/totPhi[i]\n",
    "            tempCov = totCov[i,:,:]/totPhi[i]\n",
    "            \n",
    "            # invert the covariance matrix \n",
    "            newCov_1[i,:,:] = linalg.inv(tempCov)\n",
    "        \n",
    "        # generate the output list based on the \n",
    "        # new statistics we calculated\n",
    "        outputList = [newPhi.tolist(), \\\n",
    "                      newMeans.tolist(), \\\n",
    "                      newCov_1.tolist()]\n",
    "        \n",
    "        # convert the output to a json\n",
    "        jsonOut = json.dumps(outputList)\n",
    "        \n",
    "        # write the new parameters to file\n",
    "        fullPath = self.options.pathName + 'intermediateResults.txt'\n",
    "        fileOut = open(fullPath,'w')\n",
    "        fileOut.write(jsonOut)\n",
    "        fileOut.close()\n",
    "\n",
    "if __name__ == '__main__':\n",
    "    MrGMixEm.run()"
   ]
  },
  {
   "cell_type": "markdown",
   "metadata": {},
   "source": [
    "### Driver"
   ]
  },
  {
   "cell_type": "code",
   "execution_count": 81,
   "metadata": {
    "collapsed": false
   },
   "outputs": [
    {
     "ename": "IOError",
     "evalue": "[Errno 2] No such file or directory: 'intermediateResults.txt'",
     "output_type": "error",
     "traceback": [
      "\u001b[0;31m---------------------------------------------------------------------------\u001b[0m",
      "\u001b[0;31mIOError\u001b[0m                                   Traceback (most recent call last)",
      "\u001b[0;32m<ipython-input-81-e9a3e90bfd4d>\u001b[0m in \u001b[0;36m<module>\u001b[0;34m()\u001b[0m\n\u001b[1;32m     53\u001b[0m \u001b[0;31m# values after one iteration\u001b[0m\u001b[0;34m\u001b[0m\u001b[0;34m\u001b[0m\u001b[0m\n\u001b[1;32m     54\u001b[0m \u001b[0memPath\u001b[0m \u001b[0;34m=\u001b[0m \u001b[0;34m\"intermediateResults.txt\"\u001b[0m\u001b[0;34m\u001b[0m\u001b[0m\n\u001b[0;32m---> 55\u001b[0;31m \u001b[0mfileIn\u001b[0m \u001b[0;34m=\u001b[0m \u001b[0mopen\u001b[0m\u001b[0;34m(\u001b[0m\u001b[0memPath\u001b[0m\u001b[0;34m)\u001b[0m\u001b[0;34m\u001b[0m\u001b[0m\n\u001b[0m\u001b[1;32m     56\u001b[0m \u001b[0mparamJson\u001b[0m \u001b[0;34m=\u001b[0m \u001b[0mfileIn\u001b[0m\u001b[0;34m.\u001b[0m\u001b[0mread\u001b[0m\u001b[0;34m(\u001b[0m\u001b[0;34m)\u001b[0m\u001b[0;34m\u001b[0m\u001b[0m\n\u001b[1;32m     57\u001b[0m \u001b[0mfileIn\u001b[0m\u001b[0;34m.\u001b[0m\u001b[0mclose\u001b[0m\u001b[0;34m(\u001b[0m\u001b[0;34m)\u001b[0m\u001b[0;34m\u001b[0m\u001b[0m\n",
      "\u001b[0;31mIOError\u001b[0m: [Errno 2] No such file or directory: 'intermediateResults.txt'"
     ]
    }
   ],
   "source": [
    "# import the MRJob classes that we just\n",
    "# wrote\n",
    "from mr_GMixEmInitialize import MrGMixEmInit\n",
    "from mr_GMixEmIterate import MrGMixEm\n",
    "\n",
    "# import libraries to help us deal with\n",
    "# and manipulate our data\n",
    "import json\n",
    "from math import sqrt\n",
    "\n",
    "# function to plot the samples we've \n",
    "# previously generated \n",
    "def plot_iteration(means):\n",
    "    pylab.plot(samples1[:, 0], samples1[:, 1], '.', color = 'blue')\n",
    "    pylab.plot(samples2[:, 0], samples2[:, 1], '.', color = 'blue')\n",
    "    pylab.plot(samples3[:, 0], samples3[:, 1],'.', color = 'blue')\n",
    "    pylab.plot(means[0][0], means[0][1],'*',markersize =10,color = 'red')\n",
    "    pylab.plot(means[1][0], means[1][1],'*',markersize =10,color = 'red')\n",
    "    pylab.plot(means[2][0], means[2][1],'*',markersize =10,color = 'red')\n",
    "    pylab.show()\n",
    "\n",
    "# function to calculate the euclidean\n",
    "# distance between the two lists\n",
    "def dist(x,y):\n",
    "   \n",
    "    # initalize a sum value at 0\n",
    "    sum = 0.0\n",
    "    \n",
    "    # loop through each element in\n",
    "    # the lists\n",
    "    for i in range(len(x)):\n",
    "        \n",
    "        # calculate the difference\n",
    "        # between lists\n",
    "        temp = x[i] - y[i]\n",
    "        \n",
    "        # add this difference\n",
    "        # to the sum, cumulatively\n",
    "        sum += temp * temp\n",
    "    \n",
    "    # return the square root of the\n",
    "    # sum\n",
    "    return sqrt(sum)\n",
    "\n",
    "# run our data initalizer to get some \n",
    "# starting centroids\n",
    "filePath = 'data6_6.txt'\n",
    "mrJob = MrGMixEmInit(args=[filePath])\n",
    "with mrJob.make_runner() as runner:\n",
    "    runner.run()\n",
    "\n",
    "# pull out the centroid values to compare with \n",
    "# values after one iteration\n",
    "emPath = \"intermediateResults.txt\"\n",
    "fileIn = open(emPath)\n",
    "paramJson = fileIn.read()\n",
    "fileIn.close()\n",
    "\n",
    "# set the delta and the number of iterations\n",
    "# we are currently on\n",
    "delta = 10\n",
    "iter_num = 0\n",
    "\n",
    "# begin iteration on change in centroids\n",
    "# continue it while the delta, difference\n",
    "# between the lists of centroids\n",
    "# is greater than 0.02\n",
    "while delta > 0.02:\n",
    "    \n",
    "    # print the iteration number we're on\n",
    "    # and increment the interation counter\n",
    "    print \"Iteration\" + str(iter_num)\n",
    "    iter_num = iter_num + 1\n",
    "    \n",
    "    # parse old centroid values\n",
    "    oldParam = json.loads(paramJson)\n",
    "    oldMeans = oldParam[1]\n",
    "    \n",
    "    # load in our iteration class\n",
    "    # and run it\n",
    "    mrJob2 = MrGMixEm(args=[filePath])\n",
    "    with mrJob2.make_runner() as runner:\n",
    "        runner.run()\n",
    "\n",
    "    # load in the new centroids from\n",
    "    # the file outputted the job\n",
    "    fileIn = open(emPath)\n",
    "    paramJson = fileIn.read()\n",
    "    fileIn.close()\n",
    "    newParam = json.loads(paramJson)\n",
    "\n",
    "    # grab the number of centroids\n",
    "    # and the new means\n",
    "    k_means = len(newParam[1])\n",
    "    newMeans = newParam[1]\n",
    "\n",
    "    # initalize the difference\n",
    "    # to zero\n",
    "    delta = 0.0\n",
    "    \n",
    "    # loop through each value, \n",
    "    # comparing it to the previous\n",
    "    # centroids and adding the difference\n",
    "    # to the delta\n",
    "    for i in range(k_means):\n",
    "        delta += dist(newMeans[i],oldMeans[i])\n",
    "\n",
    "    # print the previous means\n",
    "    print oldMeans\n",
    "    \n",
    "    # plot th eold mean \n",
    "    plot_iteration(oldMeans)\n",
    "\n",
    "# print the last iteration once we're done\n",
    "# with the new means and a plot with the \n",
    "# centroids\n",
    "print \"Iteration\" + str(iter_num)\n",
    "print newMeans\n",
    "plot_iteration(newMeans)"
   ]
  }
 ],
 "metadata": {
  "kernelspec": {
   "display_name": "Python 2",
   "language": "python",
   "name": "python2"
  },
  "language_info": {
   "codemirror_mode": {
    "name": "ipython",
    "version": 2
   },
   "file_extension": ".py",
   "mimetype": "text/x-python",
   "name": "python",
   "nbconvert_exporter": "python",
   "pygments_lexer": "ipython2",
   "version": "2.7.12"
  }
 },
 "nbformat": 4,
 "nbformat_minor": 0
}
