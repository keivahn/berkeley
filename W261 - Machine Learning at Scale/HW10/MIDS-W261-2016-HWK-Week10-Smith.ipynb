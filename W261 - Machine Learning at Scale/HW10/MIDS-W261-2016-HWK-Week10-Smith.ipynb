{
 "cells": [
  {
   "cell_type": "code",
   "execution_count": 51,
   "metadata": {
    "collapsed": false
   },
   "outputs": [
    {
     "data": {
      "application/javascript": [
       "/**********************************************************************************************\n",
       "Known Mathjax Issue with Chrome - a rounding issue adds a border to the right of mathjax markup\n",
       "https://github.com/mathjax/MathJax/issues/1300\n",
       "A quick hack to fix this based on stackoverflow discussions: \n",
       "http://stackoverflow.com/questions/34277967/chrome-rendering-mathjax-equations-with-a-trailing-vertical-line\n",
       "**********************************************************************************************/\n",
       "\n",
       "$('.math>span').css(\"border-left-color\",\"transparent\")"
      ],
      "text/plain": [
       "<IPython.core.display.Javascript object>"
      ]
     },
     "metadata": {},
     "output_type": "display_data"
    }
   ],
   "source": [
    "%%javascript\n",
    "/**********************************************************************************************\n",
    "Known Mathjax Issue with Chrome - a rounding issue adds a border to the right of mathjax markup\n",
    "https://github.com/mathjax/MathJax/issues/1300\n",
    "A quick hack to fix this based on stackoverflow discussions: \n",
    "http://stackoverflow.com/questions/34277967/chrome-rendering-mathjax-equations-with-a-trailing-vertical-line\n",
    "**********************************************************************************************/\n",
    "\n",
    "$('.math>span').css(\"border-left-color\",\"transparent\")"
   ]
  },
  {
   "cell_type": "code",
   "execution_count": 52,
   "metadata": {
    "collapsed": true
   },
   "outputs": [],
   "source": [
    "%reload_ext autoreload\n",
    "%autoreload 2"
   ]
  },
  {
   "cell_type": "markdown",
   "metadata": {},
   "source": [
    "# MIDS - w261 Machine Learning At Scale\n",
    "__Course Lead:__ Dr James G. Shanahan (__email__ Jimi via  James.Shanahan _AT_ gmail.com)\n",
    "\n",
    "## Assignment - HW10\n",
    "\n",
    "\n",
    "---\n",
    "__Name:__  Alex Smith  \n",
    "__Class:__ MIDS W261 (Summer 2016 Group 2)     \n",
    "__Email:__ aksmith@iSchool.Berkeley.edu     \n",
    "__Week:__  10"
   ]
  },
  {
   "cell_type": "markdown",
   "metadata": {},
   "source": [
    "***\n",
    "# Table of Contents <a name=\"TOC\"></a> \n",
    "\n",
    "1.  [HW Introduction](#1)   \n",
    "2.  [HW References](#2)\n",
    "3.  [HW Problems](#3)   \n",
    "    10.0.  [Short Answer Questions](#HW10.0)    \n",
    "    10.1.  [Word Count plus sorting](#HW10.1)   \n",
    "    10.2.  [MLlib-centric Kmeans](#HW10.2)    \n",
    "    10.3.  [Homegrown KMeans in Spark](#HW10.3)    \n",
    "    10.4.  [Making Homegrown KMeans more efficient](#HW10.4)  \n",
    "    10.5.  [OPTIONAL Weighted KMeans](#HW10.5)  \n",
    "    10.6.  [OPTIONAL Linear Regression](#HW10.6)  \n",
    "    10.7.  [OPTIONAL Error surfaces](#HW10.7)"
   ]
  },
  {
   "cell_type": "markdown",
   "metadata": {},
   "source": [
    "\n",
    "<a name=\"1\">\n",
    "# 1 Instructions\n",
    "[Back to Table of Contents](#TOC)\n",
    "* Homework submissions are due by Tueday, 07/28/2016 at 11AM (West Coast Time).\n",
    "\n",
    "\n",
    "* Prepare a single Jupyter notebook, please include questions, and question numbers in the questions and in the responses.\n",
    "Submit your homework notebook via the following form:\n",
    "\n",
    "   + [Submission Link - Google Form](\n",
    "https://docs.google.com/forms/d/1ZOr9RnIe_A06AcZDB6K1mJN4vrLeSmS2PD6Xm3eOiis/viewform?usp=send_form \n",
    ")\n",
    "\n",
    "\n",
    "### Documents:\n",
    "* IPython Notebook, published and viewable online.\n",
    "* PDF export of IPython Notebook.\n",
    "    \n",
    "<a name=\"2\">\n",
    "# 2 Useful References\n",
    "[Back to Table of Contents](#TOC)\n",
    "\n",
    "* Karau, Holden, Konwinski, Andy, Wendell, Patrick, & Zaharia, Matei. (2015). Learning Spark: Lightning-fast big data analysis. Sebastopol, CA: O’Reilly Publishers.\n",
    "* Hastie, Trevor, Tibshirani, Robert, & Friedman, Jerome. (2009). The elements of statistical learning: Data mining, inference, and prediction (2nd ed.). Stanford, CA: Springer Science+Business Media. (Download for free [here](http://statweb.stanford.edu/~tibs/ElemStatLearn/printings/ESLII_print10.pdf))"
   ]
  },
  {
   "cell_type": "markdown",
   "metadata": {},
   "source": [
    "<a name=\"3\">\n",
    "# 3 HW Problems\n",
    "[Back to Table of Contents](#TOC)"
   ]
  },
  {
   "cell_type": "code",
   "execution_count": 3,
   "metadata": {
    "collapsed": false
   },
   "outputs": [
    {
     "name": "stdout",
     "output_type": "stream",
     "text": [
      "<pyspark.context.SparkContext object at 0x7f6aeb462890>\n",
      "<pyspark.sql.context.SQLContext object at 0x7f6aeb462a90>\n"
     ]
    }
   ],
   "source": [
    "import os\n",
    "import sys\n",
    "\n",
    "import pyspark\n",
    "from pyspark.sql import SQLContext\n",
    "\n",
    "# We can give a name to our app (to find it in Spark WebUI) and configure execution mode\n",
    "# In this case, it is local multicore execution with \"local[*]\"\n",
    "app_name = \"example-logs\"\n",
    "master = \"local[*]\"\n",
    "conf = pyspark.SparkConf().setAppName(app_name).setMaster(master)\n",
    "sc = pyspark.SparkContext(conf=conf)\n",
    "sqlContext = SQLContext(sc)\n",
    "\n",
    "\n",
    "print sc\n",
    "print sqlContext"
   ]
  },
  {
   "cell_type": "code",
   "execution_count": 2,
   "metadata": {
    "collapsed": false
   },
   "outputs": [],
   "source": [
    "# sto shutdown an existing Spark cluster\n",
    "sc.stop()"
   ]
  },
  {
   "cell_type": "markdown",
   "metadata": {},
   "source": [
    "***\n",
    "<a name=\"HW10.0\"></a><h2 style=\"color:darkblue\"> HW10.0: Short answer questions </h2>\n",
    "[Back to Table of Contents](#TOC)\n",
    "\n",
    "\n",
    "__What is Apache Spark and how is it different to Apache Hadoop? __\n",
    "\n",
    "Apache Spark and Apache Hadoop are actually quite similar. They both can perform a lot of the same tasks. Apache Spark does not have its own filesystem (it can use Hadoop's file system). Spark is also lazily evaluated. This means that the program does not start working until it must (transformations wait to be executed until an action is called). Probably the biggest difference is that Spark processes the data in memory and keeps it there. Hadoop sends the memory back to disk after analyzing it. This means that you want your Spark cluster to have a large amount of memory, enough to hold your big data.\n",
    "*[Useful reference](https://www.xplenty.com/blog/2014/11/apache-spark-vs-hadoop-mapreduce/)*\n",
    "<hr>\n",
    "\n",
    "__Fill in the blanks:\n",
    "Spark API consists of interfaces to develop applications based on it in Java, __ <span style=\"color:orange\">Python, and Scala</span>__ languages (list languages). __\n",
    "\n",
    "<hr>\n",
    "\n",
    "__Using Spark, resource management can be done either in a single server instance or using a framework such as Mesos or <span style=\"color:orange\">YARN</span> in a distributed manner. __\n",
    "\n",
    "<hr>\n",
    "\n",
    "__What is an RDD and show a fun example of creating one and bringing the first element back to the driver program. __\n",
    "\n",
    "An RDD is a **R**esilient **D**istributed **D**ataset. In Spark, all work is expressed in terms of RDDs. Spark automatically distributes the data from the RDDs across your cluster and performs the analysis on them. (*Source: Async 10.5*)\n"
   ]
  },
  {
   "cell_type": "code",
   "execution_count": 5,
   "metadata": {
    "collapsed": false,
    "scrolled": true
   },
   "outputs": [
    {
     "name": "stdout",
     "output_type": "stream",
     "text": [
      " The first item of the RDD is Hi there, person 0\n"
     ]
    }
   ],
   "source": [
    "# create an RDD that is a simple list\n",
    "rdd_ex = sc.parallelize(range(10))\n",
    "print \"The first item of the RDD is\",rdd_ex.map(lambda x:  \"Hi there, person \"+str(x)).first()"
   ]
  },
  {
   "cell_type": "markdown",
   "metadata": {},
   "source": [
    "***\n",
    "<a name=\"HW10.1\"> <h2 style=\"color:darkgreen\">HW10.1 WordCount plus sorting </h2>\n",
    "[Back to Table of Contents](#TOC)\n",
    "\n",
    "The following notebooks will be useful to jumpstart this collection of Homework exercises:\n",
    "\n",
    "\n",
    "* [Example Notebook with Debugging tactics in Spark](http://nbviewer.jupyter.org/urls/dl.dropbox.com/s/jqjllp8kmf1eolk/WordCountDebugging-Example.ipynb)\n",
    "* [Word Count Quiz](http://nbviewer.jupyter.org/urls/dl.dropbox.com/s/vgmpivsi4rvqz0s/WordCountQuiz.ipynb)\n",
    "* [Work Count Solution](http://nbviewer.jupyter.org/urls/dl.dropbox.com/s/dxv3dmp1vluuo8i/WordCountQuiz-Solution.ipynb)\n",
    "\n",
    "---\n",
    "In Spark write the code to count how often each word appears in a text document (or set of documents). Please use this homework document (with no solutions in it) as a the example document to run an experiment.  Report the following: \n",
    "* provide a sorted list of tokens in decreasing order of frequency of occurence limited to [top 20 most frequent only] and [bottom 10 least frequent]. \n",
    "\n",
    "\n",
    "__OPTIONAL__ \n",
    "Feel free to do a secondary sort where words with the same frequncy are sorted alphanumerically increasing. Plseas refer to the [following notebook](http://nbviewer.jupyter.org/urls/dl.dropbox.com/s/uu5afr3ufpm9fy8/SecondarySort.ipynb)\n",
    " for examples of secondary sorts in Spark. Please provide the following [top 20 most frequent terms only] and [bottom 10 least frequent terms]\n",
    "\n",
    "__NOTE__ [Please incorporate all referenced notebooks directly into this master notebook as cells for HW submission. I.e., HW submissions should comprise of just one notebook]__"
   ]
  },
  {
   "cell_type": "markdown",
   "metadata": {},
   "source": [
    "### Create the file for which we'll complete the word count\n",
    "We use an excerpt from [Hans Christrian Anderson's fairytales](http://www.gutenberg.org/cache/epub/1597/pg1597.txt). We do this to meet the requirement that HW submission should comprise just one notebook. We don't want to do the count on this notebook because this notebook will be changing as we complete each question. "
   ]
  },
  {
   "cell_type": "code",
   "execution_count": 7,
   "metadata": {
    "collapsed": false
   },
   "outputs": [
    {
     "name": "stdout",
     "output_type": "stream",
     "text": [
      "Overwriting anderson_sample.txt\n"
     ]
    }
   ],
   "source": [
    "%%writefile anderson_sample.txt\n",
    "\n",
    "\"\"\"\n",
    "THE EMPEROR'S NEW CLOTHES\n",
    "Many years ago, there was an Emperor, who was so excessively fond of\n",
    "new clothes, that he spent all his money in dress. He did not trouble\n",
    "himself in the least about his soldiers; nor did he care to go either to\n",
    "the theatre or the chase, except for the opportunities then afforded him\n",
    "for displaying his new clothes. He had a different suit for each hour of\n",
    "the day; and as of any other king or emperor, one is accustomed to say,\n",
    "\"he is sitting in council,\" it was always said of him, \"The Emperor is\n",
    "sitting in his wardrobe.\"\n",
    "\n",
    "Time passed merrily in the large town which was his capital; strangers\n",
    "arrived every day at the court. One day, two rogues, calling themselves\n",
    "weavers, made their appearance. They gave out that they knew how to\n",
    "weave stuffs of the most beautiful colors and elaborate patterns, the\n",
    "clothes manufactured from which should have the wonderful property of\n",
    "remaining invisible to everyone who was unfit for the office he held, or\n",
    "who was extraordinarily simple in character.\n",
    "\n",
    "\"These must, indeed, be splendid clothes!\" thought the Emperor. \"Had I\n",
    "such a suit, I might at once find out what men in my realms are unfit\n",
    "for their office, and also be able to distinguish the wise from the\n",
    "foolish! This stuff must be woven for me immediately.\" And he caused\n",
    "large sums of money to be given to both the weavers in order that they\n",
    "might begin their work directly.\n",
    "\n",
    "So the two pretended weavers set up two looms, and affected to work very\n",
    "busily, though in reality they did nothing at all. They asked for the\n",
    "most delicate silk and the purest gold thread; put both into their own\n",
    "knapsacks; and then continued their pretended work at the empty looms\n",
    "until late at night.\n",
    "\n",
    "\"I should like to know how the weavers are getting on with my cloth,\"\n",
    "said the Emperor to himself, after some little time had elapsed; he was,\n",
    "however, rather embarrassed, when he remembered that a simpleton, or\n",
    "one unfit for his office, would be unable to see the manufacture. To be\n",
    "sure, he thought he had nothing to risk in his own person; but yet, he\n",
    "would prefer sending somebody else, to bring him intelligence about the\n",
    "weavers, and their work, before he troubled himself in the affair. All\n",
    "the people throughout the city had heard of the wonderful property the\n",
    "cloth was to possess; and all were anxious to learn how wise, or how\n",
    "ignorant, their neighbors might prove to be.\n",
    "\n",
    "\"I will send my faithful old minister to the weavers,\" said the Emperor\n",
    "at last, after some deliberation, \"he will be best able to see how the\n",
    "cloth looks; for he is a man of sense, and no one can be more suitable\n",
    "for his office than he is.\"\n",
    "\n",
    "So the faithful old minister went into the hall, where the knaves were\n",
    "working with all their might, at their empty looms. \"What can be the\n",
    "meaning of this?\" thought the old man, opening his eyes very wide. \"I\n",
    "cannot discover the least bit of thread on the looms.\" However, he did\n",
    "not express his thoughts aloud.\n",
    "\n",
    "The impostors requested him very courteously to be so good as to come\n",
    "nearer their looms; and then asked him whether the design pleased\n",
    "him, and whether the colors were not very beautiful; at the same time\n",
    "pointing to the empty frames. The poor old minister looked and looked,\n",
    "he could not discover anything on the looms, for a very good reason,\n",
    "viz: there was nothing there. \"What!\" thought he again. \"Is it possible\n",
    "that I am a simpleton? I have never thought so myself; and no one must\n",
    "know it now if I am so. Can it be, that I am unfit for my office? No,\n",
    "that must not be said either. I will never confess that I could not see\n",
    "the stuff.\"\n",
    "\n",
    "\"Well, Sir Minister!\" said one of the knaves, still pretending to work.\n",
    "\"You do not say whether the stuff pleases you.\"\n",
    "\n",
    "\"Oh, it is excellent!\" replied the old minister, looking at the loom\n",
    "through his spectacles. \"This pattern, and the colors, yes, I will tell\n",
    "the Emperor without delay, how very beautiful I think them.\"\n",
    "\n",
    "\"We shall be much obliged to you,\" said the impostors, and then they\n",
    "named the different colors and described the pattern of the pretended\n",
    "stuff. The old minister listened attentively to their words, in order\n",
    "that he might repeat them to the Emperor; and then the knaves asked for\n",
    "more silk and gold, saying that it was necessary to complete what\n",
    "they had begun. However, they put all that was given them into their\n",
    "knapsacks; and continued to work with as much apparent diligence as\n",
    "before at their empty looms.\n",
    "\n",
    "The Emperor now sent another officer of his court to see how the men\n",
    "were getting on, and to ascertain whether the cloth would soon be\n",
    "ready. It was just the same with this gentleman as with the minister;\n",
    "he surveyed the looms on all sides, but could see nothing at all but the\n",
    "empty frames.\n",
    "\n",
    "\"Does not the stuff appear as beautiful to you, as it did to my lord the\n",
    "minister?\" asked the impostors of the Emperor's second ambassador; at\n",
    "the same time making the same gestures as before, and talking of the\n",
    "design and colors which were not there.\n",
    "\n",
    "\"I certainly am not stupid!\" thought the messenger. \"It must be, that I\n",
    "am not fit for my good, profitable office! That is very odd; however, no\n",
    "one shall know anything about it.\" And accordingly he praised the stuff\n",
    "he could not see, and declared that he was delighted with both colors\n",
    "and patterns. \"Indeed, please your Imperial Majesty,\" said he to his\n",
    "sovereign when he returned, \"the cloth which the weavers are preparing\n",
    "is extraordinarily magnificent.\"\n",
    "\n",
    "The whole city was talking of the splendid cloth which the Emperor had\n",
    "ordered to be woven at his own expense.\n",
    "\n",
    "And now the Emperor himself wished to see the costly manufacture, while\n",
    "it was still in the loom. Accompanied by a select number of officers of\n",
    "the court, among whom were the two honest men who had already admired\n",
    "the cloth, he went to the crafty impostors, who, as soon as they were\n",
    "aware of the Emperor's approach, went on working more diligently than\n",
    "ever; although they still did not pass a single thread through the\n",
    "looms.\n",
    "\n",
    "\"Is not the work absolutely magnificent?\" said the two officers of the\n",
    "crown, already mentioned. \"If your Majesty will only be pleased to look\n",
    "at it! What a splendid design! What glorious colors!\" and at the same\n",
    "time they pointed to the empty frames; for they imagined that everyone\n",
    "else could see this exquisite piece of workmanship.\n",
    "\"\"\""
   ]
  },
  {
   "cell_type": "markdown",
   "metadata": {
    "collapsed": true
   },
   "source": [
    "### Perform the wordcount analysis on it"
   ]
  },
  {
   "cell_type": "code",
   "execution_count": 21,
   "metadata": {
    "collapsed": false
   },
   "outputs": [
    {
     "name": "stdout",
     "output_type": "stream",
     "text": [
      "The file has 118 lines\n"
     ]
    }
   ],
   "source": [
    "# read in the file\n",
    "rdd_text = sc.textFile('anderson_sample.txt')\n",
    "print \"The file has\", rdd_text.count(),\"lines\""
   ]
  },
  {
   "cell_type": "code",
   "execution_count": 66,
   "metadata": {
    "collapsed": false,
    "scrolled": true
   },
   "outputs": [
    {
     "name": "stdout",
     "output_type": "stream",
     "text": [
      "Sample word counts: [(u'weavers', 4), (u'neighbors', 1), (u'all', 6), (u'held,', 1), (u'gold', 1), (u'able', 2), (u'pleases', 1), (u'patterns.', 1), (u'What', 2), (u'patterns,', 1)]\n"
     ]
    }
   ],
   "source": [
    "# count the words\n",
    "# first split by spaces\n",
    "# then emit each word with a count of 1\n",
    "# then reduce by the key, which is the word\n",
    "# finally sum the word counts\n",
    "counts = rdd_text.flatMap(lambda line: line.split())\\\n",
    "            .map(lambda word: (word,1))\\\n",
    "            .reduceByKey(lambda a,b: a+b)\n",
    "\n",
    "# print out a sample\n",
    "print \"Sample word counts:\", counts.collect()[0:10]"
   ]
  },
  {
   "cell_type": "markdown",
   "metadata": {},
   "source": [
    "### Sort the wordcounts"
   ]
  },
  {
   "cell_type": "code",
   "execution_count": 20,
   "metadata": {
    "collapsed": false
   },
   "outputs": [
    {
     "name": "stdout",
     "output_type": "stream",
     "text": [
      "The top 20 words are:\n",
      "(u'the', 88)\n",
      "(u'to', 38)\n",
      "(u'and', 25)\n",
      "(u'he', 23)\n",
      "(u'of', 22)\n",
      "(u'for', 15)\n",
      "(u'be', 15)\n",
      "(u'at', 15)\n",
      "(u'not', 14)\n",
      "(u'was', 14)\n",
      "(u'his', 14)\n",
      "(u'that', 14)\n",
      "(u'their', 13)\n",
      "(u'in', 13)\n",
      "(u'I', 11)\n",
      "(u'they', 10)\n",
      "(u'as', 10)\n",
      "(u'a', 9)\n",
      "(u'said', 8)\n",
      "(u'it', 8)\n",
      "\n",
      "\n",
      "*~*~*~*~*\n",
      "\n",
      "\n",
      "The bottom 10 words are:\n",
      "(u'was,', 1)\n",
      "(u'once', 1)\n",
      "(u'without', 1)\n",
      "(u'spent', 1)\n",
      "(u'courteously', 1)\n",
      "(u'foolish!', 1)\n",
      "(u'ascertain', 1)\n",
      "(u'\"the', 1)\n",
      "(u'reason,', 1)\n",
      "(u'\"Had', 1)\n"
     ]
    }
   ],
   "source": [
    "# reverse the key, value pair\n",
    "# sort by key\n",
    "# and then re-reverse the key,value \n",
    "# pair so that the word comes first\n",
    "sorted_counts = counts.map(lambda x: (x[1],x[0]))\\\n",
    "                        .sortByKey(False)\\\n",
    "                        .map(lambda x: (x[1],x[0]))\\\n",
    "                        .collect()\n",
    "        \n",
    "# show the top 20 most frequent words\n",
    "TOP = 20\n",
    "print \"The top 20 words are:\"\n",
    "for i in range(TOP):\n",
    "    print sorted_counts[i]\n",
    "    \n",
    "# show the bottom 10 words\n",
    "BOTTOM = 10\n",
    "print \"\\n\"\n",
    "print \"*~*~*~*~*\"\n",
    "print \"\\n\"\n",
    "print \"The bottom 10 words are:\"\n",
    "for i in range(1,BOTTOM+1):\n",
    "    print sorted_counts[-i]"
   ]
  },
  {
   "cell_type": "markdown",
   "metadata": {},
   "source": [
    "<a name=\"HW10.1.1\"><h2 style=\"color:darkgreen\">HW10.1.1 </h2>\n",
    "[Back to Table of Contents](#TOC)\n",
    "\n",
    "Modify the above word count code to count words that begin with lower case letters (a-z) and report your findings. Again sort the output words in decreasing order of frequency.\n"
   ]
  },
  {
   "cell_type": "markdown",
   "metadata": {
    "collapsed": true
   },
   "source": [
    "### Read in the data"
   ]
  },
  {
   "cell_type": "code",
   "execution_count": 22,
   "metadata": {
    "collapsed": false
   },
   "outputs": [
    {
     "name": "stdout",
     "output_type": "stream",
     "text": [
      "The file has 118 lines\n"
     ]
    }
   ],
   "source": [
    "# read in the file\n",
    "rdd_text = sc.textFile('anderson_sample.txt')\n",
    "print \"The file has\", rdd_text.count(),\"lines\""
   ]
  },
  {
   "cell_type": "code",
   "execution_count": 71,
   "metadata": {
    "collapsed": false
   },
   "outputs": [
    {
     "name": "stdout",
     "output_type": "stream",
     "text": [
      "Sample word counts: [(u'weavers', 4), (u'neighbors', 1), (u'all', 6), (u'held,', 1), (u'gold', 1), (u'able', 2), (u'pleases', 1), (u'patterns.', 1), (u'returned,', 1), (u'patterns,', 1)]\n"
     ]
    }
   ],
   "source": [
    "# write a function that splits\n",
    "# and returns only the lowercase words\n",
    "def lowerSplit(text):\n",
    "    \n",
    "    # split the text\n",
    "    text = text.split()\n",
    "    \n",
    "    # create a new array to hold\n",
    "    # all of the lower-case only\n",
    "    # words\n",
    "    new_text = []\n",
    "    \n",
    "    # loop through the text\n",
    "    for word in text:\n",
    "        \n",
    "        # check to make sure that we\n",
    "        # actually have a word\n",
    "        if len(word) > 0:\n",
    "        \n",
    "            # if the first letter is a letter\n",
    "            if word[0].isalpha:\n",
    "                \n",
    "                # if the first letter is lowercase\n",
    "                if word[0]==word[0].lower():\n",
    "                    \n",
    "                    # append the word to our list\n",
    "                    new_text.append(word)\n",
    "            \n",
    "    return new_text\n",
    "\n",
    "# count the words\n",
    "# first split by spaces\n",
    "# then emit each word with a count of 1\n",
    "# then reduce by the key, which is the word\n",
    "# finally sum the word counts\n",
    "counts = rdd_text.flatMap(lambda line: lowerSplit(line))\\\n",
    "            .map(lambda word: (word,1))\\\n",
    "            .reduceByKey(lambda a,b: a+b)\n",
    "\n",
    "# print out a sample\n",
    "print \"Sample word counts:\", counts.collect()[0:10]"
   ]
  },
  {
   "cell_type": "markdown",
   "metadata": {},
   "source": [
    "### Sort the wordcounts by frequency"
   ]
  },
  {
   "cell_type": "code",
   "execution_count": 72,
   "metadata": {
    "collapsed": false
   },
   "outputs": [
    {
     "name": "stdout",
     "output_type": "stream",
     "text": [
      "The top 20 words are:\n",
      "(u'the', 88)\n",
      "(u'to', 38)\n",
      "(u'and', 25)\n",
      "(u'he', 23)\n",
      "(u'of', 22)\n",
      "(u'for', 15)\n",
      "(u'be', 15)\n",
      "(u'at', 15)\n",
      "(u'not', 14)\n",
      "(u'was', 14)\n",
      "(u'his', 14)\n",
      "(u'that', 14)\n",
      "(u'their', 13)\n",
      "(u'in', 13)\n",
      "(u'they', 10)\n",
      "(u'as', 10)\n",
      "(u'a', 9)\n",
      "(u'it', 8)\n",
      "(u'said', 8)\n",
      "(u'had', 7)\n",
      "\n",
      "\n",
      "*~*~*~*~*\n",
      "\n",
      "\n",
      "The bottom 10 words are:\n",
      "(u'was,', 1)\n",
      "(u'\"Had', 1)\n",
      "(u'once', 1)\n",
      "(u'without', 1)\n",
      "(u'spent', 1)\n",
      "(u'courteously', 1)\n",
      "(u'ascertain', 1)\n",
      "(u'\"the', 1)\n",
      "(u'prove', 1)\n",
      "(u'weave', 1)\n"
     ]
    }
   ],
   "source": [
    "# reverse the key, value pair\n",
    "# sort by key\n",
    "# and then re-reverse the key,value \n",
    "# pair so that the word comes first\n",
    "sorted_counts = counts.map(lambda x: (x[1],x[0]))\\\n",
    "                        .sortByKey(False)\\\n",
    "                        .map(lambda x: (x[1],x[0]))\\\n",
    "                        .collect()\n",
    "        \n",
    "# show the top 20 most frequent words\n",
    "TOP = 20\n",
    "print \"The top 20 words are:\"\n",
    "for i in range(TOP):\n",
    "    print sorted_counts[i]\n",
    "    \n",
    "# show the bottom 10 words\n",
    "BOTTOM = 10\n",
    "print \"\\n\"\n",
    "print \"*~*~*~*~*\"\n",
    "print \"\\n\"\n",
    "print \"The bottom 10 words are:\"\n",
    "for i in range(1,BOTTOM+1):\n",
    "    print sorted_counts[-i]"
   ]
  },
  {
   "cell_type": "markdown",
   "metadata": {},
   "source": [
    "<a name=\"HW10.2\"> <h2 style=\"color:darkblue\"> HW10.2: MLlib-centric KMeans</h2>\n",
    "[Back to Table of Contents](#TOC)\n",
    "\n",
    "Using the following  MLlib-centric KMeans code snippet: \n",
    "\n",
    "<pre>\n",
    "from pyspark.mllib.clustering import KMeans, KMeansModel\n",
    "from numpy import array\n",
    "from math import sqrt\n",
    "\n",
    "\n",
    "# Load and parse the data\n",
    "# NOTE  kmeans_data.txt is available here \n",
    "#          https://www.dropbox.com/s/q85t0ytb9apggnh/kmeans_data.txt?dl=0 \n",
    "data = sc.textFile(\"kmeans_data.txt\")  \n",
    "parsedData = data.map(lambda line: array([float(x) for x in line.split(' ')]))\n",
    "\n",
    "# Build the model (cluster the data)\n",
    "clusters = KMeans.train(parsedData, 2, maxIterations=10,\n",
    "        runs=10, initializationMode=\"random\")\n",
    "\n",
    "# Evaluate clustering by computing Within Set Sum of Squared Errors\n",
    "def error(point):\n",
    "    center = clusters.centers[clusters.predict(point)]\n",
    "    return sqrt(sum([x**2 for x in (point - center)]))\n",
    "\n",
    "WSSSE = parsedData.map(lambda point: error(point)).reduce(lambda x, y: x + y)\n",
    "print(\"Within Set Sum of Squared Error = \" + str(WSSSE))\n",
    "\n",
    "# Save and load model\n",
    "clusters.save(sc, \"myModelPath\")\n",
    "sameModel = KMeansModel.load(sc, \"myModelPath\")\n",
    "\n",
    "</pre>\n",
    "\n",
    "__NOTE__ <p> The  __kmeans_data.txt__ is available here https://www.dropbox.com/s/q85t0ytb9apggnh/kmeans_data.txt?dl=0 \n",
    "\n",
    "__TASKS__\n",
    "* Run this code snippet and list the clusters that your find.\n",
    "* compute the Within Set Sum of Squared Errors for the found clusters. Comment on your findings."
   ]
  },
  {
   "cell_type": "markdown",
   "metadata": {
    "collapsed": true
   },
   "source": [
    "### Load in the data"
   ]
  },
  {
   "cell_type": "code",
   "execution_count": 75,
   "metadata": {
    "collapsed": false
   },
   "outputs": [
    {
     "name": "stdout",
     "output_type": "stream",
     "text": [
      "Parsed data: [array([ 0.,  0.,  0.]), array([ 0.1,  0.1,  0.1]), array([ 0.2,  0.2,  0.2]), array([ 9.,  9.,  9.]), array([ 9.1,  9.1,  9.1]), array([ 9.2,  9.2,  9.2])]\n"
     ]
    }
   ],
   "source": [
    "from numpy import array\n",
    "\n",
    "# load and parse the data\n",
    "# NOTE  kmeans_data.txt is available here \n",
    "#          https://www.dropbox.com/s/q85t0ytb9apggnh/kmeans_data.txt?dl=0 \n",
    "data = sc.textFile(\"kmeans_data.txt\")  \n",
    "parsedData = data.map(lambda line: array([float(x) for x in line.split(' ')]))\n",
    "\n",
    "# print out the parsed data\n",
    "print \"Parsed data:\", parsedData.collect()"
   ]
  },
  {
   "cell_type": "code",
   "execution_count": 78,
   "metadata": {
    "collapsed": false
   },
   "outputs": [
    {
     "name": "stdout",
     "output_type": "stream",
     "text": [
      "Within Set Sum of Squared Error = 0.692820323028\n"
     ]
    }
   ],
   "source": [
    "from pyspark.mllib.clustering import KMeans, KMeansModel\n",
    "from math import sqrt\n",
    "\n",
    "# set the number of clusters and the number of runs\n",
    "NUM_CLUSTERS = 2\n",
    "MAX_ITERATIONS = 10\n",
    "RUNS = 10\n",
    "\n",
    "# build the model (cluster the data)\n",
    "clusters = KMeans.train(parsedData, NUM_CLUSTERS, maxIterations=MAX_ITERATIONS,\n",
    "        runs=RUNS, initializationMode=\"random\")\n",
    "\n",
    "# evaluate clustering by computing Within Set Sum \n",
    "# of Squared Errors the WSSSE is simply the distance\n",
    "# between each point and its predicted centroid\n",
    "def error(point):\n",
    "    \n",
    "    # predict the centroid from the model\n",
    "    center = clusters.centers[clusters.predict(point)]\n",
    "    \n",
    "    # return the square root of the squared distance\n",
    "    # between each point and its predicted centroid\n",
    "    return sqrt(sum([x**2 for x in (point - center)]))\n",
    "\n",
    "# calculate the WSSSE for each point and sum them \n",
    "# all together\n",
    "WSSSE = parsedData.map(lambda point: error(point))\\\n",
    "                    .reduce(lambda x, y: x + y)\n",
    "    \n",
    "# print out results from the squared error\n",
    "print(\"Within Set Sum of Squared Error = \" + str(WSSSE))\n",
    "\n",
    "# save and load model\n",
    "clusters.save(sc, \"kmeans_model\")\n",
    "clusters = KMeansModel.load(sc, \"kmeans_model\")"
   ]
  },
  {
   "cell_type": "markdown",
   "metadata": {},
   "source": [
    "<a name=\"HW10.3\"><h2 style=\"color:darkgreen\"> HW10.3: MLLib KMeans in Spark </h2>\n",
    "[Back to Table of Contents](#TOC)\n",
    "\n",
    "Download the following KMeans [notebook](http://nbviewer.jupyter.org/urls/dl.dropbox.com/s/3nsthvp8g2rrrdh/EM-Kmeans.ipynb).\n",
    "\n",
    "Generate 3 clusters with 100 (one hundred) data points per cluster (using the code provided). Plot the data.\n",
    "Then run **MLlib's** Kmean implementation on this data  and report your results as follows:\n",
    "\n",
    "* plot the resulting clusters after 1 iteration, 10 iterations, after 20 iterations, after 100 iterations.\n",
    "* in each plot please report the Within Set Sum of Squared Errors for the found clusters (as part of the title WSSSE). Comment on the progress of this measure as  the KMEans algorithms runs for more iterations. Then plot the WSSSE as a function of the iteration (1, 10, 20, 30, 40, 50, 100).\n",
    "\n"
   ]
  },
  {
   "cell_type": "markdown",
   "metadata": {
    "collapsed": true
   },
   "source": [
    "### Create the data"
   ]
  },
  {
   "cell_type": "code",
   "execution_count": 79,
   "metadata": {
    "collapsed": false
   },
   "outputs": [
    {
     "name": "stdout",
     "output_type": "stream",
     "text": [
      "Data created.\n"
     ]
    }
   ],
   "source": [
    "import numpy as np\n",
    "\n",
    "# set the size of the clusters\n",
    "size1 = size2 = size3 = 100\n",
    "\n",
    "# generate the three samples and append \n",
    "# to a single list\n",
    "samples1 = np.random.multivariate_normal([4, 0], [[1, 0],[0, 1]], size1)\n",
    "data = samples1\n",
    "samples2 = np.random.multivariate_normal([6, 6], [[1, 0],[0, 1]], size2)\n",
    "data = np.append(data,samples2, axis=0)\n",
    "samples3 = np.random.multivariate_normal([0, 4], [[1, 0],[0, 1]], size3)\n",
    "data = np.append(data,samples3, axis=0)\n",
    "\n",
    "# randomlize data\n",
    "data = data[np.random.permutation(size1+size2+size3),]\n",
    "\n",
    "# save the data to a local file\n",
    "np.savetxt('data.csv',data,delimiter = ',')\n",
    "\n",
    "print \"Data created.\""
   ]
  },
  {
   "cell_type": "markdown",
   "metadata": {
    "collapsed": true
   },
   "source": [
    "### Visualize the data"
   ]
  },
  {
   "cell_type": "code",
   "execution_count": 84,
   "metadata": {
    "collapsed": false,
    "scrolled": true
   },
   "outputs": [
    {
     "data": {
      "image/png": "[encoded data removed]",
      "text/plain": [
       "<matplotlib.figure.Figure at 0x7f0197bed9d0>"
      ]
     },
     "metadata": {},
     "output_type": "display_data"
    }
   ],
   "source": [
    "%matplotlib inline\n",
    "import matplotlib.pyplot as plt\n",
    "\n",
    "# plot each sample in its own color\n",
    "plt.plot(samples1[:, 0], samples1[:, 1],'*', color = 'red')\n",
    "plt.plot(samples2[:, 0], samples2[:, 1],'o',color = 'blue')\n",
    "plt.plot(samples3[:, 0], samples3[:, 1],'+',color = 'green')\n",
    "plt.show()"
   ]
  },
  {
   "cell_type": "markdown",
   "metadata": {},
   "source": [
    "### Load in and parse the data"
   ]
  },
  {
   "cell_type": "code",
   "execution_count": 4,
   "metadata": {
    "collapsed": false
   },
   "outputs": [
    {
     "name": "stdout",
     "output_type": "stream",
     "text": [
      "Data loaded.\n"
     ]
    }
   ],
   "source": [
    "import numpy as np\n",
    "\n",
    "# load in the data file\n",
    "data = sc.textFile(\"data.csv\")\n",
    "\n",
    "# parse the data by turning it into a list of floats\n",
    "parsedData = data.map(lambda line: np.array([float(x) for x in line.split(',')])).cache()\n",
    "\n",
    "# create the data in list form for plotting\n",
    "data = np.array(parsedData.collect())\n",
    "\n",
    "print \"Data loaded.\""
   ]
  },
  {
   "cell_type": "markdown",
   "metadata": {},
   "source": [
    "### Function to plot the data and the centroid"
   ]
  },
  {
   "cell_type": "code",
   "execution_count": 6,
   "metadata": {
    "collapsed": true
   },
   "outputs": [],
   "source": [
    "%matplotlib inline\n",
    "\n",
    "# import our libraries\n",
    "import matplotlib.pyplot as plt\n",
    "\n",
    "def plotKMeans(centroids, data, \\\n",
    "               data_color = 'blue',\\\n",
    "               centroid_color = 'red'):\n",
    "    \"\"\"takes the centroid locations and the \n",
    "    data that we want to plot and plots the \n",
    "    points with the centroids in a different\n",
    "    color\"\"\"    \n",
    "    \n",
    "    # plot the data\n",
    "    plt.plot(data[:,0], data[:,1],'.', \\\n",
    "             color = data_color)\n",
    "    \n",
    "    # plot the centroids\n",
    "    plt.plot(centroids[:,0], centroids[:,1], \\\n",
    "             '*', markersize =10, color = centroid_color)\n",
    "    \n",
    "    # show the plot\n",
    "    plt.show()"
   ]
  },
  {
   "cell_type": "markdown",
   "metadata": {},
   "source": [
    "### Function to calculate the WSSSE"
   ]
  },
  {
   "cell_type": "code",
   "execution_count": 12,
   "metadata": {
    "collapsed": true
   },
   "outputs": [],
   "source": [
    "# evaluate clustering by computing Within Set Sum \n",
    "# of Squared Errors the WSSSE is simply the distance\n",
    "# between each point and its predicted centroid\n",
    "def wsseError(point,clusters):\n",
    "    \n",
    "    # predict the centroid from the model\n",
    "    center = clusters.centers[clusters.predict(point)]\n",
    "    \n",
    "    # return the square root of the squared distance\n",
    "    # between each point and its predicted centroid\n",
    "    return sqrt(sum([x**2 for x in (point - center)]))"
   ]
  },
  {
   "cell_type": "markdown",
   "metadata": {},
   "source": [
    "### Use the Spark machine learning library to compute the centroids"
   ]
  },
  {
   "cell_type": "code",
   "execution_count": 18,
   "metadata": {
    "collapsed": false,
    "scrolled": false
   },
   "outputs": [
    {
     "name": "stdout",
     "output_type": "stream",
     "text": [
      "Iteration 1\n",
      "With-in Set Sum of Squared Errors: 723.27290681\n",
      "Centeroids:\n",
      "[[ 1.44051463  2.41595155]\n",
      " [ 5.68735101  3.43692136]\n",
      " [ 6.19630882  6.87657625]]\n"
     ]
    },
    {
     "data": {
      "image/png": "[encoded data removed]",
      "text/plain": [
       "<matplotlib.figure.Figure at 0x7f6ae09e3bd0>"
      ]
     },
     "metadata": {},
     "output_type": "display_data"
    },
    {
     "name": "stdout",
     "output_type": "stream",
     "text": [
      "Iteration 10\n",
      "With-in Set Sum of Squared Errors: 394.145437822\n",
      "Centeroids:\n",
      "[[-0.06737074  4.22687513]\n",
      " [ 4.01283697 -0.02271581]\n",
      " [ 6.10388592  6.04617728]]\n"
     ]
    },
    {
     "data": {
      "image/png": "[encoded data removed]",
      "text/plain": [
       "<matplotlib.figure.Figure at 0x7f6ae0f34cd0>"
      ]
     },
     "metadata": {},
     "output_type": "display_data"
    },
    {
     "name": "stdout",
     "output_type": "stream",
     "text": [
      "Iteration 20\n",
      "With-in Set Sum of Squared Errors: 394.145437822\n",
      "Centeroids:\n",
      "[[-0.06737074  4.22687513]\n",
      " [ 4.01283697 -0.02271581]\n",
      " [ 6.10388592  6.04617728]]\n"
     ]
    },
    {
     "data": {
      "image/png": "[encoded data removed]",
      "text/plain": [
       "<matplotlib.figure.Figure at 0x7f6ae2f85ed0>"
      ]
     },
     "metadata": {},
     "output_type": "display_data"
    },
    {
     "name": "stdout",
     "output_type": "stream",
     "text": [
      "Iteration 100\n",
      "With-in Set Sum of Squared Errors: 394.145437822\n",
      "Centeroids:\n",
      "[[-0.06737074  4.22687513]\n",
      " [ 4.01283697 -0.02271581]\n",
      " [ 6.10388592  6.04617728]]\n"
     ]
    },
    {
     "data": {
      "image/png": "[encoded data removed]",
      "text/plain": [
       "<matplotlib.figure.Figure at 0x7f6ae094e250>"
      ]
     },
     "metadata": {},
     "output_type": "display_data"
    }
   ],
   "source": [
    "from pyspark.mllib.clustering import KMeans, KMeansModel\n",
    "from math import sqrt\n",
    "import numpy as np\n",
    "\n",
    "# set the number of iterations\n",
    "ITERATIONS = 100\n",
    "\n",
    "# set the interesting iterations\n",
    "INTEREST = [1,10,20,100]\n",
    "\n",
    "# set the iterations we want\n",
    "# to record errors for\n",
    "ERROR_INTEREST = [1, 10, 20, 30, 40, 50, 100]\n",
    "\n",
    "# create a list to hold our \n",
    "# error for each iterations\n",
    "errors = []\n",
    "\n",
    "# set the current iteration\n",
    "iteration = 0 \n",
    "\n",
    "# set the number of runs and iterations\n",
    "# for each of our iterations\n",
    "# set the number of clusters and the number of runs\n",
    "NUM_CLUSTERS = 3\n",
    "MAX_ITERATIONS = 1\n",
    "RUNS = 1\n",
    "\n",
    "# while the iteration is less than \n",
    "# the number of iterations\n",
    "while iteration <= ITERATIONS:\n",
    "    \n",
    "    # if this is the first iteration,\n",
    "    # then we use a random initalization\n",
    "    if iteration == 0:\n",
    "    \n",
    "        # build the model (cluster the data)\n",
    "        clusters = KMeans.train(parsedData, NUM_CLUSTERS, \\\n",
    "                                maxIterations=MAX_ITERATIONS,\\\n",
    "                                initializationSteps=RUNS,\\\n",
    "                                runs=RUNS, initializationMode=\"random\")\n",
    "    \n",
    "    # otherwise build the model based on the previous model\n",
    "    else: \n",
    "        \n",
    "        # build the model (cluster the data)\n",
    "        clusters = KMeans.train(parsedData, NUM_CLUSTERS, \\\n",
    "                                maxIterations=MAX_ITERATIONS,\\\n",
    "                                runs=RUNS, initialModel=clusters)\n",
    "    # icrement the iteration \n",
    "    iteration = iteration + 1\n",
    "    \n",
    "    # grab the centroids\n",
    "    centroids = np.array(clusters.centers)\n",
    "    \n",
    "    # calculate the WSSSE for each point and sum them \n",
    "    # all together\n",
    "    WSSSE = parsedData.map(lambda point: wsseError(point,clusters))\\\n",
    "    .reduce(lambda x, y: x + y)\n",
    "    \n",
    "    # check to see if this iteration is \n",
    "    # one where we want to record the WSSSE\n",
    "    if iteration in ERROR_INTEREST:\n",
    "        info = iteration,WSSSE\n",
    "        errors.append(info)\n",
    "    \n",
    "    \n",
    "    # check to see if this an iteration we\n",
    "    # want to plot\n",
    "    if iteration in INTEREST:\n",
    "        print \"Iteration\", iteration\n",
    "        print \"With-in Set Sum of Squared Errors:\", WSSSE\n",
    "        print \"Centeroids:\"\n",
    "        print centroids\n",
    "        plotKMeans(centroids,data)\n",
    "    \n",
    "# convert the errors to a numpy array\n",
    "# and write them to file\n",
    "errors = np.array(errors)\n",
    "np.savetxt('errors.csv',errors,delimiter = ',')"
   ]
  },
  {
   "cell_type": "markdown",
   "metadata": {},
   "source": [
    "### Load in the error data"
   ]
  },
  {
   "cell_type": "code",
   "execution_count": 19,
   "metadata": {
    "collapsed": false,
    "scrolled": true
   },
   "outputs": [
    {
     "name": "stdout",
     "output_type": "stream",
     "text": [
      "[[   1.          723.27290681]\n",
      " [  10.          394.14543782]\n",
      " [  20.          394.14543782]\n",
      " [  30.          394.14543782]\n",
      " [  40.          394.14543782]\n",
      " [  50.          394.14543782]\n",
      " [ 100.          394.14543782]]\n"
     ]
    }
   ],
   "source": [
    "import numpy as np\n",
    "\n",
    "# set the error from the text\n",
    "errors = np.genfromtxt('errors.csv', delimiter=',')\n",
    "\n",
    "# print out the file\n",
    "print errors"
   ]
  },
  {
   "cell_type": "markdown",
   "metadata": {},
   "source": [
    "### Plot the error data"
   ]
  },
  {
   "cell_type": "code",
   "execution_count": 20,
   "metadata": {
    "collapsed": false,
    "scrolled": false
   },
   "outputs": [
    {
     "data": {
      "image/png": "[encoded data removed]",
      "text/plain": [
       "<matplotlib.figure.Figure at 0x7f6ae09ad990>"
      ]
     },
     "metadata": {},
     "output_type": "display_data"
    }
   ],
   "source": [
    "%matplotlib inline\n",
    "import matplotlib.pyplot as plt\n",
    "\n",
    "# plot the error data\n",
    "plt.plot(errors[:,0],errors[:,1])\n",
    "plt.title(\"WSSSE for KMeans by Iterations\")\n",
    "plt.show()"
   ]
  },
  {
   "cell_type": "markdown",
   "metadata": {},
   "source": [
    "#### <span style=\"color:violet\"> We can see that by 10 iterations we have already converged and that more iterations do not really help us get to a more accurate set of centroids. </span>"
   ]
  },
  {
   "cell_type": "markdown",
   "metadata": {},
   "source": [
    "<a name=\"HW10.4\"><h2 style=\"color:darkblue\"> HW10.4: KMeans Experiments (Homegrown)  </h2>\n",
    "[Back to Table of Contents](#TOC)\n",
    "\n",
    "Using this provided [homegrown Kmeans code](http://nbviewer.jupyter.org/urls/dl.dropbox.com/s/3nsthvp8g2rrrdh/EM-Kmeans.ipynb)   repeat the experiments in HW10.3. Explain any differences between the results in HW10.3 and HW10.4.\n",
    "<br>\n",
    "<br>\n",
    "### <span style=\"color:violet\"> I accidentally my own version based on the notebook rather than using the notebook straight up. </span>"
   ]
  },
  {
   "cell_type": "markdown",
   "metadata": {},
   "source": [
    "### Load in and parse the data"
   ]
  },
  {
   "cell_type": "code",
   "execution_count": 33,
   "metadata": {
    "collapsed": false
   },
   "outputs": [
    {
     "name": "stdout",
     "output_type": "stream",
     "text": [
      "Data loaded.\n"
     ]
    }
   ],
   "source": [
    "import numpy as np\n",
    "\n",
    "# load in the data file\n",
    "data = sc.textFile(\"data.csv\")\n",
    "\n",
    "# parse the data by turning it into a list of floats\n",
    "parsedData = data.map(lambda line: np.array([float(x) for x in line.split(',')])).cache()\n",
    "\n",
    "# create the data in list form for plotting\n",
    "data = np.array(parsedData.collect())\n",
    "\n",
    "print \"Data loaded.\""
   ]
  },
  {
   "cell_type": "markdown",
   "metadata": {},
   "source": [
    "### Function to find nearest centroid"
   ]
  },
  {
   "cell_type": "code",
   "execution_count": 5,
   "metadata": {
    "collapsed": true
   },
   "outputs": [],
   "source": [
    "def findNearest(point,centroid_list):\n",
    "    \"\"\"function takes a point and a list of\n",
    "    centroids and returns the index of the\n",
    "    closest centroid\"\"\"\n",
    "    \n",
    "    # calculate distances between the point\n",
    "    # and every centroid\n",
    "    dist = np.sum((point - centroid_list)**2, axis=1)\n",
    "    \n",
    "    # the closest centroid is the one with\n",
    "    # the minimum distance\n",
    "    closest = dist.argmin()\n",
    "    \n",
    "    # return the closest centroid, the \n",
    "    # point, and 1\n",
    "    return (closest,(point,1))"
   ]
  },
  {
   "cell_type": "markdown",
   "metadata": {},
   "source": [
    "### Function to plot the data and the centroid"
   ]
  },
  {
   "cell_type": "code",
   "execution_count": 37,
   "metadata": {
    "collapsed": true
   },
   "outputs": [],
   "source": [
    "%matplotlib inline\n",
    "\n",
    "# import our libraries\n",
    "import matplotlib.pyplot as plt\n",
    "\n",
    "def plotKMeans(centroids, data, \\\n",
    "               data_color = 'blue',\\\n",
    "               centroid_color = 'red'):\n",
    "    \"\"\"takes the centroid locations and the \n",
    "    data that we want to plot and plots the \n",
    "    points with the centroids in a different\n",
    "    color\"\"\"    \n",
    "    \n",
    "    # plot the data\n",
    "    plt.plot(data[:,0], data[:,1],'.', \\\n",
    "             color = data_color)\n",
    "    \n",
    "    # plot the centroids\n",
    "    plt.plot(centroids[:,0], centroids[:,1], \\\n",
    "             '*', markersize =10, color = centroid_color)\n",
    "    \n",
    "    # show the plot\n",
    "    plt.show()"
   ]
  },
  {
   "cell_type": "markdown",
   "metadata": {},
   "source": [
    "### Function to calculate the WSSSE\n",
    "This is the \"Within Set Sum of Squared Error\". It is the sum of the squared distances between each point and its predicted centroid. "
   ]
  },
  {
   "cell_type": "code",
   "execution_count": 85,
   "metadata": {
    "collapsed": true
   },
   "outputs": [],
   "source": [
    "import numpy as np\n",
    "from math import sqrt\n",
    "\n",
    "# evaluate clustering by computing Within Set Sum \n",
    "# of Squared Errors the WSSSE is simply the distance\n",
    "# between each point and its predicted centroid\n",
    "def sqError(point,centroids):\n",
    "    \"\"\"where point = (closest,(point,1)) and\n",
    "    centroids is a list of the centroid locations\"\"\"\n",
    "    \n",
    "    # get the values for the predicted centroid\n",
    "    center_idx = point[0]\n",
    "    center = np.array(centroids[center_idx])\n",
    "\n",
    "    # set the point as purely its x,y coordinates\n",
    "    point = point[1][0]\n",
    "    \n",
    "    # calculate the difference\n",
    "    difference = point - center\n",
    "    \n",
    "    # square the difference \n",
    "    diff_sq = difference**2\n",
    "    \n",
    "    # sum the difference and return that\n",
    "    sum_diff = sum(diff_sq)\n",
    "    return sum_diff"
   ]
  },
  {
   "cell_type": "markdown",
   "metadata": {},
   "source": [
    "### Initalize the first set of centroids"
   ]
  },
  {
   "cell_type": "code",
   "execution_count": 96,
   "metadata": {
    "collapsed": false
   },
   "outputs": [
    {
     "name": "stdout",
     "output_type": "stream",
     "text": [
      "Initial centroids:\n",
      "[array([ 0.99734353,  3.19877607]), array([-0.63718362,  4.21190538]), array([ 2.27737911,  1.21096427])]\n"
     ]
    }
   ],
   "source": [
    "# set the number of clusters\n",
    "K = 3\n",
    "\n",
    "# initalize a first set of centroids\n",
    "# set up an blank array to hold the \n",
    "# centroids\n",
    "centroids = []\n",
    "\n",
    "# loop through the number of centroids\n",
    "for i in range(K):\n",
    "    \n",
    "    # generate a random point \n",
    "    # and add it to the centroid\n",
    "    # list\n",
    "    _center_idx = np.random.randint(0,len(parsedData.collect())-1)\n",
    "    \n",
    "    # grab that point\n",
    "    _center = parsedData.collect()[_center_idx]\n",
    "    \n",
    "    # add it to the list\n",
    "    centroids.append(_center)\n",
    "    \n",
    "# print out our first centroids\n",
    "print \"Initial centroids:\"\n",
    "print centroids"
   ]
  },
  {
   "cell_type": "markdown",
   "metadata": {},
   "source": [
    "### Iterate over the data, updating the centroids"
   ]
  },
  {
   "cell_type": "code",
   "execution_count": 97,
   "metadata": {
    "collapsed": false
   },
   "outputs": [
    {
     "name": "stdout",
     "output_type": "stream",
     "text": [
      "Iteration 1\n",
      "WSSSE: 1072.29146672\n",
      "Centroids:\n",
      "[[ 4.41760255  5.61339339]\n",
      " [ 4.50882985  0.89399402]\n",
      " [-0.60751464  4.49553226]]\n"
     ]
    },
    {
     "data": {
      "image/png": "[encoded data removed]",
      "text/plain": [
       "<matplotlib.figure.Figure at 0x7f9dadbc0e90>"
      ]
     },
     "metadata": {},
     "output_type": "display_data"
    },
    {
     "name": "stdout",
     "output_type": "stream",
     "text": [
      "\n",
      "\n",
      "Iteration 10\n",
      "WSSSE: 632.187200555\n",
      "Centroids:\n",
      "[[  6.10388592e+00   6.04617728e+00]\n",
      " [ -9.41177197e-02   4.24204239e+00]\n",
      " [  3.99865621e+00   4.49242347e-03]]\n"
     ]
    },
    {
     "data": {
      "image/png": "[encoded data removed]",
      "text/plain": [
       "<matplotlib.figure.Figure at 0x7f9dad843550>"
      ]
     },
     "metadata": {},
     "output_type": "display_data"
    },
    {
     "name": "stdout",
     "output_type": "stream",
     "text": [
      "\n",
      "\n",
      "Iteration 20\n",
      "WSSSE: 632.187200555\n",
      "Centroids:\n",
      "[[  6.10388592e+00   6.04617728e+00]\n",
      " [ -9.41177197e-02   4.24204239e+00]\n",
      " [  3.99865621e+00   4.49242347e-03]]\n"
     ]
    },
    {
     "data": {
      "image/png": "[encoded data removed]",
      "text/plain": [
       "<matplotlib.figure.Figure at 0x7f9dad704910>"
      ]
     },
     "metadata": {},
     "output_type": "display_data"
    },
    {
     "name": "stdout",
     "output_type": "stream",
     "text": [
      "\n",
      "\n",
      "Iteration 100\n",
      "WSSSE: 632.187200555\n",
      "Centroids:\n",
      "[[  6.10388592e+00   6.04617728e+00]\n",
      " [ -9.41177197e-02   4.24204239e+00]\n",
      " [  3.99865621e+00   4.49242347e-03]]\n"
     ]
    },
    {
     "data": {
      "image/png": "[encoded data removed]",
      "text/plain": [
       "<matplotlib.figure.Figure at 0x7f9dadc162d0>"
      ]
     },
     "metadata": {},
     "output_type": "display_data"
    },
    {
     "name": "stdout",
     "output_type": "stream",
     "text": [
      "\n",
      "\n"
     ]
    }
   ],
   "source": [
    "# set the number of iterations\n",
    "ITERATIONS = 100\n",
    "\n",
    "# set the interesting iterations\n",
    "INTEREST = [1,10,20,100]\n",
    "\n",
    "# set the iterations we want\n",
    "# to record errors for\n",
    "ERROR_INTEREST = [1, 10, 20, 30, 40, 50, 100]\n",
    "\n",
    "# create a list to hold our \n",
    "# error for each iterations\n",
    "errors = []\n",
    "\n",
    "# set the current iteration\n",
    "iteration = 0 \n",
    "\n",
    "# while the iteration is less than \n",
    "# the number of iterations\n",
    "while iteration <= ITERATIONS:\n",
    "    \n",
    "    # take each line of data and \n",
    "    # find its nearest neighbor\n",
    "    _nearest = parsedData.map(lambda x: findNearest(x,centroids))\n",
    "    \n",
    "    # and then reduce by key\n",
    "    # to get the sum of all points\n",
    "    # and the number of data points\n",
    "    _summed = _nearest.reduceByKey(lambda x,y: (x[0] + y[0], x[1] + y[1]))\n",
    "    \n",
    "    # and then reduce by dividing \n",
    "    # the sum of points by the \n",
    "    # total number of points\n",
    "    new_centroids = _summed.map(lambda x: x[1][0]/x[1][1]).collect()\n",
    "    \n",
    "    # convert the new_centroids to \n",
    "    # numpy array\n",
    "    centroids = np.array(new_centroids)\n",
    "    \n",
    "    # calculate the WSSE for this model by computing\n",
    "    # the distance between each point and its assigned\n",
    "    # centroid\n",
    "    \n",
    "    # first calculate the error for each point\n",
    "    _error_each = _nearest.map(lambda x: sqError(x,centroids))\n",
    "\n",
    "    # then calculate the total error\n",
    "    _error_total = _error_each.reduce(lambda x,y: x+y)\n",
    "    \n",
    "    # increment the iterator\n",
    "    iteration = iteration + 1\n",
    "    \n",
    "    # check to see if this is an iteration\n",
    "    # where we want to record the error\n",
    "    # if it is, then record it\n",
    "    if iteration in ERROR_INTEREST:\n",
    "        info = iteration,_error_total\n",
    "        errors.append(info)\n",
    "    \n",
    "    # check to see if this an iteration\n",
    "    # of interest, one that we would\n",
    "    # like to plot\n",
    "    if iteration in INTEREST:\n",
    "        \n",
    "        # print out the iteration \n",
    "        # and the centroids\n",
    "        print \"Iteration\", iteration\n",
    "        print \"WSSSE:\", _error_total\n",
    "        print \"Centroids:\"\n",
    "        print centroids\n",
    "\n",
    "        # plot the centroids and the data\n",
    "        plotKMeans(centroids,data)\n",
    "\n",
    "        print \"\\n\"\n",
    "        \n",
    "# convert the errors to a numpy array\n",
    "# and write them to file\n",
    "errors = np.array(errors)\n",
    "np.savetxt('errors.csv',errors,delimiter = ',')"
   ]
  },
  {
   "cell_type": "markdown",
   "metadata": {},
   "source": [
    "### Load in the error data"
   ]
  },
  {
   "cell_type": "code",
   "execution_count": 98,
   "metadata": {
    "collapsed": false,
    "scrolled": true
   },
   "outputs": [
    {
     "name": "stdout",
     "output_type": "stream",
     "text": [
      "[[  1.00000000e+00   1.07229147e+03]\n",
      " [  1.00000000e+01   6.32187201e+02]\n",
      " [  2.00000000e+01   6.32187201e+02]\n",
      " [  3.00000000e+01   6.32187201e+02]\n",
      " [  4.00000000e+01   6.32187201e+02]\n",
      " [  5.00000000e+01   6.32187201e+02]\n",
      " [  1.00000000e+02   6.32187201e+02]]\n"
     ]
    }
   ],
   "source": [
    "import numpy as np\n",
    "\n",
    "# set the error from the text\n",
    "errors = np.genfromtxt('errors.csv', delimiter=',')\n",
    "\n",
    "# print out the file\n",
    "print errors"
   ]
  },
  {
   "cell_type": "markdown",
   "metadata": {},
   "source": [
    "### Plot the error data"
   ]
  },
  {
   "cell_type": "code",
   "execution_count": 100,
   "metadata": {
    "collapsed": false,
    "scrolled": false
   },
   "outputs": [
    {
     "data": {
      "image/png": "[encoded data removed]",
      "text/plain": [
       "<matplotlib.figure.Figure at 0x7f9dadcc4790>"
      ]
     },
     "metadata": {},
     "output_type": "display_data"
    }
   ],
   "source": [
    "%matplotlib inline\n",
    "import matplotlib.pyplot as plt\n",
    "\n",
    "# plot the error data\n",
    "plt.plot(errors[:,0],errors[:,1])\n",
    "plt.title(\"WSSSE for KMeans by Iterations\")\n",
    "plt.show()"
   ]
  },
  {
   "cell_type": "markdown",
   "metadata": {},
   "source": [
    "#### <span style=\"color:violet\"> We can see that by 10 iterations we have already converged and that more iterations do not really help us get to a more accurate set of centroids. </span>"
   ]
  },
  {
   "cell_type": "markdown",
   "metadata": {},
   "source": [
    "<a name=\"HW10.4.1\"><h2 style=\"color:darkblue\"> HW10.4.1: Making Homegrown KMeans more efficient  </h2>\n",
    "[Back to Table of Contents](#TOC)\n",
    "\n",
    "The above provided homegrown KMeans implentation in not the most efficient. How can you make it more efficient? Make this change in the code and show it work and comment on the gains you achieve. "
   ]
  },
  {
   "cell_type": "markdown",
   "metadata": {},
   "source": [
    "### HINT: have a look at  [this linear regression notebook](    http://nbviewer.jupyter.org/urls/dl.dropbox.com/s/atzqkc0p1eajuz6/LinearRegression-Notebook-Challenge.ipynb)"
   ]
  },
  {
   "cell_type": "markdown",
   "metadata": {},
   "source": [
    "### <span style=\"color:violet\">Broadcast the centroid data to the nodes</span>\n",
    "<span style=\"color:violet\">We broadcast the centroid data to the nodes so that it can be stored in memory and doesn't have to consistently be sent to each node over and over again. </span>"
   ]
  },
  {
   "cell_type": "markdown",
   "metadata": {},
   "source": [
    "### Load in and parse the data"
   ]
  },
  {
   "cell_type": "code",
   "execution_count": 21,
   "metadata": {
    "collapsed": false
   },
   "outputs": [
    {
     "name": "stdout",
     "output_type": "stream",
     "text": [
      "Data loaded.\n"
     ]
    }
   ],
   "source": [
    "import numpy as np\n",
    "\n",
    "# load in the data file\n",
    "data = sc.textFile(\"data.csv\")\n",
    "\n",
    "# parse the data by turning it into a list of floats\n",
    "parsedData = data.map(lambda line: np.array([float(x) for x in line.split(',')])).cache()\n",
    "\n",
    "# create the data in list form for plotting\n",
    "data = np.array(parsedData.collect())\n",
    "\n",
    "print \"Data loaded.\""
   ]
  },
  {
   "cell_type": "markdown",
   "metadata": {},
   "source": [
    "### Function to plot the data and the centroid"
   ]
  },
  {
   "cell_type": "code",
   "execution_count": 23,
   "metadata": {
    "collapsed": true
   },
   "outputs": [],
   "source": [
    "%matplotlib inline\n",
    "\n",
    "# import our libraries\n",
    "import matplotlib.pyplot as plt\n",
    "\n",
    "def plotKMeans(centroids, data, \\\n",
    "               data_color = 'blue',\\\n",
    "               centroid_color = 'red'):\n",
    "    \"\"\"takes the centroid locations and the \n",
    "    data that we want to plot and plots the \n",
    "    points with the centroids in a different\n",
    "    color\"\"\"    \n",
    "    \n",
    "    # plot the data\n",
    "    plt.plot(data[:,0], data[:,1],'.', \\\n",
    "             color = data_color)\n",
    "    \n",
    "    # plot the centroids\n",
    "    plt.plot(centroids[:,0], centroids[:,1], \\\n",
    "             '*', markersize =10, color = centroid_color)\n",
    "    \n",
    "    # show the plot\n",
    "    plt.show()"
   ]
  },
  {
   "cell_type": "markdown",
   "metadata": {},
   "source": [
    "### Function to calculate the WSSSE\n",
    "This is the \"Within Set Sum of Squared Error\". It is the sum of the squared distances between each point and its predicted centroid. "
   ]
  },
  {
   "cell_type": "code",
   "execution_count": 24,
   "metadata": {
    "collapsed": true
   },
   "outputs": [],
   "source": [
    "import numpy as np\n",
    "from math import sqrt\n",
    "\n",
    "# evaluate clustering by computing Within Set Sum \n",
    "# of Squared Errors the WSSSE is simply the distance\n",
    "# between each point and its predicted centroid\n",
    "def sqError(point,centroids):\n",
    "    \"\"\"where point = (closest,(point,1)) and\n",
    "    centroids is a list of the centroid locations\"\"\"\n",
    "    \n",
    "    # get the values for the predicted centroid\n",
    "    center_idx = point[0]\n",
    "    center = np.array(centroids[center_idx])\n",
    "\n",
    "    # set the point as purely its x,y coordinates\n",
    "    point = point[1][0]\n",
    "    \n",
    "    # calculate the difference\n",
    "    difference = point - center\n",
    "    \n",
    "    # square the difference \n",
    "    diff_sq = difference**2\n",
    "    \n",
    "    # sum the difference and return that\n",
    "    sum_diff = sum(diff_sq)\n",
    "    return sum_diff"
   ]
  },
  {
   "cell_type": "markdown",
   "metadata": {},
   "source": [
    "### Initalize the first set of centroids"
   ]
  },
  {
   "cell_type": "code",
   "execution_count": 33,
   "metadata": {
    "collapsed": false
   },
   "outputs": [
    {
     "name": "stdout",
     "output_type": "stream",
     "text": [
      "Initial centroids:\n",
      "[[ 6.18021942  4.82217045]\n",
      " [ 5.22192418  6.29517308]\n",
      " [ 4.75215367  5.09329638]]\n"
     ]
    }
   ],
   "source": [
    "# set the number of clusters\n",
    "K = 3\n",
    "\n",
    "# initalize a first set of centroids\n",
    "# set up an blank array to hold the \n",
    "# centroids\n",
    "centroids = []\n",
    "\n",
    "# loop through the number of centroids\n",
    "for i in range(K):\n",
    "    \n",
    "    # generate a random point \n",
    "    # and add it to the centroid\n",
    "    # list\n",
    "    _center_idx = np.random.randint(0,len(parsedData.collect())-1)\n",
    "    \n",
    "    # grab that point\n",
    "    _center = parsedData.collect()[_center_idx]\n",
    "    \n",
    "    # add it to the list\n",
    "    centroids.append(_center)\n",
    "    \n",
    "# convert centroids to numpy array\n",
    "centroids = np.array(centroids)\n",
    "    \n",
    "# print out our first centroids\n",
    "print \"Initial centroids:\"\n",
    "print centroids"
   ]
  },
  {
   "cell_type": "markdown",
   "metadata": {},
   "source": [
    "### Function to find nearest centroid"
   ]
  },
  {
   "cell_type": "code",
   "execution_count": 34,
   "metadata": {
    "collapsed": true
   },
   "outputs": [],
   "source": [
    "def findNearest(point,centroid_list):\n",
    "    \"\"\"function takes a point and a list of\n",
    "    centroids and returns the index of the\n",
    "    closest centroid\"\"\"\n",
    "    print centroid_list\n",
    "    # calculate distances between the point\n",
    "    # and every centroid\n",
    "    dist = np.sum((point - centroid_list)**2, axis=1)\n",
    "    \n",
    "    # the closest centroid is the one with\n",
    "    # the minimum distance\n",
    "    closest = dist.argmin()\n",
    "    \n",
    "    # return the closest centroid, the \n",
    "    # point, and 1\n",
    "    return (closest,(point,1))"
   ]
  },
  {
   "cell_type": "markdown",
   "metadata": {},
   "source": [
    "### Iterate over the data, updating the centroids"
   ]
  },
  {
   "cell_type": "code",
   "execution_count": 36,
   "metadata": {
    "collapsed": false
   },
   "outputs": [
    {
     "name": "stdout",
     "output_type": "stream",
     "text": [
      "Iteration 1\n",
      "WSSSE: 10187.953472\n",
      "Centroids:\n",
      "[[ 4.86426988  0.40754886]\n",
      " [ 6.12117402  6.26176499]\n",
      " [ 0.7817726   3.11179023]]\n"
     ]
    },
    {
     "data": {
      "image/png": "[encoded data removed]",
      "text/plain": [
       "<matplotlib.figure.Figure at 0x7f6ae0d66b10>"
      ]
     },
     "metadata": {},
     "output_type": "display_data"
    },
    {
     "name": "stdout",
     "output_type": "stream",
     "text": [
      "\n",
      "\n",
      "Iteration 10\n",
      "WSSSE: 8910.89298252\n",
      "Centroids:\n",
      "[[ 4.01283697 -0.02271581]\n",
      " [-0.06737074  4.22687513]\n",
      " [ 6.10388592  6.04617728]]\n"
     ]
    },
    {
     "data": {
      "image/png": "[encoded data removed]",
      "text/plain": [
       "<matplotlib.figure.Figure at 0x7f6ae0f61350>"
      ]
     },
     "metadata": {},
     "output_type": "display_data"
    },
    {
     "name": "stdout",
     "output_type": "stream",
     "text": [
      "\n",
      "\n",
      "Iteration 20\n",
      "WSSSE: 8910.89298252\n",
      "Centroids:\n",
      "[[ 4.01283697 -0.02271581]\n",
      " [-0.06737074  4.22687513]\n",
      " [ 6.10388592  6.04617728]]\n"
     ]
    },
    {
     "data": {
      "image/png": "[encoded data removed]",
      "text/plain": [
       "<matplotlib.figure.Figure at 0x7f6ae095d450>"
      ]
     },
     "metadata": {},
     "output_type": "display_data"
    },
    {
     "name": "stdout",
     "output_type": "stream",
     "text": [
      "\n",
      "\n",
      "Iteration 100\n",
      "WSSSE: 8910.89298252\n",
      "Centroids:\n",
      "[[ 4.01283697 -0.02271581]\n",
      " [-0.06737074  4.22687513]\n",
      " [ 6.10388592  6.04617728]]\n"
     ]
    },
    {
     "data": {
      "image/png": "[encoded data removed]",
      "text/plain": [
       "<matplotlib.figure.Figure at 0x7f6aeb462590>"
      ]
     },
     "metadata": {},
     "output_type": "display_data"
    },
    {
     "name": "stdout",
     "output_type": "stream",
     "text": [
      "\n",
      "\n"
     ]
    }
   ],
   "source": [
    "# set the number of iterations\n",
    "ITERATIONS = 100\n",
    "\n",
    "# set the interesting iterations\n",
    "INTEREST = [1,10,20,100]\n",
    "\n",
    "# set the iterations we want\n",
    "# to record errors for\n",
    "ERROR_INTEREST = [1, 10, 20, 30, 40, 50, 100]\n",
    "\n",
    "# create a list to hold our \n",
    "# error for each iterations\n",
    "errors = []\n",
    "\n",
    "# set the current iteration\n",
    "iteration = 0 \n",
    "\n",
    "# while the iteration is less than \n",
    "# the number of iterations\n",
    "while iteration <= ITERATIONS:\n",
    "    \n",
    "    # broadcast the centroids to each node\n",
    "    broad_centroids = sc.broadcast(centroids)\n",
    "    \n",
    "    # take each line of data and \n",
    "    # find its nearest neighbor\n",
    "    _nearest = parsedData.map(lambda x: findNearest(x,np.array(broad_centroids.value)))\n",
    "    \n",
    "    # and then reduce by key\n",
    "    # to get the sum of all points\n",
    "    # and the number of data points\n",
    "    _summed = _nearest.reduceByKey(lambda x,y: (x[0] + y[0], x[1] + y[1]))\n",
    "    \n",
    "    # and then reduce by dividing \n",
    "    # the sum of points by the \n",
    "    # total number of points\n",
    "    new_centroids = _summed.map(lambda x: x[1][0]/x[1][1]).collect()\n",
    "    \n",
    "    # convert the new_centroids to \n",
    "    # numpy array\n",
    "    centroids = np.array(new_centroids)\n",
    "    \n",
    "    # calculate the WSSE for this model by computing\n",
    "    # the distance between each point and its assigned\n",
    "    # centroid\n",
    "    \n",
    "    # first calculate the error for each point\n",
    "    _error_each = _nearest.map(lambda x: sqError(x,centroids))\n",
    "\n",
    "    # then calculate the total error\n",
    "    _error_total = _error_each.reduce(lambda x,y: x+y)\n",
    "    \n",
    "    # increment the iterator\n",
    "    iteration = iteration + 1\n",
    "    \n",
    "    # check to see if this is an iteration\n",
    "    # where we want to record the error\n",
    "    # if it is, then record it\n",
    "    if iteration in ERROR_INTEREST:\n",
    "        info = iteration,_error_total\n",
    "        errors.append(info)\n",
    "    \n",
    "    # check to see if this an iteration\n",
    "    # of interest, one that we would\n",
    "    # like to plot\n",
    "    if iteration in INTEREST:\n",
    "        \n",
    "        # print out the iteration \n",
    "        # and the centroids\n",
    "        print \"Iteration\", iteration\n",
    "        print \"WSSSE:\", _error_total\n",
    "        print \"Centroids:\"\n",
    "        print centroids\n",
    "\n",
    "        # plot the centroids and the data\n",
    "        plotKMeans(centroids,data)\n",
    "\n",
    "        print \"\\n\"\n",
    "        \n",
    "# convert the errors to a numpy array\n",
    "# and write them to file\n",
    "errors = np.array(errors)\n",
    "np.savetxt('errors.csv',errors,delimiter = ',')"
   ]
  },
  {
   "cell_type": "markdown",
   "metadata": {},
   "source": [
    "### Load in the error data"
   ]
  },
  {
   "cell_type": "code",
   "execution_count": 37,
   "metadata": {
    "collapsed": false,
    "scrolled": true
   },
   "outputs": [
    {
     "name": "stdout",
     "output_type": "stream",
     "text": [
      "[[  1.00000000e+00   1.01879535e+04]\n",
      " [  1.00000000e+01   8.91089298e+03]\n",
      " [  2.00000000e+01   8.91089298e+03]\n",
      " [  3.00000000e+01   8.91089298e+03]\n",
      " [  4.00000000e+01   8.91089298e+03]\n",
      " [  5.00000000e+01   8.91089298e+03]\n",
      " [  1.00000000e+02   8.91089298e+03]]\n"
     ]
    }
   ],
   "source": [
    "import numpy as np\n",
    "\n",
    "# set the error from the text\n",
    "errors = np.genfromtxt('errors.csv', delimiter=',')\n",
    "\n",
    "# print out the file\n",
    "print errors"
   ]
  },
  {
   "cell_type": "markdown",
   "metadata": {},
   "source": [
    "### Plot the error data"
   ]
  },
  {
   "cell_type": "code",
   "execution_count": 38,
   "metadata": {
    "collapsed": false,
    "scrolled": false
   },
   "outputs": [
    {
     "data": {
      "image/png": "[encoded data removed]",
      "text/plain": [
       "<matplotlib.figure.Figure at 0x7f6ae0a0abd0>"
      ]
     },
     "metadata": {},
     "output_type": "display_data"
    }
   ],
   "source": [
    "%matplotlib inline\n",
    "import matplotlib.pyplot as plt\n",
    "\n",
    "# plot the error data\n",
    "plt.plot(errors[:,0],errors[:,1])\n",
    "plt.title(\"WSSSE for KMeans by Iterations\")\n",
    "plt.show()"
   ]
  },
  {
   "cell_type": "markdown",
   "metadata": {},
   "source": [
    "#### <span style=\"color:violet\"> We can see that by 10 iterations we have already converged and that more iterations do not really help us get to a more accurate set of centroids. </span>"
   ]
  },
  {
   "cell_type": "markdown",
   "metadata": {},
   "source": [
    "<a name=\"HW10.5\"><h2 style=\"color:darkgreen\"> HW10.5: OPTIONAL Weighted KMeans  </h2>\n",
    "[Back to Table of Contents](#TOC)\n",
    "\n",
    "Using this provided [homegrown Kmeans code](http://nbviewer.jupyter.org/urls/dl.dropbox.com/s/3nsthvp8g2rrrdh/EM-Kmeans.ipynb), modify it to do a weighted KMeans and repeat the experiements in HW10.3. Explain  any differences between the results in HW10.3 and HW10.5.\n",
    "\n",
    "NOTE: Weight each example as follows using the inverse vector length (Euclidean norm): \n",
    "\n",
    "> weight(X)= 1/||X||, \n",
    "\n",
    "where ||X|| = SQRT(X.X)= SQRT(X1^2 + X2^2)\n",
    "\n",
    "Here X is vector made up of two values X1 and X2.\n",
    "\n",
    "__[Please incorporate all referenced notebooks directly into this master notebook as cells for HW submission. I.e., HW submissions should comprise of just one notebook]__"
   ]
  },
  {
   "cell_type": "code",
   "execution_count": 71,
   "metadata": {
    "collapsed": true
   },
   "outputs": [],
   "source": [
    "## Code goes here"
   ]
  },
  {
   "cell_type": "code",
   "execution_count": 72,
   "metadata": {
    "collapsed": true
   },
   "outputs": [],
   "source": [
    "## Drivers & Runners"
   ]
  },
  {
   "cell_type": "code",
   "execution_count": 73,
   "metadata": {
    "collapsed": true
   },
   "outputs": [],
   "source": [
    "## Run Scripts, S3 Sync"
   ]
  },
  {
   "cell_type": "markdown",
   "metadata": {},
   "source": [
    "<a name=\"HW10.6\"><h2 style=\"color:darkblue\"> HW10.6 OPTIONAL Linear Regression</h2>\n",
    "[Back to Table of Contents](#TOC)\n",
    "<a name=\"HW10.6.1\"><h2 style=\"color:darkblue\"> HW10.6.1 OPTIONAL Linear Regression</h2>\n",
    "[Back to Table of Contents](#TOC)\n",
    "\n",
    "Using [this linear regression notebook](    http://nbviewer.jupyter.org/urls/dl.dropbox.com/s/atzqkc0p1eajuz6/LinearRegression-Notebook-Challenge.ipynb):\n",
    "\n",
    "\n",
    "* Generate 2 sets of data with 100 data points using the data generation code provided and plot each in separate plots. Call one the training set and the other the testing set.\n",
    "\n",
    "* Using MLLib's LinearRegressionWithSGD train up a linear regression model with the training dataset and evaluate with the testing set. What a good number of iterations for training the linear regression model? Justify with plots (e.g., plot MSE as a function of the number of iterations) and words. \n"
   ]
  },
  {
   "cell_type": "markdown",
   "metadata": {},
   "source": [
    "<a name=\"HW10.6.2\"><h2 style=\"color:darkblue\"> HW10.6.2 OPTIONAL Linear Regression</h2>\n",
    "[Back to Table of Contents](#TOC)\n",
    "\n",
    "In the notebook provided above, in the cell labeled \"Gradient descent (regularization)\".\n",
    "\n",
    "* Fill in the blanks and get this code to work for LASS0 and RIDGE linear regression.\n",
    "\n",
    "* Using the data from HW10.6.1 tune the hyper parameters of your LASS0 and RIDGE regression. Report your findings with words and plots."
   ]
  },
  {
   "cell_type": "code",
   "execution_count": 74,
   "metadata": {
    "collapsed": true
   },
   "outputs": [],
   "source": [
    "## Code goes here"
   ]
  },
  {
   "cell_type": "code",
   "execution_count": 75,
   "metadata": {
    "collapsed": true
   },
   "outputs": [],
   "source": [
    "## Drivers & Runners"
   ]
  },
  {
   "cell_type": "code",
   "execution_count": 76,
   "metadata": {
    "collapsed": true
   },
   "outputs": [],
   "source": [
    "## Run Scripts, S3 Sync"
   ]
  },
  {
   "cell_type": "markdown",
   "metadata": {},
   "source": [
    "<a name=\"HW10.7\"><h2 style=\"color:darkgreen\"> HW10.7 OPTIONAL Error surfaces </h2>\n",
    "[Back to Table of Contents](#TOC)\n",
    "\n",
    "Here is a link to R code with 1 test drivers that plots the linear regression model in  model space and in the domain space:\n",
    "\n",
    "> https://www.dropbox.com/s/3xc3kwda6d254l5/PlotModelAndDomainSpaces.R?dl=0\n",
    "\n",
    "Here is a sample output from this script: \n",
    "      \n",
    "> https://www.dropbox.com/s/my3tnhxx7fr5qs0/image%20%281%29.png?dl=0\n",
    "\n",
    "Please use this as inspiration and code a equivalent error surface and heatmap (with isolines) in Spark and show the trajectory of learning taken during gradient descent(after each n-iterations of Gradient Descent):\n",
    "\n",
    "\n",
    "Using Spark and  Python (using the above R Script as inspiration), plot the error surface for the linear regression model using a heatmap and contour plot. \n",
    "Also plot the current model in the original domain space for every 10th iteration.  Plot them side by side if possible  for each iteration: lefthand side plot is the model space(w0 and w01) and the righthand side plot is domain space (plot the corresponding model and training data in the problem domain space) with a final pair of graphs showing the entire trajectory in the model and domain space. Make sure to label your plots with iteration numbers, function, model space versus original domain space, MSE on the training data etc.\n",
    "\n",
    "Also plot the MSE as a function of each iteration (possibly every 10th iteration). Dont forget to label both axis and the graph also. __[Please incorporate all referenced notebooks directly into this master notebook as cells for HW submission. I.e., HW submissions should comprise of just one notebook]__\n",
    "\n",
    "\n",
    "\n"
   ]
  },
  {
   "cell_type": "code",
   "execution_count": 77,
   "metadata": {
    "collapsed": true
   },
   "outputs": [],
   "source": [
    "## Code goes here"
   ]
  },
  {
   "cell_type": "code",
   "execution_count": 78,
   "metadata": {
    "collapsed": true
   },
   "outputs": [],
   "source": [
    "## Drivers & Runners"
   ]
  },
  {
   "cell_type": "code",
   "execution_count": 79,
   "metadata": {
    "collapsed": true
   },
   "outputs": [],
   "source": [
    "## Run Scripts, S3 Sync"
   ]
  },
  {
   "cell_type": "markdown",
   "metadata": {},
   "source": [
    "[Back to Table of Contents](#TOC)\n",
    "<center><div class='jumbotron'><h2 style='color:green'>-------  END OF HOWEWORK --------</h2></div></center>"
   ]
  },
  {
   "cell_type": "code",
   "execution_count": null,
   "metadata": {
    "collapsed": true
   },
   "outputs": [],
   "source": []
  }
 ],
 "metadata": {
  "kernelspec": {
   "display_name": "Python 2",
   "language": "python",
   "name": "python2"
  },
  "language_info": {
   "codemirror_mode": {
    "name": "ipython",
    "version": 2
   },
   "file_extension": ".py",
   "mimetype": "text/x-python",
   "name": "python",
   "nbconvert_exporter": "python",
   "pygments_lexer": "ipython2",
   "version": "2.7.12"
  }
 },
 "nbformat": 4,
 "nbformat_minor": 0
}
