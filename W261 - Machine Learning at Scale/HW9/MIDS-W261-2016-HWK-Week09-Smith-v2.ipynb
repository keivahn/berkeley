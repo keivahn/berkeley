{
 "cells": [
  {
   "cell_type": "markdown",
   "metadata": {},
   "source": [
    "# Homework 9\n",
    "**Alex Smith**<br>\n",
    "July 13, 2016<br>\n",
    "MIDS261 - Machine Learning at Scale<br>\n",
    "Professor Shanahan<br>\n",
    "Due: July 18, 2016"
   ]
  },
  {
   "cell_type": "markdown",
   "metadata": {},
   "source": [
    "***\n",
    "### Useful resources\n",
    "The following resources were particularly useful.\n",
    "- [Wikipedia article on PageRank](https://en.wikipedia.org/wiki/PageRank)\n",
    "- [Networkx Example](https://www.udacity.com/wiki/creating-network-graphs-with-python)\n",
    "\n",
    "### Libraries\n",
    "The following libraries must be installed before running the below code. They can all be installed through [Pip](https://github.com/pypa/pip).\n",
    "- [Scikit Learn](http://scikit-learn.org/stable/)\n",
    "- [Numpy](http://www.numpy.org/)\n",
    "- [Regular Expression](https://docs.python.org/2/library/re.html)\n",
    "- [Pretty Table](https://pypi.python.org/pypi/PrettyTable)\n",
    "- [Random](https://docs.python.org/2/library/random.html)\n",
    "- [Datetime](https://docs.python.org/2/library/datetime.html)\n",
    "- [Matplotlib](http://matplotlib.org/)\n",
    "- [MRJob](https://pythonhosted.org/mrjob/)\n",
    "- [Pandas](http://pandas.pydata.org/)\n",
    "- [Networkx](https://networkx.github.io/)"
   ]
  },
  {
   "cell_type": "markdown",
   "metadata": {},
   "source": [
    "***\n",
    "## HW 9.0: Short answer questions\n",
    "What is PageRank and what is it used for in the context of web search?\n",
    "What modifications have to be made to the webgraph in order to leverage the machinery of Markov Chains to \n",
    "compute the steady state distribution?\n",
    "OPTIONAL: In topic-specific pagerank, how can we insure that the irreducible property is satified? (HINT: see HW9.4)"
   ]
  },
  {
   "cell_type": "markdown",
   "metadata": {},
   "source": [
    "PageRank is a query independent assessment of a webpage's quality. It is an algorithm developed at Google. The motivation behind the algorithm is to rank higher quality pages as more important than lower quality pages. Intuitively, the PageRank algorithm considers a page that has more in-links (other pages linking to it) more important than another page that has less in-links ([Wikipedia](https://en.wikipedia.org/wiki/PageRank)). The idea is that you can use the network graph to determine the importance of a page. For PageRank to work well and compute the steady state distribution using Markov Chains, we need a well-behaved graph. This means that we need **reducible** and **aperiodic** webgraphs. This introduces the idea of teleportation and resolves the problem of danging nodes (webpages with no outlinks). Reducible graphs are ones in which we can reach every other node from a single node. A periodic webgraphs have 1 as the greatest common divisor for all cycle lengths, where a cycle is the number of steps it takes to get from node back to itself.\n",
    "<img src=\"https://dl.dropboxusercontent.com/u/37624818/W261_Week9/PageRank.png\" alt=\"pagerank\" style=\"width: 500px;\"/>\n",
    "*[Source](https://en.wikipedia.org/wiki/PageRank)*"
   ]
  },
  {
   "cell_type": "markdown",
   "metadata": {},
   "source": [
    "***\n",
    "## HW 9.1: MRJob implementation of basic PageRank\n",
    "\n",
    "Write a basic MRJob implementation of the iterative PageRank algorithm\n",
    "that takes sparse adjacency lists as input (as explored in HW 7).\n",
    "Make sure that you implementation utilizes teleportation (1-damping/the number of nodes in the network), \n",
    "and further, distributes the mass of dangling nodes with each iteration\n",
    "so that the output of each iteration is correctly normalized (sums to 1).\n",
    "[NOTE: The PageRank algorithm assumes that a random surfer (walker), starting from a random web page,\n",
    "chooses the next page to which it will move by clicking at random, with probability d,\n",
    "one of the hyperlinks in the current page. This probability is represented by a so-called\n",
    "‘damping factor’ d, where d ∈ (0, 1). Otherwise, with probability (1 − d), the surfer\n",
    "jumps to any web page in the network. If a page is a dangling end, meaning it has no\n",
    "outgoing hyperlinks, the random surfer selects an arbitrary web page from a uniform\n",
    "distribution and “teleports” to that page]\n",
    "\n",
    "\n",
    "As you build your code, use the test data\n",
    "\n",
    "s3://ucb-mids-mls-networks/PageRank-test.txt\n",
    "Or under the Data Subfolder for HW7 on Dropbox with the same file name. \n",
    "(On Dropbox https://www.dropbox.com/sh/2c0k5adwz36lkcw/AAAAKsjQfF9uHfv-X9mCqr9wa?dl=0)\n",
    "\n",
    "with teleportation parameter set to 0.15 (1-d, where d, the damping factor is set to 0.85), and crosscheck\n",
    "your work with the true result, displayed in the first image\n",
    "in the Wikipedia article:\n",
    "\n",
    "https://en.wikipedia.org/wiki/PageRank\n",
    "\n",
    "and here for reference are the corresponding PageRank probabilities:\n",
    "\n",
    "A,0.033<br>\n",
    "B,0.384<br>\n",
    "C,0.343<br>\n",
    "D,0.039<br>\n",
    "E,0.081<br>\n",
    "F,0.039<br>\n",
    "G,0.016<br>\n",
    "H,0.016<br>\n",
    "I,0.016<br>\n",
    "J,0.016<br>\n",
    "K,0.016<br>"
   ]
  },
  {
   "cell_type": "markdown",
   "metadata": {},
   "source": [
    "### Get the count of the nodes"
   ]
  },
  {
   "cell_type": "code",
   "execution_count": 27,
   "metadata": {
    "collapsed": false
   },
   "outputs": [
    {
     "name": "stdout",
     "output_type": "stream",
     "text": [
      "Overwriting MRnodecount.py\n"
     ]
    }
   ],
   "source": [
    "%%writefile MRnodecount.py\n",
    "\n",
    "# import the MRJob class\n",
    "from mrjob.job import MRJob\n",
    "from mrjob.step import MRStep\n",
    "\n",
    "# import libraries to help us\n",
    "# get our job done\n",
    "import ast\n",
    "import sys\n",
    "  \n",
    "class MRnodecount(MRJob):\n",
    "    \n",
    "    # set the count of the number of nodes\n",
    "    count = 0\n",
    "    \n",
    "    # define the steps for the MapReduce job\n",
    "    def steps(self):\n",
    "        \n",
    "        # we use a single reducer in our second \n",
    "        # job to bring the sum of all the nodes \n",
    "        # together into a single value\n",
    "        JOBCONF2 = {        \n",
    "            'mapreduce.job.reduces': 1,\n",
    "        }\n",
    "        \n",
    "        return [MRStep(mapper=self.mapper,\\\n",
    "                       combiner=self.combiner,\\\n",
    "                       reducer=self.reducer,\\\n",
    "                       reducer_final=self.reducer_final),\\\n",
    "                MRStep(jobconf=JOBCONF2,\\\n",
    "                       mapper=self.mapper2,\\\n",
    "                       reducer=self.reducer2)]       \n",
    "    \n",
    "    \n",
    "    # the mapper takes each line and \n",
    "    # yields its own node and all its\n",
    "    # links\n",
    "    def mapper(self, _, line):\n",
    "        \n",
    "        # split the line into its node\n",
    "        # and its links\n",
    "        line = line.strip().split('\\t')\n",
    "        node = int(line[0])\n",
    "        links = ast.literal_eval(line[1])\n",
    "        \n",
    "        # yield this node\n",
    "        yield node,1\n",
    "        \n",
    "        # yield the node's links\n",
    "        for link in links:\n",
    "            yield int(link),1\n",
    "    \n",
    "    \n",
    "    # set the combiner to simply emit\n",
    "    # the nodes with a 1\n",
    "    def combiner(self,node,counts):\n",
    "        yield node,1\n",
    "    \n",
    "    # the reducer increments the count\n",
    "    # for each node that passes to it\n",
    "    def reducer(self,node,counts):\n",
    "        self.count = self.count + 1\n",
    "        \n",
    "    \n",
    "    # the reducer final yields the \n",
    "    # total count of nodes\n",
    "    def reducer_final(self):\n",
    "        yield 'count',self.count\n",
    "        \n",
    "    \n",
    "    # the 2nd mapper simply passes what was\n",
    "    # passed to it\n",
    "    def mapper2(self,label,counts):\n",
    "        yield label,counts\n",
    "        \n",
    "    \n",
    "    # the 2nd reducer simply takes the sum\n",
    "    # of the nodes emitted by each of the \n",
    "    # reducers in step 1\n",
    "    def reducer2(self,label,counts):\n",
    "        yield label,sum(counts)\n",
    "    \n",
    "\n",
    "if __name__ == '__main__':\n",
    "    MRnodecount.run()"
   ]
  },
  {
   "cell_type": "code",
   "execution_count": 28,
   "metadata": {
    "collapsed": false
   },
   "outputs": [
    {
     "name": "stdout",
     "output_type": "stream",
     "text": [
      "Job completed. Total nodes: 11\n"
     ]
    }
   ],
   "source": [
    "%reload_ext autoreload\n",
    "%autoreload 2\n",
    "\n",
    "# import the MRJobs that we created\n",
    "from MRnodecount import MRnodecount\n",
    "\n",
    "# set the MRJob \n",
    "mr_job = MRnodecount(args=['PageRank-test_indexed.txt'])\n",
    "\n",
    "# initialize a variable to hold the \n",
    "# total nodes\n",
    "total_nodes = 0\n",
    "\n",
    "# create the runner and run it\n",
    "with mr_job.make_runner() as runner:\n",
    "    runner.run()\n",
    "    \n",
    "    # save the output to a file\n",
    "    with open('test_nodecount.txt','w') as myfile:\n",
    "        \n",
    "        # loop through the lines (there\n",
    "        # should only be one)\n",
    "        for line in runner.stream_output():\n",
    "            \n",
    "            # grab the key,value\n",
    "            key,value =  mr_job.parse_output_line(line)\n",
    "            \n",
    "            # write the number of nodes to file\n",
    "            myfile.write(str(value))\n",
    "            total_nodes = value\n",
    "            \n",
    "print \"Job completed. Total nodes:\",total_nodes"
   ]
  },
  {
   "cell_type": "code",
   "execution_count": 15,
   "metadata": {
    "collapsed": false
   },
   "outputs": [
    {
     "name": "stdout",
     "output_type": "stream",
     "text": [
      "Total nodes: 11\n"
     ]
    }
   ],
   "source": [
    "# save the file and save the total nodes\n",
    "total_nodes = 0\n",
    "with open('test_nodecount.txt','r') as myfile:\n",
    "    total_nodes = int(myfile.readline())\n",
    "print \"Total nodes:\", total_nodes"
   ]
  },
  {
   "cell_type": "markdown",
   "metadata": {},
   "source": [
    "### Identify and bring out the dangling nodes as additional input files"
   ]
  },
  {
   "cell_type": "code",
   "execution_count": 6,
   "metadata": {
    "collapsed": false
   },
   "outputs": [
    {
     "name": "stdout",
     "output_type": "stream",
     "text": [
      "Overwriting MRdangleNode.py\n"
     ]
    }
   ],
   "source": [
    "%%writefile MRdangleNode.py\n",
    "\n",
    "# import the MRJob class\n",
    "from mrjob.job import MRJob\n",
    "from mrjob.step import MRStep\n",
    "\n",
    "# import libraries to help us\n",
    "# get our job done\n",
    "import ast\n",
    "import sys\n",
    "  \n",
    "class MRdangleNode(MRJob):\n",
    "    \n",
    "    # define the steps for the MapReduce job\n",
    "    def steps(self):\n",
    "        \n",
    "        return [MRStep(mapper=self.mapper,\\\n",
    "                       combiner=self.combiner,\\\n",
    "                       reducer=self.reducer)]       \n",
    "    \n",
    "    \n",
    "    # the mapper takes each line and \n",
    "    # yields its own node and all its\n",
    "    # links\n",
    "    def mapper(self, _, line):\n",
    "        \n",
    "        # split the line into its node\n",
    "        # and its links\n",
    "        line = line.strip().split('\\t')\n",
    "        node = int(line[0])\n",
    "        links = ast.literal_eval(line[1])\n",
    "        \n",
    "        # yield this node\n",
    "        yield node,links\n",
    "        \n",
    "        # yield the node's links\n",
    "        for link in links:\n",
    "            yield int(link),{}\n",
    "    \n",
    "    \n",
    "    # set the combiner to combine the \n",
    "    # dictionaries of links\n",
    "    def combiner(self,node,links):\n",
    "        \n",
    "        # set a new dictionary to \n",
    "        # merge each dictionary into\n",
    "        new_links = {}\n",
    "        \n",
    "        # loop through each link set\n",
    "        for link_set in links:\n",
    "            new_links.update(link_set)\n",
    "            \n",
    "        yield node,new_links\n",
    "    \n",
    "    # the reducer combines the dictionaries\n",
    "    # of links and then checks for dangling\n",
    "    # nodes and emits only those\n",
    "    def reducer(self,node,links):\n",
    "        \n",
    "        # set a new dictionary to \n",
    "        # merge each dictionary into\n",
    "        new_links = {}\n",
    "        \n",
    "        # loop through each link set\n",
    "        for link_set in links:\n",
    "            new_links.update(link_set)\n",
    "            \n",
    "        # check if this is a dangling node\n",
    "        if len(new_links) == 0:\n",
    "            yield node,new_links\n",
    "    \n",
    "\n",
    "if __name__ == '__main__':\n",
    "    MRdangleNode.run()"
   ]
  },
  {
   "cell_type": "code",
   "execution_count": 7,
   "metadata": {
    "collapsed": false
   },
   "outputs": [
    {
     "name": "stdout",
     "output_type": "stream",
     "text": [
      "1\t{}\r\n"
     ]
    }
   ],
   "source": [
    "# pull out the dangling nodes\n",
    "!python MRdangleNode.py PageRank-test_indexed.txt --quiet > test_dangling\n",
    "\n",
    "# show the dangling nodes\n",
    "!cat test_dangling"
   ]
  },
  {
   "cell_type": "markdown",
   "metadata": {},
   "source": [
    "### Initalize the graph"
   ]
  },
  {
   "cell_type": "code",
   "execution_count": 8,
   "metadata": {
    "collapsed": false
   },
   "outputs": [
    {
     "name": "stdout",
     "output_type": "stream",
     "text": [
      "Overwriting MRgraphinit.py\n"
     ]
    }
   ],
   "source": [
    "%%writefile MRgraphinit.py\n",
    "\n",
    "# import the MRJob class\n",
    "from mrjob.job import MRJob\n",
    "from mrjob.step import MRStep\n",
    "\n",
    "# import libraries to help us\n",
    "# get our job done\n",
    "import ast\n",
    "import sys\n",
    "  \n",
    "class MRgraphinit(MRJob):\n",
    "    \n",
    "    # set the count of the number of nodes\n",
    "    # and the weight for each node\n",
    "    count = 0\n",
    "    weight = 0\n",
    "    \n",
    "    # define the steps for the MapReduce job\n",
    "    def steps(self):\n",
    "        return [MRStep(mapper=self.mapper,\\\n",
    "                       reducer_init=self.reducer_init,\\\n",
    "                       reducer=self.reducer)]    \n",
    "    \n",
    "    \n",
    "    # configure the options so that we can \n",
    "    # pass in the source node of interest\n",
    "    def configure_options(self):\n",
    "        super(MRgraphinit, self).configure_options()\n",
    "        self.add_passthrough_option(\"--nodes\", type='int', default=1)\n",
    "    \n",
    "    \n",
    "    # the mapper takes each line and \n",
    "    # outputs the node and\n",
    "    # also yields all the outbound\n",
    "    # links from the node. this is so\n",
    "    # that we can find dangling nodes\n",
    "    def mapper(self, _, line):\n",
    "        \n",
    "        # split the line into its node\n",
    "        # and its links\n",
    "        line = line.strip().split('\\t')\n",
    "        node = int(line[0])\n",
    "        links = ast.literal_eval(line[1])\n",
    "        \n",
    "        # set the key,value pair\n",
    "        key = node\n",
    "        value = links\n",
    "        \n",
    "        # yield the key,value\n",
    "        yield key,1\n",
    "        \n",
    "        # loop through the links emiting\n",
    "        # each link and an empty dictionary\n",
    "        for link in links:\n",
    "            yield int(link),1\n",
    "        \n",
    "    \n",
    "    # the reducer init sets the total \n",
    "    # number of nodes for this graph\n",
    "    def reducer_init(self):\n",
    "        self.count = self.options.nodes\n",
    "        self.weight = 1.0 / self.count\n",
    "        \n",
    "        \n",
    "    # the reducer takes each node and \n",
    "    # emits its links (if it has any)\n",
    "    # and adds a uniformly distributed\n",
    "    # weight\n",
    "    def reducer(self,node,counts):\n",
    "                \n",
    "        # set the key value for each\n",
    "        # node: node, weight\n",
    "        key = node\n",
    "        value = self.weight\n",
    "        \n",
    "        yield key,value\n",
    "            \n",
    "\n",
    "if __name__ == '__main__':\n",
    "    MRgraphinit.run()"
   ]
  },
  {
   "cell_type": "markdown",
   "metadata": {},
   "source": [
    "#### Save the initial file as iteration 0"
   ]
  },
  {
   "cell_type": "code",
   "execution_count": 10,
   "metadata": {
    "collapsed": false
   },
   "outputs": [
    {
     "name": "stdout",
     "output_type": "stream",
     "text": [
      "1\t0.09090909090909091\r\n",
      "10\t0.09090909090909091\r\n",
      "11\t0.09090909090909091\r\n",
      "2\t0.09090909090909091\r\n",
      "3\t0.09090909090909091\r\n",
      "4\t0.09090909090909091\r\n",
      "5\t0.09090909090909091\r\n",
      "6\t0.09090909090909091\r\n",
      "7\t0.09090909090909091\r\n",
      "8\t0.09090909090909091\r\n",
      "9\t0.09090909090909091\r\n"
     ]
    }
   ],
   "source": [
    "# set the iteration to 0\n",
    "iteration = 0\n",
    "filename = 'test_iter_'+str(iteration)\n",
    "\n",
    "# create the file\n",
    "!python MRgraphinit.py PageRank-test_indexed.txt --nodes=$total_nodes --quiet > $filename\n",
    "\n",
    "# show the output of the file\n",
    "!cat $filename"
   ]
  },
  {
   "cell_type": "markdown",
   "metadata": {},
   "source": [
    "## Develop the transition probability matrix\n",
    "We develop the transition probability matrix which is the composition of the **hyperlink matrix** and the **teleporting matrix**. The hyperlink matrix is the probability of following a page's links to other pages. The teleporting matrix is the probability of teleporting to any other page in the graph.\n",
    "![transitionmatrix](https://dl.dropboxusercontent.com/u/37624818/W261_Week9/TransitionMatrix.png)\n",
    "*Source: Week 10, Synchronous Slides*"
   ]
  },
  {
   "cell_type": "code",
   "execution_count": 13,
   "metadata": {
    "collapsed": false
   },
   "outputs": [
    {
     "name": "stdout",
     "output_type": "stream",
     "text": [
      "Overwriting MRprobMatrix.py\n"
     ]
    }
   ],
   "source": [
    "%%writefile MRprobMatrix.py\n",
    "\n",
    "# import the MRJob class\n",
    "from mrjob.job import MRJob\n",
    "from mrjob.step import MRStep\n",
    "\n",
    "# import libraries to help us\n",
    "# get our job done\n",
    "import ast\n",
    "import sys\n",
    "  \n",
    "class MRprobMatrix(MRJob):\n",
    "    \n",
    "    # set the count of the number of nodes\n",
    "    # and the dampening factor and the \n",
    "    # teleportation weight\n",
    "    count = 0\n",
    "    damp = 0\n",
    "    teleport = 0\n",
    "    \n",
    "    \n",
    "    # define the steps for the MapReduce job\n",
    "    def steps(self):\n",
    "        return [MRStep(mapper_init = self.reducer_init,\\\n",
    "                       mapper=self.mapper,\\\n",
    "                       combiner=self.combiner,\\\n",
    "                       reducer_init=self.reducer_init,\\\n",
    "                       reducer=self.reducer)]    \n",
    "    \n",
    "    \n",
    "    # configure the options so that we can \n",
    "    # pass in the number of nodes and the\n",
    "    # dampening factor\n",
    "    def configure_options(self):\n",
    "        super(MRprobMatrix, self).configure_options()\n",
    "        self.add_passthrough_option(\"--nodes\", type='int', default=1)\n",
    "        self.add_passthrough_option(\"--dampen\", type='float', default=0.85)\n",
    "    \n",
    "    \n",
    "    # the mapper takes each line and \n",
    "    # outputs its links as keys and \n",
    "    # the weight as 1 over the number\n",
    "    # of links\n",
    "    def mapper(self, _, line):\n",
    "        \n",
    "        # split the line into its node\n",
    "        # and its links\n",
    "        line = line.strip().split('\\t')\n",
    "        node = int(line[0])\n",
    "        links = ast.literal_eval(line[1])\n",
    "        \n",
    "        # number of links\n",
    "        length = len(links)\n",
    "        \n",
    "        # loop through the links emiting\n",
    "        # each link and the weight of that\n",
    "        # node from this node\n",
    "        for link in links:\n",
    "            weight = 1.0/length\n",
    "            \n",
    "            # set the key-value pair as the \n",
    "            # link and the weight of the\n",
    "            # source node directed to this\n",
    "            # node\n",
    "            key = int(link)\n",
    "            value = {node:weight}\n",
    "            yield key,value\n",
    "\n",
    "        # if we have a dangling node, i.e. no \n",
    "        # links to other nodes\n",
    "        if length == 0:\n",
    "            \n",
    "            # loop through every possible node\n",
    "            # and emit that weight \n",
    "            weight = 1.0/self.count\n",
    "            for i in range(1,self.count+1):\n",
    "                \n",
    "                # set the key as the other node\n",
    "                # and the value as the weight and\n",
    "                # this dangling node\n",
    "                key = int(i)\n",
    "                value = {node:weight}\n",
    "                yield key,value\n",
    "        \n",
    "        # also yield the node itself in\n",
    "        # the chance that is has no inlinks\n",
    "        yield node,{}\n",
    "    \n",
    "    \n",
    "    # the combiner merges the dictionaries\n",
    "    # from mutliple source nodes\n",
    "    def combiner(self,node,inweights):\n",
    "        \n",
    "        # create a dictionary to store\n",
    "        # the weights\n",
    "        weights = {}\n",
    "\n",
    "        # loop through the inweight dictionaries\n",
    "        for inweight in inweights:\n",
    "            \n",
    "            # add to our existing dictionary\n",
    "            weights.update(inweight)\n",
    "\n",
    "        # return the node and its inweights\n",
    "        yield node,weights\n",
    "    \n",
    "    \n",
    "    # the reducer init sets the total \n",
    "    # number of nodes for this graph and\n",
    "    # the dampening factor we care about\n",
    "    def reducer_init(self):\n",
    "        self.count = self.options.nodes\n",
    "        self.damp = self.options.dampen\n",
    "        \n",
    "        # calculate the teleportation parameter\n",
    "        self.teleport = (1.0-self.damp) * (1.0/self.count)\n",
    "        \n",
    "        \n",
    "    # the reducer takes each node and \n",
    "    # emits as the inbound weights from\n",
    "    # every other node\n",
    "    def reducer(self,node,inweights):\n",
    "\n",
    "        # create a dictionary to store\n",
    "        # the weights\n",
    "        weights = {}\n",
    "\n",
    "        # loop through the inweight dictionaries\n",
    "        for inweight in inweights:\n",
    "            \n",
    "            # add to our existing dictionary\n",
    "            weights.update(inweight)\n",
    "\n",
    "        # create a new dictionary to store the \n",
    "        # total weights\n",
    "        total_weights = {}\n",
    "        \n",
    "        # loop through every possible node and assign\n",
    "        # the inweight\n",
    "        for i in range(1,self.count+1):\n",
    "            \n",
    "            # set the weight for this node\n",
    "            weight = 0.0\n",
    "            \n",
    "            # check to see if this node is one\n",
    "            # of the linked nodes\n",
    "            if str(i) in weights:\n",
    "                weight = weights[str(i)]\n",
    "                \n",
    "            # dampen the weight\n",
    "            weight = self.damp * weight\n",
    "\n",
    "            # calculate the transition weight\n",
    "            # as the sum of the hyperlink weight\n",
    "            # and the teleportation weight\n",
    "            total_weight = weight + self.teleport\n",
    "\n",
    "            # add this weight to the matrix\n",
    "            total_weights[i] = total_weight\n",
    "            \n",
    "        # yield the node and all the inweights\n",
    "        yield node,total_weights\n",
    "             \n",
    "\n",
    "if __name__ == '__main__':\n",
    "    MRprobMatrix.run()"
   ]
  },
  {
   "cell_type": "code",
   "execution_count": 14,
   "metadata": {
    "collapsed": false
   },
   "outputs": [
    {
     "name": "stdout",
     "output_type": "stream",
     "text": [
      "1\t{\"1\": 0.09090909090909091, \"2\": 0.01363636363636364, \"3\": 0.01363636363636364, \"4\": 0.4386363636363636, \"5\": 0.01363636363636364, \"6\": 0.01363636363636364, \"7\": 0.01363636363636364, \"8\": 0.01363636363636364, \"9\": 0.01363636363636364, \"10\": 0.01363636363636364, \"11\": 0.01363636363636364}\r\n",
      "10\t{\"1\": 0.09090909090909091, \"2\": 0.01363636363636364, \"3\": 0.01363636363636364, \"4\": 0.01363636363636364, \"5\": 0.01363636363636364, \"6\": 0.01363636363636364, \"7\": 0.01363636363636364, \"8\": 0.01363636363636364, \"9\": 0.01363636363636364, \"10\": 0.01363636363636364, \"11\": 0.01363636363636364}\r\n",
      "11\t{\"1\": 0.09090909090909091, \"2\": 0.01363636363636364, \"3\": 0.01363636363636364, \"4\": 0.01363636363636364, \"5\": 0.01363636363636364, \"6\": 0.01363636363636364, \"7\": 0.01363636363636364, \"8\": 0.01363636363636364, \"9\": 0.01363636363636364, \"10\": 0.01363636363636364, \"11\": 0.01363636363636364}\r\n"
     ]
    }
   ],
   "source": [
    "# set the name of the file and dampening factor\n",
    "filename = 'test_probMatrix'\n",
    "dampen = 0.85\n",
    "\n",
    "# create the file\n",
    "!python MRprobMatrix.py PageRank-test_indexed.txt test_dangling --nodes=$total_nodes --dampen=$dampen --quiet \\\n",
    "> $filename\n",
    "\n",
    "# preview the file\n",
    "!head -3 $filename"
   ]
  },
  {
   "cell_type": "markdown",
   "metadata": {},
   "source": [
    "### Join the probability matrix and the weights matrix\n",
    "We can think of PageRank as a join that repeat over and over until we get to convergence. It's a massive join! We perform a simple matrix multiplication where multiple A\\*v where A is the probability matrix and v is the vector of current weights. \n",
    "![matrixmultiplication](https://dl.dropboxusercontent.com/u/37624818/W261_Week9/matrix-multiply-a.gif)\n",
    "*[Image source](https://www.mathsisfun.com/algebra/matrix-multiplying.html)*"
   ]
  },
  {
   "cell_type": "code",
   "execution_count": 15,
   "metadata": {
    "collapsed": false
   },
   "outputs": [
    {
     "name": "stdout",
     "output_type": "stream",
     "text": [
      "Overwriting MRrankStep.py\n"
     ]
    }
   ],
   "source": [
    "%%writefile MRrankStep.py\n",
    "\n",
    "# import the MRJob class\n",
    "from mrjob.job import MRJob\n",
    "from mrjob.step import MRStep\n",
    "\n",
    "# import libraries to help us\n",
    "# get our job done\n",
    "import ast\n",
    "import sys\n",
    "import pandas as pd\n",
    "  \n",
    "class MRrankStep(MRJob):\n",
    "    \n",
    "    # dictionary of current weights\n",
    "    original = {}\n",
    "    \n",
    "    # define the steps for the MapReduce job\n",
    "    def steps(self):\n",
    "        return [MRStep(mapper_init = self.mapper_init,\\\n",
    "                       mapper=self.mapper)]    \n",
    "    \n",
    "    \n",
    "    # configure the options so that we can \n",
    "    # pass in the current weights file\n",
    "    def configure_options(self):\n",
    "        super(MRrankStep, self).configure_options()\n",
    "        self.add_file_option('--current_weights')\n",
    "        \n",
    "    \n",
    "    # the mapper init function loads the smaller\n",
    "    # data frame into memory \n",
    "    def mapper_init(self):\n",
    "        \n",
    "        # set the filename\n",
    "        filename = self.options.current_weights\n",
    "        \n",
    "        # read the file and save it as a\n",
    "        # dictionary that we'll reference\n",
    "        current = pd.read_table(filename,header=None)\n",
    "        self.original = dict(zip(current.iloc[:,0],current.iloc[:,1]))\n",
    "        \n",
    "        \n",
    "    # the mapper takes each node and completes\n",
    "    # the dot product to merge it with the \n",
    "    def mapper(self, _, line):\n",
    "        \n",
    "        # split the line into its node\n",
    "        # and its weighted links\n",
    "        line = line.strip().split('\\t')\n",
    "        node = int(line[0])\n",
    "        links = ast.literal_eval(line[1])\n",
    "        \n",
    "        # create a total variable to allow \n",
    "        # us to sum for the dot product\n",
    "        total = 0.0\n",
    "        \n",
    "        for link in links:\n",
    "            \n",
    "            # set the mass to move\n",
    "            # and the mass from the \n",
    "            # existing weights\n",
    "            mass1 = links[link]\n",
    "            mass2 = self.original[int(link)]\n",
    "            \n",
    "            # multiply the masses\n",
    "            # together and add to our\n",
    "            # running sum\n",
    "            mass = mass1 * mass2\n",
    "            total = total + mass\n",
    "            \n",
    "        # yield the new mass for that node\n",
    "        yield node,total\n",
    "             \n",
    "\n",
    "if __name__ == '__main__':\n",
    "    MRrankStep.run()"
   ]
  },
  {
   "cell_type": "code",
   "execution_count": 16,
   "metadata": {
    "collapsed": false
   },
   "outputs": [
    {
     "name": "stdout",
     "output_type": "stream",
     "text": [
      "1\t0.059297520661157024\r\n",
      "10\t0.020661157024793396\r\n",
      "11\t0.020661157024793396\r\n",
      "2\t0.3168732782369147\r\n",
      "3\t0.0979338842975207\r\n",
      "4\t0.04641873278236914\r\n",
      "5\t0.3297520661157025\r\n",
      "6\t0.04641873278236914\r\n",
      "7\t0.020661157024793396\r\n",
      "8\t0.020661157024793396\r\n",
      "9\t0.020661157024793396\r\n"
     ]
    }
   ],
   "source": [
    "# lets do one iteration of the step\n",
    "!python MRrankStep.py test_probMatrix --current_weights=test_iter_0 --quiet"
   ]
  },
  {
   "cell_type": "markdown",
   "metadata": {
    "collapsed": true
   },
   "source": [
    "####  Woohoo!\n",
    "Now that we've shown that this works, let's move on to 10 iterations!"
   ]
  },
  {
   "cell_type": "code",
   "execution_count": 17,
   "metadata": {
    "collapsed": false
   },
   "outputs": [
    {
     "name": "stdout",
     "output_type": "stream",
     "text": [
      "1\t0.032930101786204743\r\n",
      "10\t0.01620712734412402\r\n",
      "11\t0.01620712734412402\r\n",
      "2\t0.36323594898891065\r\n",
      "3\t0.3628837280387183\r\n",
      "4\t0.03938466342002969\r\n",
      "5\t0.08114525762548773\r\n",
      "6\t0.03938466342002969\r\n",
      "7\t0.01620712734412402\r\n",
      "8\t0.01620712734412402\r\n",
      "9\t0.01620712734412402\r\n"
     ]
    }
   ],
   "source": [
    "# set the number of iterations that we want\n",
    "NUM_ITER = 10\n",
    "\n",
    "# set our transition matrix\n",
    "TRANSITION = 'test_probMatrix'\n",
    "\n",
    "# set our current iteration\n",
    "iteration = 0\n",
    "\n",
    "# create a while that will allow us to run for\n",
    "# the number of desired iterations\n",
    "while iteration < NUM_ITER: \n",
    "    \n",
    "    # set the input filename \n",
    "    inputfile = 'test_iter_' + str(iteration)\n",
    "    \n",
    "    # increment the iteration\n",
    "    iteration = iteration + 1\n",
    "    \n",
    "    # set the output filename\n",
    "    outputfile = 'test_iter_' + str(iteration)\n",
    "    \n",
    "    # run the program\n",
    "    !python MRrankStep.py $TRANSITION --current_weights=$inputfile --quiet > $outputfile\n",
    "    \n",
    "# show us the final results after ten iterations\n",
    "final_file = 'test_iter_' + str(iteration)\n",
    "!cat $final_file"
   ]
  },
  {
   "cell_type": "markdown",
   "metadata": {},
   "source": [
    "***\n",
    "## HW 9.2: Exploring PageRank teleportation and network plots\n",
    "In order to overcome  problems such as disconnected components, the damping factor (a typical value for d is 0.85) can be varied. \n",
    "Using the graph in HW9.1, plot the test graph (using networkx, https://networkx.github.io/) for several values of the damping parameter alpha,\n",
    "so that each nodes radius is proportional to its PageRank score. In particular you should\n",
    "do this for the following damping factors: [0,0.25,0.5,0.75, 0.85, 1]. Note your plots should look like the following:\n",
    "![sample](https://dl.dropboxusercontent.com/u/37624818/W261_Week9/PageRank.png)"
   ]
  },
  {
   "cell_type": "markdown",
   "metadata": {},
   "source": [
    "### Write our function to draw the graph and test it out"
   ]
  },
  {
   "cell_type": "code",
   "execution_count": 8,
   "metadata": {
    "collapsed": false
   },
   "outputs": [
    {
     "data": {
      "image/png": "[encoded data removed]",
      "text/plain": [
       "<matplotlib.figure.Figure at 0x10f42add0>"
      ]
     },
     "metadata": {},
     "output_type": "display_data"
    }
   ],
   "source": [
    "%matplotlib inline\n",
    "\n",
    "# import our libraries to draw the\n",
    "# network graph\n",
    "import networkx as nx\n",
    "import matplotlib.pyplot as plt\n",
    "import numpy as np\n",
    "\n",
    "def draw_graph(nodes, edges, weights):\n",
    "\n",
    "    # create networkx graph\n",
    "    G=nx.DiGraph()\n",
    "\n",
    "    # add nodes\n",
    "    for node in nodes:\n",
    "        G.add_node(node)\n",
    "    \n",
    "    # add the edges\n",
    "    for edge in edges:\n",
    "        G.add_edge(edge[0],edge[1])\n",
    "    \n",
    "    \n",
    "    # draw graph\n",
    "    pos = nx.shell_layout(G)\n",
    "    nx.draw(G, pos, node_size=weights)\n",
    "\n",
    "    # show graph\n",
    "    plt.show()\n",
    "\n",
    "# draw an example to make sure that this works\n",
    "nodes = range(9)\n",
    "edges = [(1,2),(5,4),(6,1)]\n",
    "weights = list(np.array([0.1,30,4,6,1,5,8,1,1,4])*100)\n",
    "draw_graph(nodes,edges,weights)"
   ]
  },
  {
   "cell_type": "markdown",
   "metadata": {},
   "source": [
    "## <span style=\"color:violet\"> Dampening = 0.85 (using data from 9.1)</span>"
   ]
  },
  {
   "cell_type": "markdown",
   "metadata": {},
   "source": [
    "### Write functions to get our data in the right format for our graph"
   ]
  },
  {
   "cell_type": "code",
   "execution_count": 20,
   "metadata": {
    "collapsed": false
   },
   "outputs": [
    {
     "name": "stdout",
     "output_type": "stream",
     "text": [
      "Graph shape loaded\n",
      "Edges: 17\n"
     ]
    }
   ],
   "source": [
    "# import some libraries to help us get started\n",
    "import ast\n",
    "\n",
    "# create a function to identify the edges\n",
    "def createEdges(filename):\n",
    "    # create an edges list\n",
    "    edges = []\n",
    "\n",
    "    # read in our file for the links\n",
    "    with open(filename,'r') as myfile:\n",
    "\n",
    "        # loop through each line\n",
    "        for line in myfile.readlines():\n",
    "\n",
    "            # split the line into its node\n",
    "            # and its links\n",
    "            line = line.strip().split('\\t')\n",
    "            node = int(line[0])\n",
    "            links = ast.literal_eval(line[1])\n",
    "\n",
    "            # loop through the links and add\n",
    "            # them to the list\n",
    "            for link in links:\n",
    "                new_link = node,int(link)\n",
    "                edges.append(new_link)\n",
    "                \n",
    "    # return the edges\n",
    "    return edges\n",
    "\n",
    "# get the edges\n",
    "edges = createEdges('PageRank-test_indexed.txt')\n",
    "\n",
    "# print that we have loaded in the graph shape\n",
    "print \"Graph shape loaded\"\n",
    "print \"Edges:\",len(edges)"
   ]
  },
  {
   "cell_type": "code",
   "execution_count": 13,
   "metadata": {
    "collapsed": false
   },
   "outputs": [
    {
     "name": "stdout",
     "output_type": "stream",
     "text": [
      "Graph nodes and weights loaded\n",
      "Nodes: 11\n",
      "Sizes: 11\n"
     ]
    },
    {
     "name": "stderr",
     "output_type": "stream",
     "text": [
      "/Users/Alex/miniconda2/envs/main/lib/python2.7/site-packages/ipykernel/__main__.py:28: FutureWarning: sort(columns=....) is deprecated, use sort_values(by=.....)\n"
     ]
    }
   ],
   "source": [
    "# import libraries to help us manipulate the data\n",
    "import pandas as pd\n",
    "\n",
    "# write a function to load in the weights and\n",
    "# the nodes\n",
    "def getWeights(filename, multiplier = 10000):\n",
    "    \"\"\"takes as input a file name and \n",
    "    and reads the file name in. returns\n",
    "    a list of node an a list of corresponding\n",
    "    node sizes, or weights. by default the\n",
    "    multiplier is 1000. this the number\n",
    "    multiplied by the inputted sizes to\n",
    "    make the circles viewable\"\"\"\n",
    "    \n",
    "    # create lists to hold the lists of \n",
    "    # nodes and weights\n",
    "    nodes = []\n",
    "    sizes = []\n",
    "    \n",
    "    # read in the weights as a pandas\n",
    "    # data frame\n",
    "    data_full = pd.read_table(filename, header=None)\n",
    "    \n",
    "    # add column headings to the dataframe\n",
    "    data_full.columns = ['nodes','weights']\n",
    "    \n",
    "    # sort the pandas dataframe\n",
    "    data_sorted = data_full.sort(columns=['nodes'])\n",
    "    \n",
    "    # separate out the columns\n",
    "    nodes = list(data_sorted.iloc[:,0])\n",
    "    sizes = list(data_sorted.iloc[:,1])\n",
    "    \n",
    "    # increase the sizes to make them\n",
    "    # visible\n",
    "    sizes = np.array(sizes)*multiplier\n",
    "    sizes = list(sizes)\n",
    "    \n",
    "    return nodes,sizes\n",
    "\n",
    "# run the graph on our last iteration\n",
    "nodes,sizes = getWeights('test_iter_10')\n",
    "\n",
    "# print out the outcomes\n",
    "print \"Graph nodes and weights loaded\"\n",
    "print \"Nodes:\", len(nodes)\n",
    "print \"Sizes:\",len(sizes)"
   ]
  },
  {
   "cell_type": "markdown",
   "metadata": {},
   "source": [
    "### Plot the network graph"
   ]
  },
  {
   "cell_type": "code",
   "execution_count": 14,
   "metadata": {
    "collapsed": false,
    "scrolled": true
   },
   "outputs": [
    {
     "data": {
      "image/png": "[encoded data removed]",
      "text/plain": [
       "<matplotlib.figure.Figure at 0x10f97d090>"
      ]
     },
     "metadata": {},
     "output_type": "display_data"
    }
   ],
   "source": [
    "draw_graph(nodes,edges,sizes)"
   ]
  },
  {
   "cell_type": "markdown",
   "metadata": {},
   "source": [
    "## <span style=\"color:violet\"> Dampening = 1</span>"
   ]
  },
  {
   "cell_type": "markdown",
   "metadata": {},
   "source": [
    "### Create the transition matrix"
   ]
  },
  {
   "cell_type": "code",
   "execution_count": 17,
   "metadata": {
    "collapsed": false
   },
   "outputs": [
    {
     "name": "stdout",
     "output_type": "stream",
     "text": [
      "1\t{\"1\": 0.09090909090909091, \"2\": 0.0, \"3\": 0.0, \"4\": 0.5, \"5\": 0.0, \"6\": 0.0, \"7\": 0.0, \"8\": 0.0, \"9\": 0.0, \"10\": 0.0, \"11\": 0.0}\r\n",
      "10\t{\"1\": 0.09090909090909091, \"2\": 0.0, \"3\": 0.0, \"4\": 0.0, \"5\": 0.0, \"6\": 0.0, \"7\": 0.0, \"8\": 0.0, \"9\": 0.0, \"10\": 0.0, \"11\": 0.0}\r\n",
      "11\t{\"1\": 0.09090909090909091, \"2\": 0.0, \"3\": 0.0, \"4\": 0.0, \"5\": 0.0, \"6\": 0.0, \"7\": 0.0, \"8\": 0.0, \"9\": 0.0, \"10\": 0.0, \"11\": 0.0}\r\n"
     ]
    }
   ],
   "source": [
    "# set the name of the file and dampening factor\n",
    "filename = 'test_probMatrix_1'\n",
    "dampen = 1.0\n",
    "\n",
    "# create the file\n",
    "!python MRprobMatrix.py PageRank-test_indexed.txt test_dangling --nodes=$total_nodes --dampen=$dampen --quiet \\\n",
    "> $filename\n",
    "\n",
    "# preview the file\n",
    "!head -3 $filename"
   ]
  },
  {
   "cell_type": "markdown",
   "metadata": {},
   "source": [
    "### Step through ten iterations of distributing weight"
   ]
  },
  {
   "cell_type": "code",
   "execution_count": 18,
   "metadata": {
    "collapsed": false
   },
   "outputs": [
    {
     "name": "stdout",
     "output_type": "stream",
     "text": [
      "1\t0.0012251235307801573\r\n",
      "10\t0.000267729749935862\r\n",
      "11\t0.000267729749935862\r\n",
      "2\t0.3820880446086276\r\n",
      "3\t0.6089920174348892\r\n",
      "4\t0.0021001253272294076\r\n",
      "5\t0.002155915021565489\r\n",
      "6\t0.0021001253272294076\r\n",
      "7\t0.000267729749935862\r\n",
      "8\t0.000267729749935862\r\n",
      "9\t0.000267729749935862\r\n"
     ]
    }
   ],
   "source": [
    "# set the number of iterations that we want\n",
    "NUM_ITER = 10\n",
    "\n",
    "# set our transition matrix\n",
    "TRANSITION = 'test_probMatrix_1'\n",
    "\n",
    "# set our current iteration\n",
    "iteration = 0\n",
    "\n",
    "# create a while that will allow us to run for\n",
    "# the number of desired iterations\n",
    "while iteration < NUM_ITER: \n",
    "    \n",
    "    # set the input filename \n",
    "    inputfile = 'test_iter_' + str(iteration)\n",
    "    \n",
    "    # increment the iteration\n",
    "    iteration = iteration + 1\n",
    "    \n",
    "    # set the output filename\n",
    "    outputfile = 'test_iter_' + str(iteration)\n",
    "    \n",
    "    # run the program\n",
    "    !python MRrankStep.py $TRANSITION --current_weights=$inputfile --quiet > $outputfile\n",
    "    \n",
    "# show us the final results after ten iterations\n",
    "final_file = 'test_iter_' + str(iteration)\n",
    "!cat $final_file"
   ]
  },
  {
   "cell_type": "markdown",
   "metadata": {},
   "source": [
    "### Graph the network"
   ]
  },
  {
   "cell_type": "code",
   "execution_count": 21,
   "metadata": {
    "collapsed": false,
    "scrolled": true
   },
   "outputs": [
    {
     "name": "stderr",
     "output_type": "stream",
     "text": [
      "/Users/Alex/miniconda2/envs/main/lib/python2.7/site-packages/ipykernel/__main__.py:28: FutureWarning: sort(columns=....) is deprecated, use sort_values(by=.....)\n"
     ]
    },
    {
     "data": {
      "image/png": "[encoded data removed]",
      "text/plain": [
       "<matplotlib.figure.Figure at 0x10f991690>"
      ]
     },
     "metadata": {},
     "output_type": "display_data"
    }
   ],
   "source": [
    "# grab the edges, nodes, and sizes\n",
    "edges = createEdges('PageRank-test_indexed.txt')\n",
    "nodes,sizes = getWeights('test_iter_10')\n",
    "\n",
    "# draw the graph\n",
    "draw_graph(nodes,edges,sizes)"
   ]
  },
  {
   "cell_type": "markdown",
   "metadata": {},
   "source": [
    "## <span style=\"color:violet\"> Dampening = 0.75</span>"
   ]
  },
  {
   "cell_type": "markdown",
   "metadata": {},
   "source": [
    "### Create the transition matrix"
   ]
  },
  {
   "cell_type": "code",
   "execution_count": 22,
   "metadata": {
    "collapsed": false
   },
   "outputs": [
    {
     "name": "stdout",
     "output_type": "stream",
     "text": [
      "1\t{\"1\": 0.09090909090909091, \"2\": 0.022727272727272728, \"3\": 0.022727272727272728, \"4\": 0.3977272727272727, \"5\": 0.022727272727272728, \"6\": 0.022727272727272728, \"7\": 0.022727272727272728, \"8\": 0.022727272727272728, \"9\": 0.022727272727272728, \"10\": 0.022727272727272728, \"11\": 0.022727272727272728}\r\n",
      "10\t{\"1\": 0.09090909090909091, \"2\": 0.022727272727272728, \"3\": 0.022727272727272728, \"4\": 0.022727272727272728, \"5\": 0.022727272727272728, \"6\": 0.022727272727272728, \"7\": 0.022727272727272728, \"8\": 0.022727272727272728, \"9\": 0.022727272727272728, \"10\": 0.022727272727272728, \"11\": 0.022727272727272728}\r\n",
      "11\t{\"1\": 0.09090909090909091, \"2\": 0.022727272727272728, \"3\": 0.022727272727272728, \"4\": 0.022727272727272728, \"5\": 0.022727272727272728, \"6\": 0.022727272727272728, \"7\": 0.022727272727272728, \"8\": 0.022727272727272728, \"9\": 0.022727272727272728, \"10\": 0.022727272727272728, \"11\": 0.022727272727272728}\r\n"
     ]
    }
   ],
   "source": [
    "# set the name of the file and dampening factor\n",
    "filename = 'test_probMatrix_75'\n",
    "dampen = 0.75\n",
    "\n",
    "# create the file\n",
    "!python MRprobMatrix.py PageRank-test_indexed.txt test_dangling --nodes=$total_nodes --dampen=$dampen --quiet \\\n",
    "> $filename\n",
    "\n",
    "# preview the file\n",
    "!head -3 $filename"
   ]
  },
  {
   "cell_type": "markdown",
   "metadata": {},
   "source": [
    "### Step through ten iterations of distributing weight"
   ]
  },
  {
   "cell_type": "code",
   "execution_count": 23,
   "metadata": {
    "collapsed": false
   },
   "outputs": [
    {
     "name": "stdout",
     "output_type": "stream",
     "text": [
      "1\t0.04633213358940749\r\n",
      "10\t0.025892885505415388\r\n",
      "11\t0.025892885505415388\r\n",
      "2\t0.32309008578711174\r\n",
      "3\t0.2777824624018829\r\n",
      "4\t0.05451509857829826\r\n",
      "5\t0.11430069353792441\r\n",
      "6\t0.05451509857829826\r\n",
      "7\t0.025892885505415388\r\n",
      "8\t0.025892885505415388\r\n",
      "9\t0.025892885505415388\r\n"
     ]
    }
   ],
   "source": [
    "# set the number of iterations that we want\n",
    "NUM_ITER = 10\n",
    "\n",
    "# set our transition matrix\n",
    "TRANSITION = 'test_probMatrix_75'\n",
    "\n",
    "# set our current iteration\n",
    "iteration = 0\n",
    "\n",
    "# create a while that will allow us to run for\n",
    "# the number of desired iterations\n",
    "while iteration < NUM_ITER: \n",
    "    \n",
    "    # set the input filename \n",
    "    inputfile = 'test_iter_' + str(iteration)\n",
    "    \n",
    "    # increment the iteration\n",
    "    iteration = iteration + 1\n",
    "    \n",
    "    # set the output filename\n",
    "    outputfile = 'test_iter_' + str(iteration)\n",
    "    \n",
    "    # run the program\n",
    "    !python MRrankStep.py $TRANSITION --current_weights=$inputfile --quiet > $outputfile\n",
    "    \n",
    "# show us the final results after ten iterations\n",
    "final_file = 'test_iter_' + str(iteration)\n",
    "!cat $final_file"
   ]
  },
  {
   "cell_type": "markdown",
   "metadata": {},
   "source": [
    "### Graph the network"
   ]
  },
  {
   "cell_type": "code",
   "execution_count": 24,
   "metadata": {
    "collapsed": false,
    "scrolled": true
   },
   "outputs": [
    {
     "name": "stderr",
     "output_type": "stream",
     "text": [
      "/Users/Alex/miniconda2/envs/main/lib/python2.7/site-packages/ipykernel/__main__.py:28: FutureWarning: sort(columns=....) is deprecated, use sort_values(by=.....)\n"
     ]
    },
    {
     "data": {
      "image/png": "[encoded data removed]",
      "text/plain": [
       "<matplotlib.figure.Figure at 0x10f4c1e50>"
      ]
     },
     "metadata": {},
     "output_type": "display_data"
    }
   ],
   "source": [
    "# grab the edges, nodes, and sizes\n",
    "edges = createEdges('PageRank-test_indexed.txt')\n",
    "nodes,sizes = getWeights('test_iter_10')\n",
    "\n",
    "# draw the graph\n",
    "draw_graph(nodes,edges,sizes)"
   ]
  },
  {
   "cell_type": "markdown",
   "metadata": {},
   "source": [
    "## <span style=\"color:violet\"> Dampening = 0.5</span>"
   ]
  },
  {
   "cell_type": "markdown",
   "metadata": {},
   "source": [
    "### Create the transition matrix"
   ]
  },
  {
   "cell_type": "code",
   "execution_count": 25,
   "metadata": {
    "collapsed": false
   },
   "outputs": [
    {
     "name": "stdout",
     "output_type": "stream",
     "text": [
      "1\t{\"1\": 0.09090909090909091, \"2\": 0.045454545454545456, \"3\": 0.045454545454545456, \"4\": 0.29545454545454547, \"5\": 0.045454545454545456, \"6\": 0.045454545454545456, \"7\": 0.045454545454545456, \"8\": 0.045454545454545456, \"9\": 0.045454545454545456, \"10\": 0.045454545454545456, \"11\": 0.045454545454545456}\r\n",
      "10\t{\"1\": 0.09090909090909091, \"2\": 0.045454545454545456, \"3\": 0.045454545454545456, \"4\": 0.045454545454545456, \"5\": 0.045454545454545456, \"6\": 0.045454545454545456, \"7\": 0.045454545454545456, \"8\": 0.045454545454545456, \"9\": 0.045454545454545456, \"10\": 0.045454545454545456, \"11\": 0.045454545454545456}\r\n",
      "11\t{\"1\": 0.09090909090909091, \"2\": 0.045454545454545456, \"3\": 0.045454545454545456, \"4\": 0.045454545454545456, \"5\": 0.045454545454545456, \"6\": 0.045454545454545456, \"7\": 0.045454545454545456, \"8\": 0.045454545454545456, \"9\": 0.045454545454545456, \"10\": 0.045454545454545456, \"11\": 0.045454545454545456}\r\n"
     ]
    }
   ],
   "source": [
    "# set the name of the file and dampening factor\n",
    "filename = 'test_probMatrix_50'\n",
    "dampen = 0.5\n",
    "\n",
    "# create the file\n",
    "!python MRprobMatrix.py PageRank-test_indexed.txt test_dangling --nodes=$total_nodes --dampen=$dampen --quiet \\\n",
    "> $filename\n",
    "\n",
    "# preview the file\n",
    "!head -3 $filename"
   ]
  },
  {
   "cell_type": "markdown",
   "metadata": {},
   "source": [
    "### Step through ten iterations of distributing weight"
   ]
  },
  {
   "cell_type": "code",
   "execution_count": 26,
   "metadata": {
    "collapsed": false
   },
   "outputs": [
    {
     "name": "stdout",
     "output_type": "stream",
     "text": [
      "1\t0.06694802562732\r\n",
      "10\t0.04849771387367249\r\n",
      "11\t0.04849771387367249\r\n",
      "2\t0.22835543402483802\r\n",
      "3\t0.16278609311415612\r\n",
      "4\t0.0738014280085016\r\n",
      "5\t0.1518190218483201\r\n",
      "6\t0.0738014280085016\r\n",
      "7\t0.04849771387367249\r\n",
      "8\t0.04849771387367249\r\n",
      "9\t0.04849771387367249\r\n"
     ]
    }
   ],
   "source": [
    "# set the number of iterations that we want\n",
    "NUM_ITER = 10\n",
    "\n",
    "# set our transition matrix\n",
    "TRANSITION = 'test_probMatrix_50'\n",
    "\n",
    "# set our current iteration\n",
    "iteration = 0\n",
    "\n",
    "# create a while that will allow us to run for\n",
    "# the number of desired iterations\n",
    "while iteration < NUM_ITER: \n",
    "    \n",
    "    # set the input filename \n",
    "    inputfile = 'test_iter_' + str(iteration)\n",
    "    \n",
    "    # increment the iteration\n",
    "    iteration = iteration + 1\n",
    "    \n",
    "    # set the output filename\n",
    "    outputfile = 'test_iter_' + str(iteration)\n",
    "    \n",
    "    # run the program\n",
    "    !python MRrankStep.py $TRANSITION --current_weights=$inputfile --quiet > $outputfile\n",
    "    \n",
    "# show us the final results after ten iterations\n",
    "final_file = 'test_iter_' + str(iteration)\n",
    "!cat $final_file"
   ]
  },
  {
   "cell_type": "markdown",
   "metadata": {},
   "source": [
    "### Graph the network"
   ]
  },
  {
   "cell_type": "code",
   "execution_count": 27,
   "metadata": {
    "collapsed": false,
    "scrolled": true
   },
   "outputs": [
    {
     "name": "stderr",
     "output_type": "stream",
     "text": [
      "/Users/Alex/miniconda2/envs/main/lib/python2.7/site-packages/ipykernel/__main__.py:28: FutureWarning: sort(columns=....) is deprecated, use sort_values(by=.....)\n"
     ]
    },
    {
     "data": {
      "image/png": "[encoded data removed]",
      "text/plain": [
       "<matplotlib.figure.Figure at 0x10ffd6790>"
      ]
     },
     "metadata": {},
     "output_type": "display_data"
    }
   ],
   "source": [
    "# grab the edges, nodes, and sizes\n",
    "edges = createEdges('PageRank-test_indexed.txt')\n",
    "nodes,sizes = getWeights('test_iter_10')\n",
    "\n",
    "# draw the graph\n",
    "draw_graph(nodes,edges,sizes)"
   ]
  },
  {
   "cell_type": "markdown",
   "metadata": {},
   "source": [
    "## <span style=\"color:violet\"> Dampening = 0.25</span>"
   ]
  },
  {
   "cell_type": "markdown",
   "metadata": {},
   "source": [
    "### Create the transition matrix"
   ]
  },
  {
   "cell_type": "code",
   "execution_count": 28,
   "metadata": {
    "collapsed": false
   },
   "outputs": [
    {
     "name": "stdout",
     "output_type": "stream",
     "text": [
      "1\t{\"1\": 0.09090909090909091, \"2\": 0.06818181818181818, \"3\": 0.06818181818181818, \"4\": 0.19318181818181818, \"5\": 0.06818181818181818, \"6\": 0.06818181818181818, \"7\": 0.06818181818181818, \"8\": 0.06818181818181818, \"9\": 0.06818181818181818, \"10\": 0.06818181818181818, \"11\": 0.06818181818181818}\r\n",
      "10\t{\"1\": 0.09090909090909091, \"2\": 0.06818181818181818, \"3\": 0.06818181818181818, \"4\": 0.06818181818181818, \"5\": 0.06818181818181818, \"6\": 0.06818181818181818, \"7\": 0.06818181818181818, \"8\": 0.06818181818181818, \"9\": 0.06818181818181818, \"10\": 0.06818181818181818, \"11\": 0.06818181818181818}\r\n",
      "11\t{\"1\": 0.09090909090909091, \"2\": 0.06818181818181818, \"3\": 0.06818181818181818, \"4\": 0.06818181818181818, \"5\": 0.06818181818181818, \"6\": 0.06818181818181818, \"7\": 0.06818181818181818, \"8\": 0.06818181818181818, \"9\": 0.06818181818181818, \"10\": 0.06818181818181818, \"11\": 0.06818181818181818}\r\n"
     ]
    }
   ],
   "source": [
    "# set the name of the file and dampening factor\n",
    "filename = 'test_probMatrix_25'\n",
    "dampen = 0.25\n",
    "\n",
    "# create the file\n",
    "!python MRprobMatrix.py PageRank-test_indexed.txt test_dangling --nodes=$total_nodes --dampen=$dampen --quiet \\\n",
    "> $filename\n",
    "\n",
    "# preview the file\n",
    "!head -3 $filename"
   ]
  },
  {
   "cell_type": "markdown",
   "metadata": {},
   "source": [
    "### Step through ten iterations of distributing weight"
   ]
  },
  {
   "cell_type": "code",
   "execution_count": 29,
   "metadata": {
    "collapsed": false
   },
   "outputs": [
    {
     "name": "stdout",
     "output_type": "stream",
     "text": [
      "1\t0.0802296663024089\r\n",
      "10\t0.070005219725969\r\n",
      "11\t0.070005219725969\r\n",
      "2\t0.15573086573584416\r\n",
      "3\t0.10893799019422111\r\n",
      "4\t0.08179557278827097\r\n",
      "5\t0.14148423356113865\r\n",
      "6\t0.08179557278827097\r\n",
      "7\t0.070005219725969\r\n",
      "8\t0.070005219725969\r\n",
      "9\t0.070005219725969\r\n"
     ]
    }
   ],
   "source": [
    "# set the number of iterations that we want\n",
    "NUM_ITER = 10\n",
    "\n",
    "# set our transition matrix\n",
    "TRANSITION = 'test_probMatrix_25'\n",
    "\n",
    "# set our current iteration\n",
    "iteration = 0\n",
    "\n",
    "# create a while that will allow us to run for\n",
    "# the number of desired iterations\n",
    "while iteration < NUM_ITER: \n",
    "    \n",
    "    # set the input filename \n",
    "    inputfile = 'test_iter_' + str(iteration)\n",
    "    \n",
    "    # increment the iteration\n",
    "    iteration = iteration + 1\n",
    "    \n",
    "    # set the output filename\n",
    "    outputfile = 'test_iter_' + str(iteration)\n",
    "    \n",
    "    # run the program\n",
    "    !python MRrankStep.py $TRANSITION --current_weights=$inputfile --quiet > $outputfile\n",
    "    \n",
    "# show us the final results after ten iterations\n",
    "final_file = 'test_iter_' + str(iteration)\n",
    "!cat $final_file"
   ]
  },
  {
   "cell_type": "markdown",
   "metadata": {},
   "source": [
    "### Graph the network"
   ]
  },
  {
   "cell_type": "code",
   "execution_count": 30,
   "metadata": {
    "collapsed": false,
    "scrolled": true
   },
   "outputs": [
    {
     "name": "stderr",
     "output_type": "stream",
     "text": [
      "/Users/Alex/miniconda2/envs/main/lib/python2.7/site-packages/ipykernel/__main__.py:28: FutureWarning: sort(columns=....) is deprecated, use sort_values(by=.....)\n"
     ]
    },
    {
     "data": {
      "image/png": "[encoded data removed]",
      "text/plain": [
       "<matplotlib.figure.Figure at 0x10ff72450>"
      ]
     },
     "metadata": {},
     "output_type": "display_data"
    }
   ],
   "source": [
    "# grab the edges, nodes, and sizes\n",
    "edges = createEdges('PageRank-test_indexed.txt')\n",
    "nodes,sizes = getWeights('test_iter_10')\n",
    "\n",
    "# draw the graph\n",
    "draw_graph(nodes,edges,sizes)"
   ]
  },
  {
   "cell_type": "markdown",
   "metadata": {},
   "source": [
    "## <span style=\"color:violet\"> Dampening = 0</span>"
   ]
  },
  {
   "cell_type": "markdown",
   "metadata": {},
   "source": [
    "### Create the transition matrix"
   ]
  },
  {
   "cell_type": "code",
   "execution_count": 31,
   "metadata": {
    "collapsed": false
   },
   "outputs": [
    {
     "name": "stdout",
     "output_type": "stream",
     "text": [
      "1\t{\"1\": 0.09090909090909091, \"2\": 0.09090909090909091, \"3\": 0.09090909090909091, \"4\": 0.09090909090909091, \"5\": 0.09090909090909091, \"6\": 0.09090909090909091, \"7\": 0.09090909090909091, \"8\": 0.09090909090909091, \"9\": 0.09090909090909091, \"10\": 0.09090909090909091, \"11\": 0.09090909090909091}\r\n",
      "10\t{\"1\": 0.09090909090909091, \"2\": 0.09090909090909091, \"3\": 0.09090909090909091, \"4\": 0.09090909090909091, \"5\": 0.09090909090909091, \"6\": 0.09090909090909091, \"7\": 0.09090909090909091, \"8\": 0.09090909090909091, \"9\": 0.09090909090909091, \"10\": 0.09090909090909091, \"11\": 0.09090909090909091}\r\n",
      "11\t{\"1\": 0.09090909090909091, \"2\": 0.09090909090909091, \"3\": 0.09090909090909091, \"4\": 0.09090909090909091, \"5\": 0.09090909090909091, \"6\": 0.09090909090909091, \"7\": 0.09090909090909091, \"8\": 0.09090909090909091, \"9\": 0.09090909090909091, \"10\": 0.09090909090909091, \"11\": 0.09090909090909091}\r\n"
     ]
    }
   ],
   "source": [
    "# set the name of the file and dampening factor\n",
    "filename = 'test_probMatrix_0'\n",
    "dampen = 0.0\n",
    "\n",
    "# create the file\n",
    "!python MRprobMatrix.py PageRank-test_indexed.txt test_dangling --nodes=$total_nodes --dampen=$dampen --quiet \\\n",
    "> $filename\n",
    "\n",
    "# preview the file\n",
    "!head -3 $filename"
   ]
  },
  {
   "cell_type": "markdown",
   "metadata": {},
   "source": [
    "### Step through ten iterations of distributing weight"
   ]
  },
  {
   "cell_type": "code",
   "execution_count": 32,
   "metadata": {
    "collapsed": false
   },
   "outputs": [
    {
     "name": "stdout",
     "output_type": "stream",
     "text": [
      "1\t0.09090909090909093\r\n",
      "10\t0.09090909090909093\r\n",
      "11\t0.09090909090909093\r\n",
      "2\t0.09090909090909093\r\n",
      "3\t0.09090909090909093\r\n",
      "4\t0.09090909090909093\r\n",
      "5\t0.09090909090909093\r\n",
      "6\t0.09090909090909093\r\n",
      "7\t0.09090909090909093\r\n",
      "8\t0.09090909090909093\r\n",
      "9\t0.09090909090909093\r\n"
     ]
    }
   ],
   "source": [
    "# set the number of iterations that we want\n",
    "NUM_ITER = 10\n",
    "\n",
    "# set our transition matrix\n",
    "TRANSITION = 'test_probMatrix_0'\n",
    "\n",
    "# set our current iteration\n",
    "iteration = 0\n",
    "\n",
    "# create a while that will allow us to run for\n",
    "# the number of desired iterations\n",
    "while iteration < NUM_ITER: \n",
    "    \n",
    "    # set the input filename \n",
    "    inputfile = 'test_iter_' + str(iteration)\n",
    "    \n",
    "    # increment the iteration\n",
    "    iteration = iteration + 1\n",
    "    \n",
    "    # set the output filename\n",
    "    outputfile = 'test_iter_' + str(iteration)\n",
    "    \n",
    "    # run the program\n",
    "    !python MRrankStep.py $TRANSITION --current_weights=$inputfile --quiet > $outputfile\n",
    "    \n",
    "# show us the final results after ten iterations\n",
    "final_file = 'test_iter_' + str(iteration)\n",
    "!cat $final_file"
   ]
  },
  {
   "cell_type": "markdown",
   "metadata": {},
   "source": [
    "### Graph the network"
   ]
  },
  {
   "cell_type": "code",
   "execution_count": 33,
   "metadata": {
    "collapsed": false,
    "scrolled": true
   },
   "outputs": [
    {
     "name": "stderr",
     "output_type": "stream",
     "text": [
      "/Users/Alex/miniconda2/envs/main/lib/python2.7/site-packages/ipykernel/__main__.py:28: FutureWarning: sort(columns=....) is deprecated, use sort_values(by=.....)\n"
     ]
    },
    {
     "data": {
      "image/png": "[encoded data removed]",
      "text/plain": [
       "<matplotlib.figure.Figure at 0x10feb1110>"
      ]
     },
     "metadata": {},
     "output_type": "display_data"
    }
   ],
   "source": [
    "# grab the edges, nodes, and sizes\n",
    "edges = createEdges('PageRank-test_indexed.txt')\n",
    "nodes,sizes = getWeights('test_iter_10')\n",
    "\n",
    "# draw the graph\n",
    "draw_graph(nodes,edges,sizes)"
   ]
  },
  {
   "cell_type": "markdown",
   "metadata": {},
   "source": [
    "## <span style=\"color:violet\">Thoughts on dampening factor</span>\n",
    "The teleportation factor equals 1 minus the dampening factor. So, the higher the dampening factor, the less we teleport. The lower the dampening factor, the more we teleport. When teleport more, we spend our time more equally between nodes. When we teleport less, we let the natural importance of webpages dictate where we spend our time."
   ]
  },
  {
   "cell_type": "markdown",
   "metadata": {},
   "source": [
    "***\n",
    "## HW 9.3: Applying PageRank to the Wikipedia hyperlinks network\n",
    "\n",
    "(1) Run your PageRank implementation on the Wikipedia dataset for 5 iterations,\n",
    "and display the top 100 ranked nodes (with alpha = 0.85).<br>\n",
    "(2) Run your PageRank implementation on the Wikipedia dataset for 10 iterations,\n",
    "and display the top 100 ranked nodes (with teleportation factor of 0.15). Have the top 100 ranked pages changed? Comment on your findings. <br>\n",
    "(3) Plot the pagerank values for the top 100 pages resulting from the 5 iterations run. Then plot the pagerank values for the same 100 pages that resulted from the 10 iterations run.  "
   ]
  },
  {
   "cell_type": "markdown",
   "metadata": {},
   "source": [
    "### Start up a cluster"
   ]
  },
  {
   "cell_type": "code",
   "execution_count": 110,
   "metadata": {
    "collapsed": false
   },
   "outputs": [
    {
     "name": "stdout",
     "output_type": "stream",
     "text": [
      "Unexpected option hadoop from /Users/Alex/.mrjob.conf\n",
      "Using s3://mrjob-f8c316b67324528f/tmp/ as our temp dir on S3\n",
      "Creating persistent cluster to run several jobs in...\n",
      "Creating temp directory /var/folders/k8/fy2j66nj4xsczx6cbcxhjlvm0000gn/T/no_script.Alex.20160716.234014.992084\n",
      "Copying local files to s3://mrjob-f8c316b67324528f/tmp/no_script.Alex.20160716.234014.992084/files/...\n",
      "j-1LKJO48UJGNYK\n"
     ]
    }
   ],
   "source": [
    "# create the cluster\n",
    "!mrjob create-cluster \\\n",
    "--max-hours-idle 1 \\\n",
    "--aws-region=us-west-1 -c ~/.mrjob.conf"
   ]
  },
  {
   "cell_type": "markdown",
   "metadata": {},
   "source": [
    "### Gather the number of nodes"
   ]
  },
  {
   "cell_type": "code",
   "execution_count": 111,
   "metadata": {
    "collapsed": false
   },
   "outputs": [
    {
     "name": "stdout",
     "output_type": "stream",
     "text": [
      "Job completed. Total nodes: 15192277\n"
     ]
    }
   ],
   "source": [
    "%reload_ext autoreload\n",
    "%autoreload 2\n",
    "\n",
    "# import the MRJobs that we created\n",
    "from MRnodecount import MRnodecount\n",
    "\n",
    "# set the MRJob \n",
    "mr_job = MRnodecount(args=['s3://ucb-mids-mls-networks/wikipedia/all-pages-indexed-out.txt',\\\n",
    "                           '-r','emr',\\\n",
    "                           '--cluster-id=j-1LKJO48UJGNYK', \\\n",
    "                           '--aws-region=us-west-1', \\\n",
    "                           '--output-dir=s3://aks-w261-hw7/out_9-3/node_count', \\\n",
    "                           '--no-output'\n",
    "                          ])\n",
    "\n",
    "# initialize a variable to hold the \n",
    "# total nodes\n",
    "total_nodes = 0\n",
    "\n",
    "# create the runner and run it\n",
    "with mr_job.make_runner() as runner:\n",
    "    runner.run()\n",
    "    \n",
    "    # save the output to a file\n",
    "    with open('wiki_nodecount.txt','w') as myfile:\n",
    "        \n",
    "        # loop through the lines (there\n",
    "        # should only be one)\n",
    "        for line in runner.stream_output():\n",
    "            \n",
    "            # grab the key,value\n",
    "            key,value =  mr_job.parse_output_line(line)\n",
    "            \n",
    "            # write the number of nodes to file\n",
    "            myfile.write(str(value))\n",
    "            total_nodes = value\n",
    "            \n",
    "print \"Job completed. Total nodes:\",total_nodes"
   ]
  },
  {
   "cell_type": "code",
   "execution_count": 24,
   "metadata": {
    "collapsed": false
   },
   "outputs": [
    {
     "name": "stdout",
     "output_type": "stream",
     "text": [
      "Total nodes: 15192277\n"
     ]
    }
   ],
   "source": [
    "# save the file and save the total nodes\n",
    "total_nodes = 0\n",
    "with open('wiki_nodecount.txt','r') as myfile:\n",
    "    total_nodes = int(myfile.readline())\n",
    "print \"Total nodes:\", total_nodes"
   ]
  },
  {
   "cell_type": "markdown",
   "metadata": {},
   "source": [
    "### Initalize the Wikipedia graph with some initial weights"
   ]
  },
  {
   "cell_type": "code",
   "execution_count": 127,
   "metadata": {
    "collapsed": false
   },
   "outputs": [
    {
     "name": "stdout",
     "output_type": "stream",
     "text": [
      "We have initalized the Wikipedia graph with initial weights\r\n"
     ]
    }
   ],
   "source": [
    "# set the iteration to 0 and name the output file\n",
    "iteration = 0\n",
    "outputfile = 's3://aks-w261-hw9/out_9-3/wiki_iter_'+str(iteration)\n",
    "\n",
    "# remove the existing output file\n",
    "!aws s3 rm --recursive $outputfile\n",
    "\n",
    "# create the file\n",
    "!python MRgraphinit.py -r emr s3://ucb-mids-mls-networks/wikipedia/all-pages-indexed-out.txt \\\n",
    "    --cluster-id=j-1LKJO48UJGNYK \\\n",
    "    --nodes=$total_nodes \\\n",
    "    --aws-region=us-west-1 \\\n",
    "    --output-dir=$outputfile \\\n",
    "    --no-output \\\n",
    "    --quiet\n",
    "    \n",
    "# let us know that we're done\n",
    "!echo \"We have initalized the Wikipedia graph with initial weights\""
   ]
  },
  {
   "cell_type": "markdown",
   "metadata": {},
   "source": [
    "### Start up a cluster"
   ]
  },
  {
   "cell_type": "code",
   "execution_count": 23,
   "metadata": {
    "collapsed": false
   },
   "outputs": [
    {
     "name": "stdout",
     "output_type": "stream",
     "text": [
      "Unexpected option hadoop from /Users/Alex/.mrjob.conf\n",
      "Using s3://mrjob-f8c316b67324528f/tmp/ as our temp dir on S3\n",
      "Creating persistent cluster to run several jobs in...\n",
      "Creating temp directory /var/folders/k8/fy2j66nj4xsczx6cbcxhjlvm0000gn/T/no_script.Alex.20160717.011413.740807\n",
      "Copying local files to s3://mrjob-f8c316b67324528f/tmp/no_script.Alex.20160717.011413.740807/files/...\n",
      "j-1XLO1JO4DIUQP\n"
     ]
    }
   ],
   "source": [
    "# create the cluster\n",
    "!mrjob create-cluster \\\n",
    "--max-hours-idle 1 \\\n",
    "--aws-region=us-west-1 -c ~/.mrjob.conf"
   ]
  },
  {
   "cell_type": "markdown",
   "metadata": {},
   "source": [
    "### Find the dangling nodes"
   ]
  },
  {
   "cell_type": "code",
   "execution_count": 25,
   "metadata": {
    "collapsed": false
   },
   "outputs": [
    {
     "name": "stdout",
     "output_type": "stream",
     "text": [
      "Dangling nodes found\r\n"
     ]
    }
   ],
   "source": [
    "# pull out the dangling nodes\n",
    "!python MRdangleNode.py -r emr s3://ucb-mids-mls-networks/wikipedia/all-pages-indexed-out.txt \\\n",
    "    --cluster-id=j-1XLO1JO4DIUQP \\\n",
    "    --aws-region=us-west-1 \\\n",
    "    --output-dir=s3://aks-w261-hw9/wiki_dangling \\\n",
    "    --no-output \\\n",
    "    --quiet\n",
    "    \n",
    "# let us know that we have finished\n",
    "!echo Dangling nodes found"
   ]
  },
  {
   "cell_type": "markdown",
   "metadata": {},
   "source": [
    "### Develop the transitory matrix"
   ]
  },
  {
   "cell_type": "code",
   "execution_count": null,
   "metadata": {
    "collapsed": false
   },
   "outputs": [],
   "source": [
    "# set the name of the file and dampening factor\n",
    "filename = 's3://aks-w261-hw9/transit_matrix'\n",
    "dampen = 0.85\n",
    "\n",
    "# create the file\n",
    "!python MRprobMatrix.py -r emr \\\n",
    "    s3://ucb-mids-mls-networks/wikipedia/all-pages-indexed-out.txt \\\n",
    "    s3://aks-w261-hw9/wiki_dangling \\\n",
    "    --cluster-id=j-1XLO1JO4DIUQP \\\n",
    "    --aws-region=us-west-1 \\\n",
    "    --output-dir=$filename \\\n",
    "    --nodes=$total_nodes \\\n",
    "    --dampen=$dampen \\\n",
    "    --no-output \\\n",
    "    --quiet \n",
    "\n",
    "# preview the file\n",
    "!echo Transitory matrix created"
   ]
  },
  {
   "cell_type": "markdown",
   "metadata": {},
   "source": [
    "### Step through joining the transition matrix with the weights matrix"
   ]
  },
  {
   "cell_type": "code",
   "execution_count": null,
   "metadata": {
    "collapsed": true
   },
   "outputs": [],
   "source": [
    "# set the number of iterations that we want\n",
    "NUM_ITER = 10\n",
    "\n",
    "# set our transition matrix\n",
    "TRANSITION = 's3://aks-w261-hw9/transit_matrix'\n",
    "\n",
    "# set our current iteration\n",
    "iteration = 0\n",
    "\n",
    "# create a while that will allow us to run for\n",
    "# the number of desired iterations\n",
    "while iteration < NUM_ITER: \n",
    "    \n",
    "    # set the input filename \n",
    "    inputfile = 's3://aks-w261-hw9/out_9-3/wiki_iter_' + str(iteration)\n",
    "    \n",
    "    # increment the iteration\n",
    "    iteration = iteration + 1\n",
    "    \n",
    "    # set the output filename\n",
    "    outputfile = 's3://aks-w261-hw9/out_9-3/wiki_iter_' + str(iteration)\n",
    "    \n",
    "    # run the program\n",
    "    !python MRrankStep.py -r emr \\\n",
    "        $TRANSITION \\\n",
    "        --current_weights=$inputfile \\\n",
    "        --cluster-id=j-1XLO1JO4DIUQP \\\n",
    "        --aws-region=us-west-1 \\\n",
    "        --output-dir=$outputfile \\\n",
    "        --no-output \\\n",
    "        --quiet    \n",
    "    \n",
    "# print that we're done\n",
    "!echo Ten iterations are complete"
   ]
  },
  {
   "cell_type": "markdown",
   "metadata": {},
   "source": [
    "#####  <span style=\"color:light green\">So, after attempting this, I realized that my approach is not scalable because it requires creating this massive 15,000,0000 by 15,000,0000 matrix. I'm going to rework my approach here. Type III fun!</span>"
   ]
  },
  {
   "cell_type": "markdown",
   "metadata": {},
   "source": [
    "### New approach: make a matrix with weights and links\n",
    "Rather than performing many iterations of matrix multiplication, I going to think of it as sending the weights around!"
   ]
  },
  {
   "cell_type": "markdown",
   "metadata": {},
   "source": [
    "### Get the count of the nodes"
   ]
  },
  {
   "cell_type": "code",
   "execution_count": 34,
   "metadata": {
    "collapsed": false
   },
   "outputs": [
    {
     "name": "stdout",
     "output_type": "stream",
     "text": [
      "Overwriting MRnodecount.py\n"
     ]
    }
   ],
   "source": [
    "%%writefile MRnodecount.py\n",
    "\n",
    "# import the MRJob class\n",
    "from mrjob.job import MRJob\n",
    "from mrjob.step import MRStep\n",
    "\n",
    "# import libraries to help us\n",
    "# get our job done\n",
    "import ast\n",
    "import sys\n",
    "  \n",
    "class MRnodecount(MRJob):\n",
    "    \n",
    "    # set the count of the number of nodes\n",
    "    count = 0\n",
    "    \n",
    "    # define the steps for the MapReduce job\n",
    "    def steps(self):\n",
    "        \n",
    "        # we use a single reducer in our second \n",
    "        # job to bring the sum of all the nodes \n",
    "        # together into a single value\n",
    "        JOBCONF2 = {        \n",
    "            'mapreduce.job.reduces': 1,\n",
    "        }\n",
    "        \n",
    "        return [MRStep(mapper=self.mapper,\\\n",
    "                       combiner=self.combiner,\\\n",
    "                       reducer=self.reducer,\\\n",
    "                       reducer_final=self.reducer_final),\\\n",
    "                MRStep(jobconf=JOBCONF2,\\\n",
    "                       mapper=self.mapper2,\\\n",
    "                       reducer=self.reducer2)]       \n",
    "    \n",
    "    \n",
    "    # the mapper takes each line and \n",
    "    # yields its own node and all its\n",
    "    # links\n",
    "    def mapper(self, _, line):\n",
    "        \n",
    "        # split the line into its node\n",
    "        # and its links\n",
    "        line = line.strip().split('\\t')\n",
    "        node = int(line[0])\n",
    "        links = ast.literal_eval(line[1])\n",
    "        \n",
    "        # yield this node\n",
    "        yield node,1\n",
    "        \n",
    "        # yield the node's links\n",
    "        for link in links:\n",
    "            yield int(link),1\n",
    "    \n",
    "    \n",
    "    # set the combiner to simply emit\n",
    "    # the nodes with a 1\n",
    "    def combiner(self,node,counts):\n",
    "        yield node,1\n",
    "    \n",
    "    # the reducer increments the count\n",
    "    # for each node that passes to it\n",
    "    def reducer(self,node,counts):\n",
    "        self.count = self.count + 1\n",
    "        \n",
    "    \n",
    "    # the reducer final yields the \n",
    "    # total count of nodes\n",
    "    def reducer_final(self):\n",
    "        yield 'count',self.count\n",
    "        \n",
    "    \n",
    "    # the 2nd mapper simply passes what was\n",
    "    # passed to it\n",
    "    def mapper2(self,label,counts):\n",
    "        yield label,counts\n",
    "        \n",
    "    \n",
    "    # the 2nd reducer simply takes the sum\n",
    "    # of the nodes emitted by each of the \n",
    "    # reducers in step 1\n",
    "    def reducer2(self,label,counts):\n",
    "        yield label,sum(counts)\n",
    "    \n",
    "\n",
    "if __name__ == '__main__':\n",
    "    MRnodecount.run()"
   ]
  },
  {
   "cell_type": "code",
   "execution_count": 35,
   "metadata": {
    "collapsed": false
   },
   "outputs": [
    {
     "name": "stdout",
     "output_type": "stream",
     "text": [
      "Job completed. Total nodes: 11\n"
     ]
    }
   ],
   "source": [
    "%reload_ext autoreload\n",
    "%autoreload 2\n",
    "\n",
    "# import the MRJobs that we created\n",
    "from MRnodecount import MRnodecount\n",
    "\n",
    "# set the MRJob \n",
    "mr_job = MRnodecount(args=['PageRank-test_indexed.txt'])\n",
    "\n",
    "# initialize a variable to hold the \n",
    "# total nodes\n",
    "total_nodes = 0\n",
    "\n",
    "# create the runner and run it\n",
    "with mr_job.make_runner() as runner:\n",
    "    runner.run()\n",
    "    \n",
    "    # save the output to a file\n",
    "    with open('test_nodecount.txt','w') as myfile:\n",
    "        \n",
    "        # loop through the lines (there\n",
    "        # should only be one)\n",
    "        for line in runner.stream_output():\n",
    "            \n",
    "            # grab the key,value\n",
    "            key,value =  mr_job.parse_output_line(line)\n",
    "            \n",
    "            # write the number of nodes to file\n",
    "            myfile.write(str(value))\n",
    "            total_nodes = value\n",
    "            \n",
    "print \"Job completed. Total nodes:\",total_nodes"
   ]
  },
  {
   "cell_type": "code",
   "execution_count": 5,
   "metadata": {
    "collapsed": false
   },
   "outputs": [
    {
     "name": "stdout",
     "output_type": "stream",
     "text": [
      "Total nodes: 11\n"
     ]
    }
   ],
   "source": [
    "# save the file and save the total nodes\n",
    "total_nodes = 0\n",
    "with open('test_nodecount.txt','r') as myfile:\n",
    "    total_nodes = int(myfile.readline())\n",
    "print \"Total nodes:\", total_nodes"
   ]
  },
  {
   "cell_type": "markdown",
   "metadata": {},
   "source": [
    "### Identify and bring out the dangling nodes as additional input files"
   ]
  },
  {
   "cell_type": "code",
   "execution_count": 38,
   "metadata": {
    "collapsed": false
   },
   "outputs": [
    {
     "name": "stdout",
     "output_type": "stream",
     "text": [
      "Overwriting MRdangleNode.py\n"
     ]
    }
   ],
   "source": [
    "%%writefile MRdangleNode.py\n",
    "\n",
    "# import the MRJob class\n",
    "from mrjob.job import MRJob\n",
    "from mrjob.step import MRStep\n",
    "\n",
    "# import libraries to help us\n",
    "# get our job done\n",
    "import ast\n",
    "import sys\n",
    "  \n",
    "class MRdangleNode(MRJob):\n",
    "    \n",
    "    # define the steps for the MapReduce job\n",
    "    def steps(self):\n",
    "        \n",
    "        return [MRStep(mapper=self.mapper,\\\n",
    "                       combiner=self.combiner,\\\n",
    "                       reducer=self.reducer)]       \n",
    "    \n",
    "    \n",
    "    # the mapper takes each line and \n",
    "    # yields its own node and all its\n",
    "    # links\n",
    "    def mapper(self, _, line):\n",
    "        \n",
    "        # split the line into its node\n",
    "        # and its links\n",
    "        line = line.strip().split('\\t')\n",
    "        node = int(line[0])\n",
    "        links = ast.literal_eval(line[1])\n",
    "        \n",
    "        # yield this node\n",
    "        yield node,links\n",
    "        \n",
    "        # yield the node's links\n",
    "        for link in links:\n",
    "            yield int(link),{}\n",
    "    \n",
    "    \n",
    "    # set the combiner to combine the \n",
    "    # dictionaries of links\n",
    "    def combiner(self,node,links):\n",
    "        \n",
    "        # set a new dictionary to \n",
    "        # merge each dictionary into\n",
    "        new_links = {}\n",
    "        \n",
    "        # loop through each link set\n",
    "        for link_set in links:\n",
    "            new_links.update(link_set)\n",
    "            \n",
    "        yield node,new_links\n",
    "    \n",
    "    # the reducer combines the dictionaries\n",
    "    # of links and then checks for dangling\n",
    "    # nodes and emits only those\n",
    "    def reducer(self,node,links):\n",
    "        \n",
    "        # set a new dictionary to \n",
    "        # merge each dictionary into\n",
    "        new_links = {}\n",
    "        \n",
    "        # loop through each link set\n",
    "        for link_set in links:\n",
    "            new_links.update(link_set)\n",
    "            \n",
    "        # check if this is a dangling node\n",
    "        if len(new_links) == 0:\n",
    "            yield node,new_links\n",
    "    \n",
    "\n",
    "if __name__ == '__main__':\n",
    "    MRdangleNode.run()"
   ]
  },
  {
   "cell_type": "code",
   "execution_count": 39,
   "metadata": {
    "collapsed": false
   },
   "outputs": [
    {
     "name": "stdout",
     "output_type": "stream",
     "text": [
      "1\t{}\r\n"
     ]
    }
   ],
   "source": [
    "# pull out the dangling nodes\n",
    "!python MRdangleNode.py PageRank-test_indexed.txt --quiet > test_dangling\n",
    "\n",
    "# show the dangling nodes\n",
    "!cat test_dangling"
   ]
  },
  {
   "cell_type": "markdown",
   "metadata": {},
   "source": [
    "### Create the initial adjacency list\n",
    "This list has the node, the links, and the weight, where the weight is 1 divided by the number of nodes."
   ]
  },
  {
   "cell_type": "code",
   "execution_count": 49,
   "metadata": {
    "collapsed": false
   },
   "outputs": [
    {
     "name": "stdout",
     "output_type": "stream",
     "text": [
      "Overwriting MRgraphAdj.py\n"
     ]
    }
   ],
   "source": [
    "%%writefile MRgraphAdj.py\n",
    "\n",
    "# import the MRJob class\n",
    "from mrjob.job import MRJob\n",
    "from mrjob.step import MRStep\n",
    "\n",
    "# import libraries to help us\n",
    "# get our job done\n",
    "import ast\n",
    "import sys\n",
    "  \n",
    "class MRgraphAdj(MRJob):\n",
    "    \n",
    "    # set the count of the number of nodes\n",
    "    # and the weight for each node\n",
    "    count = 0\n",
    "    weight = 0\n",
    "    \n",
    "    # define the steps for the MapReduce job\n",
    "    def steps(self):\n",
    "        return [MRStep(mapper_init=self.mapper_init,\\\n",
    "                       mapper=self.mapper)]    \n",
    "    \n",
    "    \n",
    "    # configure the options so that we can \n",
    "    # pass in the source node of interest\n",
    "    def configure_options(self):\n",
    "        super(MRgraphAdj, self).configure_options()\n",
    "        self.add_passthrough_option(\"--nodes\", type='int', default=1)\n",
    "    \n",
    "    \n",
    "    # the mapper init calculates the weight\n",
    "    # this is to save on repeating the computation\n",
    "    # for every record\n",
    "    def mapper_init(self):\n",
    "        self.count = self.options.nodes\n",
    "        self.weight = 1.0 / self.count\n",
    "    \n",
    "    # the mapper takes each line and \n",
    "    # outputs the node, its links\n",
    "    # and the weight\n",
    "    def mapper(self, _, line):\n",
    "        \n",
    "        # split the line into its node\n",
    "        # and its links\n",
    "        line = line.strip().split('\\t')\n",
    "        node = int(line[0])\n",
    "        links = ast.literal_eval(line[1])\n",
    "        \n",
    "        # convert the links to a simple\n",
    "        # list since we don't care about \n",
    "        # weights\n",
    "        links = map(int,links.keys())\n",
    "        \n",
    "        # set the key,value pair\n",
    "        key = node\n",
    "        value = links, self.weight\n",
    "        \n",
    "        # yield the key,value\n",
    "        yield key,value\n",
    "            \n",
    "\n",
    "if __name__ == '__main__':\n",
    "    MRgraphAdj.run()"
   ]
  },
  {
   "cell_type": "code",
   "execution_count": 50,
   "metadata": {
    "collapsed": false
   },
   "outputs": [
    {
     "name": "stdout",
     "output_type": "stream",
     "text": [
      "1\t[[], 0.09090909090909091]\r\n",
      "2\t[[3], 0.09090909090909091]\r\n",
      "3\t[[2], 0.09090909090909091]\r\n",
      "4\t[[1, 2], 0.09090909090909091]\r\n",
      "5\t[[2, 4, 6], 0.09090909090909091]\r\n",
      "6\t[[2, 5], 0.09090909090909091]\r\n",
      "7\t[[2, 5], 0.09090909090909091]\r\n",
      "8\t[[2, 5], 0.09090909090909091]\r\n",
      "9\t[[2, 5], 0.09090909090909091]\r\n",
      "10\t[[5], 0.09090909090909091]\r\n",
      "11\t[[5], 0.09090909090909091]\r\n"
     ]
    }
   ],
   "source": [
    "# write this adjacency list to a file\n",
    "!python MRgraphAdj.py test_dangling PageRank-test_indexed.txt --nodes=$total_nodes --quiet > test_iter_0\n",
    "\n",
    "# show us the list\n",
    "!cat test_iter_0"
   ]
  },
  {
   "cell_type": "markdown",
   "metadata": {},
   "source": [
    "### Step through distributing the weight\n",
    "We write a new function that distributes the mass from a node to other nodes. "
   ]
  },
  {
   "cell_type": "code",
   "execution_count": 9,
   "metadata": {
    "collapsed": false
   },
   "outputs": [
    {
     "name": "stdout",
     "output_type": "stream",
     "text": [
      "Overwriting MRmoveWgtStep.py\n"
     ]
    }
   ],
   "source": [
    "%%writefile MRmoveWgtStep.py\n",
    "\n",
    "# import the MRJob class\n",
    "from mrjob.job import MRJob\n",
    "from mrjob.step import MRStep\n",
    "\n",
    "# import libraries to help us\n",
    "# get our job done\n",
    "import ast\n",
    "import sys\n",
    "  \n",
    "class MRmoveWgtStep(MRJob):\n",
    "    \n",
    "    # count of the number of nodes\n",
    "    count = 0\n",
    "    \n",
    "    # dampening factor\n",
    "    damp = 0.0\n",
    "    \n",
    "    # set the teleport weight\n",
    "    teleport = 0.0\n",
    "    \n",
    "    # define the steps for the MapReduce job\n",
    "    def steps(self):\n",
    "        return [MRStep(mapper_init = self.mapper_init,\\\n",
    "                       mapper=self.mapper,\\\n",
    "                       combiner=self.combiner,\\\n",
    "                       reducer_init=self.reducer_init,\\\n",
    "                       reducer=self.reducer)]    \n",
    "    \n",
    "    \n",
    "    # configure the options so that we can \n",
    "    # pass in the current weights file\n",
    "    def configure_options(self):\n",
    "        super(MRmoveWgtStep, self).configure_options()\n",
    "        self.add_passthrough_option(\"--nodes\", type='int', default=1)\n",
    "        self.add_passthrough_option(\"--dampen\", type='float', default=1.0)\n",
    "        \n",
    "    \n",
    "    # the mapper init function loads the number\n",
    "    # of nodes into memory\n",
    "    def mapper_init(self):\n",
    "        self.count = self.options.nodes\n",
    "        \n",
    "        \n",
    "    # the mapper takes each node and distributes\n",
    "    # its weight to its linked nodes\n",
    "    def mapper(self, _, line):\n",
    "        \n",
    "        # split the line into its node\n",
    "        # and its weighted links\n",
    "        line = line.strip().split('\\t')\n",
    "        node = int(line[0])\n",
    "        links_weight = ast.literal_eval(line[1])\n",
    "        links = links_weight[0]\n",
    "        weight = float(links_weight[1])\n",
    "        \n",
    "        # if we have links to distribute the weight\n",
    "        # to\n",
    "        if len(links) > 0:\n",
    "        \n",
    "            # set the weight to distribute between\n",
    "            # links\n",
    "            dist_weight = weight / len(links)\n",
    "\n",
    "            # yield each of the links with this\n",
    "            # new distributed weight\n",
    "            for link in links:\n",
    "                key = link\n",
    "                value = [],dist_weight\n",
    "                yield key,value\n",
    "        \n",
    "        # if we actually have a dangling node\n",
    "        elif len(links) == 0:\n",
    "            \n",
    "            # set the weight to distribute between\n",
    "            # every possible link in the graph\n",
    "            dist_weight = weight / self.count\n",
    "\n",
    "            # loop through every possible and\n",
    "            # distribute the weight there\n",
    "            for i in range(1,self.count+1):\n",
    "                key = i\n",
    "                value = [],dist_weight\n",
    "                yield key,value\n",
    "                \n",
    "        # yield the actual node with an empty \n",
    "        # weight\n",
    "        key = node\n",
    "        value = links,0.0\n",
    "        yield key,value\n",
    "    \n",
    "    \n",
    "    # our combiner sums the weights for \n",
    "    # each node and outputs that\n",
    "    def combiner(self, node, links_weight):\n",
    "        \n",
    "        # set the new variables we'd like \n",
    "        # to output\n",
    "        new_links = []\n",
    "        new_weight = 0.0\n",
    "        \n",
    "        # loop through the links_weights\n",
    "        # and add them to our variables\n",
    "        for links,weight in links_weight:\n",
    "            new_links = new_links + links\n",
    "            new_weight = new_weight + weight\n",
    "            \n",
    "        # yield the combined results\n",
    "        key = node\n",
    "        value = new_links,new_weight\n",
    "        yield key,value\n",
    "    \n",
    "    \n",
    "    # our reducer init sets the dampening factor\n",
    "    # and the amount distributed to each node by\n",
    "    # the opportunity for teleportation\n",
    "    def reducer_init(self):\n",
    "        self.count = self.options.nodes\n",
    "        self.damp = self.options.dampen\n",
    "        self.teleport = (1.0-self.damp) * (1.0/self.count)\n",
    "    \n",
    "    # our reducer performs the tasks of the\n",
    "    # combiner but also produces the final weight\n",
    "    # for each node that incorporates teleportation\n",
    "    def reducer(self, node, links_weight):\n",
    "\n",
    "        # set the new variables we'd like \n",
    "        # to output\n",
    "        new_links = []\n",
    "        new_weight = 0.0\n",
    "        \n",
    "        # loop through the links_weights\n",
    "        # and add them to our variables\n",
    "        for links,weight in links_weight:\n",
    "            new_links = new_links + links\n",
    "            new_weight = new_weight + weight\n",
    "\n",
    "        # dampen the new weight and add the \n",
    "        # teleportation factor\n",
    "        new_weight = (self.damp * new_weight) + self.teleport\n",
    "        \n",
    "        # yield the combined results\n",
    "        key = node\n",
    "        value = new_links,new_weight\n",
    "        yield key,value\n",
    "    \n",
    "             \n",
    "if __name__ == '__main__':\n",
    "    MRmoveWgtStep.run()"
   ]
  },
  {
   "cell_type": "code",
   "execution_count": 2,
   "metadata": {
    "collapsed": false
   },
   "outputs": [
    {
     "name": "stdout",
     "output_type": "stream",
     "text": [
      "/bin/sh: $output_file: ambiguous redirect\n",
      "1\t[[], 0.05929752066115703]\n",
      "10\t[[5], 0.020661157024793392]\n",
      "11\t[[5], 0.020661157024793392]\n",
      "2\t[[3], 0.3168732782369146]\n",
      "3\t[[2], 0.09793388429752066]\n",
      "4\t[[1, 2], 0.04641873278236915]\n",
      "5\t[[2, 4, 6], 0.3297520661157025]\n",
      "6\t[[2, 5], 0.04641873278236915]\n",
      "7\t[[2, 5], 0.020661157024793392]\n",
      "8\t[[2, 5], 0.020661157024793392]\n",
      "9\t[[2, 5], 0.020661157024793392]\n"
     ]
    }
   ],
   "source": [
    "# set the input/output files\n",
    "input_file = 'test_iter_0'\n",
    "output_file = 'test_iter_1'\n",
    "\n",
    "# set the variables\n",
    "damp = 0.85\n",
    "\n",
    "# test it out locally\n",
    "!python MRmoveWgtStep.py $input_file --nodes=$total_nodes --dampen=$damp --quiet > $output_file\n",
    "\n",
    "# view the output file\n",
    "!cat $output_file"
   ]
  },
  {
   "cell_type": "code",
   "execution_count": 6,
   "metadata": {
    "collapsed": false,
    "scrolled": true
   },
   "outputs": [
    {
     "name": "stdout",
     "output_type": "stream",
     "text": [
      "1\t[[], 0.03293010178620472]\r\n",
      "10\t[[5], 0.016207127344124005]\r\n",
      "11\t[[5], 0.016207127344124005]\r\n",
      "2\t[[3], 0.3632359489889102]\r\n",
      "3\t[[2], 0.36288372803871777]\r\n",
      "4\t[[1, 2], 0.03938466342002968]\r\n",
      "5\t[[2, 4, 6], 0.08114525762548767]\r\n",
      "6\t[[2, 5], 0.03938466342002968]\r\n",
      "7\t[[2, 5], 0.016207127344124005]\r\n",
      "8\t[[2, 5], 0.016207127344124005]\r\n",
      "9\t[[2, 5], 0.016207127344124005]\r\n"
     ]
    }
   ],
   "source": [
    "# let's run it for ten iterations\n",
    "ITERATIONS = 10\n",
    "iteration = 0\n",
    "\n",
    "# set the variables\n",
    "damp = 0.85\n",
    "\n",
    "# keep iterating until we get to our desired number\n",
    "while iteration < ITERATIONS:\n",
    "    \n",
    "    # set the input files\n",
    "    input_file = 'test_iter_' + str(iteration)\n",
    "    \n",
    "    # increment the iteration\n",
    "    iteration = iteration + 1\n",
    "    \n",
    "    # set the output files\n",
    "    output_file = 'test_iter_' + str(iteration)\n",
    "\n",
    "    # test it out locally\n",
    "    !python MRmoveWgtStep.py $input_file --nodes=$total_nodes --dampen=$damp --quiet > $output_file\n",
    "\n",
    "# view the output file\n",
    "output_file = 'test_iter_' + str(iteration)\n",
    "!cat $output_file"
   ]
  },
  {
   "cell_type": "markdown",
   "metadata": {},
   "source": [
    "#####  <span style=\"color:light green\">So, after attempting this, I realized that my approach is not scalable because it requires creating this massive 15,000,0000 by number of dangling nodes list. I'm going to rework my approach here (for the second time...). Type III fun!</span>"
   ]
  },
  {
   "cell_type": "markdown",
   "metadata": {},
   "source": [
    "### Move the weight for the non-dangling nodes and accumulate the weight for the dangling nodes\n",
    "We distribute all the weight from the non-dangling nodes to all of their links. For the dangling nodes, we increment a counter that we will use in the second part of this job. "
   ]
  },
  {
   "cell_type": "code",
   "execution_count": 9,
   "metadata": {
    "collapsed": false
   },
   "outputs": [
    {
     "name": "stdout",
     "output_type": "stream",
     "text": [
      "Overwriting MRmoveWgtStepA.py\n"
     ]
    }
   ],
   "source": [
    "%%writefile MRmoveWgtStepA.py\n",
    "\n",
    "# import the MRJob class\n",
    "from mrjob.job import MRJob\n",
    "from mrjob.step import MRStep\n",
    "\n",
    "# import libraries to help us\n",
    "# get our job done\n",
    "import ast\n",
    "import sys\n",
    "  \n",
    "class MRmoveWgtStepA(MRJob):\n",
    "    \n",
    "    # set the number converter to convert\n",
    "    # the dangling weight into an integer\n",
    "    num_converter = 10000000000\n",
    "    \n",
    "    # define the steps for the MapReduce job\n",
    "    def steps(self):\n",
    "        return [MRStep(mapper_init = self.mapper_init,\\\n",
    "                       mapper=self.mapper,\\\n",
    "                       combiner=self.reducer,\\\n",
    "                       reducer=self.reducer)]    \n",
    "    \n",
    "    \n",
    "    # configure the options so that we can \n",
    "    # pass in the current weights file\n",
    "    def configure_options(self):\n",
    "        super(MRmoveWgtStepA, self).configure_options()\n",
    "        self.add_passthrough_option(\"--num_convert\", type='int', default=10000000000)\n",
    "        \n",
    "    \n",
    "    # the mapper init function loads the number\n",
    "    # converter into memory\n",
    "    def mapper_init(self):\n",
    "        self.num_converter = self.options.num_convert\n",
    "        \n",
    "    # the mapper takes each node and distributes\n",
    "    # its weight to its linked nodes\n",
    "    def mapper(self, _, line):\n",
    "        \n",
    "        # split the line into its node\n",
    "        # and its weighted links\n",
    "        line = line.strip().split('\\t')\n",
    "        node = int(line[0])\n",
    "        links_weight = ast.literal_eval(line[1])\n",
    "        links = links_weight[0]\n",
    "        weight = float(links_weight[1])\n",
    "        \n",
    "        # if we have links to distribute the weight\n",
    "        # to\n",
    "        if len(links) > 0:\n",
    "        \n",
    "            # set the weight to distribute between\n",
    "            # links\n",
    "            dist_weight = weight / len(links)\n",
    "\n",
    "            # yield each of the links with this\n",
    "            # new distributed weight\n",
    "            for link in links:\n",
    "                key = link\n",
    "                value = [],dist_weight\n",
    "                yield key,value\n",
    "        \n",
    "        # if we actually have a dangling node\n",
    "        elif len(links) == 0:\n",
    "            \n",
    "            # convert the weight to an integer\n",
    "            dist_weight = weight * self.num_converter\n",
    "            \n",
    "            # increment the dangling mass counter\n",
    "            self.increment_counter('PageRank_Counters', 'Dangling_Mass', \\\n",
    "                                   int(dist_weight))\n",
    "                \n",
    "        # yield the actual node with an empty \n",
    "        # weight\n",
    "        key = node\n",
    "        value = links,0.0\n",
    "        yield key,value\n",
    "    \n",
    "    \n",
    "    # our reducer sums the weights for \n",
    "    # each node and outputs that\n",
    "    def reducer(self, node, links_weight):\n",
    "        \n",
    "        # set the new variables we'd like \n",
    "        # to output\n",
    "        new_links = []\n",
    "        new_weight = 0.0\n",
    "        \n",
    "        # loop through the links_weights\n",
    "        # and add them to our variables\n",
    "        for links,weight in links_weight:\n",
    "            new_links = new_links + links\n",
    "            new_weight = new_weight + weight\n",
    "            \n",
    "        # yield the combined results\n",
    "        key = node\n",
    "        value = new_links,new_weight\n",
    "        yield key,value\n",
    " \n",
    "             \n",
    "if __name__ == '__main__':\n",
    "    MRmoveWgtStepA.run()"
   ]
  },
  {
   "cell_type": "code",
   "execution_count": 17,
   "metadata": {
    "collapsed": false
   },
   "outputs": [
    {
     "name": "stdout",
     "output_type": "stream",
     "text": [
      "Dangling mass: 909090909\n",
      "\n",
      "\n",
      "Part A of the first step\n",
      "1[[], 0.045454545454545456]\n",
      "10[[5], 0.0]\n",
      "11[[5], 0.0]\n",
      "2[[3], 0.3484848484848485]\n",
      "3[[2], 0.09090909090909091]\n",
      "4[[1, 2], 0.030303030303030304]\n",
      "5[[2, 4, 6], 0.36363636363636365]\n",
      "6[[2, 5], 0.030303030303030304]\n",
      "7[[2, 5], 0.0]\n",
      "8[[2, 5], 0.0]\n",
      "9[[2, 5], 0.0]\n"
     ]
    }
   ],
   "source": [
    "%reload_ext autoreload\n",
    "%autoreload 2\n",
    "\n",
    "# import the MRJobs that we created\n",
    "from MRmoveWgtStepA import MRmoveWgtStepA\n",
    "\n",
    "# test it out on the test file\n",
    "mr_job = MRmoveWgtStepA(args=['test_iter_0'])\n",
    "with mr_job.make_runner() as runner:\n",
    "        runner.run()\n",
    "        \n",
    "        # print the dangling mass\n",
    "        print \"Dangling mass:\", runner.counters()[0]['PageRank_Counters']['Dangling_Mass']\n",
    "        \n",
    "        # create a new file to write to\n",
    "        with open('test_iter_1A','w') as myfile:\n",
    "        \n",
    "            # write the output to a file for testing\n",
    "            for line in runner.stream_output():\n",
    "                key,value =  mr_job.parse_output_line(line)\n",
    "                info = str(key) + str(value) + \"\\n\"\n",
    "                myfile.write(info)\n",
    "\n",
    "# let's see the file\n",
    "print '\\n'\n",
    "!echo Part A of the first step\n",
    "!cat test_iter_1A"
   ]
  },
  {
   "cell_type": "code",
   "execution_count": 54,
   "metadata": {
    "collapsed": false
   },
   "outputs": [
    {
     "name": "stdout",
     "output_type": "stream",
     "text": [
      "Overwriting MRmoveDangleB.py\n"
     ]
    }
   ],
   "source": [
    "%%writefile MRmoveDangleB.py\n",
    "\n",
    "# import the MRJob class\n",
    "from mrjob.job import MRJob\n",
    "from mrjob.step import MRStep\n",
    "\n",
    "# import libraries to help us\n",
    "# get our job done\n",
    "import ast\n",
    "import sys\n",
    "  \n",
    "class MRmoveDangleB(MRJob):\n",
    "    \n",
    "    # count of the number of nodes\n",
    "    count = 0\n",
    "    \n",
    "    # dampening factor\n",
    "    damp = 0.0\n",
    "    \n",
    "    # set the teleport weight\n",
    "    teleport = 0.0\n",
    "    \n",
    "    # set the number that helps convert to ints\n",
    "    num_converter = 10000000000\n",
    "    \n",
    "    # set the total dangling mass\n",
    "    dangle_total = 0\n",
    "    dangle = 0\n",
    "    \n",
    "    # define the steps for the MapReduce job\n",
    "    def steps(self):\n",
    "        return [MRStep(mapper_init = self.mapper_init,\\\n",
    "                       mapper=self.mapper)]    \n",
    "    \n",
    "    \n",
    "    # configure the options so that we can \n",
    "    # pass in the current weights file\n",
    "    def configure_options(self):\n",
    "        super(MRmoveDangleB, self).configure_options()\n",
    "        self.add_passthrough_option(\"--nodes\", type='int', default=1)\n",
    "        self.add_passthrough_option(\"--dampen\", type='float', default=1.0)\n",
    "        self.add_passthrough_option(\"--num_convert\", type='int', default=10000000000)\n",
    "        self.add_passthrough_option(\"--dangle\", type='int', default=0)\n",
    "        \n",
    "    \n",
    "    # the mapper init function loads the number\n",
    "    # of nodes into memory, the dampening factor,\n",
    "    # the teleportation value, and the number convert\n",
    "    # and the dangling mass\n",
    "    def mapper_init(self):\n",
    "        \n",
    "        # set the count of number of nodes\n",
    "        self.count = self.options.nodes\n",
    "        \n",
    "        # set the user-inputted dampening factor\n",
    "        self.damp = self.options.dampen\n",
    "        \n",
    "        # calculate the added probability for each node\n",
    "        # due to teleportation\n",
    "        self.teleport = (1.0-self.damp) * (1.0/self.count)\n",
    "        \n",
    "        # set the number converter to convert the\n",
    "        # dangling mass back to a number less than 1\n",
    "        self.num_converter = self.options.num_convert\n",
    "        \n",
    "        # set the total accumulated mass (the part not \n",
    "        # from dangling nodes), and set the part from\n",
    "        # dangling nodes as 1.0 minus that value. each\n",
    "        # node then gets that weight equally distributed\n",
    "        # hence the division by the number of nodes\n",
    "        self.dangle_total = self.options.dangle / float(self.num_converter)\n",
    "        self.dangle = self.dangle_total / float(self.count)\n",
    "\n",
    "        \n",
    "    # the mapper takes each node and distributes\n",
    "    # its weight to its linked nodes\n",
    "    def mapper(self, _, line):\n",
    "        \n",
    "        # split the line into its node\n",
    "        # and its weighted links\n",
    "        line = line.strip().split('\\t')\n",
    "        node = int(line[0])\n",
    "        links_weight = ast.literal_eval(line[1])\n",
    "        links = links_weight[0]\n",
    "        weight = float(links_weight[1])\n",
    "        \n",
    "        # grab the weight from the dangling mass\n",
    "        # and add it to the existing weight\n",
    "        weight = weight + self.dangle\n",
    "        \n",
    "        # dampen the new weight and add the \n",
    "        # teleportation factor\n",
    "        new_weight = (self.damp * weight) + self.teleport\n",
    "                       \n",
    "        # yield the actual node with an empty \n",
    "        # weight\n",
    "        key = node\n",
    "        value = links,new_weight\n",
    "        yield key,value\n",
    "        \n",
    "\n",
    "if __name__ == '__main__':\n",
    "    MRmoveDangleB.run()"
   ]
  },
  {
   "cell_type": "code",
   "execution_count": 55,
   "metadata": {
    "collapsed": false
   },
   "outputs": [
    {
     "name": "stdout",
     "output_type": "stream",
     "text": [
      "Dangling mass: 909090909\n",
      "\n",
      "\n",
      "Part A of the first step\n",
      "1\t[[], 0.045454545454545456]\n",
      "10\t[[5], 0.0]\n",
      "11\t[[5], 0.0]\n",
      "2\t[[3], 0.3484848484848485]\n",
      "3\t[[2], 0.09090909090909091]\n",
      "4\t[[1, 2], 0.030303030303030304]\n",
      "5\t[[2, 4, 6], 0.36363636363636365]\n",
      "6\t[[2, 5], 0.030303030303030304]\n",
      "7\t[[2, 5], 0.0]\n",
      "8\t[[2, 5], 0.0]\n",
      "9\t[[2, 5], 0.0]\n",
      "\n",
      "\n",
      "Part B of the first step\n",
      "1\t[[], 0.059297520660454545]\n",
      "10\t[[5], 0.020661157024090913]\n",
      "11\t[[5], 0.020661157024090913]\n",
      "2\t[[3], 0.31687327823621214]\n",
      "3\t[[2], 0.09793388429681818]\n",
      "4\t[[1, 2], 0.046418732781666666]\n",
      "5\t[[2, 4, 6], 0.329752066115]\n",
      "6\t[[2, 5], 0.046418732781666666]\n",
      "7\t[[2, 5], 0.020661157024090913]\n",
      "8\t[[2, 5], 0.020661157024090913]\n",
      "9\t[[2, 5], 0.020661157024090913]\n"
     ]
    }
   ],
   "source": [
    "# test both steps\n",
    "%reload_ext autoreload\n",
    "%autoreload 2\n",
    "\n",
    "# import the MRJobs that we created\n",
    "from MRmoveWgtStepA import MRmoveWgtStepA\n",
    "from MRmoveDangleB import MRmoveDangleB\n",
    "\n",
    "# test it out on the test file\n",
    "mr_job1 = MRmoveWgtStepA(args=['test_iter_0'])\n",
    "\n",
    "# run the runner\n",
    "with mr_job1.make_runner() as runner:\n",
    "        runner.run()\n",
    "        \n",
    "        # capture the dangling mass\n",
    "        dangling = runner.counters()[0]['PageRank_Counters']['Dangling_Mass']\n",
    "        \n",
    "        # print the dangling mass\n",
    "        print \"Dangling mass:\", dangling\n",
    "        \n",
    "        # create a new file to write to\n",
    "        with open('test_iter_1A','w') as myfile:\n",
    "        \n",
    "            # write the output to a file for testing\n",
    "            for line in runner.stream_output():\n",
    "                key,value =  mr_job1.parse_output_line(line)\n",
    "                info = str(key) + \"\\t\" + str(value) + \"\\n\"\n",
    "                myfile.write(info)\n",
    "\n",
    "# let's see the file\n",
    "print '\\n'\n",
    "!echo Part A of the first step\n",
    "!cat test_iter_1A\n",
    "                \n",
    "# test the second step out on the test file\n",
    "mr_job2 = MRmoveDangleB(args=['test_iter_1A','--dampen=0.85','--nodes=11','--dangle=909090909'])            \n",
    "\n",
    "# run the runner\n",
    "with mr_job2.make_runner() as runner:\n",
    "        runner.run()\n",
    "        \n",
    "        # create a new file to write to\n",
    "        with open('test_iter_1B','w') as myfile:\n",
    "        \n",
    "            # write the output to a file for testing\n",
    "            for line in runner.stream_output():\n",
    "                key,value =  mr_job2.parse_output_line(line)\n",
    "                info = str(key) + \"\\t\" + str(value) + \"\\n\"\n",
    "                myfile.write(info)\n",
    "\n",
    "# let's see the file\n",
    "print '\\n'\n",
    "!echo Part B of the first step\n",
    "!cat test_iter_1B"
   ]
  },
  {
   "cell_type": "markdown",
   "metadata": {},
   "source": [
    "### Gather the number of nodes for Wikipedia"
   ]
  },
  {
   "cell_type": "code",
   "execution_count": 57,
   "metadata": {
    "collapsed": false
   },
   "outputs": [
    {
     "name": "stdout",
     "output_type": "stream",
     "text": [
      "Total nodes: 15192277\n"
     ]
    }
   ],
   "source": [
    "# read in the total nodes\n",
    "total_nodes = 0\n",
    "with open('wiki_nodecount.txt','r') as myfile:\n",
    "    total_nodes = int(myfile.readline())\n",
    "print \"Total nodes:\", total_nodes"
   ]
  },
  {
   "cell_type": "markdown",
   "metadata": {},
   "source": [
    "### Start up a cluster"
   ]
  },
  {
   "cell_type": "code",
   "execution_count": 82,
   "metadata": {
    "collapsed": false
   },
   "outputs": [
    {
     "name": "stdout",
     "output_type": "stream",
     "text": [
      "Unexpected option hadoop from /Users/Alex/.mrjob.conf\n",
      "Using s3://mrjob-f8c316b67324528f/tmp/ as our temp dir on S3\n",
      "Creating persistent cluster to run several jobs in...\n",
      "Creating temp directory /var/folders/k8/fy2j66nj4xsczx6cbcxhjlvm0000gn/T/no_script.Alex.20160718.003446.913179\n",
      "Copying local files to s3://mrjob-f8c316b67324528f/tmp/no_script.Alex.20160718.003446.913179/files/...\n",
      "j-2GNH3DUHPMQXR\n"
     ]
    }
   ],
   "source": [
    "# create the cluster\n",
    "!mrjob create-cluster \\\n",
    "--max-hours-idle 1 \\\n",
    "--aws-region=us-west-1 -c ~/.mrjob.conf"
   ]
  },
  {
   "cell_type": "markdown",
   "metadata": {},
   "source": [
    "### Gather the dangling nodes"
   ]
  },
  {
   "cell_type": "markdown",
   "metadata": {},
   "source": [
    "We have already completed this step when we were working with our old approach. This part of the approach is the same, and so we will not redo it. The dangling nodes are started in s3://aks-w261-hw9/wiki_dangling."
   ]
  },
  {
   "cell_type": "markdown",
   "metadata": {},
   "source": [
    "### Create the first adjacency list"
   ]
  },
  {
   "cell_type": "code",
   "execution_count": 87,
   "metadata": {
    "collapsed": false
   },
   "outputs": [
    {
     "name": "stdout",
     "output_type": "stream",
     "text": [
      "We have created the first adjacency list for Wikipedia.\r\n"
     ]
    }
   ],
   "source": [
    "# set the output filename\n",
    "output_file = 's3://aks-w261-hw9/out_9-3/iter_0'\n",
    "\n",
    "# write this adjacency list to a file\n",
    "!python MRgraphAdj.py -r emr \\\n",
    "    s3://ucb-mids-mls-networks/wikipedia/all-pages-indexed-out.txt \\\n",
    "    s3://aks-w261-hw9/wiki_dangling \\\n",
    "    --cluster-id=j-2GNH3DUHPMQXR \\\n",
    "    --nodes=$total_nodes \\\n",
    "    --aws-region=us-west-1 \\\n",
    "    --output-dir=$output_file \\\n",
    "    --no-output \\\n",
    "    --quiet\n",
    "\n",
    "# let us know that we're done\n",
    "!echo \"We have created the first adjacency list for Wikipedia.\""
   ]
  },
  {
   "cell_type": "markdown",
   "metadata": {},
   "source": [
    "### Start up a cluster\n",
    "We start up another cluster because our job failed on the last cluster"
   ]
  },
  {
   "cell_type": "code",
   "execution_count": 7,
   "metadata": {
    "collapsed": false
   },
   "outputs": [
    {
     "name": "stdout",
     "output_type": "stream",
     "text": [
      "Unexpected option hadoop from /Users/Alex/.mrjob.conf\n",
      "Using s3://mrjob-f8c316b67324528f/tmp/ as our temp dir on S3\n",
      "Creating persistent cluster to run several jobs in...\n",
      "Creating temp directory /var/folders/k8/fy2j66nj4xsczx6cbcxhjlvm0000gn/T/no_script.Alex.20160719.012249.298897\n",
      "Copying local files to s3://mrjob-f8c316b67324528f/tmp/no_script.Alex.20160719.012249.298897/files/...\n",
      "j-IUC08UE0ZOXV\n"
     ]
    }
   ],
   "source": [
    "# create the cluster\n",
    "!mrjob create-cluster \\\n",
    "--max-hours-idle 1 \\\n",
    "--aws-region=us-west-1 -c ~/.mrjob.conf"
   ]
  },
  {
   "cell_type": "markdown",
   "metadata": {},
   "source": [
    "### Test the small dataset on the cloud"
   ]
  },
  {
   "cell_type": "code",
   "execution_count": 8,
   "metadata": {
    "collapsed": false
   },
   "outputs": [
    {
     "name": "stdout",
     "output_type": "stream",
     "text": [
      "upload: ./test_iter_0 to s3://aks-w261-hw9/test_iter_0\r\n"
     ]
    }
   ],
   "source": [
    "# move the file up to s3\n",
    "!aws s3 cp test_iter_0 s3://aks-w261-hw9/test_iter_0"
   ]
  },
  {
   "cell_type": "code",
   "execution_count": 10,
   "metadata": {
    "collapsed": false
   },
   "outputs": [
    {
     "name": "stdout",
     "output_type": "stream",
     "text": [
      "Using configs in /Users/Alex/.mrjob.conf\n",
      "Unexpected option hadoop from /Users/Alex/.mrjob.conf\n",
      "Using s3://mrjob-f8c316b67324528f/tmp/ as our temp dir on S3\n",
      "Creating temp directory /var/folders/k8/fy2j66nj4xsczx6cbcxhjlvm0000gn/T/MRmoveWgtStep.Alex.20160719.012939.053789\n",
      "Copying local files to s3://mrjob-f8c316b67324528f/tmp/MRmoveWgtStep.Alex.20160719.012939.053789/files/...\n",
      "Adding our job to existing cluster j-IUC08UE0ZOXV\n",
      "Waiting for step 1 of 1 (s-FSK2UNB0Y0K1) to complete...\n",
      "  Opening ssh tunnel to resource manager...\n",
      "  Connect to resource manager at: http://localhost:40631/cluster\n",
      "  RUNNING for 2.4s\n",
      "  RUNNING for 37.7s\n",
      "     5.0% complete\n",
      "  RUNNING for 68.4s\n",
      "    44.2% complete\n",
      "  RUNNING for 99.7s\n",
      "   100.0% complete\n",
      "  COMPLETED\n",
      "Attempting to fetch counters from logs...\n",
      "Looking for step log in /mnt/var/log/hadoop/steps/s-FSK2UNB0Y0K1 on ec2-54-153-14-102.us-west-1.compute.amazonaws.com...\n",
      "  Parsing step log: ssh://ec2-54-153-14-102.us-west-1.compute.amazonaws.com/mnt/var/log/hadoop/steps/s-FSK2UNB0Y0K1/syslog\n",
      "Counters: 54\n",
      "\tFile Input Format Counters \n",
      "\t\tBytes Read=9861\n",
      "\tFile Output Format Counters \n",
      "\t\tBytes Written=344\n",
      "\tFile System Counters\n",
      "\t\tFILE: Number of bytes read=1155\n",
      "\t\tFILE: Number of bytes written=8796619\n",
      "\t\tFILE: Number of large read operations=0\n",
      "\t\tFILE: Number of read operations=0\n",
      "\t\tFILE: Number of write operations=0\n",
      "\t\tHDFS: Number of bytes read=4617\n",
      "\t\tHDFS: Number of bytes written=0\n",
      "\t\tHDFS: Number of large read operations=0\n",
      "\t\tHDFS: Number of read operations=57\n",
      "\t\tHDFS: Number of write operations=0\n",
      "\t\tS3: Number of bytes read=9861\n",
      "\t\tS3: Number of bytes written=344\n",
      "\t\tS3: Number of large read operations=0\n",
      "\t\tS3: Number of read operations=0\n",
      "\t\tS3: Number of write operations=0\n",
      "\tJob Counters \n",
      "\t\tData-local map tasks=57\n",
      "\t\tLaunched map tasks=57\n",
      "\t\tLaunched reduce tasks=27\n",
      "\t\tTotal megabyte-seconds taken by all map tasks=2092701600\n",
      "\t\tTotal megabyte-seconds taken by all reduce tasks=1011686400\n",
      "\t\tTotal time spent by all map tasks (ms)=1453265\n",
      "\t\tTotal time spent by all maps in occupied slots (ms)=65396925\n",
      "\t\tTotal time spent by all reduce tasks (ms)=351280\n",
      "\t\tTotal time spent by all reduces in occupied slots (ms)=31615200\n",
      "\t\tTotal vcore-seconds taken by all map tasks=1453265\n",
      "\t\tTotal vcore-seconds taken by all reduce tasks=351280\n",
      "\tMap-Reduce Framework\n",
      "\t\tCPU time spent (ms)=89080\n",
      "\t\tCombine input records=39\n",
      "\t\tCombine output records=38\n",
      "\t\tFailed Shuffles=0\n",
      "\t\tGC time elapsed (ms)=23154\n",
      "\t\tInput split bytes=4617\n",
      "\t\tMap input records=11\n",
      "\t\tMap output bytes=975\n",
      "\t\tMap output materialized bytes=25490\n",
      "\t\tMap output records=39\n",
      "\t\tMerged Map outputs=1539\n",
      "\t\tPhysical memory (bytes) snapshot=35713318912\n",
      "\t\tReduce input groups=11\n",
      "\t\tReduce input records=38\n",
      "\t\tReduce output records=11\n",
      "\t\tReduce shuffle bytes=25490\n",
      "\t\tShuffled Maps =1539\n",
      "\t\tSpilled Records=76\n",
      "\t\tTotal committed heap usage (bytes)=41576562688\n",
      "\t\tVirtual memory (bytes) snapshot=199719202816\n",
      "\tShuffle Errors\n",
      "\t\tBAD_ID=0\n",
      "\t\tCONNECTION=0\n",
      "\t\tIO_ERROR=0\n",
      "\t\tWRONG_LENGTH=0\n",
      "\t\tWRONG_MAP=0\n",
      "\t\tWRONG_REDUCE=0\n",
      "Removing s3 temp directory s3://mrjob-f8c316b67324528f/tmp/MRmoveWgtStep.Alex.20160719.012939.053789/...\n",
      "Removing temp directory /var/folders/k8/fy2j66nj4xsczx6cbcxhjlvm0000gn/T/MRmoveWgtStep.Alex.20160719.012939.053789...\n",
      "Killing our SSH tunnel (pid 33603)\n"
     ]
    }
   ],
   "source": [
    "# run the mrjob for a single iteration\n",
    "!python MRmoveWgtStep.py -r emr \\\n",
    "        s3://aks-w261-hw9/test_iter_0 \\\n",
    "        --cluster-id=j-IUC08UE0ZOXV \\\n",
    "        --nodes=$total_nodes \\\n",
    "        --dampen=0.85 \\\n",
    "        --aws-region=us-west-1 \\\n",
    "        --output-dir=s3://aks-w261-hw9/test_iter_1 \\\n",
    "        --no-output"
   ]
  },
  {
   "cell_type": "markdown",
   "metadata": {},
   "source": [
    "### Loop through for 10 iterations\n",
    "Now that we've confirmed it works on the small dataset, let's try with Wikipedia."
   ]
  },
  {
   "cell_type": "code",
   "execution_count": null,
   "metadata": {
    "collapsed": false,
    "scrolled": true
   },
   "outputs": [
    {
     "name": "stdout",
     "output_type": "stream",
     "text": [
      "Total nodes: 15192277\n",
      "Using configs in /Users/Alex/.mrjob.conf\n",
      "Unexpected option hadoop from /Users/Alex/.mrjob.conf\n",
      "Using s3://mrjob-f8c316b67324528f/tmp/ as our temp dir on S3\n",
      "Creating temp directory /var/folders/k8/fy2j66nj4xsczx6cbcxhjlvm0000gn/T/MRmoveWgtStep.Alex.20160719.013620.064944\n",
      "Copying local files to s3://mrjob-f8c316b67324528f/tmp/MRmoveWgtStep.Alex.20160719.013620.064944/files/...\n",
      "Adding our job to existing cluster j-IUC08UE0ZOXV\n",
      "Waiting for step 1 of 1 (s-O3GXZF1OW49N) to complete...\n",
      "  Opening ssh tunnel to resource manager...\n",
      "  Connect to resource manager at: http://localhost:40631/cluster\n",
      "  RUNNING for 10.6s\n",
      "   100.0% complete\n",
      "  RUNNING for 43.3s\n",
      "     5.0% complete\n"
     ]
    }
   ],
   "source": [
    "# read in the total nodes\n",
    "total_nodes = 0\n",
    "with open('wiki_nodecount.txt','r') as myfile:\n",
    "    total_nodes = int(myfile.readline())\n",
    "\n",
    "# input file\n",
    "input_file = 's3://aks-w261-hw9/out_9-3/iter_0'\n",
    "output_file = 's3://aks-w261-hw9/out_9-3/iter_1'\n",
    "\n",
    "# set the dampening factor\n",
    "damp = 0.85\n",
    "\n",
    "# test it out with one iteration\n",
    "!python MRmoveWgtStep.py -r emr \\\n",
    "        $input_file \\\n",
    "        --cluster-id=j-IUC08UE0ZOXV \\\n",
    "        --nodes=$total_nodes \\\n",
    "        --dampen=$damp \\\n",
    "        --aws-region=us-west-1 \\\n",
    "        --output-dir=$output_file \\\n",
    "        --no-output"
   ]
  },
  {
   "cell_type": "code",
   "execution_count": null,
   "metadata": {
    "collapsed": false
   },
   "outputs": [],
   "source": [
    "# let's run it for ten iterations\n",
    "ITERATIONS = 10\n",
    "iteration = 0\n",
    "\n",
    "# set the variables\n",
    "damp = 0.85\n",
    "\n",
    "# keep iterating until we get to our desired number\n",
    "while iteration < ITERATIONS:\n",
    "    \n",
    "    # set the input files\n",
    "    input_file = 's3://aks-w261-hw9/out_9-3/iter_' + str(iteration)\n",
    "    \n",
    "    # increment the iteration\n",
    "    iteration = iteration + 1\n",
    "    \n",
    "    # set the output files\n",
    "    output_file = 's3://aks-w261-hw9/out_9-3/iter_' + str(iteration)\n",
    "\n",
    "    # test it out locally\n",
    "    !python MRmoveWgtStep.py -r emr \\\n",
    "        $input_file \\\n",
    "        --cluster-id=j-2GNH3DUHPMQXR \\\n",
    "        --nodes=$total_nodes \\\n",
    "        --dampen=$damp \\\n",
    "        --aws-region=us-west-1 \\\n",
    "        --output-dir=$output_file \\\n",
    "        --no-output \\\n",
    "        --quiet\n",
    "\n",
    "# let us know that the deed is done\n",
    "!echo We have completed the ten iterations"
   ]
  },
  {
   "cell_type": "markdown",
   "metadata": {},
   "source": [
    "### <span style=\"color:violet\"> OKAY!!! Let's try our third method. We'll restart our clusters. We'll start with a single iteration and then do 10 iterations </span>"
   ]
  },
  {
   "cell_type": "code",
   "execution_count": 56,
   "metadata": {
    "collapsed": false
   },
   "outputs": [
    {
     "name": "stdout",
     "output_type": "stream",
     "text": [
      "Unexpected option hadoop from /Users/Alex/.mrjob.conf\n",
      "Using s3://mrjob-f8c316b67324528f/tmp/ as our temp dir on S3\n",
      "Creating persistent cluster to run several jobs in...\n",
      "Creating temp directory /var/folders/k8/fy2j66nj4xsczx6cbcxhjlvm0000gn/T/no_script.Alex.20160721.032002.260992\n",
      "Copying local files to s3://mrjob-f8c316b67324528f/tmp/no_script.Alex.20160721.032002.260992/files/...\n",
      "j-FK8HOSDOW3ED\n"
     ]
    }
   ],
   "source": [
    "# create the cluster\n",
    "!mrjob create-cluster \\\n",
    "--max-hours-idle 1 \\\n",
    "--aws-region=us-west-1 -c ~/.mrjob.conf"
   ]
  },
  {
   "cell_type": "code",
   "execution_count": 58,
   "metadata": {
    "collapsed": false
   },
   "outputs": [
    {
     "name": "stdout",
     "output_type": "stream",
     "text": [
      "Iteration: 1\n",
      "Dangling mass: 6192429446\n"
     ]
    }
   ],
   "source": [
    "# launch our job on the Wikipedia data\n",
    "%reload_ext autoreload\n",
    "%autoreload 2\n",
    "\n",
    "# import the MRJobs that we created\n",
    "from MRmoveWgtStepA import MRmoveWgtStepA\n",
    "\n",
    "# set our iteration number\n",
    "iteration = 0\n",
    "\n",
    "# set our input file\n",
    "input_file = 's3://aks-w261-hw9/out_9-3/iter_' + str(iteration)\n",
    "\n",
    "# set our intermediate file\n",
    "iteration = iteration + 1\n",
    "inter_file = 's3://aks-w261-hw9/out_9-3/iter_' + str(iteration) + 'A'\n",
    "inter_out = '--output-dir=' + inter_file\n",
    "\n",
    "# set out final outupt file\n",
    "output_file = 's3://aks-w261-hw9/out_9-3/iter_' + str(iteration) + 'B'\n",
    "\n",
    "# run it on the full data\n",
    "mr_job1 = MRmoveWgtStepA(args=[input_file, \\\n",
    "                              '-r','emr',\\\n",
    "                              '--cluster-id=j-FK8HOSDOW3ED', \\\n",
    "                              '--aws-region=us-west-1', \\\n",
    "                              inter_out, \\\n",
    "                              '--no-output'\\\n",
    "                             ])\n",
    "\n",
    "# run the runner\n",
    "with mr_job1.make_runner() as runner:\n",
    "        runner.run()\n",
    "        \n",
    "        # capture the dangling mass\n",
    "        dangling = runner.counters()[0]['PageRank_Counters']['Dangling_Mass']\n",
    "        \n",
    "        # print the dangling mass\n",
    "        print \"Iteration:\", iteration\n",
    "        print \"Dangling mass:\", dangling"
   ]
  },
  {
   "cell_type": "code",
   "execution_count": 60,
   "metadata": {
    "collapsed": false
   },
   "outputs": [
    {
     "name": "stdout",
     "output_type": "stream",
     "text": [
      "Second part of first iteration complete!\r\n"
     ]
    }
   ],
   "source": [
    "%reload_ext autoreload\n",
    "%autoreload 2\n",
    "\n",
    "# import the job we need for the second half of the\n",
    "# iteration\n",
    "from MRmoveDangleB import MRmoveDangleB\n",
    "\n",
    "# set the dampening factor, number of nodes\n",
    "# and the dangling mass\n",
    "damp = '--dampen='+str(0.85)\n",
    "dangle = '--dangle=' + str(dangling)\n",
    "nodes = '--nodes=' + str(total_nodes)\n",
    "\n",
    "# set the output file\n",
    "output_file = '--output-dir=' + output_file\n",
    "\n",
    "# run the second step out on the wikipedia file\n",
    "mr_job2 = MRmoveDangleB(args=[inter_file, \\\n",
    "                             '-r','emr', \\\n",
    "                             damp, \\\n",
    "                             dangle, \\\n",
    "                             nodes, \\\n",
    "                             '--cluster-id=j-FK8HOSDOW3ED', \\\n",
    "                             '--aws-region=us-west-1', \\\n",
    "                             output_file, \\\n",
    "                             '--no-output'\\\n",
    "                             ])\n",
    "\n",
    "# run the runner\n",
    "with mr_job2.make_runner() as runner:\n",
    "        runner.run()\n",
    "        \n",
    "!echo Second part of first iteration complete!"
   ]
  },
  {
   "cell_type": "markdown",
   "metadata": {},
   "source": [
    "### <span style=\"color:violet\"> Loop through 10 iterations for real </span>"
   ]
  },
  {
   "cell_type": "code",
   "execution_count": 61,
   "metadata": {
    "collapsed": false
   },
   "outputs": [
    {
     "name": "stdout",
     "output_type": "stream",
     "text": [
      "Iteration: 1\n",
      "Dangling mass: 5002701163\n",
      "Iteration: 2\n",
      "Dangling mass: 4667544064\n",
      "Iteration: 3\n",
      "Dangling mass: 4559336341\n",
      "Iteration: 4\n",
      "Dangling mass: 4521184077\n",
      "Iteration: 5\n",
      "Dangling mass: 4506097374\n",
      "Iteration: 6\n",
      "Dangling mass: 4499652203\n",
      "Iteration: 7\n",
      "Dangling mass: 4496494807\n",
      "Iteration: 8\n",
      "Dangling mass: 4494805682\n",
      "Iteration: 9\n",
      "Dangling mass: 4493806926\n",
      "Iteration: 10\n",
      "Dangling mass: 4493169743\n",
      "We have run 11 iterations and completed PageRank for Wikipedia.\n"
     ]
    }
   ],
   "source": [
    "%reload_ext autoreload\n",
    "%autoreload 2\n",
    "\n",
    "# import the job programs\n",
    "from MRmoveWgtStepA import MRmoveWgtStepA\n",
    "from MRmoveDangleB import MRmoveDangleB\n",
    "\n",
    "# start with iteration 1 since \n",
    "# we already did that one as a single\n",
    "# step\n",
    "iteration = 1\n",
    "\n",
    "# loop for ten iterations\n",
    "while iteration <= 10: \n",
    "    \n",
    "    # set the input and output file for part A\n",
    "    A_input = 's3://aks-w261-hw9/out_9-3/iter_' + str(iteration) + 'B'\n",
    "    A_output = '--output-dir=s3://aks-w261-hw9/out_9-3/iter_' + str(iteration + 1) + 'A'\n",
    "    \n",
    "    # initalize the first job\n",
    "    mr_job1 = MRmoveWgtStepA(args=[A_input, \\\n",
    "                              '-r','emr',\\\n",
    "                              '--cluster-id=j-FK8HOSDOW3ED', \\\n",
    "                              '--aws-region=us-west-1', \\\n",
    "                              A_output, \\\n",
    "                              '--no-output'\\\n",
    "                             ])\n",
    "    \n",
    "    # run the first job\n",
    "    with mr_job1.make_runner() as runner:\n",
    "            runner.run()\n",
    "\n",
    "            # capture the dangling mass\n",
    "            dangling = runner.counters()[0]['PageRank_Counters']['Dangling_Mass']\n",
    "\n",
    "            # print the dangling mass\n",
    "            print \"Iteration:\", iteration\n",
    "            print \"Dangling mass:\", dangling\n",
    "    \n",
    "    \n",
    "    # set the input and output files for part B\n",
    "    B_input = 's3://aks-w261-hw9/out_9-3/iter_' + str(iteration + 1) + 'A'\n",
    "    B_output = '--output-dir=s3://aks-w261-hw9/out_9-3/iter_' + str(iteration + 1) + 'B'\n",
    "    \n",
    "    # increment the iteration\n",
    "    iteration = iteration + 1\n",
    "    \n",
    "    # set the variables\n",
    "    # set the dampening factor, number of nodes\n",
    "    # and the dangling mass\n",
    "    damp = '--dampen='+str(0.85)\n",
    "    dangle = '--dangle=' + str(dangling)\n",
    "    nodes = '--nodes=' + str(total_nodes)\n",
    "    \n",
    "    # initalize the second job\n",
    "    mr_job2 = MRmoveDangleB(args=[B_input, \\\n",
    "                             '-r','emr', \\\n",
    "                             damp, \\\n",
    "                             dangle, \\\n",
    "                             nodes, \\\n",
    "                             '--cluster-id=j-FK8HOSDOW3ED', \\\n",
    "                             '--aws-region=us-west-1', \\\n",
    "                             B_output, \\\n",
    "                             '--no-output'\\\n",
    "                             ])\n",
    "    \n",
    "    # run the second job\n",
    "    with mr_job2.make_runner() as runner:\n",
    "        runner.run()\n",
    "        \n",
    "# print when done\n",
    "print \"We have run\",iteration,\"iterations and completed PageRank for Wikipedia.\""
   ]
  },
  {
   "cell_type": "markdown",
   "metadata": {},
   "source": [
    "### Perform a sort to capture the top 100 nodes by weight\n",
    "We use an MRJob function to find all nodes above a certain threshold. Once this list is small enough, we can easily perform a local sort."
   ]
  },
  {
   "cell_type": "code",
   "execution_count": null,
   "metadata": {
    "collapsed": true
   },
   "outputs": [],
   "source": [
    "%%writefile MRtop.py\n",
    "\n",
    "# import the MRJob class\n",
    "from mrjob.job import MRJob\n",
    "from mrjob.step import MRStep\n",
    "\n",
    "# import libraries to help us\n",
    "# get our job done\n",
    "import ast\n",
    "import sys\n",
    "  \n",
    "class MRtop(MRJob):\n",
    "    \n",
    "    # count of the number of nodes\n",
    "    threshold = 0.0\n",
    "\n",
    "    \n",
    "    # define the steps for the MapReduce job\n",
    "    def steps(self):\n",
    "        \n",
    "        # we use a single reducer because the \n",
    "        # output file should be tiny\n",
    "        JOBCONF = {        \n",
    "            'mapreduce.job.reduces': 1,\n",
    "        }\n",
    "        \n",
    "        return [MRStep(jobconf = JOBCONF, \\\n",
    "                       mapper_init = self.mapper_init,\\\n",
    "                       mapper=self.mapper,\\\n",
    "                       reducer=self.reducer)]    \n",
    "    \n",
    "    \n",
    "    # configure the options so that we can \n",
    "    # pass in the current weights file\n",
    "    def configure_options(self):\n",
    "        super(MRmoveWgtStep, self).configure_options()\n",
    "        self.add_passthrough_option(\"--thresh\", type='float', default=0.3)\n",
    "        \n",
    "    \n",
    "    # the mapper init loads the threshold\n",
    "    # into memory\n",
    "    def mapper_init(self):\n",
    "        self.threshold = self.options.thresh\n",
    "        \n",
    "        \n",
    "    # the mapper takes \n",
    "    def mapper(self, _, line):\n",
    "        \n",
    "        # split the line into its node\n",
    "        # and its weighted links\n",
    "        line = line.strip().split('\\t')\n",
    "        node = int(line[0])\n",
    "        links_weight = ast.literal_eval(line[1])\n",
    "        links = links_weight[0]\n",
    "        weight = float(links_weight[1])\n",
    "        \n",
    "        # if the node has a weight greater than\n",
    "        # our threshold, emit it\n",
    "        if weight > self.threshold:\n",
    "            key = node\n",
    "            value = links,weight\n",
    "            yield key,value\n",
    "    \n",
    "    \n",
    "    # our reducer simply emits the \n",
    "    # the nodes it has been given\n",
    "    def reducer(self, node, links_weight):\n",
    "        \n",
    "        # loop through the links_weights\n",
    "        # and add them to our variables\n",
    "        for links,weight in links_weight:\n",
    "            key = node\n",
    "            value = links,weight\n",
    "            yield key,value\n",
    "    \n",
    "             \n",
    "if __name__ == '__main__':\n",
    "    MRtop.run()"
   ]
  },
  {
   "cell_type": "markdown",
   "metadata": {},
   "source": [
    "### Apply the top function to the 5th iteration"
   ]
  },
  {
   "cell_type": "code",
   "execution_count": null,
   "metadata": {
    "collapsed": true
   },
   "outputs": [],
   "source": [
    "# set the threshold value we desire\n",
    "threshold = 0.3\n",
    "\n",
    "# run the program\n",
    "!python MRtop.py -r emr \\\n",
    "    s3://aks-w261-hw9/out_9-3/iter_5 \\\n",
    "    --cluster-id=j-2GNH3DUHPMQXR \\\n",
    "    --thresh=$threshold \\\n",
    "    --aws-region=us-west-1 \\\n",
    "    --output-dir=s3://aks-w261-hw9/top100_5 \\\n",
    "    --no-output \\\n",
    "    --quiet"
   ]
  },
  {
   "cell_type": "code",
   "execution_count": null,
   "metadata": {
    "collapsed": true
   },
   "outputs": [],
   "source": [
    "# copy the file locally\n",
    "!aws s3 cp s3://aks-w261-hw9/top100_5/part-00000 top100_5.txt"
   ]
  },
  {
   "cell_type": "code",
   "execution_count": null,
   "metadata": {
    "collapsed": true
   },
   "outputs": [],
   "source": [
    "%matplotlib inline\n",
    "# import libraries to help us read the data\n",
    "import ast\n",
    "import matplotlib.pyplot as plt\n",
    "\n",
    "# create a list \n",
    "top = []\n",
    "\n",
    "# open the file\n",
    "with open('top100_5.txt','r') as myfile:\n",
    "    \n",
    "    # read each line\n",
    "    for line in myfile.readlines():\n",
    "        \n",
    "        # split the line into its node\n",
    "        # and its weighted links\n",
    "        line = line.strip().split('\\t')\n",
    "        node = int(line[0])\n",
    "        links_weight = ast.literal_eval(line[1])\n",
    "        links = links_weight[0]\n",
    "        weight = float(links_weight[1])\n",
    "        \n",
    "        # add the node and the weight to the \n",
    "        # tuple\n",
    "        info = node,weight\n",
    "        top.append(info)\n",
    "\n",
    "# sort the list\n",
    "top_sorted = sorted(top, key=lambda tup: tup[1],reverse=True)\n",
    "\n",
    "# save the top 100 \n",
    "top_100 = top_sorted[0:100]\n",
    "\n",
    "# convert the list into two lists for plotting\n",
    "x_lab = [x[0] for x in top_100]\n",
    "y_val = [x[1] for x in top_100]\n",
    "\n",
    "# get the x_values as simply a list of numbers\n",
    "# we'll later replace with the labels\n",
    "x_val = range(len(y_val))\n",
    "\n",
    "# convert the x labels to strings\n",
    "x_lab = map(str,x_lab)\n",
    "\n",
    "# plot the graph\n",
    "plt.bar(x_val,y_val)\n",
    "plt.xticks(x_val,x_lab)\n",
    "plt.title('Most Highly Weighted Nodes After 5 Iterations')\n",
    "plt.show()"
   ]
  },
  {
   "cell_type": "markdown",
   "metadata": {},
   "source": [
    "### Apply the top function to the 10th iteration"
   ]
  },
  {
   "cell_type": "code",
   "execution_count": null,
   "metadata": {
    "collapsed": true
   },
   "outputs": [],
   "source": [
    "# set the threshold value we desire\n",
    "threshold = 0.3\n",
    "\n",
    "# run the program\n",
    "!python MRtop.py -r emr \\\n",
    "    s3://aks-w261-hw9/out_9-3/iter_10 \\\n",
    "    --cluster-id=j-2GNH3DUHPMQXR \\\n",
    "    --thresh=$threshold \\\n",
    "    --aws-region=us-west-1 \\\n",
    "    --output-dir=s3://aks-w261-hw9/top100_10 \\\n",
    "    --no-output \\\n",
    "    --quiet"
   ]
  },
  {
   "cell_type": "code",
   "execution_count": null,
   "metadata": {
    "collapsed": true
   },
   "outputs": [],
   "source": [
    "# copy the file locally\n",
    "!aws s3 cp s3://aks-w261-hw9/top100_10/part-00000 top100_10.txt"
   ]
  },
  {
   "cell_type": "code",
   "execution_count": null,
   "metadata": {
    "collapsed": true
   },
   "outputs": [],
   "source": [
    "%matplotlib inline\n",
    "# import libraries to help us read the data\n",
    "import ast\n",
    "import matplotlib.pyplot as plt\n",
    "\n",
    "# create a list \n",
    "top = []\n",
    "\n",
    "# open the file\n",
    "with open('top100_10.txt','r') as myfile:\n",
    "    \n",
    "    # read each line\n",
    "    for line in myfile.readlines():\n",
    "        \n",
    "        # split the line into its node\n",
    "        # and its weighted links\n",
    "        line = line.strip().split('\\t')\n",
    "        node = int(line[0])\n",
    "        links_weight = ast.literal_eval(line[1])\n",
    "        links = links_weight[0]\n",
    "        weight = float(links_weight[1])\n",
    "        \n",
    "        # add the node and the weight to the \n",
    "        # tuple\n",
    "        info = node,weight\n",
    "        top.append(info)\n",
    "\n",
    "# sort the list\n",
    "top_sorted = sorted(top, key=lambda tup: tup[1],reverse=True)\n",
    "\n",
    "# save the top 100 \n",
    "top_100 = top_sorted[0:100]\n",
    "\n",
    "# convert the list into two lists for plotting\n",
    "x_lab = [x[0] for x in top_100]\n",
    "y_val = [x[1] for x in top_100]\n",
    "\n",
    "# get the x_values as simply a list of numbers\n",
    "# we'll later replace with the labels\n",
    "x_val = range(len(y_val))\n",
    "\n",
    "# convert the x labels to strings\n",
    "x_lab = map(str,x_lab)\n",
    "\n",
    "# plot the graph\n",
    "plt.bar(x_val,y_val)\n",
    "plt.xticks(x_val,x_lab)\n",
    "plt.title('Most Highly Weighted Nodes After 10 Iterations')\n",
    "plt.show()"
   ]
  },
  {
   "cell_type": "markdown",
   "metadata": {},
   "source": [
    "***\n",
    "## HW 9.4: Topic-specific PageRank implementation using MRJob\n",
    "\n",
    "Modify your PageRank implementation to produce a topic specific PageRank implementation,\n",
    "as described in:\n",
    "\n",
    "http://www-cs-students.stanford.edu/~taherh/papers/topic-sensitive-pagerank.pdf\n",
    "\n",
    "Note in this article that there is a special caveat to ensure that the transition matrix is irreducible.\n",
    "This caveat lies in footnote 3 on page 3:\n",
    "\n",
    "\tA minor caveat: to ensure that M is irreducible when p\n",
    "\tcontains any 0 entries, nodes not reachable from nonzero\n",
    "\tnodes in p should be removed. In practice this is not problematic.\n",
    "\n",
    "and must be adhered to for convergence to be guaranteed.\n",
    "\n",
    "Run topic specific PageRank on the following randomly generated network of 100 nodes:\n",
    "\n",
    "s3://ucb-mids-mls-networks/randNet.txt (also available on Dropbox)\n",
    "\n",
    "which are organized into ten topics, as described in the file:\n",
    "\n",
    "s3://ucb-mids-mls-networks/randNet_topics.txt  (also available on Dropbox)\n",
    "\n",
    "Since there are 10 topics, your result should be 11 PageRank vectors\n",
    "(one for the vanilla PageRank implementation in 9.1, and one for each topic\n",
    "with the topic specific implementation). Print out the top ten ranking nodes \n",
    "and their topics for each of the 11 versions, and comment on your result. \n",
    "Assume a teleportation factor of 0.15 in all your analyses.\n",
    "\n",
    "One final and important comment here:  please consider the \n",
    "requirements for irreducibility with topic-specific PageRank.\n",
    "In particular, the literature ensures irreducibility by requiring that\n",
    "nodes not reachable from in-topic nodes be removed from the network.\n",
    "\n",
    "This is not a small task, especially as it it must be performed\n",
    "separately for each of the (10) topics.\n",
    "\n",
    "So, instead of using this method for irreducibility, \n",
    "please comment on why the literature's method is difficult to implement,\n",
    "and what extra computation it will require.\n",
    "Then for your code, please use the alternative, \n",
    "non-uniform damping vector:\n",
    "\n",
    "vji = beta*(1/|Tj|); if node i lies in topic Tj\n",
    "\n",
    "vji = (1-beta)*(1/(N - |Tj|)); if node i lies outside of topic Tj\n",
    "\n",
    "for beta in (0,1) close to 1. \n",
    "\n",
    "With this approach, you will not have to delete any nodes.\n",
    "If beta > 0.5, PageRank is topic-sensitive, \n",
    "and if beta < 0.5, the PageRank is anti-topic-sensitive. \n",
    "For any value of beta irreducibility should hold,\n",
    "so please try beta=0.99, and perhaps some other values locally,\n",
    "on the smaller networks."
   ]
  },
  {
   "cell_type": "markdown",
   "metadata": {
    "collapsed": true
   },
   "source": [
    "<span style=\"color:blue\">The literature's method is difficult to implement because it involves going through the entire graph and capture all the inbound links for a given node and the category for all the inbound links. In essence, we would have to create the whole graph in reverse. After that step, it would be easier to identify which nodes had to be eliminated from which graphs. </span>"
   ]
  },
  {
   "cell_type": "markdown",
   "metadata": {
    "collapsed": true
   },
   "source": [
    "### MRJob to count the number of nodes and the number of nodes per topic\n",
    "We use the following to formulas to modify our existing PageRank algorithm. To accomplish this, we need to calculate the total number of nodes and the number of nodes per topic. We have modified each weight:\n",
    "- dampening * accumulated_mass + (1-dampening)*beta*(1/|Tj|) IF node in topic\n",
    "- dampening * accumulated_mass + (1 - dampening)*(1-beta)*(1/(N - |Tj|))\n",
    "Where |Tj| is the number of nodes in topic and N is the total number of nodes. We try beta at 0.99."
   ]
  },
  {
   "cell_type": "code",
   "execution_count": 7,
   "metadata": {
    "collapsed": false
   },
   "outputs": [
    {
     "name": "stdout",
     "output_type": "stream",
     "text": [
      "Overwriting MRtopicNodes.py\n"
     ]
    }
   ],
   "source": [
    "%%writefile MRtopicNodes.py\n",
    "\n",
    "# import the MRJob class\n",
    "from mrjob.job import MRJob\n",
    "from mrjob.step import MRStep\n",
    "\n",
    "# import libraries to help us\n",
    "# get our job done\n",
    "import ast\n",
    "import sys\n",
    "  \n",
    "class MRtopicNodes(MRJob):\n",
    "    \n",
    "    # count of the number of nodes\n",
    "    count = 0\n",
    "    \n",
    "    # count of all the topics\n",
    "    topic_counts = {}\n",
    "\n",
    "    \n",
    "    # define the steps for the MapReduce job\n",
    "    def steps(self):\n",
    "        \n",
    "        # we use a single reducer because the \n",
    "        # output file should be tiny and we \n",
    "        # really just want a single output file\n",
    "        JOBCONF = {        \n",
    "            'mapreduce.job.reduces': 1,\n",
    "        }\n",
    "        \n",
    "        return [MRStep(jobconf = JOBCONF, \\\n",
    "                       mapper=self.mapper, \\\n",
    "                       mapper_final=self.mapper_final, \\\n",
    "                       combiner = self.combiner, \\\n",
    "                       reducer=self.reducer, \\\n",
    "                       reducer_final=self.reducer_final)]    \n",
    "        \n",
    "        \n",
    "    # the mapper takes \n",
    "    def mapper(self, _, line):\n",
    "        \n",
    "        # split the line into its node\n",
    "        # and its weighted links\n",
    "        line = line.strip().split('\\t')\n",
    "        node = int(line[0])\n",
    "        category = int(line[1])\n",
    "        \n",
    "        # increment the total node count\n",
    "        self.count = self.count + 1\n",
    "        \n",
    "        # yield this node with a count of 1\n",
    "        yield category,1\n",
    "    \n",
    "    \n",
    "    # our mapper final emits the total \n",
    "    # nodes\n",
    "    def mapper_final(self):\n",
    "        yield 'Total_count', self.count\n",
    "    \n",
    "    \n",
    "    # our combiner simply combines\n",
    "    # the counts for multiple nodes\n",
    "    def combiner(self, label, counts):\n",
    "        yield label,sum(counts)\n",
    "    \n",
    "    \n",
    "    # our reducer sums the counts and emits\n",
    "    # the nodes and the topic counts\n",
    "    def reducer(self, label, counts):\n",
    "        \n",
    "        # if its the total counts, yield\n",
    "        # the simple sum of the counts\n",
    "        if label == 'Total_count':\n",
    "            self.count = sum(counts)\n",
    "        \n",
    "        # update the dictionary with\n",
    "        # the topic and the count\n",
    "        else:\n",
    "            self.topic_counts[int(label)] = sum(counts)\n",
    "            \n",
    "            \n",
    "    # the reducer final emits the final node\n",
    "    # count, in total and for each category\n",
    "    def reducer_final(self):\n",
    "        yield None,self.count\n",
    "        yield None,self.topic_counts\n",
    "    \n",
    "             \n",
    "if __name__ == '__main__':\n",
    "    MRtopicNodes.run()"
   ]
  },
  {
   "cell_type": "code",
   "execution_count": 11,
   "metadata": {
    "collapsed": false
   },
   "outputs": [
    {
     "name": "stdout",
     "output_type": "stream",
     "text": [
      "null\t100\r\n",
      "null\t{\"1\": 17, \"2\": 8, \"3\": 9, \"4\": 13, \"5\": 9, \"6\": 6, \"7\": 10, \"8\": 9, \"9\": 7, \"10\": 12}\r\n"
     ]
    }
   ],
   "source": [
    "# run this on the topic file\n",
    "!python MRtopicNodes.py randNet_topics.txt --quiet > randNet_counts\n",
    "!cat randNet_counts"
   ]
  },
  {
   "cell_type": "markdown",
   "metadata": {},
   "source": [
    "### Test for dangling nodes\n",
    "If the total lines are 100, then there are no dangling nodes."
   ]
  },
  {
   "cell_type": "code",
   "execution_count": 13,
   "metadata": {
    "collapsed": false
   },
   "outputs": [
    {
     "name": "stdout",
     "output_type": "stream",
     "text": [
      "     100\r\n"
     ]
    }
   ],
   "source": [
    "!cat randNet.txt | wc -l"
   ]
  },
  {
   "cell_type": "markdown",
   "metadata": {},
   "source": [
    "### Read in the total number of nodes"
   ]
  },
  {
   "cell_type": "code",
   "execution_count": 14,
   "metadata": {
    "collapsed": false
   },
   "outputs": [
    {
     "name": "stdout",
     "output_type": "stream",
     "text": [
      "Total nodes: 100\n"
     ]
    }
   ],
   "source": [
    "# save the file and save the total nodes\n",
    "total_nodes = 0\n",
    "with open('randNet_counts','r') as myfile:\n",
    "    total_nodes = int(myfile.readline().split('\\t')[1])\n",
    "print \"Total nodes:\", total_nodes"
   ]
  },
  {
   "cell_type": "markdown",
   "metadata": {},
   "source": [
    "### Create the adjacency matrix"
   ]
  },
  {
   "cell_type": "code",
   "execution_count": 15,
   "metadata": {
    "collapsed": false
   },
   "outputs": [
    {
     "name": "stdout",
     "output_type": "stream",
     "text": [
      "1\t[[11, 27, 63, 46, 47, 35, 89, 5], 0.01]\r\n",
      "2\t[[26, 32, 6, 37, 29, 5, 72, 67, 95, 8, 69, 94], 0.01]\r\n",
      "3\t[[39, 22, 28, 61, 73, 90], 0.01]\r\n",
      "4\t[[15, 16, 37, 75, 35, 88, 74, 73, 83, 100], 0.01]\r\n",
      "5\t[[38, 54, 29, 35, 41, 62, 73, 83, 100, 95, 84], 0.01]\r\n",
      "6\t[[21, 19, 30, 76, 2, 100, 81], 0.01]\r\n",
      "7\t[[12, 16, 44, 53, 98, 63, 8], 0.01]\r\n",
      "8\t[[27, 56, 87, 99, 64, 30, 9, 90, 93, 92, 86, 100], 0.01]\r\n",
      "9\t[[25, 14, 23, 55, 43, 40, 62, 66, 70, 80], 0.01]\r\n",
      "10\t[[38, 49, 46, 47, 28, 53, 61, 89, 64, 80], 0.01]\r\n"
     ]
    }
   ],
   "source": [
    "!python MRgraphAdj.py randNet.txt --nodes=$total_nodes --quiet > randNet_iter0\n",
    "!head randNet_iter0"
   ]
  },
  {
   "cell_type": "markdown",
   "metadata": {},
   "source": [
    "### Run non-topic specific PageRank"
   ]
  },
  {
   "cell_type": "code",
   "execution_count": 23,
   "metadata": {
    "collapsed": false
   },
   "outputs": [
    {
     "name": "stdout",
     "output_type": "stream",
     "text": [
      "Dangling mass: 0\n",
      "Dangling mass: 0\n",
      "Dangling mass: 0\n",
      "Dangling mass: 0\n",
      "Dangling mass: 0\n",
      "Dangling mass: 0\n",
      "Dangling mass: 0\n",
      "Dangling mass: 0\n",
      "Dangling mass: 0\n",
      "Dangling mass: 0\n",
      "Iterations run 10\n",
      "1\t[[11, 27, 63, 46, 47, 35, 89, 5], 0.007873147204339525]\n",
      "10\t[[38, 49, 46, 47, 28, 53, 61, 89, 64, 80], 0.011115071003478177]\n",
      "100\t[[10, 39, 48, 33, 51, 53, 52, 67], 0.01537648994160478]\n",
      "11\t[[39, 12, 21, 55, 43, 46, 89, 7, 84], 0.009341760235428822]\n",
      "12\t[[26, 59, 16, 33, 29, 99, 88, 2, 100, 95], 0.009678118206877369]\n",
      "13\t[[54, 52, 77, 65, 92, 85], 0.013178242969528466]\n",
      "14\t[[11, 34, 3, 64, 65, 91, 86], 0.009858289862959672]\n",
      "15\t[[13, 21, 49, 45, 37, 99, 74, 92, 87], 0.01635632545224593]\n",
      "16\t[[24, 10, 58, 57, 65, 9, 85], 0.007682861278234053]\n",
      "17\t[[27, 48, 35, 61, 75, 71, 70, 92, 78], 0.013065790488595712]\n"
     ]
    }
   ],
   "source": [
    "# test both steps\n",
    "%reload_ext autoreload\n",
    "%autoreload 2\n",
    "\n",
    "# import the MRJobs that we created\n",
    "from MRmoveWgtStepA import MRmoveWgtStepA\n",
    "from MRmoveDangleB import MRmoveDangleB\n",
    "\n",
    "# set the iterations\n",
    "iteration = 0\n",
    "\n",
    "# do 10 iterations\n",
    "while iteration < 10:\n",
    "    \n",
    "    \n",
    "    # set the files for the first job\n",
    "    A_input = 'randNet_iter'+str(iteration)+'B'\n",
    "    A_output = 'randNet_iter'+str(iteration+1)+'A'\n",
    "    \n",
    "    # run the first job to distribute the weights\n",
    "    mr_job1 = MRmoveWgtStepA(args=[A_input])\n",
    "\n",
    "    # run the runner\n",
    "    with mr_job1.make_runner() as runner:\n",
    "            runner.run()\n",
    "\n",
    "            # capture the dangling mass\n",
    "            try: \n",
    "                dangling = runner.counters()[0]['PageRank_Counters']['Dangling_Mass']\n",
    "            except:\n",
    "                dangling = 0\n",
    "\n",
    "            # print the dangling mass\n",
    "            print \"Dangling mass:\", dangling\n",
    "\n",
    "            # create a new file to write to\n",
    "            with open(A_output,'w') as myfile:\n",
    "\n",
    "                # write the output to a file for testing\n",
    "                for line in runner.stream_output():\n",
    "                    key,value =  mr_job1.parse_output_line(line)\n",
    "                    info = str(key) + \"\\t\" + str(value) + \"\\n\"\n",
    "                    myfile.write(info)\n",
    "\n",
    "    # set the files for the second job\n",
    "    B_input = A_output\n",
    "    B_output = 'randNet_iter'+str(iteration+1)+'B'\n",
    "    \n",
    "    # set the dampening factor, number of nodes\n",
    "    # and dangling mass\n",
    "    damp = '--dampen=' + str(0.85)\n",
    "    nodes = '--nodes=' + str(total_nodes)\n",
    "    dangle = '--dangle=' + str(dangling)\n",
    "    \n",
    "    # finalize the weights with teleportation\n",
    "    mr_job2 = MRmoveDangleB(args=[B_input, damp, nodes, dangle])            \n",
    "\n",
    "    # run the runner\n",
    "    with mr_job2.make_runner() as runner:\n",
    "            runner.run()\n",
    "\n",
    "            # create a new file to write to\n",
    "            with open(B_output,'w') as myfile:\n",
    "\n",
    "                # write the output to a file for testing\n",
    "                for line in runner.stream_output():\n",
    "                    key,value =  mr_job2.parse_output_line(line)\n",
    "                    info = str(key) + \"\\t\" + str(value) + \"\\n\"\n",
    "                    myfile.write(info)\n",
    "                    \n",
    "    # increment the iteration\n",
    "    iteration = iteration + 1\n",
    "    \n",
    "# print that we're done and the header\n",
    "print \"Iterations run\",iteration\n",
    "filename = 'randNet_iter'+str(iteration-1)+'B'\n",
    "!head $filename"
   ]
  },
  {
   "cell_type": "markdown",
   "metadata": {},
   "source": [
    "### Modify PageRank to make it topic specific\n",
    "Part A will the stay the same. <br>\n",
    "Part B will be modified to include a variable dampening vector."
   ]
  },
  {
   "cell_type": "code",
   "execution_count": 43,
   "metadata": {
    "collapsed": false
   },
   "outputs": [
    {
     "name": "stdout",
     "output_type": "stream",
     "text": [
      "Overwriting MRmoveDangleB_topic.py\n"
     ]
    }
   ],
   "source": [
    "%%writefile MRmoveDangleB_topic.py\n",
    "\n",
    "# import the MRJob class\n",
    "from mrjob.job import MRJob\n",
    "from mrjob.step import MRStep\n",
    "\n",
    "# import libraries to help us\n",
    "# get our job done\n",
    "import ast\n",
    "import sys\n",
    "  \n",
    "class MRmoveDangleB_topic(MRJob):\n",
    "    \n",
    "    # count of the number of nodes\n",
    "    count = 0\n",
    "    \n",
    "    # dampening factor\n",
    "    damp = 0.0\n",
    "    \n",
    "    # set the teleport weight\n",
    "    teleport = 0.0\n",
    "    \n",
    "    # set the number that helps convert to ints\n",
    "    num_converter = 10000000000\n",
    "    \n",
    "    # set the total dangling mass\n",
    "    dangle_total = 0\n",
    "    dangle = 0\n",
    "    \n",
    "    # set the topic of interest\n",
    "    topic = 0\n",
    "    \n",
    "    # set the count for all\n",
    "    # topics \n",
    "    topic_counts = {}\n",
    "    \n",
    "    # set the beta option\n",
    "    beta = 0.99\n",
    "    \n",
    "    # set the dictionary of topics\n",
    "    topics = {}\n",
    "    \n",
    "    # define the steps for the MapReduce job\n",
    "    def steps(self):\n",
    "        return [MRStep(mapper_init = self.mapper_init,\\\n",
    "                       mapper=self.mapper)]    \n",
    "    \n",
    "    \n",
    "    # configure the options so that we can \n",
    "    # pass in the current weights file\n",
    "    def configure_options(self):\n",
    "        super(MRmoveDangleB_topic, self).configure_options()\n",
    "        self.add_passthrough_option(\"--nodes\", type='int', default=1)\n",
    "        self.add_passthrough_option(\"--dampen\", type='float', default=1.0)\n",
    "        self.add_passthrough_option(\"--num_convert\", type='int', default=10000000000)\n",
    "        self.add_passthrough_option(\"--dangle\", type='int', default=0)\n",
    "        self.add_passthrough_option(\"--topic\", type='int', default=0)\n",
    "        self.add_passthrough_option(\"--beta\", type='float', default=0.99)\n",
    "        \n",
    "    \n",
    "    # the mapper init function loads the number\n",
    "    # of nodes into memory, the dampening factor,\n",
    "    # the teleportation value, and the number convert\n",
    "    # and the dangling mass\n",
    "    def mapper_init(self):\n",
    "\n",
    "        # set the count of number of nodes\n",
    "        self.count = self.options.nodes\n",
    "        \n",
    "        # set the user-inputted dampening factor\n",
    "        self.damp = self.options.dampen\n",
    "        \n",
    "        # calculate the added probability for each node\n",
    "        # due to teleportation\n",
    "        self.teleport = (1.0-self.damp) * (1.0/self.count)\n",
    "        \n",
    "        # set the number converter to convert the\n",
    "        # dangling mass back to a number less than 1\n",
    "        self.num_converter = self.options.num_convert\n",
    "        \n",
    "        # set the total accumulated mass (the part not \n",
    "        # from dangling nodes), and set the part from\n",
    "        # dangling nodes as 1.0 minus that value. each\n",
    "        # node then gets that weight equally distributed\n",
    "        # hence the division by the number of nodes\n",
    "        self.dangle_total = self.options.dangle / float(self.num_converter)\n",
    "        self.dangle = self.dangle_total / float(self.count)\n",
    "        \n",
    "        # read in a file that tells us the total number of nodes\n",
    "        # the count for each topic\n",
    "        with open('randNet_counts','r') as myfile:\n",
    "            self.topic_counts = ast.literal_eval(myfile.readlines()[1].split('\\t')[1])\n",
    "            \n",
    "        # add the beta option\n",
    "        self.beta = self.options.beta\n",
    "        \n",
    "        # set the topic of interest\n",
    "        self.topic = self.options.topic\n",
    "        \n",
    "        # read in the file that gives us the topic\n",
    "        # assignments\n",
    "        with open('randNet_topics.txt','r') as myfile:\n",
    "            \n",
    "            # read in each line\n",
    "            for line in myfile.readlines():\n",
    "                \n",
    "                # divide the line into \n",
    "                # the node and category\n",
    "                line = line.split('\\t')\n",
    "                node = int(line[0])\n",
    "                category = int(line[1])\n",
    "                \n",
    "                # add the node to the dictionary\n",
    "                self.topics[node]=category\n",
    "\n",
    "        \n",
    "    # the mapper takes each node and distributes\n",
    "    # its weight to its linked nodes\n",
    "    def mapper(self, _, line):\n",
    "        \n",
    "        # split the line into its node\n",
    "        # and its weighted links\n",
    "        line = line.strip().split('\\t')\n",
    "        node = int(line[0])\n",
    "        links_weight = ast.literal_eval(line[1])\n",
    "        links = links_weight[0]\n",
    "        weight = float(links_weight[1])\n",
    "        \n",
    "        # grab the weight from the dangling mass\n",
    "        # and add it to the existing weight\n",
    "        weight = weight + self.dangle\n",
    "        \n",
    "        # check this node's topic\n",
    "        this_topic = self.topics[node]\n",
    "\n",
    "        # if this node is the topic of interest\n",
    "        if this_topic == self.topic: \n",
    "            \n",
    "            # total nodes for the topic\n",
    "            topic_nodes = self.topic_counts[str(self.topic)]\n",
    "            \n",
    "            # multiply the weight by the dampening\n",
    "            # and then a variable dampening\n",
    "            new_weight = (self.damp * weight) + \\\n",
    "            (1-self.damp) * self.beta * (1.0 / topic_nodes)\n",
    "            \n",
    "            # yield the actual node with its new weight\n",
    "            key = node\n",
    "            value = links,new_weight\n",
    "            yield key,value\n",
    "            \n",
    "        # else this node is not in the topic\n",
    "        else:\n",
    "            \n",
    "            # total nodes for the topic\n",
    "            topic_nodes = self.topic_counts[str(self.topic)]\n",
    "            \n",
    "            # multiply the weight by the dampening\n",
    "            # and then a variable dampening\n",
    "            new_weight = (self.damp * weight) + \\\n",
    "            (1-self.damp) * (1-self.beta) * (1.0 / (self.count-topic_nodes))\n",
    "                       \n",
    "            # yield the actual node with its new weight\n",
    "            key = node\n",
    "            value = links,new_weight\n",
    "            yield key,value\n",
    "        \n",
    "\n",
    "if __name__ == '__main__':\n",
    "    MRmoveDangleB_topic.run()"
   ]
  },
  {
   "cell_type": "code",
   "execution_count": 46,
   "metadata": {
    "collapsed": false
   },
   "outputs": [
    {
     "name": "stdout",
     "output_type": "stream",
     "text": [
      "We're done. We've calculated the page ranks for all the topics.\n"
     ]
    }
   ],
   "source": [
    "# test both steps\n",
    "%reload_ext autoreload\n",
    "%autoreload 2\n",
    "\n",
    "# import the MRJobs that we created\n",
    "from MRmoveWgtStepA import MRmoveWgtStepA\n",
    "from MRmoveDangleB_topic import MRmoveDangleB_topic\n",
    "\n",
    "# set the starter for the filename\n",
    "file_starter = 'randNet_'\n",
    "\n",
    "# loop through each of the topics\n",
    "for topic_i in range(1,11):\n",
    "    \n",
    "    # set the iterations\n",
    "    iteration = 0\n",
    "    \n",
    "    # set the file starter\n",
    "    file_starter = file_starter + str(topic_i) + '_iter'\n",
    "\n",
    "    # do 10 iterations\n",
    "    while iteration < 10:\n",
    "\n",
    "\n",
    "        # set the files for the first job\n",
    "        # with a special file if we're on iteration 0\n",
    "        A_input = ''\n",
    "        if iteration == 0:\n",
    "            A_input = 'randNet_iter0B'\n",
    "        else: \n",
    "            A_input = file_starter+str(iteration)+'B'\n",
    "        A_output = file_starter+str(iteration+1)+'A'\n",
    "\n",
    "        # run the first job to distribute the weights\n",
    "        mr_job1 = MRmoveWgtStepA(args=[A_input])\n",
    "\n",
    "        # run the runner\n",
    "        with mr_job1.make_runner() as runner:\n",
    "                runner.run()\n",
    "\n",
    "                # capture the dangling mass\n",
    "                try: \n",
    "                    dangling = runner.counters()[0]['PageRank_Counters']['Dangling_Mass']\n",
    "                except:\n",
    "                    dangling = 0\n",
    "\n",
    "                # print the dangling mass\n",
    "                #print \"Dangling mass:\", dangling\n",
    "\n",
    "                # create a new file to write to\n",
    "                with open(A_output,'w') as myfile:\n",
    "\n",
    "                    # write the output to a file for testing\n",
    "                    for line in runner.stream_output():\n",
    "                        key,value =  mr_job1.parse_output_line(line)\n",
    "                        info = str(key) + \"\\t\" + str(value) + \"\\n\"\n",
    "                        myfile.write(info)\n",
    "\n",
    "        # set the files for the second job\n",
    "        B_input = A_output\n",
    "        B_output = file_starter+str(iteration+1)+'B'\n",
    "\n",
    "        # set the dampening factor, number of nodes\n",
    "        # and dangling mass\n",
    "        damp = '--dampen=' + str(0.85)\n",
    "        nodes = '--nodes=' + str(total_nodes)\n",
    "        dangle = '--dangle=' + str(dangling)\n",
    "        topic = '--topic=' + str(topic_i)\n",
    "        file1 = '--file=randNet_counts'\n",
    "        file2 = '--file=randNet_topics.txt'\n",
    "\n",
    "        # finalize the weights with teleportation\n",
    "        mr_job2 = MRmoveDangleB_topic(args=[B_input, \\\n",
    "                                            damp, \\\n",
    "                                            nodes, \\\n",
    "                                            dangle, \\\n",
    "                                            topic, \\\n",
    "                                            file1, \\\n",
    "                                            file2])            \n",
    "\n",
    "        # run the runner\n",
    "        with mr_job2.make_runner() as runner:\n",
    "                runner.run()\n",
    "\n",
    "                # create a new file to write to\n",
    "                with open(B_output,'w') as myfile:\n",
    "\n",
    "                    # write the output to a file for testing\n",
    "                    for line in runner.stream_output():\n",
    "                        key,value =  mr_job2.parse_output_line(line)\n",
    "                        info = str(key) + \"\\t\" + str(value) + \"\\n\"\n",
    "                        myfile.write(info)\n",
    "\n",
    "        # increment the iteration\n",
    "        iteration = iteration + 1\n",
    "    \n",
    "# print that we're done and the header\n",
    "print \"We're done. We've calculated the page ranks for all the topics.\""
   ]
  },
  {
   "cell_type": "code",
   "execution_count": 47,
   "metadata": {
    "collapsed": false
   },
   "outputs": [
    {
     "name": "stdout",
     "output_type": "stream",
     "text": [
      "1\t[[11, 27, 63, 46, 47, 35, 89, 5], 0.00634943201157466]\r\n",
      "10\t[[38, 49, 46, 47, 28, 53, 61, 89, 64, 80], 0.008473338275903498]\r\n",
      "100\t[[10, 39, 48, 33, 51, 53, 52, 67], 0.014725590959595322]\r\n",
      "11\t[[39, 12, 21, 55, 43, 46, 89, 7, 84], 0.00827393159528176]\r\n",
      "12\t[[26, 59, 16, 33, 29, 99, 88, 2, 100, 95], 0.02688893538701864]\r\n",
      "13\t[[54, 52, 77, 65, 92, 85], 0.012952347276721054]\r\n",
      "14\t[[11, 34, 3, 64, 65, 91, 86], 0.008284568027748953]\r\n",
      "15\t[[13, 21, 49, 45, 37, 99, 74, 92, 87], 0.013695866974716838]\r\n",
      "16\t[[24, 10, 58, 57, 65, 9, 85], 0.00665905220065779]\r\n",
      "17\t[[27, 48, 35, 61, 75, 71, 70, 92, 78], 0.015158672198490165]\r\n"
     ]
    }
   ],
   "source": [
    "# let's preview the final file for the tenth topic\n",
    "!head randNet_1_iter2_iter10B"
   ]
  }
 ],
 "metadata": {
  "kernelspec": {
   "display_name": "Python 2",
   "language": "python",
   "name": "python2"
  },
  "language_info": {
   "codemirror_mode": {
    "name": "ipython",
    "version": 2
   },
   "file_extension": ".py",
   "mimetype": "text/x-python",
   "name": "python",
   "nbconvert_exporter": "python",
   "pygments_lexer": "ipython2",
   "version": "2.7.12"
  }
 },
 "nbformat": 4,
 "nbformat_minor": 0
}
