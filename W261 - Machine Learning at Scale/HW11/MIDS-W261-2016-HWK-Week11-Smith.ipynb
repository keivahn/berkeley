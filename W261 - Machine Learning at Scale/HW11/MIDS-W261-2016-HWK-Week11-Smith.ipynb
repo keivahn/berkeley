{
 "cells": [
  {
   "cell_type": "markdown",
   "metadata": {},
   "source": [
    "# MIDS - W261 Machine Learning At Scale\n",
    "__Course Lead:__ Dr James G. Shanahan (__email__ Jimi via  James.Shanahan _AT_ gmail.com)\n",
    "\n",
    "## Assignment - HW11\n",
    "\n",
    "\n",
    "---\n",
    "__Name:__  Alex Smith  \n",
    "__Class:__ MIDS W261 (Summer 2016 Group 2)     \n",
    "__Email:__ aksmith@iSchool.Berkeley.edu     \n",
    "__Week:__  11"
   ]
  },
  {
   "cell_type": "markdown",
   "metadata": {},
   "source": [
    "***\n",
    "## Useful references\n",
    "- [Spark Quick Reference](http://spark.apache.org/docs/latest/quick-start.html)\n",
    "- Synchronous Slides for Week 11\n",
    "- [Quora: L1 & L2 Regularization](https://www.quora.com/What-is-the-difference-between-L1-and-L2-regularization)\n",
    "- [Andrew Ng's CS229 Lecture Notes](http://cs229.stanford.edu/notes/cs229-notes1.pdf)\n",
    "- [Sample Logistic Regression Notebook](http://nbviewer.jupyter.org/urls/dl.dropbox.com/s/r20ff7q0yni5kiu/LogisticRegression-Spark-Notebook.ipynb)\n",
    "- [Sample SVM Notebook](http://nbviewer.jupyter.org/urls/dl.dropbox.com/s/dm2l73iznde7y4f/SVM-Notebook-Linear-Kernel-2015-06-19.ipynb)"
   ]
  },
  {
   "cell_type": "markdown",
   "metadata": {},
   "source": [
    "***\n",
    "## Start up Spark"
   ]
  },
  {
   "cell_type": "code",
   "execution_count": 62,
   "metadata": {
    "collapsed": false
   },
   "outputs": [
    {
     "name": "stdout",
     "output_type": "stream",
     "text": [
      "<pyspark.context.SparkContext object at 0x7f959c1516d0>\n",
      "<pyspark.sql.context.SQLContext object at 0x7f957a1182d0>\n"
     ]
    }
   ],
   "source": [
    "import os\n",
    "import sys\n",
    "\n",
    "import pyspark\n",
    "from pyspark.sql import SQLContext\n",
    "\n",
    "# We can give a name to our app (to find it in Spark WebUI) and configure execution mode\n",
    "# In this case, it is local multicore execution with \"local[*]\"\n",
    "app_name = \"example-logs\"\n",
    "master = \"local[*]\"\n",
    "conf = pyspark.SparkConf().setAppName(app_name).setMaster(master)\n",
    "sc = pyspark.SparkContext(conf=conf)\n",
    "sqlContext = SQLContext(sc)\n",
    "\n",
    "\n",
    "print sc\n",
    "print sqlContext"
   ]
  },
  {
   "cell_type": "markdown",
   "metadata": {},
   "source": [
    "***\n",
    "## <span style=\"color:teal\">HW11.0  Broadcast versus Caching in Spark</span>\n",
    "<span style=\"color:gray\">What is the difference between broadcasting and caching data in Spark? Give an example (in the context of machine learning) of each mechanism (at a highlevel). Feel free to cut and paste code examples from the lectures to support your answer.\n",
    "<br><br>\n",
    "Review the following Spark-notebook-based implementation of KMeans and use the broadcast pattern to make this implementation more efficient. Please describe your changes in English first, implement, comment your code and highlight your changes:\n",
    "- [Notebook](https://www.dropbox.com/s/41q9lgyqhy8ed5g/EM-Kmeans.ipynb?dl=0)\n",
    "- [Notebook via NBViewer](http://nbviewer.ipython.org/urls/dl.dropbox.com/s/41q9lgyqhy8ed5g/EM-Kmeans.ipynb)</span>"
   ]
  },
  {
   "cell_type": "markdown",
   "metadata": {},
   "source": [
    "We broadcast a variable but cache a resilient distributed dataset (RDD). When we broadcast a variable, we send the variable to each node in the cluster and store it there. When we cache an RDD, we store in the RDD in a cluster-wide cache. Both of these methods are useful for storing data that we use repeatedly. However, they are used differently. It's helpful to think about these differences through examples. When performing KMeans in Spark, we'll want to broadcast the intermediary centroid values but cache the data points for which we're attempting to find to clusters. We broadcast the centroid values so that each node in the cluster in the cluster has access to the centroid values and each map function does not need to pull the centroid data fresh. We cache the RDD because we reference the dataset multiple times. If we don't cache the dataset, each time we loop through it to find the nearest centroid for each point, then we need to reload it. If instead, we cache the dataset, then we'll store in the dataset in memory after the first iteration.\n",
    "\n",
    "Reference: [Broadcast](http://spark.apache.org/docs/latest/programming-guide.html#broadcast-variables), [Cache](http://spark.apache.org/docs/latest/quick-start.html#caching), and [StackOverflow](http://stackoverflow.com/questions/28981359/why-do-we-need-to-call-cache-or-persist-on-a-rdd)"
   ]
  },
  {
   "cell_type": "markdown",
   "metadata": {},
   "source": [
    "Because I'm only submitting a single notebook, I'll only include the code snippet that changed here. For the full code, we can look at HW10 submission which had this KMeans code made more efficient.\n",
    "\n",
    "We broadcast the intermediary centroid values to each node. Because we compare each datapoint to the list of all centroids to identify the closest centroid, we have efficiency gains by storing the centroids with each node."
   ]
  },
  {
   "cell_type": "code",
   "execution_count": null,
   "metadata": {
    "collapsed": true
   },
   "outputs": [],
   "source": [
    "# set the number of iterations\n",
    "ITERATIONS = 100\n",
    "\n",
    "# set the interesting iterations\n",
    "INTEREST = [1,10,20,100]\n",
    "\n",
    "# set the iterations we want\n",
    "# to record errors for\n",
    "ERROR_INTEREST = [1, 10, 20, 30, 40, 50, 100]\n",
    "\n",
    "# create a list to hold our \n",
    "# error for each iterations\n",
    "errors = []\n",
    "\n",
    "# set the current iteration\n",
    "iteration = 0 \n",
    "\n",
    "# while the iteration is less than \n",
    "# the number of iterations\n",
    "while iteration <= ITERATIONS:\n",
    "    \n",
    "    # BROADCASTING MODIFICATION TO CODE\n",
    "    # broadcast the centroids to each node\n",
    "    broad_centroids = sc.broadcast(centroids)\n",
    "    \n",
    "    # take each line of data and \n",
    "    # find its nearest neighbor\n",
    "    _nearest = parsedData.map(lambda x: findNearest(x,np.array(broad_centroids.value)))\n",
    "    \n",
    "    # and then reduce by key\n",
    "    # to get the sum of all points\n",
    "    # and the number of data points\n",
    "    _summed = _nearest.reduceByKey(lambda x,y: (x[0] + y[0], x[1] + y[1]))\n",
    "    \n",
    "    # and then reduce by dividing \n",
    "    # the sum of points by the \n",
    "    # total number of points\n",
    "    new_centroids = _summed.map(lambda x: x[1][0]/x[1][1]).collect()\n",
    "    \n",
    "    # convert the new_centroids to \n",
    "    # numpy array\n",
    "    centroids = np.array(new_centroids)\n",
    "    \n",
    "    # calculate the WSSE for this model by computing\n",
    "    # the distance between each point and its assigned\n",
    "    # centroid\n",
    "    \n",
    "    # first calculate the error for each point\n",
    "    _error_each = _nearest.map(lambda x: sqError(x,centroids))\n",
    "\n",
    "    # then calculate the total error\n",
    "    _error_total = _error_each.reduce(lambda x,y: x+y)\n",
    "    \n",
    "    # increment the iterator\n",
    "    iteration = iteration + 1\n",
    "    \n",
    "    # check to see if this is an iteration\n",
    "    # where we want to record the error\n",
    "    # if it is, then record it\n",
    "    if iteration in ERROR_INTEREST:\n",
    "        info = iteration,_error_total\n",
    "        errors.append(info)\n",
    "    \n",
    "    # check to see if this an iteration\n",
    "    # of interest, one that we would\n",
    "    # like to plot\n",
    "    if iteration in INTEREST:\n",
    "        \n",
    "        # print out the iteration \n",
    "        # and the centroids\n",
    "        print \"Iteration\", iteration\n",
    "        print \"WSSSE:\", _error_total\n",
    "        print \"Centroids:\"\n",
    "        print centroids\n",
    "\n",
    "        # plot the centroids and the data\n",
    "        plotKMeans(centroids,data)\n",
    "\n",
    "        print \"\\n\"\n",
    "        \n",
    "# convert the errors to a numpy array\n",
    "# and write them to file\n",
    "errors = np.array(errors)\n",
    "np.savetxt('errors.csv',errors,delimiter = ',')"
   ]
  },
  {
   "cell_type": "markdown",
   "metadata": {},
   "source": [
    "***\n",
    "## <span style=\"color:teal\">HW11.1  Loss Functions</span>\n",
    "<span style=\"color:gray\">In the context of binary classification problems, does the linear SVM learning algorithm yield the same result as a L2 penalized logistic regesssion learning algorithm? <br><br>\n",
    "In your reponse, please discuss the loss functions, and the learnt models, and separating surfaces between the two classes.<br><br>\n",
    "In the context of binary classification problems, does the linear SVM learning algorithm yield the same result as a perceptron learning algorithm? <br><br>\n",
    "[OPTIONAL]: generate an artifical binary classification dataset with 2 input features and plot the learnt separating surface for both a linear SVM and for  logistic regression. Comment on the learnt surfaces. Please feel free to do this in Python (no need to use Spark).</span>"
   ]
  },
  {
   "cell_type": "markdown",
   "metadata": {},
   "source": [
    "### SVM versus Logistic Regression\n",
    "In the context of binary classification problems, the linear Support Vector Machine (SVM) will yield a very similar result to the L2 penalized logistic regression learning algorithm. However, it is still important to remember the differences between the two. The SVM calculates a decision boundary to classify each example. The logistic regression algorithm calculates the problability that an example is in one or the other class. With SVM, we care only about the edge cases, those that are close to the boundary. With logistic regression, we care about all cases, even if we decrease teh weight of those examples far from the boundary with ridge regularization. \n",
    "\n",
    "**SVM Loss Function**\n",
    "$$\\sum_{i=1}^{N}[1-y_{i}*W\\vec{x}_{i}]_{+}$$\n",
    "\n",
    "**Logistic Regression L2 Loss Function**\n",
    "$$\\sum_{i=1}^{N}[(y_{i}-W\\vec{x}_{i})^{2}]$$\n",
    "\n",
    "We can see the difference between the loss functions graphically. For logistic regression, we calculate some training error even for correctly classified examples. In the case of hinge loss for SVM, we don't worry about these clearly correctly calculated examples.\n",
    "<img src=\"https://dl.dropboxusercontent.com/u/37624818/W261_Week11/SVMvLogistic.png\" alt=\"Loss\" style=\"width: 500px;\"/>\n",
    "*[Image source:Quora](https://www.quora.com/Is-logistic-regression-with-regularization-similar-in-a-conceptual-sense-to-simple-linear-SVM)*"
   ]
  },
  {
   "cell_type": "markdown",
   "metadata": {},
   "source": [
    "### SVM versus Perceptron\n",
    "In the context of binary classification problems, the linear Support Vector Machine (SVM) algorithms does not yield the same results as a perceptron algorithm. Intuitively, we think of the perceptron algorithm as stopping once it has successfully classified all the data. However, the linear SVM attempts to find the hyperplane that is furtherest from all the datapoints. This means that it creates more of a buffer between the classes. We can also look at the loss functions as a way of understanding this.<br><br>\n",
    "**SVM Loss Function**\n",
    "$$\\sum_{i=1}^{N}[1-y_{i}*W\\vec{x}_{i}]_{+}$$\n",
    "**Perceptron Loss Function**\n",
    "$$\\sum_{i=1}^{N}[max(0,-W\\vec{x}_{i}*y_{i})]$$\n",
    "\n",
    "The SVM loss function is a hinge loss function that is always working. It produces continuous values that we must optimize. However, the perceptron loss function only creates discrete values, 0 or the value of the incorrectly classified point. Once all points are correctly classified, the perceptron loss function stops working."
   ]
  },
  {
   "cell_type": "markdown",
   "metadata": {},
   "source": [
    "***\n",
    "## <span style=\"color:teal\">HW11.2 Gradient descent</span>\n",
    "<span style=\"color:gray\">In the context of logistic regression describe and define three flavors of penalized loss functions.  Are these all supported in Spark MLLib (include online references to support your answers)?\n",
    "<br><br>\n",
    "Descibe probabilitic interpretations of the L1 and L2 priors for penalized logistic regression (HINT: see synchronous slides for week 11 for details)</span>"
   ]
  },
  {
   "cell_type": "markdown",
   "metadata": {},
   "source": [
    "In the context of logistic regression, we can think of 3 flavors of penalized loss functions that are **all** supported by Spark's MLLib. The 3 flavors are of the regularizer:\n",
    "- L1 (or Lasso) Regularization\n",
    "- L2 (or Ridge) Regularization\n",
    "- None (no regularization)\n",
    "\n",
    "These three flavors all have different effects and penalize the complexity of the model in different ways. For **L1 (Lasso) Regularization**, we penalize the model by adding to the loss function a component that sums the absolute values of the coefficients. We penalize the axes more (see image below). Therefore, with Lasso regularization we can take the noisy, but useless, features and reduce them to zero. For **L2 (Ridge) Regularization**, we penalize the the complexity of the model by taking the square root of the sum of the squares of the coefficients. With this regularization, we do not bring the noisy, but useless, features to zero, instead we end up bringing them very close to zero. Ultimately, the goal of both types of regularization is to penalize the model-maker for making overly complex that overfit the data. The third flavor is **no regularization** which doesn't provide a penalty for model complexity. The risk with this approach is that the model can get increasingly complex until it overfits the training data.\n",
    "\n",
    "<img src=\"https://dl.dropboxusercontent.com/u/37624818/W261_Week11/LassoVRidge.png\" alt=\"RdigeVLasso\" style=\"width: 500px;\"/>\n",
    "*[Image source](http://gerardnico.com/wiki/data_mining/lasso)*"
   ]
  },
  {
   "cell_type": "markdown",
   "metadata": {},
   "source": [
    "***\n",
    "## <span style=\"color:teal\">HW11.3  Logistic Regression</span>\n",
    "<span style=\"color:gray\">Generate 2 sets of linearly separable data with 100 data points each using the data generation code provided below and plot each in separate plots. Call one the training set and the other the testing set.</span>\n",
    "```\n",
    "def generateData(n):\n",
    " \"\"\" \n",
    "  generates a 2D linearly separable dataset with n samples. \n",
    "  The third element of the sample is the label\n",
    " \"\"\"\n",
    " xb = (rand(n)*2-1)/2-0.5\n",
    " yb = (rand(n)*2-1)/2+0.5\n",
    " xr = (rand(n)*2-1)/2+0.5\n",
    " yr = (rand(n)*2-1)/2-0.5\n",
    " inputs = []\n",
    " for i in range(len(xb)):\n",
    "  inputs.append([xb[i],yb[i],1])\n",
    "  inputs.append([xr[i],yr[i],-1])\n",
    " return inputs\n",
    "```\n",
    "<span style=\"color:gray\">Modify this data generation code to generating non-linearly separable training and testing datasets (with approximately 10% of the data falling on the wrong side of the separating hyperplane. Plot the resulting datasets.<br>\n",
    "<br>\n",
    "NOTE: For the remainder of this problem please use the non-linearly separable training and testing datasets.<br>\n",
    "<br>\n",
    "Using MLLib  train up a LASSO logistic regression model with the training dataset and evaluate with the testing set. What a good number of iterations for training the logistic regression model? Justify with plots and words.<br>\n",
    "<br>\n",
    "Derive and implement in Spark a weighted  LASSO logistic regression. Implement a convergence test of your choice to check for termination within your training algorithm.<br>\n",
    "<br>\n",
    "Weight the above training dataset as follows:  Weight each example using the inverse vector length (Euclidean norm):<br>\n",
    "weight(X)= 1/||X||,<br>\n",
    "where ||X|| = SQRT(X.X)= SQRT(X1^2 + X2^2)<br>\n",
    "Here X is vector made up of X1 and X2.<br>\n",
    "<br>\n",
    "Evaluate your homegrown weighted  LASSO logistic regression on the test dataset. Report misclassification error (1 - Accuracy) and how many iterations does it took to converge.<br>\n",
    "<br>\n",
    "Does Spark MLLib have a weighted LASSO logistic regression implementation? If so, use it and report your findings on the weighted training set and test set. </span>"
   ]
  },
  {
   "cell_type": "markdown",
   "metadata": {},
   "source": [
    "### Write a function generate linearly separable data"
   ]
  },
  {
   "cell_type": "code",
   "execution_count": 13,
   "metadata": {
    "collapsed": false
   },
   "outputs": [],
   "source": [
    "import numpy as np\n",
    "from numpy.random import rand\n",
    "\n",
    "def generateData(n):\n",
    "    \"\"\"generates a 2D linearly separable dataset with n samples. \n",
    "    The third element of the sample is the label\"\"\"\n",
    "\n",
    "    xb = (rand(n)*2-1)/2-0.5\n",
    "    yb = (rand(n)*2-1)/2+0.5\n",
    "    xr = (rand(n)*2-1)/2+0.5\n",
    "    yr = (rand(n)*2-1)/2-0.5\n",
    "    inputs = []\n",
    "    for i in range(len(xb)):\n",
    "        inputs.append([xb[i],yb[i],1])\n",
    "        inputs.append([xr[i],yr[i],-1])\n",
    "    return np.array(inputs)"
   ]
  },
  {
   "cell_type": "markdown",
   "metadata": {},
   "source": [
    "### Generate two samples of linearly separable data"
   ]
  },
  {
   "cell_type": "code",
   "execution_count": 28,
   "metadata": {
    "collapsed": false
   },
   "outputs": [
    {
     "name": "stdout",
     "output_type": "stream",
     "text": [
      "-8.123969270731652426e-01,4.876178687364305375e-01,1.000000000000000000e+00\r\n",
      "7.263460494316192895e-01,-3.348179321123132546e-01,-1.000000000000000000e+00\r\n",
      "-4.508612046355497949e-02,5.753135195168691540e-01,1.000000000000000000e+00\r\n",
      "9.143251338039184439e-01,-2.963493722042721545e-01,-1.000000000000000000e+00\r\n",
      "-8.051971018716123085e-01,4.383609086082024264e-01,1.000000000000000000e+00\r\n",
      "6.253994429442213399e-01,-2.339894688503001419e-01,-1.000000000000000000e+00\r\n",
      "-5.630718827020542161e-02,7.435254412477608765e-01,1.000000000000000000e+00\r\n",
      "5.584572001614525050e-01,-7.010231059007312471e-01,-1.000000000000000000e+00\r\n",
      "-5.343047817040319503e-01,3.224654342907674609e-01,1.000000000000000000e+00\r\n",
      "8.408044493923740870e-01,-4.418302514143426230e-01,-1.000000000000000000e+00\r\n"
     ]
    }
   ],
   "source": [
    "import numpy as np\n",
    "\n",
    "# generate the two sets and save them\n",
    "linear_test = generateData(50)\n",
    "linear_train = generateData(50)\n",
    "np.savetxt('linear_test.csv',linear_test,delimiter=',')\n",
    "np.savetxt('linear_train.csv',linear_train,delimiter=',')\n",
    "\n",
    "# preview one of the files\n",
    "!head linear_test.csv"
   ]
  },
  {
   "cell_type": "markdown",
   "metadata": {},
   "source": [
    "### Write a function to graph the data"
   ]
  },
  {
   "cell_type": "code",
   "execution_count": 29,
   "metadata": {
    "collapsed": true
   },
   "outputs": [],
   "source": [
    "import numpy as np\n",
    "import matplotlib.pyplot as plt\n",
    "\n",
    "def graphLabelled(data,title,color1='red',color2='blue'):\n",
    "    \"\"\"function that takes an input data, 2D, with\n",
    "    a third column for the label. splits the data\n",
    "    into two data sets and plots the two data sets\n",
    "    with two different colors\"\"\"\n",
    "    \n",
    "    # split the data\n",
    "    set1 = data[data[:,2]==-1]\n",
    "    set2 = data[data[:,2]==1]\n",
    "    \n",
    "    # plot each set\n",
    "    plt.scatter(set1[:,0],set1[:,1],color=color1)\n",
    "    plt.scatter(set2[:,0],set2[:,1],color=color2)\n",
    "    \n",
    "    # set the title\n",
    "    plt.title(title)\n",
    "    \n",
    "    # show the plot\n",
    "    plt.show()"
   ]
  },
  {
   "cell_type": "markdown",
   "metadata": {},
   "source": [
    "### Plot the training and test data sets"
   ]
  },
  {
   "cell_type": "code",
   "execution_count": 30,
   "metadata": {
    "collapsed": false,
    "scrolled": false
   },
   "outputs": [
    {
     "data": {
      "image/png": "[encoded data removed]",
      "text/plain": [
       "<matplotlib.figure.Figure at 0x7f957a0a2e90>"
      ]
     },
     "metadata": {},
     "output_type": "display_data"
    },
    {
     "data": {
      "image/png": "[encoded data removed]",
      "text/plain": [
       "<matplotlib.figure.Figure at 0x7f957a0a2d50>"
      ]
     },
     "metadata": {},
     "output_type": "display_data"
    }
   ],
   "source": [
    "graphLabelled(linear_test,'Test Data')\n",
    "graphLabelled(linear_train,'Train Data')"
   ]
  },
  {
   "cell_type": "markdown",
   "metadata": {},
   "source": [
    "### Modify function to generate mostly linearly separable data"
   ]
  },
  {
   "cell_type": "code",
   "execution_count": 31,
   "metadata": {
    "collapsed": true
   },
   "outputs": [],
   "source": [
    "import numpy as np\n",
    "from numpy.random import rand\n",
    "\n",
    "def generateDataMix(n,mix=0.2):\n",
    "    \"\"\"generates a 2D linearly separable dataset with n samples. \n",
    "    The third element of the sample is the label\n",
    "    we add the mix variable that controls what percentage of\n",
    "    datapoints are mixed into the other set\"\"\"\n",
    "\n",
    "    xb = (rand(n)*2-1)/2-0.5\n",
    "    yb = (rand(n)*2-1)/2+0.5\n",
    "    xr = (rand(n)*2-1)/2+0.5\n",
    "    yr = (rand(n)*2-1)/2-0.5\n",
    "    inputs = []\n",
    "    for i in range(len(xb)):\n",
    "        inputs.append([xb[i],yb[i],1])\n",
    "        inputs.append([xr[i],yr[i],-1])\n",
    "    \n",
    "    # convert the inputs to a numpy\n",
    "    # array\n",
    "    inputs = np.array(inputs)\n",
    "    \n",
    "    # generate the indexes of the examples\n",
    "    # that we would like to swap\n",
    "    swap = np.random.randint(0, n, size=mix*n)\n",
    "    \n",
    "    # loop through all those we wish to swap \n",
    "    # and swap their classifications\n",
    "    for i in swap:\n",
    "        \n",
    "        # reset the current class by multiplying\n",
    "        # it by negative 1\n",
    "        inputs[i][2] = inputs[i][2] * -1\n",
    "    \n",
    "    return inputs"
   ]
  },
  {
   "cell_type": "markdown",
   "metadata": {},
   "source": [
    "### Generate two samples of non-linearly separable data"
   ]
  },
  {
   "cell_type": "code",
   "execution_count": 34,
   "metadata": {
    "collapsed": false
   },
   "outputs": [
    {
     "name": "stdout",
     "output_type": "stream",
     "text": [
      "-2.618683910779338042e-01,1.077429623389888347e-01,1.000000000000000000e+00\r\n",
      "5.939108962681916015e-01,-7.458136787099975962e-01,-1.000000000000000000e+00\r\n",
      "-3.439924272428942498e-01,7.103026844058518696e-01,1.000000000000000000e+00\r\n",
      "6.988877821006941327e-01,-1.956489679893546052e-01,-1.000000000000000000e+00\r\n",
      "-4.011297665342470342e-01,3.331525315676561183e-01,1.000000000000000000e+00\r\n",
      "8.110004700803218336e-01,-5.077755052062663532e-01,-1.000000000000000000e+00\r\n",
      "-8.589843557665196583e-01,1.022412635392887514e-01,1.000000000000000000e+00\r\n",
      "2.002743001569864401e-01,-3.494729676869504642e-01,-1.000000000000000000e+00\r\n",
      "-6.230482830164917329e-01,2.561716713378526800e-01,1.000000000000000000e+00\r\n",
      "1.066077316613961434e-01,-3.126209406904745247e-01,-1.000000000000000000e+00\r\n"
     ]
    },
    {
     "name": "stderr",
     "output_type": "stream",
     "text": [
      "/opt/conda/envs/python2/lib/python2.7/site-packages/ipykernel/__main__.py:25: DeprecationWarning: using a non-integer number instead of an integer will result in an error in the future\n"
     ]
    }
   ],
   "source": [
    "import numpy as np\n",
    "\n",
    "# generate the two sets and save them\n",
    "test_nl = generateDataMix(50)\n",
    "train_nl = generateDataMix(50)\n",
    "np.savetxt('test_nl.csv',test_nl,delimiter=',')\n",
    "np.savetxt('train_nl.csv',train_nl,delimiter=',')\n",
    "\n",
    "# preview one of the files\n",
    "!head test_nl.csv"
   ]
  },
  {
   "cell_type": "markdown",
   "metadata": {},
   "source": [
    "### Plot the training and test data sets"
   ]
  },
  {
   "cell_type": "code",
   "execution_count": 35,
   "metadata": {
    "collapsed": false,
    "scrolled": false
   },
   "outputs": [
    {
     "data": {
      "image/png": "[encoded data removed]",
      "text/plain": [
       "<matplotlib.figure.Figure at 0x7f957a17fb50>"
      ]
     },
     "metadata": {},
     "output_type": "display_data"
    },
    {
     "data": {
      "image/png": "[encoded data removed]",
      "text/plain": [
       "<matplotlib.figure.Figure at 0x7f957a17f910>"
      ]
     },
     "metadata": {},
     "output_type": "display_data"
    }
   ],
   "source": [
    "graphLabelled(test_nl,'Test Data')\n",
    "graphLabelled(train_nl,'Train Data')"
   ]
  },
  {
   "cell_type": "markdown",
   "metadata": {},
   "source": [
    "### Write function to turn data into Spark's labelled points"
   ]
  },
  {
   "cell_type": "code",
   "execution_count": 77,
   "metadata": {
    "collapsed": true
   },
   "outputs": [],
   "source": [
    "from pyspark.mllib.regression import LabeledPoint\n",
    "\n",
    "def parsePoint(line):\n",
    "    \"\"\"takes each line in the format [x,y,label] and \n",
    "    converts it to Spark labelled points RDD\"\"\"\n",
    "    \n",
    "    # grab the values from the line\n",
    "    values = [float(x) for x in line.split(',')]\n",
    "    \n",
    "    # if the classification is -1, then\n",
    "    # convert it to zero\n",
    "    if values[2] == -1:\n",
    "        values[2] = 0\n",
    "    \n",
    "    return LabeledPoint(values[2], values[0:2])"
   ]
  },
  {
   "cell_type": "markdown",
   "metadata": {},
   "source": [
    "### Convert the data to a format readable by Spark's library"
   ]
  },
  {
   "cell_type": "code",
   "execution_count": 78,
   "metadata": {
    "collapsed": false
   },
   "outputs": [
    {
     "name": "stdout",
     "output_type": "stream",
     "text": [
      "[LabeledPoint(1.0, [-0.666776511004,0.629922738339]), LabeledPoint(0.0, [0.327655008854,-0.566204527638]), LabeledPoint(1.0, [-0.20250519138,0.0516129445782]), LabeledPoint(1.0, [0.729045899887,-0.421574894025]), LabeledPoint(0.0, [-0.343943255331,0.758416700556])]\n"
     ]
    }
   ],
   "source": [
    "import numpy as np\n",
    "\n",
    "# convert the data to an RDD\n",
    "trainRDD = sc.textFile('train_nl.csv')\n",
    "\n",
    "# turn the data into labelled points\n",
    "trainRDD = trainRDD.map(parsePoint).cache()\n",
    "\n",
    "# print out a sample of what we've done\n",
    "print trainRDD.collect()[0:5]"
   ]
  },
  {
   "cell_type": "markdown",
   "metadata": {},
   "source": [
    "### Create a function to measure the accuracy of the model"
   ]
  },
  {
   "cell_type": "code",
   "execution_count": 83,
   "metadata": {
    "collapsed": true
   },
   "outputs": [],
   "source": [
    "def accuracy(model,data):\n",
    "    \"\"\"takes two arguments, model and data\n",
    "    where the model is the predictive model and\n",
    "    data is the testing data. computes the \n",
    "    predictions for each example in the test\n",
    "    data and computes the accuracy as the \n",
    "    portion of correctly classified examples\n",
    "    over all examples\"\"\"\n",
    "    \n",
    "    # number of examples\n",
    "    total = len(data)\n",
    "    \n",
    "    # set a counter for the number of correctly\n",
    "    # classified examples\n",
    "    correct = 0\n",
    "    \n",
    "    # predict each examples and see if its\n",
    "    # accurate\n",
    "    for example in data:\n",
    "        \n",
    "        # set the true class and the coordinates\n",
    "        truth = example[2]\n",
    "        coord = list(example[0:2])\n",
    "        \n",
    "        # conver the truth to 0,1\n",
    "        if truth == -1: \n",
    "            truth = 0\n",
    "        \n",
    "        # get the prediction\n",
    "        prediction = model.predict(coord)\n",
    "        \n",
    "        # if its correct increment our correct counter\n",
    "        if prediction == truth:\n",
    "            correct = correct + 1\n",
    "            \n",
    "    # return the accuracy\n",
    "    accur = float(correct) / float(total)\n",
    "    return accur"
   ]
  },
  {
   "cell_type": "markdown",
   "metadata": {},
   "source": [
    "### Train a logistic regression model using Spark's library"
   ]
  },
  {
   "cell_type": "code",
   "execution_count": 126,
   "metadata": {
    "collapsed": false,
    "scrolled": false
   },
   "outputs": [
    {
     "name": "stdout",
     "output_type": "stream",
     "text": [
      "Iteration 0\n",
      "Accuracy: 0.48\n",
      "Coefficients: [0.0,0.0]\n",
      "\n",
      "\n",
      "Iteration 1\n",
      "Accuracy: 0.92\n",
      "Coefficients: [-1.2040139379,1.27252761354]\n",
      "\n",
      "\n",
      "Iteration 2\n",
      "Accuracy: 0.92\n",
      "Coefficients: [-1.72329825785,1.77836145634]\n",
      "\n",
      "\n",
      "Iteration 3\n",
      "Accuracy: 0.92\n",
      "Coefficients: [-2.1905942677,2.18007800153]\n",
      "\n",
      "\n",
      "Iteration 4\n",
      "Accuracy: 0.92\n",
      "Coefficients: [-2.45433288323,2.34884573967]\n",
      "\n",
      "\n",
      "Iteration 5\n",
      "Accuracy: 0.92\n",
      "Coefficients: [-2.57776425633,2.37246864483]\n",
      "\n",
      "\n",
      "Iteration 10\n",
      "Accuracy: 0.92\n",
      "Coefficients: [-2.71507842894,2.2345208461]\n",
      "\n",
      "\n",
      "Iteration 20\n",
      "Accuracy: 0.92\n",
      "Coefficients: [-2.71507842894,2.2345208461]\n",
      "\n",
      "\n",
      "Iteration 35\n",
      "Accuracy: 0.92\n",
      "Coefficients: [-2.71507842894,2.2345208461]\n",
      "\n",
      "\n",
      "Iteration 60\n",
      "Accuracy: 0.92\n",
      "Coefficients: [-2.71507842894,2.2345208461]\n",
      "\n",
      "\n",
      "Iteration 100\n",
      "Accuracy: 0.92\n",
      "Coefficients: [-2.71507842894,2.2345208461]\n",
      "\n",
      "\n"
     ]
    }
   ],
   "source": [
    "from pyspark.mllib.classification import LogisticRegressionWithLBFGS\n",
    "\n",
    "# some test data that we can use based on the documentation\n",
    "#data = sc.parallelize([LabeledPoint(0.0, [0.0, 1.0]),LabeledPoint(1.0, [1.0, 0.0])])\n",
    "\n",
    "# set the number of iterations\n",
    "ITERATIONS = 100\n",
    "\n",
    "# set the current iteration\n",
    "iteration = 0\n",
    "\n",
    "# set the iterations of interest for plotting\n",
    "interest = [0,1,2,3,4,5,10,20,35,60,100]\n",
    "\n",
    "# create an array to store the accuracies\n",
    "accuracies = []\n",
    "\n",
    "# set an array of weights that we'll update\n",
    "weights = []\n",
    "\n",
    "# loop through all the intersting iterations\n",
    "for i in interest:\n",
    "    \n",
    "    # set the model\n",
    "    model = LogisticRegressionWithLBFGS.train(trainRDD,regType='l1',iterations=i)\n",
    "    \n",
    "    # compute the accuracy\n",
    "    accur = accuracy(model,test_nl)\n",
    "    \n",
    "    # add the accuracy to the list\n",
    "    accuracies.append(accur)\n",
    "    \n",
    "    # print out the accuracy and the iteration\n",
    "    print \"Iteration\",i\n",
    "    print \"Accuracy:\",accur\n",
    "    print \"Coefficients:\",model.weights\n",
    "    print \"\\n\"\n",
    "\n",
    "#### OLD APPROACH\n",
    "# # keep going till we have 10 iterations\n",
    "# while iteration <= ITERATIONS:\n",
    "    \n",
    "#     # OLD APPROACH\n",
    "# #     # set the model with no weights if its\n",
    "# #     # the first iteration\n",
    "# #     if iteration == 0: \n",
    "# #         model = LogisticRegressionWithLBFGS.train(trainRDD,regType='l1',iterations=1)\n",
    "    \n",
    "# #     # else begin the model with the\n",
    "# #     # previous weights\n",
    "# #     else:\n",
    "# #         model = LogisticRegressionWithLBFGS.train(trainRDD,regType='l1',iterations=1,initialWeights=weights)\n",
    "    \n",
    "# #     # set the weights based on the model\n",
    "# #     weights = model.weights\n",
    "    \n",
    "#     # set the model\n",
    "#     model = LogisticRegressionWithLBFGS.train(trainRDD,regType='l1',iterations=i)\n",
    "    \n",
    "#     # calculate the accuracy\n",
    "#     accur = accuracy(model,test_nl)\n",
    "    \n",
    "#     # if this one of the iterations of interest\n",
    "#     # plot it and compute the accuracy\n",
    "#     if iteration in interest:\n",
    "#         print \"\\n\"\n",
    "#         print \"Iteration\",iteration\n",
    "#         print \"Accuracy:\",accur\n",
    "    \n",
    "#     # increment the iteration\n",
    "#     iteration = iteration + 1"
   ]
  },
  {
   "cell_type": "code",
   "execution_count": 123,
   "metadata": {
    "collapsed": false
   },
   "outputs": [
    {
     "data": {
      "image/png": "[encoded data removed]",
      "text/plain": [
       "<matplotlib.figure.Figure at 0x7f957029eb50>"
      ]
     },
     "metadata": {},
     "output_type": "display_data"
    }
   ],
   "source": [
    "# plot the evolving accuracies\n",
    "plt.plot(interest,accuracies)\n",
    "plt.title(\"Accuracy for Logistic Regression Model\")\n",
    "plt.show()"
   ]
  },
  {
   "cell_type": "markdown",
   "metadata": {},
   "source": [
    "**<span style=\"color:teal\">We can see that after even a single iteration, we have stabilized in terms of accuracy at around 92%. However, the actual coefficients don't stabilize till around 10 iterations.</span>**"
   ]
  },
  {
   "cell_type": "markdown",
   "metadata": {},
   "source": [
    "### Write a function to calculate each example's weight"
   ]
  },
  {
   "cell_type": "code",
   "execution_count": 103,
   "metadata": {
    "collapsed": true
   },
   "outputs": [],
   "source": [
    "import math\n",
    "\n",
    "def calcWeight(line):\n",
    "    \"\"\"takes a point and returns that point\n",
    "    with its classification and the weight\"\"\"\n",
    "    \n",
    "    # grab the values from the line\n",
    "    values = [float(x) for x in line.split(',')]\n",
    "    \n",
    "    # get the class and the coordinates\n",
    "    x = float(values[0])\n",
    "    y = float(values[1])\n",
    "    truth = int(values[2])\n",
    "    \n",
    "    # define the weight function\n",
    "    def weight(x,y):\n",
    "        return math.sqrt(x**(2) + y **(2))\n",
    "    \n",
    "    # get the weight for the point\n",
    "    wgt = weight(x,y)\n",
    "    \n",
    "    # return the point with all the\n",
    "    # data\n",
    "    return [x,y,truth,wgt]"
   ]
  },
  {
   "cell_type": "markdown",
   "metadata": {},
   "source": [
    "### Calculate the weights for the training data"
   ]
  },
  {
   "cell_type": "code",
   "execution_count": 108,
   "metadata": {
    "collapsed": false
   },
   "outputs": [
    {
     "name": "stdout",
     "output_type": "stream",
     "text": [
      "[[-0.66677651  0.62992274  1.          0.91727508]\n",
      " [ 0.32765501 -0.56620453 -1.          0.65417534]\n",
      " [-0.20250519  0.05161294  1.          0.20897906]\n",
      " [ 0.7290459  -0.42157489  1.          0.84215991]\n",
      " [-0.34394326  0.7584167  -1.          0.83276218]\n",
      " [ 0.68047352 -0.08827704 -1.          0.68617566]\n",
      " [-0.26157763  0.52208947  1.          0.58395228]\n",
      " [ 0.29162002 -0.35207817  1.          0.45716657]\n",
      " [-0.96350059  0.74657127  1.          1.21889378]\n",
      " [ 0.66888864 -0.08600763 -1.          0.67439552]]\n"
     ]
    }
   ],
   "source": [
    "# load in the training data\n",
    "trainRDD = sc.textFile('train_nl.csv')\n",
    "\n",
    "# weight it\n",
    "train_wgt = trainRDD.map(calcWeight)\n",
    "\n",
    "# print out a sample\n",
    "print np.array(train_wgt.collect())[0:10]"
   ]
  },
  {
   "cell_type": "markdown",
   "metadata": {},
   "source": [
    "### Make a named tuple to help us deal with all our data"
   ]
  },
  {
   "cell_type": "code",
   "execution_count": 158,
   "metadata": {
    "collapsed": true
   },
   "outputs": [],
   "source": [
    "from collections import namedtuple\n",
    "import numpy as np\n",
    "\n",
    "# create a named tuple type of Point\n",
    "# that has the values: features,\n",
    "# class, and weight\n",
    "Point = namedtuple('Point', 'x y wgt')\n",
    "\n",
    "# write a function to convert a data \n",
    "# to the this format \n",
    "def readPoint(line):\n",
    "    \n",
    "    # set a blank array to hold\n",
    "    # the features\n",
    "    x = []\n",
    "    \n",
    "    # loop through all but the last \n",
    "    # two elements of the array, and\n",
    "    # append it to our array\n",
    "    for i in line[:-2]:\n",
    "        x.append(float(i))\n",
    "    \n",
    "    # append the bias term\n",
    "    x.append(1.0)\n",
    "    \n",
    "    # get the classification\n",
    "    y = line[-2]\n",
    "    \n",
    "    # get the weight\n",
    "    wgt = line[-1]\n",
    "    \n",
    "    return Point(x, y, wgt)"
   ]
  },
  {
   "cell_type": "markdown",
   "metadata": {},
   "source": [
    "### Convert the training data into our homegrown point"
   ]
  },
  {
   "cell_type": "code",
   "execution_count": 159,
   "metadata": {
    "collapsed": false
   },
   "outputs": [
    {
     "name": "stdout",
     "output_type": "stream",
     "text": [
      "[Point(x=[-0.6667765110042355, 0.6299227383386319, 1.0], y=1, wgt=0.9172750797350934), Point(x=[0.3276550088540289, -0.5662045276381993, 1.0], y=-1, wgt=0.6541753373103653), Point(x=[-0.20250519138016065, 0.0516129445782425, 1.0], y=1, wgt=0.20897906254922338), Point(x=[0.7290458998871743, -0.4215748940248314, 1.0], y=1, wgt=0.84215991083306), Point(x=[-0.34394325533068537, 0.7584167005560385, 1.0], y=-1, wgt=0.8327621836813778), Point(x=[0.6804735163940775, -0.08827703698126466, 1.0], y=-1, wgt=0.6861756639315566), Point(x=[-0.2615776286653765, 0.5220894651654919, 1.0], y=1, wgt=0.5839522801179827), Point(x=[0.29162001661399173, -0.35207816936229186, 1.0], y=1, wgt=0.4571665685846325), Point(x=[-0.963500593763634, 0.7465712664634533, 1.0], y=1, wgt=1.218893781299962), Point(x=[0.6688886354181288, -0.08600763046501081, 1.0], y=-1, wgt=0.6743955212556889)]\n"
     ]
    }
   ],
   "source": [
    "# convert the training data to named tuple points\n",
    "train = train_wgt.map(readPoint).cache()\n",
    "\n",
    "# print a sample\n",
    "print train.collect()[0:10]"
   ]
  },
  {
   "cell_type": "markdown",
   "metadata": {},
   "source": [
    "### Homegrown Logistic Regression Function (unweighted)"
   ]
  },
  {
   "cell_type": "code",
   "execution_count": 187,
   "metadata": {
    "collapsed": true
   },
   "outputs": [],
   "source": [
    "import numpy as np\n",
    "\n",
    "def logisticRegressionGDUW(data, wInitial=None, learningRate=0.05, iterations=50, regParam=0.01, regType=None):\n",
    "    \"\"\"Logistic Regression function that takes as input\n",
    "    the data, an initial set of weights, a learning rate,\n",
    "    a number of iterations, a regularization hyperparameter,\n",
    "    and the type of regularization.\n",
    "    It outputs the coefficients for the model.\"\"\"\n",
    "    \n",
    "    # set the feature length by taking the length\n",
    "    # of the features in the first point\n",
    "    featureLen = len(data.take(1)[0].x)\n",
    "    \n",
    "    # count the number of data points\n",
    "    n = data.count()\n",
    "    \n",
    "    # if the initial coefficients are none,\n",
    "    # then initalize a random set of coefficients\n",
    "    # that are equal to the feature length\n",
    "    if wInitial is None:\n",
    "        w = np.random.normal(size=featureLen)\n",
    "    \n",
    "    # otherwise, set the coefficients to be the \n",
    "    # coefficients provided by the user\n",
    "    else:\n",
    "        w = wInitial\n",
    "        \n",
    "    # loop through the number of iterations \n",
    "    # specified by the user\n",
    "    for i in range(iterations):\n",
    "        \n",
    "        # broadcast the coefficients so that \n",
    "        # we can hold the coefficients in memory\n",
    "        wBroadcast = sc.broadcast(w)\n",
    "        \n",
    "        # calculate the gradient for each point\n",
    "        # and then reduce by summing all the \n",
    "        # partial gradients \n",
    "        \n",
    "        # the partial gradient is 1 calculated as \n",
    "        # using the formula here\n",
    "        # https://work.caltech.edu/library/093.pdf\n",
    "        partial_gradient = data.map(lambda point: (1 / \\\n",
    "        (1 + np.exp(-point.y*np.dot(wBroadcast.value, point.x)))-1) * \\\n",
    "                                    point.y * np.array(point.x))\n",
    "        \n",
    "        gradient = partial_gradient.reduce(lambda a, b: a + b)\n",
    "        \n",
    "        # if the regularization type is 'ridge'\n",
    "        # then use the \n",
    "        if regType == \"Ridge\":\n",
    "            \n",
    "            # multiply the weight vector by 1 to make\n",
    "            # a copy of the array\n",
    "            wReg = w * 1\n",
    "            \n",
    "            # ignore the last value of weight vector\n",
    "            # because it is the bias term, \n",
    "            # ignored in regularization\n",
    "            wReg[-1] = 0 \n",
    "            \n",
    "        # else if we're using a 'lasso' regularization\n",
    "        # type\n",
    "        elif regType == \"Lasso\":\n",
    "            \n",
    "            # multiply the weight vector by 1 to make \n",
    "            # a copy of the array\n",
    "            wReg = w * 1\n",
    "            \n",
    "            # ignore the last value of coefficient vector\n",
    "            # because it is the bias term, \n",
    "            # ignored in regularization\n",
    "            wReg[-1] = 0 \n",
    "            \n",
    "            # if the coefficient is greater than 0,\n",
    "            # make it 1, otherwise make it zero\n",
    "            wReg = (wReg>0).astype(int) * 2-1\n",
    "        \n",
    "        # if no regularlization type is provided,\n",
    "        # just don't regularize at all\n",
    "        else:\n",
    "            wReg = np.zeros(w.shape[0])\n",
    "            \n",
    "        # set the gradient equal to itself plus\n",
    "        # the regularization parameter times the\n",
    "        # current weights\n",
    "        # gradient:  gradient of Sqaured Error +\n",
    "        # gradient of regularized term \n",
    "        gradient = gradient + regParam * wReg\n",
    "        \n",
    "        # the new set of coefficients is the \n",
    "        # current set of coefficients minus\n",
    "        # the gradient times the learning rate\n",
    "        # all over the number of exmaples\n",
    "        w = w - learningRate * gradient / n\n",
    "    \n",
    "    # return the coefficients\n",
    "    return w"
   ]
  },
  {
   "cell_type": "code",
   "execution_count": 182,
   "metadata": {
    "collapsed": false
   },
   "outputs": [
    {
     "name": "stdout",
     "output_type": "stream",
     "text": [
      "Homebrew logistic regression with 100 iterations:\n",
      "[-0.10165159  0.55552201 -0.33177561]\n"
     ]
    }
   ],
   "source": [
    "# test it out by running a simple\n",
    "# regression and getting the weights\n",
    "print \"Homebrew logistic regression with 100 iterations:\"\n",
    "print logisticRegressionGDUW(train,regType='Lasso',iterations=100)"
   ]
  },
  {
   "cell_type": "markdown",
   "metadata": {},
   "source": [
    "### Homegrown Logistic Regression Function (weighted)"
   ]
  },
  {
   "cell_type": "code",
   "execution_count": 188,
   "metadata": {
    "collapsed": false
   },
   "outputs": [],
   "source": [
    "import numpy as np\n",
    "\n",
    "def logisticRegressionGDW(data, wInitial=None, learningRate=0.05, iterations=50, regParam=0.01, regType=None):\n",
    "    \"\"\"Logistic Regression function that takes as input\n",
    "    the data, an initial set of weights, a learning rate,\n",
    "    a number of iterations, a regularization hyperparameter,\n",
    "    and the type of regularization.\n",
    "    It outputs the coefficients for the model.\"\"\"\n",
    "    \n",
    "    # set the feature length by taking the length\n",
    "    # of the features in the first point\n",
    "    featureLen = len(data.take(1)[0].x)\n",
    "    \n",
    "    # instead of counting the number of datapoints\n",
    "    # sum all the weights\n",
    "    n = data.map(lambda point: point.wgt).reduce(lambda a,b: a + b)\n",
    "    \n",
    "    # if the initial coefficients are none,\n",
    "    # then initalize a random set of coefficients\n",
    "    # that are equal to the feature length\n",
    "    if wInitial is None:\n",
    "        w = np.random.normal(size=featureLen)\n",
    "    \n",
    "    # otherwise, set the coefficients to be the \n",
    "    # coefficients provided by the user\n",
    "    else:\n",
    "        w = wInitial\n",
    "        \n",
    "    # loop through the number of iterations \n",
    "    # specified by the user\n",
    "    for i in range(iterations):\n",
    "        \n",
    "        # broadcast the coefficients so that \n",
    "        # we can hold the coefficients in memory\n",
    "        wBroadcast = sc.broadcast(w)\n",
    "        \n",
    "        # calculate the gradient for each point\n",
    "        # and then reduce by summing all the \n",
    "        # partial gradients \n",
    "        \n",
    "        # the partial gradient is 1 calculated as \n",
    "        # using the formula here\n",
    "        # https://work.caltech.edu/library/093.pdf\n",
    "        \n",
    "        # we update the formula to add a term\n",
    "        # to weight each point\n",
    "        partial_gradient = data.map(lambda point: (((1 / \\\n",
    "        (1 + np.exp(-point.y*np.dot(wBroadcast.value, point.x)))-1) * \\\n",
    "                                    point.y * np.array(point.x))) * \\\n",
    "                                   point.wgt)\n",
    "        # we calculate the total gradient by summing across\n",
    "        # the partial gradients\n",
    "        gradient = partial_gradient.reduce(lambda a, b: a + b)\n",
    "        \n",
    "        # if the regularization type is 'ridge'\n",
    "        # then use the \n",
    "        if regType == \"Ridge\":\n",
    "            \n",
    "            # multiply the weight vector by 1 to make\n",
    "            # a copy of the array\n",
    "            wReg = w * 1\n",
    "            \n",
    "            # ignore the last value of weight vector\n",
    "            # because it is the bias term, \n",
    "            # ignored in regularization\n",
    "            wReg[-1] = 0 \n",
    "            \n",
    "        # else if we're using a 'lasso' regularization\n",
    "        # type\n",
    "        elif regType == \"Lasso\":\n",
    "            \n",
    "            # multiply the weight vector by 1 to make \n",
    "            # a copy of the array\n",
    "            wReg = w * 1\n",
    "            \n",
    "            # ignore the last value of coefficient vector\n",
    "            # because it is the bias term, \n",
    "            # ignored in regularization\n",
    "            wReg[-1] = 0 \n",
    "            \n",
    "            # if the coefficient is greater than 0,\n",
    "            # make it 1, otherwise make it zero\n",
    "            wReg = (wReg>0).astype(int) * 2-1\n",
    "        \n",
    "        # if no regularlization type is provided,\n",
    "        # just don't regularize at all\n",
    "        else:\n",
    "            wReg = np.zeros(w.shape[0])\n",
    "            \n",
    "        # set the gradient equal to itself plus\n",
    "        # the regularization parameter times the\n",
    "        # current weights\n",
    "        # gradient:  gradient of Sqaured Error +\n",
    "        # gradient of regularized term \n",
    "        gradient = gradient + regParam * wReg\n",
    "        \n",
    "        # the new set of coefficients is the \n",
    "        # current set of coefficients minus\n",
    "        # the gradient times the learning rate\n",
    "        # all over the number of exmaples\n",
    "        w = w - learningRate * gradient / n\n",
    "    \n",
    "    # return the coefficients\n",
    "    return w"
   ]
  },
  {
   "cell_type": "markdown",
   "metadata": {},
   "source": [
    "### Write a function to help compute the accuracy of the home grown model"
   ]
  },
  {
   "cell_type": "code",
   "execution_count": 198,
   "metadata": {
    "collapsed": true
   },
   "outputs": [],
   "source": [
    "import numpy as np\n",
    "\n",
    "def accuracyHome(coefficients,test,thresh=0.5): \n",
    "    \"\"\"a simple function that takes as inputs,\n",
    "    the coefficients calculated by a logistic\n",
    "    regression model, and the test data, and \n",
    "    uses both to compute the accuracy of the\n",
    "    model\"\"\"\n",
    "    \n",
    "    # keep the count of correct and the total\n",
    "    # count\n",
    "    total = 0\n",
    "    correct = 0\n",
    "    \n",
    "    # write a subfunction to calculate the\n",
    "    # the actual predictions\n",
    "    def predictLog(point):\n",
    "        \n",
    "        # get the prediction from the log odds by \n",
    "        # converting the log-odds back to calculate\n",
    "        # the prediction\n",
    "        prediction = 1 / (1+np.exp(-np.dot(coefficients,point)))\n",
    "        \n",
    "        # use the threshold to establish the prediction\n",
    "        predict = -1.0\n",
    "        if prediction > 0.5:\n",
    "            predict = 1.0\n",
    "        \n",
    "        # return the prediction\n",
    "        return predict\n",
    "    \n",
    "    # loop through each test example\n",
    "    for i in test: \n",
    "        \n",
    "        # get the x (features) from the point\n",
    "        # and append a 1 for the bias term\n",
    "        x = list(i[0:2])\n",
    "        x.append(1.0)\n",
    "        \n",
    "        # get the prediction for this point\n",
    "        predict = predictLog(x)\n",
    "        \n",
    "        # if the prediction is right, then \n",
    "        # increment correct. always increment \n",
    "        # total\n",
    "        total = total + 1\n",
    "        if predict == i[2]:\n",
    "            correct = correct + 1\n",
    "    \n",
    "    # return the accuracy\n",
    "    accur = float(correct) / float(total)\n",
    "    return accur"
   ]
  },
  {
   "cell_type": "markdown",
   "metadata": {},
   "source": [
    "### Run the homegrown model for many iterations and look for convergence"
   ]
  },
  {
   "cell_type": "code",
   "execution_count": 199,
   "metadata": {
    "collapsed": false
   },
   "outputs": [
    {
     "name": "stdout",
     "output_type": "stream",
     "text": [
      "Iteration 0\n",
      "Accuracy: 0.87\n",
      "Coefficients: [ 0.13130022  1.39845874 -0.07275296]\n",
      "\n",
      "\n",
      "Iteration 1\n",
      "Accuracy: 0.14\n",
      "Coefficients: [ 0.56990619  0.03133693  0.12013405]\n",
      "\n",
      "\n",
      "Iteration 2\n",
      "Accuracy: 0.52\n",
      "Coefficients: [-0.5228003  -0.15189114  1.25087885]\n",
      "\n",
      "\n",
      "Iteration 3\n",
      "Accuracy: 0.35\n",
      "Coefficients: [ 1.12528197 -0.74934186 -0.98882026]\n",
      "\n",
      "\n",
      "Iteration 4\n",
      "Accuracy: 0.52\n",
      "Coefficients: [ 1.10565593 -0.43907647  1.52753988]\n",
      "\n",
      "\n",
      "Iteration 5\n",
      "Accuracy: 0.44\n",
      "Coefficients: [-0.42033692 -0.58857714 -0.26308081]\n",
      "\n",
      "\n",
      "Iteration 10\n",
      "Accuracy: 0.59\n",
      "Coefficients: [-0.88010529 -0.19830175 -0.61124347]\n",
      "\n",
      "\n",
      "Iteration 20\n",
      "Accuracy: 0.65\n",
      "Coefficients: [-0.14017454  0.98315338 -0.77679797]\n",
      "\n",
      "\n",
      "Iteration 35\n",
      "Accuracy: 0.88\n",
      "Coefficients: [-1.28399497  0.17235407  0.28482233]\n",
      "\n",
      "\n",
      "Iteration 60\n",
      "Accuracy: 0.85\n",
      "Coefficients: [ 0.2019071   2.33761949  0.17697976]\n",
      "\n",
      "\n",
      "Iteration 100\n",
      "Accuracy: 0.84\n",
      "Coefficients: [-1.91936521 -0.53283814 -0.11461893]\n",
      "\n",
      "\n"
     ]
    }
   ],
   "source": [
    "# set the iterations of interest for plotting\n",
    "interest = [0,1,2,3,4,5,10,20,35,60,100]\n",
    "\n",
    "# create an array to store the accuracies\n",
    "accuracies = []\n",
    "\n",
    "# loop through all the intersting iterations\n",
    "for i in interest:\n",
    "    \n",
    "    # grab the coefficients\n",
    "    coefficients = logisticRegressionGDW(train, regType='Lasso',iterations=i)\n",
    "    \n",
    "    # compute the accuracy\n",
    "    accur = accuracyHome(coefficients,test_nl)\n",
    "    \n",
    "    # add the accuracy to the list\n",
    "    accuracies.append(accur)\n",
    "    \n",
    "    # print out the accuracy and the iteration\n",
    "    print \"Iteration\",i\n",
    "    print \"Accuracy:\",accur\n",
    "    print \"Coefficients:\",coefficients\n",
    "    print \"\\n\""
   ]
  },
  {
   "cell_type": "code",
   "execution_count": 201,
   "metadata": {
    "collapsed": false,
    "scrolled": true
   },
   "outputs": [
    {
     "data": {
      "image/png": "[encoded data removed]",
      "text/plain": [
       "<matplotlib.figure.Figure at 0x7f95701fcd50>"
      ]
     },
     "metadata": {},
     "output_type": "display_data"
    }
   ],
   "source": [
    "# plot the evolving accuracies\n",
    "plt.plot(interest,accuracies)\n",
    "plt.title(\"Accuracy for Homegrown Logistic Regression Model\")\n",
    "plt.show()"
   ]
  },
  {
   "cell_type": "markdown",
   "metadata": {},
   "source": [
    "It does not appear that my coefficients are **converging**, even though my accuracies improve drastically with more iterations (before stabilizing). "
   ]
  },
  {
   "cell_type": "markdown",
   "metadata": {},
   "source": [
    "The Spark machine learning library does not have a native way to weight examples in Python. There does appear to be an [option](https://spark.apache.org/docs/1.5.2/api/java/org/apache/spark/mllib/optimization/L1Updater.html) to use weights when using Spark in Scala. However, I could find no such option in Python."
   ]
  },
  {
   "cell_type": "markdown",
   "metadata": {},
   "source": [
    "***\n",
    "## <span style=\"color:teal\">HW11.4 SVMs</span>\n",
    "<span style=\"color:gray\">Use the non-linearly separable training and testing datasets from HW11.3 in this problem.\n",
    "<br><br>\n",
    "Use the non-linearly separable training and testing datasets from HW11.3 in this problem.\n",
    "<br><br>\n",
    "Using MLLib train up a soft SVM model with the training dataset and evaluate with the testing set. What is a good number of iterations for training the SVM model? Justify with plots and words.\n",
    "<br><br>\n",
    "HW11.4.1 [Optional] Derive and Implement in Spark a weighted hard linear svm classification learning algorithm. Feel free to use the following notebook as a starting point SVM Notebook.<br>\n",
    "Evaluate your homegrown weighted linear svm classification learning algorithm on the weighted training dataset and test dataset from HW11.3 (linearly separable dataset). Report misclassification error (1 - Accuracy) and how many iterations does it took to converge? How many support vectors do you end up with?<br>\n",
    "Does Spark MLLib have a weighted soft SVM learner. If so use it and report your findings on the weighted training set and test set.\n",
    "<br><br>\n",
    "HW11.4.2 [Optional] Repeat HW11.4.2 using a soft SVM and a nonlinearly separable datasets. Compare the error rates that you get here with the error rates you achieve using MLLib's soft SVM. Report the number of support vectors in both cases (may not be available the MLLib implementation).</span>"
   ]
  },
  {
   "cell_type": "markdown",
   "metadata": {},
   "source": [
    "### Write function to turn data into Spark's labelled points"
   ]
  },
  {
   "cell_type": "code",
   "execution_count": 110,
   "metadata": {
    "collapsed": true
   },
   "outputs": [],
   "source": [
    "from pyspark.mllib.regression import LabeledPoint\n",
    "\n",
    "def parsePoint(line):\n",
    "    \"\"\"takes each line in the format [x,y,label] and \n",
    "    converts it to Spark labelled points RDD\"\"\"\n",
    "    \n",
    "    # grab the values from the line\n",
    "    values = [float(x) for x in line.split(',')]\n",
    "    \n",
    "    # if the classification is -1, then\n",
    "    # convert it to zero\n",
    "    if values[2] == -1:\n",
    "        values[2] = 0\n",
    "    \n",
    "    return LabeledPoint(values[2], values[0:2])"
   ]
  },
  {
   "cell_type": "markdown",
   "metadata": {},
   "source": [
    "### Convert the data to a format readable by Spark's library"
   ]
  },
  {
   "cell_type": "code",
   "execution_count": 111,
   "metadata": {
    "collapsed": false
   },
   "outputs": [
    {
     "name": "stdout",
     "output_type": "stream",
     "text": [
      "[LabeledPoint(1.0, [-0.666776511004,0.629922738339]), LabeledPoint(0.0, [0.327655008854,-0.566204527638]), LabeledPoint(1.0, [-0.20250519138,0.0516129445782]), LabeledPoint(1.0, [0.729045899887,-0.421574894025]), LabeledPoint(0.0, [-0.343943255331,0.758416700556])]\n"
     ]
    }
   ],
   "source": [
    "import numpy as np\n",
    "\n",
    "# convert the data to an RDD\n",
    "trainRDD = sc.textFile('train_nl.csv')\n",
    "\n",
    "# turn the data into labelled points\n",
    "trainRDD = trainRDD.map(parsePoint).cache()\n",
    "\n",
    "# print out a sample of what we've done\n",
    "print trainRDD.collect()[0:5]"
   ]
  },
  {
   "cell_type": "markdown",
   "metadata": {},
   "source": [
    "### Train a SVM model using Spark's library"
   ]
  },
  {
   "cell_type": "code",
   "execution_count": 129,
   "metadata": {
    "collapsed": false,
    "scrolled": false
   },
   "outputs": [
    {
     "name": "stdout",
     "output_type": "stream",
     "text": [
      "Iteration 0\n",
      "Misclassification: 0.52\n",
      "Coefficients: [0.0,0.0]\n",
      "\n",
      "\n",
      "Iteration 1\n",
      "Misclassification: 0.08\n",
      "Coefficients: [-0.447709021287,0.397602060893]\n",
      "\n",
      "\n",
      "Iteration 2\n",
      "Misclassification: 0.08\n",
      "Coefficients: [-0.764287106238,0.678749174364]\n",
      "\n",
      "\n",
      "Iteration 3\n",
      "Misclassification: 0.08\n",
      "Coefficients: [-0.922558334871,0.81955765388]\n",
      "\n",
      "\n",
      "Iteration 4\n",
      "Misclassification: 0.08\n",
      "Coefficients: [-1.01043935566,0.897405969077]\n",
      "\n",
      "\n",
      "Iteration 5\n",
      "Misclassification: 0.08\n",
      "Coefficients: [-1.07440503792,0.952233063804]\n",
      "\n",
      "\n",
      "Iteration 10\n",
      "Misclassification: 0.08\n",
      "Coefficients: [-1.26227188448,1.10911905912]\n",
      "\n",
      "\n",
      "Iteration 20\n",
      "Misclassification: 0.08\n",
      "Coefficients: [-1.4094900117,1.25685853017]\n",
      "\n",
      "\n",
      "Iteration 35\n",
      "Misclassification: 0.08\n",
      "Coefficients: [-1.51991317389,1.37253485294]\n",
      "\n",
      "\n",
      "Iteration 60\n",
      "Misclassification: 0.08\n",
      "Coefficients: [-1.63457455404,1.44165575892]\n",
      "\n",
      "\n",
      "Iteration 75\n",
      "Misclassification: 0.08\n",
      "Coefficients: [-1.66839254922,1.46713553171]\n",
      "\n",
      "\n",
      "Iteration 90\n",
      "Misclassification: 0.08\n",
      "Coefficients: [-1.67152715048,1.46975541981]\n",
      "\n",
      "\n",
      "Iteration 100\n",
      "Misclassification: 0.08\n",
      "Coefficients: [-1.67152715048,1.46975541981]\n",
      "\n",
      "\n"
     ]
    }
   ],
   "source": [
    "from pyspark.mllib.classification import SVMWithSGD\n",
    "\n",
    "# some test data that we can use based on the documentation\n",
    "#data = sc.parallelize([LabeledPoint(0.0, [0.0, 1.0]),LabeledPoint(1.0, [1.0, 0.0])])\n",
    "\n",
    "# set the iterations of interest for plotting\n",
    "interest = [0,1,2,3,4,5,10,20,35,60,75,90,100]\n",
    "\n",
    "# create an array to store the accuracies\n",
    "accuracies = []\n",
    "\n",
    "# loop through all the intersting iterations\n",
    "for i in interest:\n",
    "    \n",
    "    # set the model\n",
    "    model = SVMWithSGD.train(trainRDD,regType='l1',iterations=i)\n",
    "    \n",
    "    # compute the accuracy\n",
    "    accur = accuracy(model,test_nl)\n",
    "    \n",
    "    # append the accuracy to accuracies\n",
    "    accuracies.append(accur)\n",
    "    \n",
    "    # compute the misclassification rate\n",
    "    misclas = 1.0 - accur\n",
    "    \n",
    "    # print out the accuracy and the iteration\n",
    "    print \"Iteration\",i\n",
    "    print \"Misclassification:\",misclas\n",
    "    print \"Coefficients:\",model.weights\n",
    "    print \"\\n\""
   ]
  },
  {
   "cell_type": "code",
   "execution_count": 119,
   "metadata": {
    "collapsed": false,
    "scrolled": true
   },
   "outputs": [
    {
     "data": {
      "image/png": "[encoded data removed]",
      "text/plain": [
       "<matplotlib.figure.Figure at 0x7f95704c8c10>"
      ]
     },
     "metadata": {},
     "output_type": "display_data"
    }
   ],
   "source": [
    "# plot the evolving accuracies\n",
    "plt.plot(interest,accuracies)\n",
    "plt.title(\"Accuracy for SVM Model\")\n",
    "plt.show()"
   ]
  },
  {
   "cell_type": "markdown",
   "metadata": {},
   "source": [
    "**<span style=\"color:teal\">We can see that after even a single iteration, we have stabilized in terms of accuracy at around 92%. However, the coefficients don't actually converge till about 90 iterations.</span>**"
   ]
  },
  {
   "cell_type": "markdown",
   "metadata": {},
   "source": [
    "### <span style=\"color:sienna\">Optional: Write our own homegrown version of SVM (unweighted)</span>\n",
    "We borrow from the [sample notebook](http://nbviewer.jupyter.org/urls/dl.dropbox.com/s/dm2l73iznde7y4f/SVM-Notebook-Linear-Kernel-2015-06-19.ipynb) and start with an unweighted implementation before moving to a fully weighted implementation </span>"
   ]
  },
  {
   "cell_type": "code",
   "execution_count": 221,
   "metadata": {
    "collapsed": true
   },
   "outputs": [],
   "source": [
    "import numpy as np\n",
    "\n",
    "# gradient descent (and with NO stochasticity!)\n",
    "# Objective Function\n",
    "# minw   λ/2   w’w   +   1/m Σi(1   –    yi(w’xi – b))+\n",
    "# gradient \n",
    "#   λw               if      yi(w’xi – b))  > 1    #correctly classified\n",
    "#   λw  + yi xi      Otherwise                    #incorrectly classified\n",
    "#--------------------------------\n",
    "# Wt+1  = wt + average(gradient)\n",
    "# Wt+1  = wt + average(regularization + hinge loss)\n",
    "def SVM_GDUW(data,w=None,eta=0.01,iter_num=1000,regPara=0.01,stopCriteria=0.0001):\n",
    "    \"\"\"a function that produces a support vector machine\n",
    "    from an inputted set of data,\n",
    "    an optional initial set of coefficients, a learning\n",
    "    rate (eta), a number of iterations, a regularization\n",
    "    parameter and a stopping criteria\"\"\"\n",
    "\n",
    "    # this line of code prepends the classification\n",
    "    # to the data. however, for our data, its already\n",
    "    # all combined so we comment out this line\n",
    "    # dataRDD = sc.parallelize(np.append(y[:,None],data,axis=1)).cache() #prepend y to X\n",
    "    \n",
    "    # grab the feature length\n",
    "    featureLen = len(data.take(1)[0].x)\n",
    "    \n",
    "    # set the number of data points\n",
    "    n = data.count()\n",
    "    \n",
    "    # if the user did not provide an initial set\n",
    "    # of coefficients, then we generate a random\n",
    "    # set\n",
    "    if w==None:\n",
    "        w = np.random.normal(size=featureLen)\n",
    "        \n",
    "    # loop through all the iterations\n",
    "    for i in range(iter_num):       #label * margin\n",
    "        \n",
    "        # create the support vector by taking the\n",
    "        # classification and multiplying it by the\n",
    "        # dot product of the weights and the x value\n",
    "        sv = data.filter(lambda point: point.y * np.dot(w,point.x)<1)\n",
    "        \n",
    "        # if the support vector is empty (that means\n",
    "        # that it has converged), then go ahead and\n",
    "        # break out\n",
    "        if sv.isEmpty(): \n",
    "            break       \n",
    "        \n",
    "        # set the gradient using the hing loss function\n",
    "        # to first elements multiplied by the rest of\n",
    "        # the elements and all summed together\n",
    "        g = -sv.map(lambda point: point.y*np.array(point.x)).reduce(lambda x,y:x+y)/n\n",
    "        \n",
    "        # make a copy of the coefficients\n",
    "        wreg = w*1\n",
    "        \n",
    "        # set the bias term to 0 so that we\n",
    "        # ignore it during regularization\n",
    "        wreg[-1] = 0 \n",
    "        \n",
    "        # calculate the change in the \n",
    "        # gradient as the learning rate\n",
    "        # times the gradient plus the \n",
    "        # the regularization parameter \n",
    "        # times the new coefficients\n",
    "        wdelta = eta*(g+regPara*wreg)\n",
    "        \n",
    "        # if the amount of change we're\n",
    "        # about to use is less than the\n",
    "        # stopping criteria that we've\n",
    "        # set, then we we break out of\n",
    "        # the loop and stop doing any\n",
    "        # further iterations\n",
    "        if sum(abs(wdelta))<=stopCriteria*sum(abs(w)):\n",
    "            break\n",
    "        \n",
    "        # otherwise, if we're still going,\n",
    "        # go ahead and update the coefficients\n",
    "        w = w - wdelta\n",
    "        \n",
    "    # return the coefficients\n",
    "    return w"
   ]
  },
  {
   "cell_type": "code",
   "execution_count": 219,
   "metadata": {
    "collapsed": false
   },
   "outputs": [
    {
     "data": {
      "text/plain": [
       "array([ 0.20659619, -1.07756549, -1.71936608])"
      ]
     },
     "execution_count": 219,
     "metadata": {},
     "output_type": "execute_result"
    }
   ],
   "source": [
    "# test it out\n",
    "SVM_GDUW(train,iter_num=50)"
   ]
  },
  {
   "cell_type": "markdown",
   "metadata": {},
   "source": [
    "### <span style=\"color:sienna\">Optional: Write our own homegrown version of SVM (weighted)</span>"
   ]
  },
  {
   "cell_type": "code",
   "execution_count": 225,
   "metadata": {
    "collapsed": true
   },
   "outputs": [],
   "source": [
    "import numpy as np\n",
    "\n",
    "# gradient descent (and with NO stochasticity!)\n",
    "# Objective Function\n",
    "# minw   λ/2   w’w   +   1/m Σi(1   –    yi(w’xi – b))+\n",
    "# gradient \n",
    "#   λw               if      yi(w’xi – b))  > 1    #correctly classified\n",
    "#   λw  + yi xi      Otherwise                    #incorrectly classified\n",
    "#--------------------------------\n",
    "# Wt+1  = wt + average(gradient)\n",
    "# Wt+1  = wt + average(regularization + hinge loss)\n",
    "def SVM_GDW(data,w=None,eta=0.01,iter_num=1000,regPara=0.01,stopCriteria=0.0001):\n",
    "    \"\"\"a function that produces a support vector machine\n",
    "    from an inputted set of data,\n",
    "    an optional initial set of coefficients, a learning\n",
    "    rate (eta), a number of iterations, a regularization\n",
    "    parameter and a stopping criteria\"\"\"\n",
    "\n",
    "    # this line of code prepends the classification\n",
    "    # to the data. however, for our data, its already\n",
    "    # all combined so we comment out this line\n",
    "    # dataRDD = sc.parallelize(np.append(y[:,None],data,axis=1)).cache() #prepend y to X\n",
    "    \n",
    "    # grab the feature length\n",
    "    featureLen = len(data.take(1)[0].x)\n",
    "    \n",
    "    # instead of counting the number of datapoints\n",
    "    # sum all the weights\n",
    "    n = data.map(lambda point: point.wgt).reduce(lambda a,b: a + b)\n",
    "    \n",
    "    # if the user did not provide an initial set\n",
    "    # of coefficients, then we generate a random\n",
    "    # set\n",
    "    if w==None:\n",
    "        w = np.random.normal(size=featureLen)\n",
    "        \n",
    "    # loop through all the iterations\n",
    "    for i in range(iter_num):       #label * margin\n",
    "        \n",
    "        # create the support vector by taking the\n",
    "        # classification and multiplying it by the\n",
    "        # dot product of the weights and the x value\n",
    "        sv = data.filter(lambda point: point.y * np.dot(w,point.x)<1)\n",
    "        \n",
    "        # if the support vector is empty (that means\n",
    "        # that it has converged), then go ahead and\n",
    "        # break out\n",
    "        if sv.isEmpty(): \n",
    "            break       \n",
    "        \n",
    "        # set the gradient using the hinge loss function\n",
    "        # to first elements multiplied by the rest of\n",
    "        # the elements and all summed together\n",
    "        g = -sv.map(lambda point: point.y*np.array(point.x)*point.wgt).reduce(lambda x,y:x+y)/n\n",
    "        \n",
    "        # make a copy of the coefficients\n",
    "        wreg = w*1\n",
    "        \n",
    "        # set the bias term to 0 so that we\n",
    "        # ignore it during regularization\n",
    "        wreg[-1] = 0 \n",
    "        \n",
    "        # calculate the change in the \n",
    "        # gradient as the learning rate\n",
    "        # times the gradient plus the \n",
    "        # the regularization parameter \n",
    "        # times the new coefficients\n",
    "        wdelta = eta*(g+regPara*wreg)\n",
    "        \n",
    "        # if the amount of change we're\n",
    "        # about to use is less than the\n",
    "        # stopping criteria that we've\n",
    "        # set, then we we break out of\n",
    "        # the loop and stop doing any\n",
    "        # further iterations\n",
    "        if sum(abs(wdelta))<=stopCriteria*sum(abs(w)):\n",
    "            break\n",
    "        \n",
    "        # otherwise, if we're still going,\n",
    "        # go ahead and update the coefficients\n",
    "        w = w - wdelta\n",
    "        \n",
    "    # return the coefficients\n",
    "    return w"
   ]
  },
  {
   "cell_type": "code",
   "execution_count": 226,
   "metadata": {
    "collapsed": false
   },
   "outputs": [
    {
     "data": {
      "text/plain": [
       "array([-0.74760737, -1.78180941, -0.93883008])"
      ]
     },
     "execution_count": 226,
     "metadata": {},
     "output_type": "execute_result"
    }
   ],
   "source": [
    "# test it out\n",
    "SVM_GDW(train,iter_num=50)"
   ]
  },
  {
   "cell_type": "markdown",
   "metadata": {},
   "source": [
    "### Write a function to compute the accuracy of our homegrown SVM models"
   ]
  },
  {
   "cell_type": "code",
   "execution_count": 229,
   "metadata": {
    "collapsed": true
   },
   "outputs": [],
   "source": [
    "import numpy as np\n",
    "\n",
    "def accuracySVM(coefficients,test,thresh=0.5):\n",
    "    \"\"\"a simple function that takes the coefficients\n",
    "    of a support vector machine and uses them\n",
    "    to predict the classifications of test data\"\"\"\n",
    "    \n",
    "    # set up counters for the total and the\n",
    "    # number of correct examples\n",
    "    total = 0\n",
    "    correct = 0\n",
    "    \n",
    "    # sub functiont that predicts \n",
    "    # each individual point\n",
    "    def prediction(point):\n",
    "        prod = np.dot(point,coefficients)\n",
    "        \n",
    "        # compare it to \n",
    "        predict = -1.0\n",
    "        if prod > 0.5: \n",
    "            predict = 1.0\n",
    "        \n",
    "        # return the class that we predicted\n",
    "        return predict\n",
    "    \n",
    "    # loop through each test example\n",
    "    for i in test: \n",
    "        \n",
    "        # get the x (features) from the point\n",
    "        # and append a 1 for the bias term\n",
    "        x = list(i[0:2])\n",
    "        x.append(1.0)\n",
    "        \n",
    "        # get the prediction for this point\n",
    "        predict = prediction(x)\n",
    "        \n",
    "        # if the prediction is right, then \n",
    "        # increment correct. always increment \n",
    "        # total\n",
    "        total = total + 1\n",
    "        if predict == i[2]:\n",
    "            correct = correct + 1\n",
    "        \n",
    "    # compute the actual accuracy\n",
    "    accur = float(correct)/float(total)\n",
    "    \n",
    "    # return the accuracy\n",
    "    return accur"
   ]
  },
  {
   "cell_type": "markdown",
   "metadata": {},
   "source": [
    "### Run our homegrown model for a number of iterations to test convergence"
   ]
  },
  {
   "cell_type": "code",
   "execution_count": 234,
   "metadata": {
    "collapsed": false
   },
   "outputs": [
    {
     "name": "stdout",
     "output_type": "stream",
     "text": [
      "Iteration 0\n",
      "Accuracy: 0.48\n",
      "Coefficients: [-0.74759883 -0.07484864 -1.07809815]\n",
      "\n",
      "\n",
      "Iteration 1\n",
      "Accuracy: 0.68\n",
      "Coefficients: [ 0.81155744  2.61991941 -0.38742666]\n",
      "\n",
      "\n",
      "Iteration 2\n",
      "Accuracy: 0.21\n",
      "Coefficients: [ 0.04803298 -1.9637259  -0.19864101]\n",
      "\n",
      "\n",
      "Iteration 3\n",
      "Accuracy: 0.25\n",
      "Coefficients: [ 0.76904408  0.03922179  0.7571654 ]\n",
      "\n",
      "\n",
      "Iteration 4\n",
      "Accuracy: 0.48\n",
      "Coefficients: [-0.0823882  -0.10741338 -0.90256635]\n",
      "\n",
      "\n",
      "Iteration 5\n",
      "Accuracy: 0.91\n",
      "Coefficients: [-0.83038039  0.49219454  0.63233672]\n",
      "\n",
      "\n",
      "Iteration 10\n",
      "Accuracy: 0.52\n",
      "Coefficients: [-0.14639041  0.53860456  1.29556984]\n",
      "\n",
      "\n",
      "Iteration 20\n",
      "Accuracy: 0.79\n",
      "Coefficients: [-0.38940474  0.59443796  0.89203248]\n",
      "\n",
      "\n",
      "Iteration 35\n",
      "Accuracy: 0.48\n",
      "Coefficients: [-0.31948492 -0.52346544 -1.11545924]\n",
      "\n",
      "\n",
      "Iteration 60\n",
      "Accuracy: 0.48\n",
      "Coefficients: [-0.29943391  1.6402978  -1.37812231]\n",
      "\n",
      "\n",
      "Iteration 100\n",
      "Accuracy: 0.67\n",
      "Coefficients: [-1.25080583 -0.56100595 -0.10016891]\n",
      "\n",
      "\n",
      "Iteration 250\n",
      "Accuracy: 0.73\n",
      "Coefficients: [-1.18131614  0.45598356 -0.30530493]\n",
      "\n",
      "\n",
      "Iteration 500\n",
      "Accuracy: 0.87\n",
      "Coefficients: [-1.74355006  0.09984     0.22732044]\n",
      "\n",
      "\n",
      "Iteration 1000\n",
      "Accuracy: 0.9\n",
      "Coefficients: [-0.93350784  1.82832282  0.07988053]\n",
      "\n",
      "\n",
      "Iteration 1500\n",
      "Accuracy: 0.9\n",
      "Coefficients: [-1.44206363  1.22644465  0.07012011]\n",
      "\n",
      "\n"
     ]
    }
   ],
   "source": [
    "# set the iterations of interest for plotting\n",
    "interest = [0,1,2,3,4,5,10,20,35,60,100, 250, 500, 1000, 1500]\n",
    "\n",
    "# create an array to store the accuracies\n",
    "accuracies = []\n",
    "\n",
    "# loop through all the intersting iterations\n",
    "for i in interest:\n",
    "    \n",
    "    # grab the coefficients\n",
    "    coefficients = SVM_GDW(train,iter_num=i)\n",
    "    \n",
    "    # compute the accuracy\n",
    "    accur = accuracySVM(coefficients,test_nl)\n",
    "    \n",
    "    # add the accuracy to the list\n",
    "    accuracies.append(accur)\n",
    "    \n",
    "    # print out the accuracy and the iteration\n",
    "    print \"Iteration\",i\n",
    "    print \"Accuracy:\",accur\n",
    "    print \"Coefficients:\",coefficients\n",
    "    print \"\\n\""
   ]
  },
  {
   "cell_type": "code",
   "execution_count": 235,
   "metadata": {
    "collapsed": false
   },
   "outputs": [
    {
     "data": {
      "image/png": "[encoded data removed]",
      "text/plain": [
       "<matplotlib.figure.Figure at 0x7f95704d9690>"
      ]
     },
     "metadata": {},
     "output_type": "display_data"
    }
   ],
   "source": [
    "# plot the evolving accuracies\n",
    "plt.plot(interest,accuracies)\n",
    "plt.title(\"Accuracy for Homegrown Logistic Regression Model\")\n",
    "plt.show()"
   ]
  },
  {
   "cell_type": "markdown",
   "metadata": {},
   "source": [
    "Although we see an increasing level of accuracy (that stabilizes eventually), we *unfortunately* don't see the convergence of the weights for the model. "
   ]
  }
 ],
 "metadata": {
  "kernelspec": {
   "display_name": "Python 2",
   "language": "python",
   "name": "python2"
  },
  "language_info": {
   "codemirror_mode": {
    "name": "ipython",
    "version": 2
   },
   "file_extension": ".py",
   "mimetype": "text/x-python",
   "name": "python",
   "nbconvert_exporter": "python",
   "pygments_lexer": "ipython2",
   "version": "2.7.12"
  }
 },
 "nbformat": 4,
 "nbformat_minor": 0
}
